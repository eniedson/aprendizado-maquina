{
 "cells": [
  {
   "cell_type": "code",
   "execution_count": 1,
   "metadata": {},
   "outputs": [],
   "source": [
    "from llama_parse import LlamaParse\n",
    "import pandas as pd\n",
    "import PyPDF2\n",
    "import nest_asyncio\n",
    "import os\n",
    "import tqdm\n",
    "import math\n",
    "\n",
    "nest_asyncio.apply()"
   ]
  },
  {
   "cell_type": "code",
   "execution_count": 2,
   "metadata": {},
   "outputs": [],
   "source": [
    "df = pd.read_csv('data.csv')"
   ]
  },
  {
   "cell_type": "code",
   "execution_count": 3,
   "metadata": {},
   "outputs": [
    {
     "data": {
      "text/html": [
       "<div>\n",
       "<style scoped>\n",
       "    .dataframe tbody tr th:only-of-type {\n",
       "        vertical-align: middle;\n",
       "    }\n",
       "\n",
       "    .dataframe tbody tr th {\n",
       "        vertical-align: top;\n",
       "    }\n",
       "\n",
       "    .dataframe thead th {\n",
       "        text-align: right;\n",
       "    }\n",
       "</style>\n",
       "<table border=\"1\" class=\"dataframe\">\n",
       "  <thead>\n",
       "    <tr style=\"text-align: right;\">\n",
       "      <th></th>\n",
       "      <th>index</th>\n",
       "      <th>entidade</th>\n",
       "      <th>tipo</th>\n",
       "      <th>numero</th>\n",
       "      <th>complemento</th>\n",
       "      <th>ano</th>\n",
       "      <th>diario</th>\n",
       "      <th>publicacao</th>\n",
       "      <th>ementa</th>\n",
       "      <th>revogada</th>\n",
       "      <th>file</th>\n",
       "      <th>pdf_type</th>\n",
       "      <th>text</th>\n",
       "      <th>pdf_type_2</th>\n",
       "      <th>page_count</th>\n",
       "      <th>md_file</th>\n",
       "    </tr>\n",
       "  </thead>\n",
       "  <tbody>\n",
       "    <tr>\n",
       "      <th>0</th>\n",
       "      <td>273</td>\n",
       "      <td>TRIBUNAL DE CONTAS DO ESTADO DO ACRE (LEGISLAT...</td>\n",
       "      <td>Acórdão</td>\n",
       "      <td>4716</td>\n",
       "      <td>2Âª CAMARA</td>\n",
       "      <td>2024</td>\n",
       "      <td>2220\\n(Diário Eletrônico de Contas)</td>\n",
       "      <td>02/02/2024</td>\n",
       "      <td>APOSENTADORIA. REGISTRO. SÃ?MULA-TCE/AC N. 02/...</td>\n",
       "      <td>Não</td>\n",
       "      <td>ELEGIS-1706994145601.PDF</td>\n",
       "      <td>Nato digital</td>\n",
       "      <td>TRIBUNAL DE CONTAS DO ESTADO DO ACRE  \\n \\nMis...</td>\n",
       "      <td>Nato digital</td>\n",
       "      <td>6</td>\n",
       "      <td>files/ELEGIS-1706994145601.md</td>\n",
       "    </tr>\n",
       "    <tr>\n",
       "      <th>1</th>\n",
       "      <td>274</td>\n",
       "      <td>TRIBUNAL DE CONTAS DO ESTADO DO ACRE (LEGISLAT...</td>\n",
       "      <td>Acórdão</td>\n",
       "      <td>4717</td>\n",
       "      <td>2Âª CAMARA</td>\n",
       "      <td>2024</td>\n",
       "      <td>2220\\n(Diário Eletrônico de Contas)</td>\n",
       "      <td>02/02/2024</td>\n",
       "      <td>APOSENTADORIA. REGISTRO.</td>\n",
       "      <td>Não</td>\n",
       "      <td>ELEGIS-1706994198953.PDF</td>\n",
       "      <td>Nato digital</td>\n",
       "      <td>TRIBUNAL DE CONTAS DO ESTADO DO ACRE  \\n \\nMis...</td>\n",
       "      <td>Nato digital</td>\n",
       "      <td>6</td>\n",
       "      <td>NaN</td>\n",
       "    </tr>\n",
       "    <tr>\n",
       "      <th>2</th>\n",
       "      <td>275</td>\n",
       "      <td>TRIBUNAL DE CONTAS DO ESTADO DO ACRE (LEGISLAT...</td>\n",
       "      <td>Acórdão</td>\n",
       "      <td>4718</td>\n",
       "      <td>2Âª CAMARA</td>\n",
       "      <td>2024</td>\n",
       "      <td>2220\\n(Diário Eletrônico de Contas)</td>\n",
       "      <td>02/02/2024</td>\n",
       "      <td>APOSENTADORIA POR INVALIDEZ. PROVENTOS INTEGRA...</td>\n",
       "      <td>Não</td>\n",
       "      <td>ELEGIS-1706994262695.PDF</td>\n",
       "      <td>Nato digital</td>\n",
       "      <td>TRIBUNAL DE CONTAS DO ESTADO DO ACRE  \\n \\nMis...</td>\n",
       "      <td>Nato digital</td>\n",
       "      <td>6</td>\n",
       "      <td>NaN</td>\n",
       "    </tr>\n",
       "    <tr>\n",
       "      <th>3</th>\n",
       "      <td>276</td>\n",
       "      <td>TRIBUNAL DE CONTAS DO ESTADO DO ACRE (LEGISLAT...</td>\n",
       "      <td>Acórdão</td>\n",
       "      <td>4719</td>\n",
       "      <td>2Âª CAMARA</td>\n",
       "      <td>2024</td>\n",
       "      <td>2220\\n(Diário Eletrônico de Contas)</td>\n",
       "      <td>02/02/2024</td>\n",
       "      <td>APOSENTADORIA. REGISTRO.</td>\n",
       "      <td>Não</td>\n",
       "      <td>ELEGIS-1706994303326.PDF</td>\n",
       "      <td>Nato digital</td>\n",
       "      <td>TRIBUNAL DE CONTAS DO ESTADO DO ACRE  \\n \\nMis...</td>\n",
       "      <td>Nato digital</td>\n",
       "      <td>6</td>\n",
       "      <td>NaN</td>\n",
       "    </tr>\n",
       "    <tr>\n",
       "      <th>4</th>\n",
       "      <td>277</td>\n",
       "      <td>TRIBUNAL DE CONTAS DO ESTADO DO ACRE (LEGISLAT...</td>\n",
       "      <td>Acórdão</td>\n",
       "      <td>4720</td>\n",
       "      <td>2Âª CAMARA</td>\n",
       "      <td>2024</td>\n",
       "      <td>2220\\n(Diário Eletrônico de Contas)</td>\n",
       "      <td>02/02/2024</td>\n",
       "      <td>APOSENTADORIA. REGISTRO. SÃ?MULA-TCE/AC N. 02/...</td>\n",
       "      <td>Não</td>\n",
       "      <td>ELEGIS-1706994357655.PDF</td>\n",
       "      <td>Nato digital</td>\n",
       "      <td>TRIBUNAL DE CONTAS DO ESTADO DO ACRE  \\n \\nMis...</td>\n",
       "      <td>Nato digital</td>\n",
       "      <td>5</td>\n",
       "      <td>files/ELEGIS-1706994357655.md</td>\n",
       "    </tr>\n",
       "  </tbody>\n",
       "</table>\n",
       "</div>"
      ],
      "text/plain": [
       "   index                                           entidade     tipo  numero  \\\n",
       "0    273  TRIBUNAL DE CONTAS DO ESTADO DO ACRE (LEGISLAT...  Acórdão    4716   \n",
       "1    274  TRIBUNAL DE CONTAS DO ESTADO DO ACRE (LEGISLAT...  Acórdão    4717   \n",
       "2    275  TRIBUNAL DE CONTAS DO ESTADO DO ACRE (LEGISLAT...  Acórdão    4718   \n",
       "3    276  TRIBUNAL DE CONTAS DO ESTADO DO ACRE (LEGISLAT...  Acórdão    4719   \n",
       "4    277  TRIBUNAL DE CONTAS DO ESTADO DO ACRE (LEGISLAT...  Acórdão    4720   \n",
       "\n",
       "  complemento   ano                               diario  publicacao  \\\n",
       "0  2Âª CAMARA  2024  2220\\n(Diário Eletrônico de Contas)  02/02/2024   \n",
       "1  2Âª CAMARA  2024  2220\\n(Diário Eletrônico de Contas)  02/02/2024   \n",
       "2  2Âª CAMARA  2024  2220\\n(Diário Eletrônico de Contas)  02/02/2024   \n",
       "3  2Âª CAMARA  2024  2220\\n(Diário Eletrônico de Contas)  02/02/2024   \n",
       "4  2Âª CAMARA  2024  2220\\n(Diário Eletrônico de Contas)  02/02/2024   \n",
       "\n",
       "                                              ementa revogada  \\\n",
       "0  APOSENTADORIA. REGISTRO. SÃ?MULA-TCE/AC N. 02/...      Não   \n",
       "1                           APOSENTADORIA. REGISTRO.      Não   \n",
       "2  APOSENTADORIA POR INVALIDEZ. PROVENTOS INTEGRA...      Não   \n",
       "3                           APOSENTADORIA. REGISTRO.      Não   \n",
       "4  APOSENTADORIA. REGISTRO. SÃ?MULA-TCE/AC N. 02/...      Não   \n",
       "\n",
       "                       file      pdf_type  \\\n",
       "0  ELEGIS-1706994145601.PDF  Nato digital   \n",
       "1  ELEGIS-1706994198953.PDF  Nato digital   \n",
       "2  ELEGIS-1706994262695.PDF  Nato digital   \n",
       "3  ELEGIS-1706994303326.PDF  Nato digital   \n",
       "4  ELEGIS-1706994357655.PDF  Nato digital   \n",
       "\n",
       "                                                text    pdf_type_2  \\\n",
       "0  TRIBUNAL DE CONTAS DO ESTADO DO ACRE  \\n \\nMis...  Nato digital   \n",
       "1  TRIBUNAL DE CONTAS DO ESTADO DO ACRE  \\n \\nMis...  Nato digital   \n",
       "2  TRIBUNAL DE CONTAS DO ESTADO DO ACRE  \\n \\nMis...  Nato digital   \n",
       "3  TRIBUNAL DE CONTAS DO ESTADO DO ACRE  \\n \\nMis...  Nato digital   \n",
       "4  TRIBUNAL DE CONTAS DO ESTADO DO ACRE  \\n \\nMis...  Nato digital   \n",
       "\n",
       "   page_count                        md_file  \n",
       "0           6  files/ELEGIS-1706994145601.md  \n",
       "1           6                            NaN  \n",
       "2           6                            NaN  \n",
       "3           6                            NaN  \n",
       "4           5  files/ELEGIS-1706994357655.md  "
      ]
     },
     "execution_count": 3,
     "metadata": {},
     "output_type": "execute_result"
    }
   ],
   "source": [
    "def process(pdf_path):\n",
    "    with open('../data/files/' + pdf_path, \"rb\") as file:\n",
    "        leitor_pdf = PyPDF2.PdfReader(file)\n",
    "        return len(leitor_pdf.pages)\n",
    "\n",
    "df['page_count'] = df['file'].apply(process)\n",
    "df.head()"
   ]
  },
  {
   "cell_type": "code",
   "execution_count": 5,
   "metadata": {},
   "outputs": [
    {
     "data": {
      "text/plain": [
       "6144"
      ]
     },
     "execution_count": 5,
     "metadata": {},
     "output_type": "execute_result"
    }
   ],
   "source": [
    "df['page_count'].sum()"
   ]
  },
  {
   "cell_type": "code",
   "execution_count": 7,
   "metadata": {},
   "outputs": [
    {
     "data": {
      "text/plain": [
       "<Axes: >"
      ]
     },
     "execution_count": 7,
     "metadata": {},
     "output_type": "execute_result"
    },
    {
     "data": {
      "image/png": "[encoded data removed]",
      "text/plain": [
       "<Figure size 640x480 with 1 Axes>"
      ]
     },
     "metadata": {},
     "output_type": "display_data"
    }
   ],
   "source": [
    "df['page_count'].hist()"
   ]
  },
  {
   "cell_type": "code",
   "execution_count": 9,
   "metadata": {},
   "outputs": [],
   "source": [
    "parser = LlamaParse(\n",
    "    api_key=\"llx-Ewky1i6v3MCKlr1q3zPfql7PK7jKcvbygg4hROlYXIghNCSE\",\n",
    "    result_type=\"markdown\",\n",
    "    num_workers=4,\n",
    "    verbose=False,\n",
    "    language=\"pt\",\n",
    ")"
   ]
  },
  {
   "cell_type": "code",
   "execution_count": 14,
   "metadata": {},
   "outputs": [
    {
     "data": {
      "text/plain": [
       "169"
      ]
     },
     "execution_count": 14,
     "metadata": {},
     "output_type": "execute_result"
    }
   ],
   "source": [
    "limit = 1000\n",
    "current = 0\n",
    "os.makedirs('md_files', exist_ok=True)\n",
    "\n",
    "files_count = 0\n",
    "pages_sum = 0\n",
    "for p_count in df[df['md_file'].isna()].sort_values(by = 'page_count')['page_count'].tolist():\n",
    "    pages_sum += p_count\n",
    "    if pages_sum <= limit:\n",
    "        files_count += 1\n",
    "files_count"
   ]
  },
  {
   "cell_type": "code",
   "execution_count": 15,
   "metadata": {},
   "outputs": [
    {
     "name": "stderr",
     "output_type": "stream",
     "text": [
      " 12%|█▏        | 21/169 [08:07<1:12:27, 29.38s/it]"
     ]
    },
    {
     "name": "stdout",
     "output_type": "stream",
     "text": [
      "Error while parsing the file '../data/files/ELEGIS-1724247042.pdf': \n"
     ]
    },
    {
     "name": "stderr",
     "output_type": "stream",
     "text": [
      " 70%|██████▉   | 118/169 [47:05<17:39, 20.77s/it] "
     ]
    },
    {
     "name": "stdout",
     "output_type": "stream",
     "text": [
      "Error while parsing the file '../data/files/ELEGIS-1722339960.pdf': \n"
     ]
    },
    {
     "name": "stderr",
     "output_type": "stream",
     "text": [
      " 82%|████████▏ | 139/169 [53:18<08:11, 16.40s/it]"
     ]
    },
    {
     "name": "stdout",
     "output_type": "stream",
     "text": [
      "Error while parsing the file '../data/files/ELEGIS-1721233277.pdf': \n"
     ]
    },
    {
     "name": "stderr",
     "output_type": "stream",
     "text": [
      " 86%|████████▌ | 145/169 [56:43<12:14, 30.61s/it]"
     ]
    },
    {
     "name": "stdout",
     "output_type": "stream",
     "text": [
      "Error while parsing the file '../data/files/ELEGIS-1721316704.pdf': \n"
     ]
    },
    {
     "name": "stderr",
     "output_type": "stream",
     "text": [
      " 94%|█████████▍| 159/169 [1:02:09<03:26, 20.62s/it]"
     ]
    },
    {
     "name": "stdout",
     "output_type": "stream",
     "text": [
      "Error while parsing the file '../data/files/ELEGIS-1712516167968.PDF': Failed to parse the file: {\"detail\":\"You've exceeded the maximum number of pages you can parse in a day (1000). Please contact support to increase your limit.\"}\n"
     ]
    },
    {
     "name": "stderr",
     "output_type": "stream",
     "text": [
      " 95%|█████████▍| 160/169 [1:02:10<02:30, 16.73s/it]"
     ]
    },
    {
     "name": "stdout",
     "output_type": "stream",
     "text": [
      "Error while parsing the file '../data/files/ELEGIS-1711999244669.PDF': Failed to parse the file: {\"detail\":\"You've exceeded the maximum number of pages you can parse in a day (1000). Please contact support to increase your limit.\"}\n"
     ]
    },
    {
     "name": "stderr",
     "output_type": "stream",
     "text": [
      " 95%|█████████▌| 161/169 [1:02:11<01:48, 13.60s/it]"
     ]
    },
    {
     "name": "stdout",
     "output_type": "stream",
     "text": [
      "Error while parsing the file '../data/files/ELEGIS-1712508605870.PDF': Failed to parse the file: {\"detail\":\"You've exceeded the maximum number of pages you can parse in a day (1000). Please contact support to increase your limit.\"}\n"
     ]
    },
    {
     "name": "stderr",
     "output_type": "stream",
     "text": [
      " 96%|█████████▌| 162/169 [1:02:12<01:17, 11.10s/it]"
     ]
    },
    {
     "name": "stdout",
     "output_type": "stream",
     "text": [
      "Error while parsing the file '../data/files/ELEGIS-1710974339641.PDF': Failed to parse the file: {\"detail\":\"You've exceeded the maximum number of pages you can parse in a day (1000). Please contact support to increase your limit.\"}\n"
     ]
    },
    {
     "name": "stderr",
     "output_type": "stream",
     "text": [
      " 96%|█████████▋| 163/169 [1:02:13<00:54,  9.10s/it]"
     ]
    },
    {
     "name": "stdout",
     "output_type": "stream",
     "text": [
      "Error while parsing the file '../data/files/ELEGIS-1710974180084.PDF': Failed to parse the file: {\"detail\":\"You've exceeded the maximum number of pages you can parse in a day (1000). Please contact support to increase your limit.\"}\n"
     ]
    },
    {
     "name": "stderr",
     "output_type": "stream",
     "text": [
      " 97%|█████████▋| 164/169 [1:02:14<00:37,  7.49s/it]"
     ]
    },
    {
     "name": "stdout",
     "output_type": "stream",
     "text": [
      "Error while parsing the file '../data/files/ELEGIS-1710974139669.PDF': Failed to parse the file: {\"detail\":\"You've exceeded the maximum number of pages you can parse in a day (1000). Please contact support to increase your limit.\"}\n"
     ]
    },
    {
     "name": "stderr",
     "output_type": "stream",
     "text": [
      " 98%|█████████▊| 165/169 [1:02:16<00:24,  6.21s/it]"
     ]
    },
    {
     "name": "stdout",
     "output_type": "stream",
     "text": [
      "Error while parsing the file '../data/files/ELEGIS-1710974094057.PDF': Failed to parse the file: {\"detail\":\"You've exceeded the maximum number of pages you can parse in a day (1000). Please contact support to increase your limit.\"}\n"
     ]
    },
    {
     "name": "stderr",
     "output_type": "stream",
     "text": [
      " 98%|█████████▊| 166/169 [1:02:17<00:15,  5.18s/it]"
     ]
    },
    {
     "name": "stdout",
     "output_type": "stream",
     "text": [
      "Error while parsing the file '../data/files/ELEGIS-1710973860289.PDF': Failed to parse the file: {\"detail\":\"You've exceeded the maximum number of pages you can parse in a day (1000). Please contact support to increase your limit.\"}\n"
     ]
    },
    {
     "name": "stderr",
     "output_type": "stream",
     "text": [
      " 99%|█████████▉| 167/169 [1:02:18<00:08,  4.40s/it]"
     ]
    },
    {
     "name": "stdout",
     "output_type": "stream",
     "text": [
      "Error while parsing the file '../data/files/ELEGIS-1712509560704.PDF': Failed to parse the file: {\"detail\":\"You've exceeded the maximum number of pages you can parse in a day (1000). Please contact support to increase your limit.\"}\n"
     ]
    },
    {
     "name": "stderr",
     "output_type": "stream",
     "text": [
      " 99%|█████████▉| 168/169 [1:02:19<00:22, 22.26s/it]"
     ]
    },
    {
     "name": "stdout",
     "output_type": "stream",
     "text": [
      "Error while parsing the file '../data/files/ELEGIS-1711999202648.PDF': Failed to parse the file: {\"detail\":\"You've exceeded the maximum number of pages you can parse in a day (1000). Please contact support to increase your limit.\"}\n"
     ]
    },
    {
     "name": "stderr",
     "output_type": "stream",
     "text": [
      "\n"
     ]
    }
   ],
   "source": [
    "with tqdm.tqdm(total=files_count, smoothing=0.2) as pbar:\n",
    "    for key, row in df[df['md_file'].isna()].sort_values(by = 'page_count').iterrows():\n",
    "        current += row['page_count']\n",
    "        if current <= limit:\n",
    "            # Process document with LlamaParser\n",
    "            file_path = 'files/' + row['file']\n",
    "            document = parser.load_data(file_path)\n",
    "            \n",
    "            # Write a md_file with LlamaParser result\n",
    "            md_path = file_path.replace('.PDF', '.md').replace('.pdf', '.md').replace('files/', 'md_files/')\n",
    "            with open(md_path, 'a', encoding='utf-8') as md_file:\n",
    "                for page in document:\n",
    "                    md_file.write(page.text + '\\n\\n')\n",
    "            \n",
    "            df.loc[key, 'md_file'] = md_path\n",
    "            df.to_csv('data.csv')\n",
    "            pbar.update()\n",
    "        else:\n",
    "            break"
   ]
  },
  {
   "cell_type": "code",
   "execution_count": 17,
   "metadata": {},
   "outputs": [],
   "source": [
    "for k, row in df.iterrows():\n",
    "    if isinstance(row['md_file'], str):\n",
    "        if '.PDF' in row['md_file'] or '.pdf' in row['md_file']:\n",
    "            df.loc[k, 'md_file'] = row['md_file'].replace('.PDF', '.md').replace('.pdf', '.md')\n",
    "            row['md_file'] = df.loc[k, 'md_file']\n",
    "        with open(row['md_file'], 'r', encoding='utf-8') as file:\n",
    "            if file.read().strip() == '':\n",
    "                df.loc[k, 'md_file'] = None"
   ]
  },
  {
   "cell_type": "code",
   "execution_count": 18,
   "metadata": {},
   "outputs": [
    {
     "data": {
      "text/plain": [
       "524"
      ]
     },
     "execution_count": 18,
     "metadata": {},
     "output_type": "execute_result"
    }
   ],
   "source": [
    "len(df[~df['md_file'].isna()])"
   ]
  },
  {
   "cell_type": "code",
   "execution_count": 19,
   "metadata": {},
   "outputs": [],
   "source": [
    "df.to_csv('data.csv', index=False)"
   ]
  },
  {
   "cell_type": "code",
   "execution_count": 86,
   "metadata": {},
   "outputs": [],
   "source": [
    "for k, row in df.iterrows():\n",
    "    if isinstance(row['md_file'], str):\n",
    "        if '.pdf' in row['md_file']:\n",
    "            os.rename(row['md_file'], row['md_file'].replace('.pdf', '.md'))\n",
    "            df.loc[k, 'md_file'] = row['md_file'].replace('.pdf', '.md')"
   ]
  }
 ],
 "metadata": {
  "kernelspec": {
   "display_name": "Python 3",
   "language": "python",
   "name": "python3"
  },
  "language_info": {
   "codemirror_mode": {
    "name": "ipython",
    "version": 3
   },
   "file_extension": ".py",
   "mimetype": "text/x-python",
   "name": "python",
   "nbconvert_exporter": "python",
   "pygments_lexer": "ipython3",
   "version": "3.11.8"
  }
 },
 "nbformat": 4,
 "nbformat_minor": 2
}
