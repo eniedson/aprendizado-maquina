{
 "cells": [
  {
   "cell_type": "code",
   "execution_count": 7,
   "metadata": {},
   "outputs": [],
   "source": [
    "import pandas as pd\n",
    "from groq import Groq\n",
    "import itertools\n",
    "import tqdm\n",
    "import time\n",
    "import os\n",
    "import random\n",
    "import re"
   ]
  },
  {
   "cell_type": "code",
   "execution_count": 8,
   "metadata": {},
   "outputs": [
    {
     "data": {
      "text/html": [
       "<div>\n",
       "<style scoped>\n",
       "    .dataframe tbody tr th:only-of-type {\n",
       "        vertical-align: middle;\n",
       "    }\n",
       "\n",
       "    .dataframe tbody tr th {\n",
       "        vertical-align: top;\n",
       "    }\n",
       "\n",
       "    .dataframe thead th {\n",
       "        text-align: right;\n",
       "    }\n",
       "</style>\n",
       "<table border=\"1\" class=\"dataframe\">\n",
       "  <thead>\n",
       "    <tr style=\"text-align: right;\">\n",
       "      <th></th>\n",
       "      <th>acordao</th>\n",
       "      <th>relatorio</th>\n",
       "      <th>voto</th>\n",
       "    </tr>\n",
       "  </thead>\n",
       "  <tbody>\n",
       "    <tr>\n",
       "      <th>0</th>\n",
       "      <td>Vistos, relatados e discutidos os autos do pro...</td>\n",
       "      <td>1. Trata o presente processo da Prestação de C...</td>\n",
       "      <td>Em face dos dados apresentados nos autos, veri...</td>\n",
       "    </tr>\n",
       "    <tr>\n",
       "      <th>1</th>\n",
       "      <td>Vistos, relatados e discutidos os autos do pro...</td>\n",
       "      <td>Tratam os autos da aposentadoria do servidor p...</td>\n",
       "      <td>Trata-se de apreciação da legalidade e registr...</td>\n",
       "    </tr>\n",
       "    <tr>\n",
       "      <th>2</th>\n",
       "      <td>Vistos, relatados e discutidos os autos do pro...</td>\n",
       "      <td>1. Tratam os autos de Denúncia protocolada na ...</td>\n",
       "      <td>O EXMO. SENHOR CONSELHEIRO ANTONIO CRISTOVÃO C...</td>\n",
       "    </tr>\n",
       "    <tr>\n",
       "      <th>3</th>\n",
       "      <td>Vistos, relatados e discutidos os autos do pro...</td>\n",
       "      <td>1. Trata-se de apreciação da legalidade e regi...</td>\n",
       "      <td>A EXMA. SENHORA CONSELHEIRA DULCINÉA BENÍCIO D...</td>\n",
       "    </tr>\n",
       "    <tr>\n",
       "      <th>4</th>\n",
       "      <td>Vistos, relatados e discutidos os autos do pro...</td>\n",
       "      <td>Tratam os autos da aposentadoria da servidora ...</td>\n",
       "      <td>Trata-se de apreciação da legalidade e registr...</td>\n",
       "    </tr>\n",
       "    <tr>\n",
       "      <th>...</th>\n",
       "      <td>...</td>\n",
       "      <td>...</td>\n",
       "      <td>...</td>\n",
       "    </tr>\n",
       "    <tr>\n",
       "      <th>145</th>\n",
       "      <td>Vistos, relatados e discutidos os autos do pro...</td>\n",
       "      <td>1. Trata-se de INSPEÇÃO, com o objetivo de ver...</td>\n",
       "      <td>A EXMA. SENHORA CONSELHEIRA DULCINÉA BENÍCIO D...</td>\n",
       "    </tr>\n",
       "    <tr>\n",
       "      <th>146</th>\n",
       "      <td>Vistos, relatados e discutidos os autos do pro...</td>\n",
       "      <td>Trata o presente processo de aposentadoria vol...</td>\n",
       "      <td>O EXMO. SENHOR CONSELHEIRO VALMIR GOMES RIBEIR...</td>\n",
       "    </tr>\n",
       "    <tr>\n",
       "      <th>147</th>\n",
       "      <td>Vistos, relatados e discutidos os autos do pro...</td>\n",
       "      <td>Tratam os autos da aposentadoria da servidora ...</td>\n",
       "      <td>Trata-se de apreciação da legalidade e registr...</td>\n",
       "    </tr>\n",
       "    <tr>\n",
       "      <th>148</th>\n",
       "      <td>Vistos, relatados e discutidos os autos do pro...</td>\n",
       "      <td>1. Trata-se de apreciação da legalidade e regi...</td>\n",
       "      <td>A EXMA. SENHORA CONSELHEIRA DULCINÉA BENÍCIO D...</td>\n",
       "    </tr>\n",
       "    <tr>\n",
       "      <th>149</th>\n",
       "      <td>Vistos, relatados e discutidos os autos do pro...</td>\n",
       "      <td>Tratam os autos da aposentadoria compulsória d...</td>\n",
       "      <td>Trata-se de apreciação da legalidade e registr...</td>\n",
       "    </tr>\n",
       "  </tbody>\n",
       "</table>\n",
       "<p>150 rows × 3 columns</p>\n",
       "</div>"
      ],
      "text/plain": [
       "                                               acordao  \\\n",
       "0    Vistos, relatados e discutidos os autos do pro...   \n",
       "1    Vistos, relatados e discutidos os autos do pro...   \n",
       "2    Vistos, relatados e discutidos os autos do pro...   \n",
       "3    Vistos, relatados e discutidos os autos do pro...   \n",
       "4    Vistos, relatados e discutidos os autos do pro...   \n",
       "..                                                 ...   \n",
       "145  Vistos, relatados e discutidos os autos do pro...   \n",
       "146  Vistos, relatados e discutidos os autos do pro...   \n",
       "147  Vistos, relatados e discutidos os autos do pro...   \n",
       "148  Vistos, relatados e discutidos os autos do pro...   \n",
       "149  Vistos, relatados e discutidos os autos do pro...   \n",
       "\n",
       "                                             relatorio  \\\n",
       "0    1. Trata o presente processo da Prestação de C...   \n",
       "1    Tratam os autos da aposentadoria do servidor p...   \n",
       "2    1. Tratam os autos de Denúncia protocolada na ...   \n",
       "3    1. Trata-se de apreciação da legalidade e regi...   \n",
       "4    Tratam os autos da aposentadoria da servidora ...   \n",
       "..                                                 ...   \n",
       "145  1. Trata-se de INSPEÇÃO, com o objetivo de ver...   \n",
       "146  Trata o presente processo de aposentadoria vol...   \n",
       "147  Tratam os autos da aposentadoria da servidora ...   \n",
       "148  1. Trata-se de apreciação da legalidade e regi...   \n",
       "149  Tratam os autos da aposentadoria compulsória d...   \n",
       "\n",
       "                                                  voto  \n",
       "0    Em face dos dados apresentados nos autos, veri...  \n",
       "1    Trata-se de apreciação da legalidade e registr...  \n",
       "2    O EXMO. SENHOR CONSELHEIRO ANTONIO CRISTOVÃO C...  \n",
       "3    A EXMA. SENHORA CONSELHEIRA DULCINÉA BENÍCIO D...  \n",
       "4    Trata-se de apreciação da legalidade e registr...  \n",
       "..                                                 ...  \n",
       "145  A EXMA. SENHORA CONSELHEIRA DULCINÉA BENÍCIO D...  \n",
       "146  O EXMO. SENHOR CONSELHEIRO VALMIR GOMES RIBEIR...  \n",
       "147  Trata-se de apreciação da legalidade e registr...  \n",
       "148  A EXMA. SENHORA CONSELHEIRA DULCINÉA BENÍCIO D...  \n",
       "149  Trata-se de apreciação da legalidade e registr...  \n",
       "\n",
       "[150 rows x 3 columns]"
      ]
     },
     "execution_count": 8,
     "metadata": {},
     "output_type": "execute_result"
    }
   ],
   "source": [
    "data = []\n",
    "for file in list(filter(lambda x: x.startswith('p-'), os.listdir('./md_files/'))):\n",
    "    with open('./md_files/' + file, 'r', encoding='utf-8') as file:\n",
    "        content = file.read()\n",
    "        chunks = list(map(lambda x: re.sub(r\"# ACÓRDÃO.*\\n\", \"\", x).strip(), filter(lambda x: x not in ['RELATÓRIO', 'VOTO'], re.split(r\"# (RELATÓRIO|VOTO)\", content))))\n",
    "        data.append({\n",
    "            \"acordao\": chunks[0],\n",
    "            \"relatorio\": chunks[1],\n",
    "            \"voto\": chunks[2]\n",
    "        })\n",
    "df = pd.DataFrame(data)\n",
    "df"
   ]
  },
  {
   "cell_type": "markdown",
   "metadata": {},
   "source": [
    "### Examples Definition"
   ]
  },
  {
   "cell_type": "code",
   "execution_count": 9,
   "metadata": {},
   "outputs": [],
   "source": [
    "example1 = \"\"\"\n",
    "Relatório:\n",
    "Trata o presente processo de aposentadoria voluntária por tempo de contribuição da servidora pública estadual Eutália Paz da Silva, no cargo de Auxiliar Operacional de Serviços Diversos, Grupo I, Referência 8, do Quadro de Pessoal do Estado da Secretaria de Estado de Saúde, pelas regras previstas no artigo 3º da Emenda Constitucional nº 47, de 05 de julho de 2005.\n",
    "\n",
    "Da análise dos autos e de acordo com o Relatório Técnico (fls. 94-95), apurou-se que:\n",
    "\n",
    "1. A servidora conta com a idade de 57 (cinquenta e sete) anos e 37 (trinta e sete) anos e 195 (cento e noventa e cinco) dias de contribuição, para fins de aposentadoria;\n",
    "2. A aposentadoria foi concedida no cargo de Auxiliar Operacional de Serviços Diversos, Grupo I, Referência 8, do Quadro de Pessoal da Secretaria de Estado de Saúde, através da Portaria nº 98 de 10/02/2021;\n",
    "3. Os proventos mensais iniciais foram calculados no valor de R$1.942,42 (mil novecentos e quarenta e dois reais e quarenta e dois centavos), conforme Ato de Fixação dos Proventos (fls. 79);\n",
    "4. Atualmente a servidora faz jus aos proventos no valor de R$ 2.341,74 (dois mil trezentos e quarenta e um reais e setenta e quatro centavos), de acordo com a Ficha Financeira atualizada (fls. 96-157).\n",
    "\n",
    "O Ministério Público de Contas se manifestou (fls. 162-163) em pronunciamento da lavra da Procuradora Anna Helena de Azevedo Lima, tendo se manifestado favorável pela legalidade e registro da matéria.\n",
    "\n",
    "É o RELATÓRIO.\n",
    "\n",
    "Voto:\n",
    "O EXMO. SENHOR CONSELHEIRO VALMIR GOMES RIBEIRO (Relator):\n",
    "\n",
    "Visto e analisado o presente processo, e ainda consubstanciado na Análise Técnica (fls. 94-95), bem como no Parecer do Ministério Público de Contas (fls. 162-163), concluo votando:\n",
    "\n",
    "1. pela legalidade e registro da aposentadoria voluntária por tempo de contribuição da servidora pública estadual Eutália Paz da Silva, CPF nº 112.709.342-87, matrícula nº 91456-1, no cargo de Auxiliar Operacional de Serviços Diversos, Grupo I, Referência 8, do Quadro de Pessoal do Estado da Secretaria de Estado de Saúde, concedida através da Portaria nº 98 de 10/02/2021, com fundamento no artigo 3º da Emenda Constitucional nº 47, de 05 de julho de 2005;\n",
    "2. pelo encaminhamento de cópia do processo ao Instituto de Previdência do Estado do Acre - ACREPREVIDÊNCIA para as providências cabíveis e para que promova a ciência da servidora interessada. Se impresso, para conferência acesse o site http://www.tceac.tc.br/conferencia e informe o código 01335634.\n",
    "3. após, pelo arquivamento dos autos.\n",
    "\n",
    "É como VOTO.\n",
    "\n",
    "Acordão:\n",
    "Vistos, relatados e discutidos os autos do processo acima identificado, na 127ª Sessão Ordinária Virtual, ACORDAM os Membros da 2ª Câmara do Tribunal de Contas do Estado do Acre, à unanimidade, nos termos do voto do Conselheiro-Relator, com fulcro no artigo 61, inciso III, da Constituição Estadual:\n",
    "\n",
    "1. pela legalidade e registro da aposentadoria voluntária por tempo de contribuição da servidora pública estadual Eutália Paz da Silva, CPF nº 112.709.342-87, matrícula nº 91456-1, com fundamento no artigo 3º da Emenda Constitucional nº 47, de 05 de julho de 2005, no cargo de Auxiliar Operacional de Serviços Diversos, Grupo I, Referência 8, do Quadro de Pessoal do Estado da Secretaria de Estado de Saúde, concedida através da Portaria nº 98 de 10/02/2021;\n",
    "2. pelo encaminhamento de cópia do processo ao Instituto de Previdência do Estado do Acre - ACREPREVIDÊNCIA para as providências cabíveis e para que promova a ciência da servidora interessada. Após as formalidades de estilo, pelo arquivamento dos autos.\n",
    "\"\"\""
   ]
  },
  {
   "cell_type": "code",
   "execution_count": 10,
   "metadata": {},
   "outputs": [],
   "source": [
    "example2 = \"\"\"\n",
    "Relatório:\n",
    "Trata o presente processo de aposentadoria voluntária integral especial por tempo de contribuição da servidora pública estadual Marizete Correia de Andrade Carneiro, no cargo de Professora P2, 30 horas, Classe II, Referência J, do Quadro de Pessoal do Estado da Secretaria de Estado de Educação, Cultura e Esportes, pelas regras previstas no artigo 5º, §1º, da Emenda Constitucional do Estado nº 52, de 02 de dezembro de 2019 e §2º, inciso I, do mesmo artigo.\n",
    "\n",
    "Da análise dos autos e de acordo com o Relatório Técnico (fls. 162-164), apurou-se que:\n",
    "\n",
    "1. A servidora conta com a idade de 52 (cinquenta e dois) anos e 34 (trinta e quatro) anos e 154 (cento e cinquenta e quatro) dias de contribuição, para fins de aposentadoria;\n",
    "2. A aposentadoria foi concedida no cargo de Professora P2, 30 horas, Classe II, Referência 6, do Quadro de Pessoal da Secretaria de Estado de Educação, Cultura e Esportes, através da Portaria nº 613 de 20/09/2022;\n",
    "3. Os proventos mensais iniciais foram calculados no valor de R$ 5.148,03 (cinco mil cento e quarenta e oito reais e três centavos), conforme Ato de Fixação dos Proventos (fl. 138);\n",
    "4. Observa-se, no entanto, que o enquadramento da servidora no ato de aposentadoria foi equivocado, uma vez que, observando-se o art. 29 da LCE nº 67/99 com redação dada pelo art. 29, §8º, da LCE nº 330/17, a servidora deveria ter sido aposentada na Referência “J”, e seus proventos mensais, com a devida correção, ter sido fixado em R$ 6.215,78 (seis mil duzentos e quinze reais e setenta e oito centavos);\n",
    "5. atualmente a servidora faz jus aos proventos no valor de R$ 7.017,77 (sete mil e dezessete reais e setenta e sete centavos), de acordo com a Ficha Financeira atualizada (fls. 165-216).\n",
    "\n",
    "O Ministério Público de Contas se manifestou (fls. 221) em pronunciamento da lavra do Procurador Anna Helena de Azevedo Lima, tendo se manifestado favorável pela legalidade e registro da matéria, sem prejuízo da cientificação da beneficiária a respeito e assinação de prazo para a correção da origem.\n",
    "\n",
    "É o RELATÓRIO.\n",
    "\n",
    "Voto:\n",
    "O EXMO. SENHOR CONSELHEIRO VALMIR GOMES RIBEIRO (Relator):\n",
    "\n",
    "Visto e analisado o presente processo, e ainda consubstanciado na Análise Técnica (fls. 162-164), bem como no Parecer do Ministério Público de Contas (fls. 221), concluo votando:\n",
    "\n",
    "1. pela legalidade e registro da aposentadoria voluntária integral especial por tempo de contribuição da servidora pública estadual Marizete Correia de Andrade Carneiro, CPF nº 308.350.892-15, matrícula nº 210366-1, no cargo de Professora P2, 30 horas, Classe II, Referência J, do Quadro de Pessoal do Estado da Secretaria de Estado de Educação, Cultura e Esportes, concedida através da Portaria nº 613 de 20/09/2022, com fundamento no artigo 5º, §1º, da Emenda Constitucional do Estado nº 52, de 02 de dezembro de 2019 e §2º, inciso I, do mesmo artigo;\n",
    "2. pelo encaminhamento de cópia do processo ao Instituto de Previdência do Estado do Acre - ACREPREVIDÊNCIA para as providências cabíveis e para que promova a ciência da servidora interessada.\n",
    "3. após, pelo arquivamento dos autos.\n",
    "\n",
    "É como VOTO.\n",
    "\n",
    "Acordão:\n",
    "Vistos, relatados e discutidos os autos do processo acima identificado, na 127ª Sessão Ordinária Virtual, ACORDAM os Membros da 2ª Câmara do Tribunal de Contas do Estado do Acre, à unanimidade, nos termos do voto do Conselheiro-Relator, com fulcro no artigo 61, inciso III, da Constituição Estadual: 1) pela legalidade e registro da aposentadoria voluntária integral especial por tempo de contribuição da servidora pública estadual Marizete Correia de Andrade Carneiro, CPF nº 308.350.892-15, matrícula nº 210366-1, com fundamento no artigo 5º, §1º, da Emenda Constitucional do Estado nº 52, de 02 de dezembro de 2019 e §2º, inciso I, do mesmo artigo, no cargo de Professora P2, 30 horas, Classe II, Referência J, do Quadro de Pessoal do Estado da Secretaria de Estado de Educação, Cultura e Esportes, concedida através da Portaria nº 613 de 20/09/2022; 2) pelo encaminhamento de cópia do processo ao Instituto de Previdência do Estado do Acre - ACREPREVIDÊNCIA para as providências cabíveis e para que promova a ciência da servidora interessada. Após as formalidades de estilo, pelo arquivamento dos autos.\n",
    "\"\"\""
   ]
  },
  {
   "cell_type": "code",
   "execution_count": 11,
   "metadata": {},
   "outputs": [],
   "source": [
    "example3 = \"\"\"\n",
    "Relatório:\n",
    "1. Tratam os autos da aposentadoria da servidora pública da Secretaria de Educação do Estado do Acre, Sra. Maria do Perpétuo Socorro Diniz Andrade, matrícula nº 266027-1, no cargo de Professora, P2- 30 horas, Classe II, Referência J.\n",
    "2. A servidora foi admitida na Secretaria Estadual de Educação por concurso público em 1º de dezembro de 1993 para ocupar o cargo de Professora PE5, 40 horas. Conforme fichas financeiras da servidora esta recebeu todas as promoções e progressões da carreira do magistério, nos termos da Lei complementar n. 67/1999 e, nos termos desta Lei foi enquadrada como professora P2, 25 horas, a partir de 16 de junho 1999. Posteriormente, por meio da LC n. 91, de 14.02.2001 que alterou a LC n. 67/99 a servidora foi enquadrada como Professora Nível Superior P2, 30 horas a partir de 1º de fevereiro de 2001. Após a servidora comprovar a formação superior para o exercício do cargo.\n",
    "3. A servidora requereu a aposentadoria em 27 de novembro de 2018, fl. 42, pelo exercício do magistério na Escola Dom Julio Mattioli, no município de Sena Madureira, tendo sido efetuada a concessão de aposentadoria através da Portaria nº 79 de 26/01/2023 do Instituto de Previdência do Estado do Acre, publicada no DOE nº 13.464, de 30/01/2023;\n",
    "4. O tempo de serviço líquido, apurado para fins da aposentadoria especial do magistério foi de 30 anos e 259 dias de contribuição, atendendo os requisitos para aposentadoria na modalidade voluntária integral especial por tempo de contribuição, nos termos do art. 4º da Emenda Constitucional nº 52, de 2 de dezembro de 2019, com proventos integrais de acordo com o § 6º, inciso I, do mesmo artigo.\n",
    "5. A 4º IGCE deste Tribunal afirma, às fls. 203/204, que a servidora preenche todos os requisitos constitucionais para fazer jus à aposentadoria com enquadramento da fixação dos proventos em P2- 30 horas, Classe II, Referência J, do quadro de pessoal da Secretaria estadual de Educação, com benefício iniciado em 30/01/2023, no valor de R$ 6.215,78 (seis mil duzentos e quinze reais e setenta e oito centavos)¹, conforme ao enquadramento final da carreira, mencionado no Ato de Fixação dos Proventos à fl. 21;\n",
    "6. O Ministério Público de Contas pronunciou-se à fl. 262, através da sua Ilustre Procuradora, Dra. Anna Helena de Azevedo Lima.\n",
    "\n",
    "É o Relatório.\n",
    "\n",
    "Voto:\n",
    "A EXMA. SENHORA CONSELHEIRA NALUH MARIA LIMA GOUVEIA (Relatora):\n",
    "\n",
    "1. Trata-se de apreciação da legalidade e registro da aposentadoria da servidora pública da Secretaria de Educação do Estado do Acre, Sra. Maria do Perpétuo Socorro Diniz Andrade, matrícula nº 266027-1, no cargo de Professora de Nível Superior, 30 horas, Classe II, Referência J.\n",
    "2. Posto isso, e tudo o que mais consta dos autos, e considerando a regularidade da documentação apresentada, assim como sua conformidade com a legislação vigente pertinente, inclusive levando em conta as análises do corpo técnico e do Ministério Público de Contas, e com fundamento no art. 61, inciso III, da Constituição Estadual de 1989, VOTO:\n",
    "\n",
    "1) Reconhecer a legalidade e, consequentemente, registrar neste Tribunal de Contas a aposentadoria da Sra. Maria do Perpétuo Socorro Diniz Andrade, matrícula n. 229962-1, no cargo de Professora, P2-30 horas, Classe II, Referência J, do quadro de pessoal da Secretaria Estadual de Educação do Acre, concedida por meio da Portaria n. 79, de 26 de janeiro de 2023, na modalidade aposentadoria voluntária Especial por tempo de contribuição, nos termos art. 4º, da Emenda Constitucional nº 52, de 2 de dezembro de 2019, com proventos integrais, de acordo com o § 6º, inciso I, do mesmo artigo, especificados no Ato de Fixação à fl. 21;\n",
    "2) Encaminhar cópia do Acórdão proferido ao Instituto de Previdência do Estado do Acre - ACREPREVIDÊNCIA, para que tome as providências necessárias, inclusive dando ciência à interessada do teor da decisão, e\n",
    "3) Após as formalidades de estilo, pelo arquivamento dos autos.\n",
    "\n",
    "É como VOTO.\n",
    "\n",
    "Acordão:\n",
    "Vistos, relatados e discutidos os autos do processo acima identificado, acordam os Membros da 1ª Câmara do Tribunal de Contas do Estado do Acre na 119ª Sessão Ordinária Virtual, por unanimidade, nos termos do voto da Conselheira-Relatora, em:\n",
    "\n",
    "1. Reconhecer a legalidade e, consequentemente, registrar neste Tribunal de Contas a aposentadoria da Sra. Maria do Perpétuo Socorro Diniz Andrade, matrícula n. 266027-1, no cargo de Professora, P2- 30 horas, Classe II, Referência J, do quadro de pessoal da Secretaria Estadual de Educação do Acre, concedida por meio da Portaria n. 79, de 26 de janeiro de 2023, na modalidade aposentadoria voluntária Especial por tempo de contribuição, nos termos art. 4º, da Emenda Constitucional nº 52, de 2 de dezembro de 2019, com proventos integrais, de acordo com o § 6º, inciso I, do mesmo artigo, especificados no Ato de Fixação à fl. 21;\n",
    "2. Encaminhar cópia do Acórdão proferido ao Instituto de Previdência do Estado do Acre- ACREPREVIDÊNCIA, para que tome as providências necessárias, inclusive dando ciência à interessada do teor da decisão. Após as formalidades de estilo, pelo arquivamento dos autos.\n",
    "\"\"\""
   ]
  },
  {
   "cell_type": "code",
   "execution_count": 12,
   "metadata": {},
   "outputs": [],
   "source": [
    "example4 = \"\"\"\n",
    "Relatório:\n",
    "1. Trata-se de apreciação da legalidade e registro da aposentadoria voluntária por tempo de contribuição da SR.ª LUCÉLIA NAGÃO GONÇALVES, matriculada na Secretaria de Estado de Educação e Esporte sob o número 9130438-3, com proventos calculados pela média1, no cargo de PROFESSORA DE NÍVEL SUPERIOR, 30 HORAS, CLASSE II, REFERÊNCIA “F”, consoante se vê pela Portaria n. 863, de 07 de julho de 2017 (DOE n. 12.092, de 11-07-2017) - fls. 72/73, apresentada nesta Corte em 13-08-20192.\n",
    "\n",
    "2. Quanto aos proventos, foram fixados em R$ 3.423,40 (três mil quatrocentos e vinte e três reais e quarenta centavos), no cargo de PROFESSORA DE NÍVEL SUPERIOR, 30 HORAS, CLASSE II, REFERÊNCIA “F”, nos termos do Ato de Fixação dos Proventos à fl. 683, de acordo com o previsto no Anexo VII, da Lei Complementar Estadual n. 67, de 29-06-1999, modificado pela LCE n. 330, de 06 de março de 20174.\n",
    "\n",
    "3. Após o registro, a autuação e a distribuição, os autos foram enviados à DIRETORIA DE AUDITORIA FINANCEIRA E ORÇAMENTÁRIA, que se manifestou por meio da 4ª INSPETORIA GERAL DE CONTROLE EXTERNO, pela admissibilidade da concessão de aposentadoria, em razão do preenchimento dos requisitos legais pertinentes à matéria - fls. 80/83.\n",
    "\n",
    "4. O MINISTÉRIO PÚBLICO DE CONTAS, por meio de seu i. Procurador, Dr. João Izidro de Melo Neto, pronunciou-se à fl. 120.\n",
    "\n",
    "5. É o breve Relatório.\n",
    "\n",
    "Voto:\n",
    "A EXMA. SENHORA CONSELHEIRA DULCINÉA BENÍCIO DE ARAÚJO (Relatora):\n",
    "\n",
    "1. Trata-se de apreciação da legalidade e registro da concessão de aposentadoria à SR.ª LUCÉLIA NAGÃO GONÇALVES, com proventos calculados pela média, no cargo de PROFESSORA DE NÍVEL SUPERIOR, 30 HORAS, CLASSE II, REFERÊNCIA “F”.\n",
    "2. Observa-se que após a edição da LCE n. 330/2017, que modificou o § 8º do artigo 29 da LCE n. 67/1999, foi determinado o reenquadramento dos servidores, observando-se o interstício de trinta e três meses para cada progressão.\n",
    "3. Ante todo o exposto, e tudo o que mais consta dos autos, bem como considerando a regularidade da documentação apresentada e a conformidade do ato de concessão com o estabelecido na legislação em vigor, inclusive levando-se em conta as manifestações do corpo técnico e do Ministério Público de Contas, VOTO, com base no artigo 61, inciso III, da Constituição Estadual de 1989, pelo:\n",
    "   3.1 reconhecimento da LEGALIDADE e, consequente, REGISTRO neste Tribunal de Contas, da aposentadoria voluntária por tempo de contribuição da SR.ª LUCÉLIA NAGÃO GONÇALVES, matrícula n. 9130438-3, no cargo de PROFESSORA DE NÍVEL SUPERIOR, 30 HORAS, CLASSE II, REFERÊNCIA “F”, do quadro de pessoal do Estado da Secretaria de Educação e Esporte, nos termos do artigo 40, § 1º, inciso III, alínea “a”, da Constituição Federal, com a redação dada pela Emenda Constitucional n° 41, de 19 de dezembro de 20035, com proventos fixados em R$ 3.423,40 (três mil quatrocentos e vinte e três reais e quarenta centavos), nos termos do Ato de Fixação dos Proventos à fl. 68, de acordo com o previsto no Anexo VII, da Lei Complementar Estadual n. 67, de 29-06-1999, modificado pela LCE n. 330, de 06 de março de 2017;\n",
    "   3.2. ENCAMINHAMENTO de cópia do processo ao Instituto de Previdência do Estado do Acre, para proceder à ciência da interessada do teor da decisão, bem como para que observe o artigo 11, da Resolução-TCE n. 103, de 14-09-2016; e\n",
    "   3.3. finalmente, após as formalidades de estilo, pelo ARQUIVAMENTO dos autos.\n",
    "\n",
    "4. É como VOTO.\n",
    "\n",
    "Acordão:\n",
    "Vistos, relatados e discutidos os autos do processo acima identificado, ACORDAM os Membros da 2ª Câmara do Tribunal de Contas do Estado do Acre, na 127ª Sessão Ordinária Virtual, POR UNANIMIDADE, nos termos do voto da Conselheira-Relatora, em:\n",
    "\n",
    "1. RECONHECER a LEGALIDADE e, consequentemente, REGISTRAR neste Tribunal de Contas, a aposentadoria voluntária por tempo de contribuição da SR.ª LUCÉLIA NAGÃO GONÇALVES, matrícula n. 9130438-3, com proventos calculados pela média, concedida por meio da Portaria n. 863, de 07 de julho de 2017, com fundamento no artigo 40, § 1º, inciso III, alínea “a”, da Constituição Federal, com a redação dada pela Emenda Constitucional n° 41, de 19 de dezembro de 2003, no cargo de PROFESSORA DE NÍVEL SUPERIOR, 30 HORAS, CLASSE II, REFERÊNCIA “F”, do quadro de pessoal do Estado da Secretaria de Educação e Esporte, com proventos fixados em R$ 3.423,40 (três mil quatrocentos e vinte e três reais e quarenta centavos), nos termos do Ato de Fixação dos Proventos à fl. 68, de acordo com o previsto no Anexo VII, da Lei Complementar Estadual n. 67, de 29-06-1999, modificado pela LCE n. 330, de 06 de março de 2017;\n",
    "2. ENCAMINHAR cópia do processo ao Instituto de Previdência do Estado do Acre, para proceder à ciência da interessada do teor da decisão, bem como para que observe o artigo 11, da Resolução-TCE n. 103, de 14-09-2016; e c) ARQUIVAR os autos, após as formalidades de estilo.\n",
    "\"\"\""
   ]
  },
  {
   "cell_type": "code",
   "execution_count": 13,
   "metadata": {},
   "outputs": [],
   "source": [
    "example5 = \"\"\"\n",
    "Relatório:\n",
    "1. Tratam os autos da aposentadoria da servidora pública da Secretaria de Educação do Estado do Acre, Sra Arinete Oliveira Souza Barros, matrícula nº 244503-1, no cargo de Professora, P2- 30 horas, Classe II, Referência J.\n",
    "2. A servidora foi admitida na Secretaria Estadual de Educação por concurso público em 22 de maio de 1992 para ocupar o cargo de Professora PS2. Posteriormente foi enquadrada no cargo P1, 25 horas, por meio da Portaria n. 935, de 25/01/2002, recebendo todas as promoções e progressões da carreira do magistério, nos termos da Lei complementar n. 67/1999.\n",
    "3. Com base na Lei Complementar n. 213, de 18/06/2010, obteve progressão funcional para o cargo de professora de Nível Superior 30 horas, a partir de outubro daquele mesmo ano. Após a servidora comprovar a formação em nível superior em pedagogia, concluindo no ano de 2010 e especialização em 2011.\n",
    "4. A servidora requereu a aposentadoria em 2 de janeiro de 2018, tendo sido efetuada a concessão de aposentadoria através da Portaria nº 242 de 02/04/2018 do Instituto de Previdência do Estado do Acre, publicada no DOE nº 12.272 de 03/04/2018;\n",
    "5. O tempo de serviço líquido, apurado para fins da aposentadoria especial do magistério foi de 26 anos e 221 dias de contribuição, atendendo os requisitos para aposentadoria na modalidade voluntária integral especial por tempo de contribuição, nos termos do art. 6 º, incisos I, II, III e IV, da Emenda Constitucional nº 41, de 19 de dezembro de 2003, c/c art. 2º, da Emenda Constitucional n.º 47, de 05 de julho de 2005, e art. 95 da Lei Complementar Estadual n. 154/2005;\n",
    "\n",
    "6. A 4º IGCE deste Tribunal afirma, às fls. 62/63 que a servidora preenche todos os requisitos constitucionais para fazer jus à aposentadoria com enquadramento da fixação dos proventos em P2- 30 horas, Classe II, Referência J, do quadro de pessoal da Secretaria estadual de Educação, com benefício iniciado em 03/04/2018, no valor de R$ 5.725,39 (cinco mil setecentos e vinte e cinco reais e trinta e nove centavos)1, conforme ao enquadramento final da carreira, mencionado no Ato de Fixação dos Proventos à fl. 59, e\n",
    "\n",
    "7. O Ministério Público de Contas pronunciou-se à fl. 122, através do seu Ilustre Procurador, Dr. Sérgio Cunha Mendonça.\n",
    "\n",
    "É o Relatório.\n",
    "\n",
    "Voto:\n",
    "A EXMA. SENHORA CONSELHEIRA NALUH MARIA LIMA GOUVEIA (Relatora):\n",
    "\n",
    "1. Trata-se de apreciação da legalidade e registro da aposentadoria da servidora pública da Secretaria de Educação do Estado do Acre, Sra. Arinete Oliveira Souza Barros, matrícula nº 244503-1, no cargo de Professora de Nível Superior, 30 horas, Classe II, Referência J.\n",
    "2. Posto isso, e tudo o que mais consta dos autos, e considerando a regularidade da documentação apresentada, assim como sua conformidade com a legislação vigente pertinente, inclusive levando em conta as análises do corpo técnico e do Ministério Público de Contas, e com fundamento no art. 61, inciso III, da Constituição Estadual de 1989, VOTO:\n",
    "\n",
    "1) Reconhecer a legalidade e, consequentemente, registrar neste Tribunal de Contas a aposentadoria da Sra. Arinete Oliveira Souza Barros, matrícula n. 244503-1, no cargo de Professora, P2- 30 horas, Classe II, Referência J, do quadro de pessoal da Secretaria Estadual de Educação do Acre, concedida por meio da Portaria n. 242, de 2 de abril de 2018, na modalidade aposentadoria voluntaria Especial por tempo de contribuição, nos termos do art. 6º, incisos I, II, III e IV, da Emenda Constitucional nº 41, de 19 de dezembro de 2003, c/c art. 2º, da Emenda Constitucional n.º 47, de 05 de julho de 2005, e art. 95 da Lei Complementar Estadual n. 154/2005, com proventos estabelecidos no Ato de Fixação à fl. 59;\n",
    "\n",
    "2) Encaminhar cópia do Acórdão proferido ao Instituto de Previdência do Estado do Acre - ACREPREVIDÊNCIA, para que tome as providências necessárias, inclusive dando ciência à interessada do teor da decisão, e\n",
    "\n",
    "3) Após as formalidades de estilo, pelo arquivamento dos autos.\n",
    "\n",
    "É como VOTO.\n",
    "\n",
    "Acordão:\n",
    "Vistos, relatados e discutidos os autos do processo acima identificado, acordam os Membros da 1ª Câmara do Tribunal de Contas do Estado do Acre na 119ª Sessão Ordinária Virtual, por unanimidade, nos termos do voto da Conselheira-Relatora, em:\n",
    "1. Reconhecer a legalidade e, consequentemente, registrar neste Tribunal de Contas a aposentadoria da Sra. Arinete Oliveira Souza Barros, matrícula n. 244503-1, no cargo de Professora, P2- 30 horas, Classe II, Referência J, do quadro de pessoal da Secretaria Estadual de Educação do Acre, concedida por meio da Portaria n. 242, de 2 de abril de 2018, na modalidade aposentadoria voluntária Especial por tempo de contribuição, nos termos do art. 6º, incisos I, II, III e IV, da Emenda Constitucional nº 41, de 19 de dezembro de 2003, c/c art. 2º, da Emenda Constitucional n.º 47, de 05 de julho de 2005, e art. 95 da Lei Complementar Estadual n. 154/2005, com proventos estabelecidos no Ato de Fixação à fl. 59;\n",
    "2. Encaminhar cópia do Acórdão proferido ao Instituto de Previdência do Estado do Acre- ACREPREVIDÊNCIA, para que tome as providências necessárias, inclusive dando ciência à interessada do teor da decisão. Após as formalidades de estilo, pelo arquivamento dos autos.\n",
    "\"\"\""
   ]
  },
  {
   "cell_type": "markdown",
   "metadata": {},
   "source": [
    "### Promps Definition"
   ]
  },
  {
   "cell_type": "code",
   "execution_count": 14,
   "metadata": {},
   "outputs": [],
   "source": [
    "base_prompt = \"\"\"\n",
    "Você é um assistente jurídico especializado na redação de acórdãos do Tribunal de Contas do Estado do Acre. A partir das informações fornecidas, você deve elaborar um acórdão completo que siga uma estrutura clara, coesa e que inclua os seguintes elementos em um texto corrido:\n",
    "\n",
    "1. **Cabeçalho**: Inicie o acórdão com o nome do tribunal (Tribunal de Contas do Estado do Acre), o número do processo e a data de julgamento.\n",
    "2. **Relator e Membros do Órgão Julgador**: Identifique o relator do processo, bem como os demais membros do órgão colegiado (câmara, turma, seção, órgão especial, plenário etc.) que participaram do julgamento. Informe também o resultado da votação (unânime ou com voto vencido).\n",
    "3. **Resumo dos Fatos**: Resuma os fatos principais do processo, incluindo as alegações, os documentos relevantes e os argumentos apresentados pelas partes envolvidas.\n",
    "4. **Fundamentação**: Apresente os fundamentos jurídicos da decisão. Isso deve incluir a análise das questões de direito envolvidas, as normas aplicáveis e a interpretação dos membros do órgão colegiado.\n",
    "5. **Decisão**: Expresse de forma clara e objetiva a decisão do colegiado, indicando os resultados do julgamento e as providências a serem tomadas, caso aplicável (por exemplo, aprovação ou reprovação de contas, determinação de devolução de recursos, etc.).\n",
    "6. **Voto Vencido** (se houver): Caso a votação não seja unânime, transcreva o voto vencido de um dos membros, expondo sua argumentação divergente.\\n\\n\n",
    "\"\"\""
   ]
  },
  {
   "cell_type": "code",
   "execution_count": 15,
   "metadata": {},
   "outputs": [],
   "source": [
    "zero_shot_prompt = base_prompt + \"\"\"\n",
    "Com base no relatório e no voto abaixo, redija o texto do acordão:\n",
    "\n",
    "Relatório:\n",
    "{relatorio}\n",
    "\n",
    "Voto:\n",
    "{voto}\n",
    "\n",
    "Acordão:\n",
    "\"\"\""
   ]
  },
  {
   "cell_type": "code",
   "execution_count": 16,
   "metadata": {},
   "outputs": [],
   "source": [
    "one_shot_prompt = base_prompt + \"\"\"\n",
    "Exemplo:\n",
    "{example}\n",
    "\n",
    "A partir do exemplo acima, \n",
    "\"\"\" + zero_shot_prompt"
   ]
  },
  {
   "cell_type": "code",
   "execution_count": 17,
   "metadata": {},
   "outputs": [],
   "source": [
    "def generate_few_shot_prompt(examples):\n",
    "    prompt = base_prompt\n",
    "    for i in range(len(examples)):\n",
    "        prompt += f\"\"\"\n",
    "        Exemplo {i + 1}:\n",
    "        {examples[i]}\\n\\n\n",
    "        \"\"\"\n",
    "    return \"\"\"\n",
    "        A partir dos exemplos acima, \n",
    "        \"\"\" + zero_shot_prompt"
   ]
  },
  {
   "cell_type": "markdown",
   "metadata": {},
   "source": [
    "### Experiment"
   ]
  },
  {
   "cell_type": "code",
   "execution_count": 18,
   "metadata": {},
   "outputs": [],
   "source": [
    "keys = ['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', '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', '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', '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', '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', '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', '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', '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', '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']\n"
   ]
  },
  {
   "cell_type": "code",
   "execution_count": 19,
   "metadata": {},
   "outputs": [],
   "source": [
    "def generate(model, prompt, temperature):\n",
    "    random.shuffle(keys)\n",
    "    for key in keys:\n",
    "        try:\n",
    "            client = Groq(api_key=key)\n",
    "            response = client.chat.completions.create (\n",
    "                messages=[{\"role\": \"user\", \"content\": prompt}],\n",
    "                model=model,\n",
    "                temperature=temperature,\n",
    "            )\n",
    "            return response.choices[0].message.content\n",
    "        except:\n",
    "            print(\"key expirada\")"
   ]
  },
  {
   "cell_type": "code",
   "execution_count": 20,
   "metadata": {},
   "outputs": [],
   "source": [
    "examples = [example1, example2, example3, example4, example5]\n",
    "models = [\"llama-3.1-8b-instant\"]\n",
    "temperatures = [0.25, 0.5, 0.75, 1.0]\n",
    "n_exemples = [0, 1, 2, 3, 4, 5]"
   ]
  },
  {
   "cell_type": "code",
   "execution_count": null,
   "metadata": {},
   "outputs": [
    {
     "name": "stderr",
     "output_type": "stream",
     "text": [
      "  7%|▋         | 11/150 [00:24<05:01,  2.17s/it]"
     ]
    },
    {
     "name": "stdout",
     "output_type": "stream",
     "text": [
      "key expirada\n"
     ]
    },
    {
     "name": "stderr",
     "output_type": "stream",
     "text": [
      " 41%|████      | 61/150 [02:02<02:53,  1.95s/it]"
     ]
    },
    {
     "name": "stdout",
     "output_type": "stream",
     "text": [
      "key expirada\n"
     ]
    },
    {
     "name": "stderr",
     "output_type": "stream",
     "text": [
      " 53%|█████▎    | 80/150 [02:38<02:11,  1.88s/it]"
     ]
    },
    {
     "name": "stdout",
     "output_type": "stream",
     "text": [
      "key expirada\n"
     ]
    },
    {
     "name": "stderr",
     "output_type": "stream",
     "text": [
      " 60%|██████    | 90/150 [03:00<02:02,  2.05s/it]"
     ]
    },
    {
     "name": "stdout",
     "output_type": "stream",
     "text": [
      "key expirada\n"
     ]
    },
    {
     "name": "stderr",
     "output_type": "stream",
     "text": [
      " 63%|██████▎   | 95/150 [03:09<01:47,  1.96s/it]"
     ]
    },
    {
     "name": "stdout",
     "output_type": "stream",
     "text": [
      "key expirada\n"
     ]
    },
    {
     "name": "stderr",
     "output_type": "stream",
     "text": [
      " 82%|████████▏ | 123/150 [04:04<00:54,  2.00s/it]"
     ]
    },
    {
     "name": "stdout",
     "output_type": "stream",
     "text": [
      "key expirada\n"
     ]
    },
    {
     "name": "stderr",
     "output_type": "stream",
     "text": [
      " 86%|████████▌ | 129/150 [04:16<00:42,  2.00s/it]"
     ]
    },
    {
     "name": "stdout",
     "output_type": "stream",
     "text": [
      "key expirada\n"
     ]
    },
    {
     "name": "stderr",
     "output_type": "stream",
     "text": [
      "100%|██████████| 150/150 [04:59<00:00,  2.00s/it]\n",
      "  4%|▍         | 6/150 [00:13<05:08,  2.15s/it]"
     ]
    },
    {
     "name": "stdout",
     "output_type": "stream",
     "text": [
      "key expirada\n"
     ]
    },
    {
     "name": "stderr",
     "output_type": "stream",
     "text": [
      "  7%|▋         | 11/150 [00:25<05:14,  2.26s/it]"
     ]
    },
    {
     "name": "stdout",
     "output_type": "stream",
     "text": [
      "key expirada\n"
     ]
    },
    {
     "name": "stderr",
     "output_type": "stream",
     "text": [
      "  8%|▊         | 12/150 [00:28<05:28,  2.38s/it]"
     ]
    },
    {
     "name": "stdout",
     "output_type": "stream",
     "text": [
      "key expirada\n"
     ]
    },
    {
     "name": "stderr",
     "output_type": "stream",
     "text": [
      " 17%|█▋        | 25/150 [01:04<05:36,  2.69s/it]"
     ]
    },
    {
     "name": "stdout",
     "output_type": "stream",
     "text": [
      "key expirada\n"
     ]
    },
    {
     "name": "stderr",
     "output_type": "stream",
     "text": [
      " 18%|█▊        | 27/150 [01:09<05:23,  2.63s/it]"
     ]
    },
    {
     "name": "stdout",
     "output_type": "stream",
     "text": [
      "key expirada\n"
     ]
    },
    {
     "name": "stderr",
     "output_type": "stream",
     "text": [
      " 19%|█▊        | 28/150 [01:12<05:22,  2.64s/it]"
     ]
    },
    {
     "name": "stdout",
     "output_type": "stream",
     "text": [
      "key expirada\n"
     ]
    },
    {
     "name": "stderr",
     "output_type": "stream",
     "text": [
      " 29%|██▊       | 43/150 [02:00<04:59,  2.80s/it]"
     ]
    },
    {
     "name": "stdout",
     "output_type": "stream",
     "text": [
      "key expirada\n"
     ]
    },
    {
     "name": "stderr",
     "output_type": "stream",
     "text": [
      " 31%|███       | 46/150 [02:10<05:05,  2.93s/it]"
     ]
    },
    {
     "name": "stdout",
     "output_type": "stream",
     "text": [
      "key expirada\n"
     ]
    },
    {
     "name": "stderr",
     "output_type": "stream",
     "text": [
      " 31%|███▏      | 47/150 [02:14<05:12,  3.03s/it]"
     ]
    },
    {
     "name": "stdout",
     "output_type": "stream",
     "text": [
      "key expirada\n"
     ]
    },
    {
     "name": "stderr",
     "output_type": "stream",
     "text": [
      " 37%|███▋      | 56/150 [02:35<04:00,  2.56s/it]"
     ]
    },
    {
     "name": "stdout",
     "output_type": "stream",
     "text": [
      "key expirada\n"
     ]
    },
    {
     "name": "stderr",
     "output_type": "stream",
     "text": [
      " 46%|████▌     | 69/150 [03:05<03:11,  2.37s/it]"
     ]
    },
    {
     "name": "stdout",
     "output_type": "stream",
     "text": [
      "key expirada\n"
     ]
    },
    {
     "name": "stderr",
     "output_type": "stream",
     "text": [
      " 47%|████▋     | 71/150 [03:09<03:06,  2.36s/it]"
     ]
    },
    {
     "name": "stdout",
     "output_type": "stream",
     "text": [
      "key expirada\n"
     ]
    },
    {
     "name": "stderr",
     "output_type": "stream",
     "text": [
      " 63%|██████▎   | 95/150 [04:12<02:18,  2.52s/it]"
     ]
    },
    {
     "name": "stdout",
     "output_type": "stream",
     "text": [
      "key expirada\n"
     ]
    },
    {
     "name": "stderr",
     "output_type": "stream",
     "text": [
      " 66%|██████▌   | 99/150 [04:22<02:11,  2.59s/it]"
     ]
    },
    {
     "name": "stdout",
     "output_type": "stream",
     "text": [
      "key expirada\n"
     ]
    },
    {
     "name": "stderr",
     "output_type": "stream",
     "text": [
      " 73%|███████▎  | 110/150 [04:47<01:34,  2.36s/it]"
     ]
    },
    {
     "name": "stdout",
     "output_type": "stream",
     "text": [
      "key expirada\n"
     ]
    },
    {
     "name": "stderr",
     "output_type": "stream",
     "text": [
      " 79%|███████▉  | 119/150 [05:10<01:16,  2.48s/it]"
     ]
    },
    {
     "name": "stdout",
     "output_type": "stream",
     "text": [
      "key expirada\n"
     ]
    },
    {
     "name": "stderr",
     "output_type": "stream",
     "text": [
      " 91%|█████████ | 136/150 [05:53<00:35,  2.55s/it]"
     ]
    },
    {
     "name": "stdout",
     "output_type": "stream",
     "text": [
      "key expirada\n"
     ]
    },
    {
     "name": "stderr",
     "output_type": "stream",
     "text": [
      " 95%|█████████▍| 142/150 [06:08<00:19,  2.49s/it]"
     ]
    },
    {
     "name": "stdout",
     "output_type": "stream",
     "text": [
      "key expirada\n"
     ]
    },
    {
     "name": "stderr",
     "output_type": "stream",
     "text": [
      "100%|██████████| 150/150 [06:26<00:00,  2.57s/it]\n",
      "  0%|          | 0/150 [00:00<?, ?it/s]"
     ]
    },
    {
     "name": "stdout",
     "output_type": "stream",
     "text": [
      "key expirada\n"
     ]
    },
    {
     "name": "stderr",
     "output_type": "stream",
     "text": [
      " 11%|█         | 16/150 [00:46<06:12,  2.78s/it]"
     ]
    },
    {
     "name": "stdout",
     "output_type": "stream",
     "text": [
      "key expirada\n"
     ]
    },
    {
     "name": "stderr",
     "output_type": "stream",
     "text": [
      " 17%|█▋        | 25/150 [01:08<05:22,  2.58s/it]"
     ]
    },
    {
     "name": "stdout",
     "output_type": "stream",
     "text": [
      "key expirada\n"
     ]
    },
    {
     "name": "stderr",
     "output_type": "stream",
     "text": [
      " 20%|██        | 30/150 [01:19<04:44,  2.37s/it]"
     ]
    },
    {
     "name": "stdout",
     "output_type": "stream",
     "text": [
      "key expirada\n"
     ]
    },
    {
     "name": "stderr",
     "output_type": "stream",
     "text": [
      " 23%|██▎       | 35/150 [01:30<04:29,  2.34s/it]"
     ]
    },
    {
     "name": "stdout",
     "output_type": "stream",
     "text": [
      "key expirada\n"
     ]
    },
    {
     "name": "stderr",
     "output_type": "stream",
     "text": [
      " 25%|██▌       | 38/150 [01:38<04:28,  2.39s/it]"
     ]
    },
    {
     "name": "stdout",
     "output_type": "stream",
     "text": [
      "key expirada\n"
     ]
    },
    {
     "name": "stderr",
     "output_type": "stream",
     "text": [
      " 26%|██▌       | 39/150 [01:41<04:29,  2.42s/it]"
     ]
    },
    {
     "name": "stdout",
     "output_type": "stream",
     "text": [
      "key expirada\n"
     ]
    },
    {
     "name": "stderr",
     "output_type": "stream",
     "text": [
      " 47%|████▋     | 70/150 [02:56<02:54,  2.18s/it]"
     ]
    },
    {
     "name": "stdout",
     "output_type": "stream",
     "text": [
      "key expirada\n"
     ]
    },
    {
     "name": "stderr",
     "output_type": "stream",
     "text": [
      " 48%|████▊     | 72/150 [03:01<02:54,  2.24s/it]"
     ]
    },
    {
     "name": "stdout",
     "output_type": "stream",
     "text": [
      "key expirada\n"
     ]
    },
    {
     "name": "stderr",
     "output_type": "stream",
     "text": [
      " 50%|█████     | 75/150 [03:09<02:54,  2.33s/it]"
     ]
    },
    {
     "name": "stdout",
     "output_type": "stream",
     "text": [
      "key expirada\n"
     ]
    },
    {
     "name": "stderr",
     "output_type": "stream",
     "text": [
      " 53%|█████▎    | 80/150 [03:20<02:37,  2.25s/it]"
     ]
    },
    {
     "name": "stdout",
     "output_type": "stream",
     "text": [
      "key expirada\n"
     ]
    },
    {
     "name": "stderr",
     "output_type": "stream",
     "text": [
      " 66%|██████▌   | 99/150 [04:11<02:15,  2.65s/it]"
     ]
    },
    {
     "name": "stdout",
     "output_type": "stream",
     "text": [
      "key expirada\n"
     ]
    },
    {
     "name": "stderr",
     "output_type": "stream",
     "text": [
      " 69%|██████▊   | 103/150 [04:19<01:55,  2.47s/it]"
     ]
    },
    {
     "name": "stdout",
     "output_type": "stream",
     "text": [
      "key expirada\n"
     ]
    },
    {
     "name": "stderr",
     "output_type": "stream",
     "text": [
      " 75%|███████▌  | 113/150 [04:46<01:37,  2.63s/it]"
     ]
    },
    {
     "name": "stdout",
     "output_type": "stream",
     "text": [
      "key expirada\n"
     ]
    },
    {
     "name": "stderr",
     "output_type": "stream",
     "text": [
      " 79%|███████▊  | 118/150 [04:59<01:21,  2.54s/it]"
     ]
    },
    {
     "name": "stdout",
     "output_type": "stream",
     "text": [
      "key expirada\n"
     ]
    },
    {
     "name": "stderr",
     "output_type": "stream",
     "text": [
      " 83%|████████▎ | 124/150 [05:14<01:05,  2.52s/it]"
     ]
    },
    {
     "name": "stdout",
     "output_type": "stream",
     "text": [
      "key expirada\n"
     ]
    },
    {
     "name": "stderr",
     "output_type": "stream",
     "text": [
      " 87%|████████▋ | 130/150 [05:30<00:51,  2.60s/it]"
     ]
    },
    {
     "name": "stdout",
     "output_type": "stream",
     "text": [
      "key expirada\n"
     ]
    },
    {
     "name": "stderr",
     "output_type": "stream",
     "text": [
      " 93%|█████████▎| 139/150 [05:53<00:28,  2.57s/it]"
     ]
    },
    {
     "name": "stdout",
     "output_type": "stream",
     "text": [
      "key expirada\n"
     ]
    },
    {
     "name": "stderr",
     "output_type": "stream",
     "text": [
      " 95%|█████████▍| 142/150 [06:00<00:20,  2.55s/it]"
     ]
    },
    {
     "name": "stdout",
     "output_type": "stream",
     "text": [
      "key expirada\n"
     ]
    },
    {
     "name": "stderr",
     "output_type": "stream",
     "text": [
      " 98%|█████████▊| 147/150 [06:11<00:07,  2.38s/it]"
     ]
    },
    {
     "name": "stdout",
     "output_type": "stream",
     "text": [
      "key expirada\n"
     ]
    },
    {
     "name": "stderr",
     "output_type": "stream",
     "text": [
      " 99%|█████████▉| 149/150 [06:16<00:02,  2.40s/it]"
     ]
    },
    {
     "name": "stdout",
     "output_type": "stream",
     "text": [
      "key expirada\n",
      "key expirada\n"
     ]
    },
    {
     "name": "stderr",
     "output_type": "stream",
     "text": [
      "100%|██████████| 150/150 [06:19<00:00,  2.53s/it]\n",
      "  1%|▏         | 2/150 [00:04<06:00,  2.43s/it]"
     ]
    },
    {
     "name": "stdout",
     "output_type": "stream",
     "text": [
      "key expirada\n"
     ]
    },
    {
     "name": "stderr",
     "output_type": "stream",
     "text": [
      "  5%|▍         | 7/150 [00:17<05:59,  2.52s/it]"
     ]
    },
    {
     "name": "stdout",
     "output_type": "stream",
     "text": [
      "key expirada\n"
     ]
    },
    {
     "name": "stderr",
     "output_type": "stream",
     "text": [
      "  7%|▋         | 11/150 [00:38<08:44,  3.78s/it]"
     ]
    },
    {
     "name": "stdout",
     "output_type": "stream",
     "text": [
      "key expirada\n"
     ]
    },
    {
     "name": "stderr",
     "output_type": "stream",
     "text": [
      " 11%|█▏        | 17/150 [00:53<06:47,  3.07s/it]"
     ]
    },
    {
     "name": "stdout",
     "output_type": "stream",
     "text": [
      "key expirada\n"
     ]
    },
    {
     "name": "stderr",
     "output_type": "stream",
     "text": [
      " 13%|█▎        | 20/150 [01:03<06:44,  3.11s/it]"
     ]
    },
    {
     "name": "stdout",
     "output_type": "stream",
     "text": [
      "key expirada\n"
     ]
    },
    {
     "name": "stderr",
     "output_type": "stream",
     "text": [
      " 23%|██▎       | 35/150 [01:46<05:31,  2.89s/it]"
     ]
    },
    {
     "name": "stdout",
     "output_type": "stream",
     "text": [
      "key expirada\n"
     ]
    },
    {
     "name": "stderr",
     "output_type": "stream",
     "text": [
      " 25%|██▌       | 38/150 [01:53<05:08,  2.76s/it]"
     ]
    },
    {
     "name": "stdout",
     "output_type": "stream",
     "text": [
      "key expirada\n",
      "key expirada\n"
     ]
    },
    {
     "name": "stderr",
     "output_type": "stream",
     "text": [
      " 27%|██▋       | 40/150 [01:58<05:02,  2.75s/it]"
     ]
    },
    {
     "name": "stdout",
     "output_type": "stream",
     "text": [
      "key expirada\n",
      "key expirada\n"
     ]
    },
    {
     "name": "stderr",
     "output_type": "stream",
     "text": [
      " 29%|██▊       | 43/150 [02:07<04:57,  2.78s/it]"
     ]
    },
    {
     "name": "stdout",
     "output_type": "stream",
     "text": [
      "key expirada\n"
     ]
    },
    {
     "name": "stderr",
     "output_type": "stream",
     "text": [
      " 29%|██▉       | 44/150 [02:10<04:52,  2.76s/it]"
     ]
    },
    {
     "name": "stdout",
     "output_type": "stream",
     "text": [
      "key expirada\n",
      "key expirada\n"
     ]
    },
    {
     "name": "stderr",
     "output_type": "stream",
     "text": [
      " 31%|███       | 46/150 [02:15<04:41,  2.71s/it]"
     ]
    },
    {
     "name": "stdout",
     "output_type": "stream",
     "text": [
      "key expirada\n",
      "key expirada\n"
     ]
    },
    {
     "name": "stderr",
     "output_type": "stream",
     "text": [
      " 32%|███▏      | 48/150 [02:21<04:42,  2.77s/it]"
     ]
    },
    {
     "name": "stdout",
     "output_type": "stream",
     "text": [
      "key expirada\n"
     ]
    },
    {
     "name": "stderr",
     "output_type": "stream",
     "text": [
      " 37%|███▋      | 55/150 [02:38<04:04,  2.57s/it]"
     ]
    },
    {
     "name": "stdout",
     "output_type": "stream",
     "text": [
      "key expirada\n"
     ]
    },
    {
     "name": "stderr",
     "output_type": "stream",
     "text": [
      " 43%|████▎     | 65/150 [03:02<03:25,  2.42s/it]"
     ]
    },
    {
     "name": "stdout",
     "output_type": "stream",
     "text": [
      "key expirada\n"
     ]
    },
    {
     "name": "stderr",
     "output_type": "stream",
     "text": [
      " 45%|████▍     | 67/150 [03:06<03:14,  2.34s/it]"
     ]
    },
    {
     "name": "stdout",
     "output_type": "stream",
     "text": [
      "key expirada\n",
      "key expirada\n"
     ]
    },
    {
     "name": "stderr",
     "output_type": "stream",
     "text": [
      " 47%|████▋     | 70/150 [03:13<03:04,  2.30s/it]"
     ]
    },
    {
     "name": "stdout",
     "output_type": "stream",
     "text": [
      "key expirada\n"
     ]
    },
    {
     "name": "stderr",
     "output_type": "stream",
     "text": [
      " 47%|████▋     | 71/150 [03:22<03:59,  3.03s/it]"
     ]
    },
    {
     "name": "stdout",
     "output_type": "stream",
     "text": [
      "key expirada\n"
     ]
    },
    {
     "name": "stderr",
     "output_type": "stream",
     "text": [
      " 53%|█████▎    | 80/150 [04:25<07:06,  6.09s/it]"
     ]
    },
    {
     "name": "stdout",
     "output_type": "stream",
     "text": [
      "key expirada\n"
     ]
    },
    {
     "name": "stderr",
     "output_type": "stream",
     "text": [
      " 55%|█████▍    | 82/150 [04:31<06:11,  5.46s/it]"
     ]
    },
    {
     "name": "stdout",
     "output_type": "stream",
     "text": [
      "key expirada\n",
      "key expirada\n"
     ]
    },
    {
     "name": "stderr",
     "output_type": "stream",
     "text": [
      " 63%|██████▎   | 94/150 [04:59<03:01,  3.24s/it]"
     ]
    },
    {
     "name": "stdout",
     "output_type": "stream",
     "text": [
      "key expirada\n"
     ]
    },
    {
     "name": "stderr",
     "output_type": "stream",
     "text": [
      " 63%|██████▎   | 95/150 [05:20<04:36,  5.03s/it]"
     ]
    },
    {
     "name": "stdout",
     "output_type": "stream",
     "text": [
      "key expirada\n",
      "key expirada\n"
     ]
    },
    {
     "name": "stderr",
     "output_type": "stream",
     "text": [
      " 64%|██████▍   | 96/150 [05:23<04:20,  4.83s/it]"
     ]
    },
    {
     "name": "stdout",
     "output_type": "stream",
     "text": [
      "key expirada\n",
      "key expirada\n"
     ]
    },
    {
     "name": "stderr",
     "output_type": "stream",
     "text": [
      " 67%|██████▋   | 100/150 [05:34<03:25,  4.12s/it]"
     ]
    },
    {
     "name": "stdout",
     "output_type": "stream",
     "text": [
      "key expirada\n"
     ]
    },
    {
     "name": "stderr",
     "output_type": "stream",
     "text": [
      " 67%|██████▋   | 101/150 [05:37<03:17,  4.03s/it]"
     ]
    },
    {
     "name": "stdout",
     "output_type": "stream",
     "text": [
      "key expirada\n"
     ]
    },
    {
     "name": "stderr",
     "output_type": "stream",
     "text": [
      " 69%|██████▉   | 104/150 [05:43<02:40,  3.49s/it]"
     ]
    },
    {
     "name": "stdout",
     "output_type": "stream",
     "text": [
      "key expirada\n",
      "key expirada\n"
     ]
    },
    {
     "name": "stderr",
     "output_type": "stream",
     "text": [
      " 71%|███████   | 106/150 [05:48<02:22,  3.23s/it]"
     ]
    },
    {
     "name": "stdout",
     "output_type": "stream",
     "text": [
      "key expirada\n"
     ]
    },
    {
     "name": "stderr",
     "output_type": "stream",
     "text": [
      " 72%|███████▏  | 108/150 [05:55<02:17,  3.27s/it]"
     ]
    },
    {
     "name": "stdout",
     "output_type": "stream",
     "text": [
      "key expirada\n"
     ]
    },
    {
     "name": "stderr",
     "output_type": "stream",
     "text": [
      " 73%|███████▎  | 110/150 [05:58<02:00,  3.00s/it]"
     ]
    },
    {
     "name": "stdout",
     "output_type": "stream",
     "text": [
      "key expirada\n"
     ]
    },
    {
     "name": "stderr",
     "output_type": "stream",
     "text": [
      " 77%|███████▋  | 116/150 [06:15<01:35,  2.82s/it]"
     ]
    },
    {
     "name": "stdout",
     "output_type": "stream",
     "text": [
      "key expirada\n"
     ]
    },
    {
     "name": "stderr",
     "output_type": "stream",
     "text": [
      " 78%|███████▊  | 117/150 [06:24<01:54,  3.48s/it]"
     ]
    },
    {
     "name": "stdout",
     "output_type": "stream",
     "text": [
      "key expirada\n"
     ]
    },
    {
     "name": "stderr",
     "output_type": "stream",
     "text": [
      " 81%|████████  | 121/150 [06:43<01:53,  3.90s/it]"
     ]
    },
    {
     "name": "stdout",
     "output_type": "stream",
     "text": [
      "key expirada\n",
      "key expirada\n"
     ]
    },
    {
     "name": "stderr",
     "output_type": "stream",
     "text": [
      " 81%|████████▏ | 122/150 [06:47<01:47,  3.85s/it]"
     ]
    },
    {
     "name": "stdout",
     "output_type": "stream",
     "text": [
      "key expirada\n"
     ]
    },
    {
     "name": "stderr",
     "output_type": "stream",
     "text": [
      " 82%|████████▏ | 123/150 [06:49<01:41,  3.74s/it]"
     ]
    },
    {
     "name": "stdout",
     "output_type": "stream",
     "text": [
      "key expirada\n"
     ]
    },
    {
     "name": "stderr",
     "output_type": "stream",
     "text": [
      " 85%|████████▌ | 128/150 [07:12<01:33,  4.27s/it]"
     ]
    },
    {
     "name": "stdout",
     "output_type": "stream",
     "text": [
      "key expirada\n"
     ]
    },
    {
     "name": "stderr",
     "output_type": "stream",
     "text": [
      " 89%|████████▉ | 134/150 [07:52<01:30,  5.68s/it]"
     ]
    },
    {
     "name": "stdout",
     "output_type": "stream",
     "text": [
      "key expirada\n"
     ]
    },
    {
     "name": "stderr",
     "output_type": "stream",
     "text": [
      " 90%|█████████ | 135/150 [07:55<01:20,  5.35s/it]"
     ]
    },
    {
     "name": "stdout",
     "output_type": "stream",
     "text": [
      "key expirada\n",
      "key expirada\n",
      "key expirada\n"
     ]
    },
    {
     "name": "stderr",
     "output_type": "stream",
     "text": [
      " 91%|█████████▏| 137/150 [08:02<01:04,  4.96s/it]"
     ]
    },
    {
     "name": "stdout",
     "output_type": "stream",
     "text": [
      "key expirada\n"
     ]
    },
    {
     "name": "stderr",
     "output_type": "stream",
     "text": [
      " 93%|█████████▎| 139/150 [08:06<00:49,  4.46s/it]"
     ]
    },
    {
     "name": "stdout",
     "output_type": "stream",
     "text": [
      "key expirada\n"
     ]
    },
    {
     "name": "stderr",
     "output_type": "stream",
     "text": [
      " 95%|█████████▍| 142/150 [08:15<00:32,  4.03s/it]"
     ]
    },
    {
     "name": "stdout",
     "output_type": "stream",
     "text": [
      "key expirada\n",
      "key expirada\n",
      "key expirada\n",
      "key expirada\n"
     ]
    },
    {
     "name": "stderr",
     "output_type": "stream",
     "text": [
      " 96%|█████████▌| 144/150 [08:27<00:25,  4.33s/it]"
     ]
    },
    {
     "name": "stdout",
     "output_type": "stream",
     "text": [
      "key expirada\n"
     ]
    },
    {
     "name": "stderr",
     "output_type": "stream",
     "text": [
      " 97%|█████████▋| 145/150 [08:38<00:25,  5.05s/it]"
     ]
    },
    {
     "name": "stdout",
     "output_type": "stream",
     "text": [
      "key expirada\n",
      "key expirada\n",
      "key expirada\n",
      "key expirada\n"
     ]
    },
    {
     "name": "stderr",
     "output_type": "stream",
     "text": [
      " 97%|█████████▋| 146/150 [08:44<00:20,  5.11s/it]"
     ]
    },
    {
     "name": "stdout",
     "output_type": "stream",
     "text": [
      "key expirada\n",
      "key expirada\n"
     ]
    },
    {
     "name": "stderr",
     "output_type": "stream",
     "text": [
      " 98%|█████████▊| 147/150 [08:47<00:14,  4.92s/it]"
     ]
    },
    {
     "name": "stdout",
     "output_type": "stream",
     "text": [
      "key expirada\n"
     ]
    },
    {
     "name": "stderr",
     "output_type": "stream",
     "text": [
      " 99%|█████████▊| 148/150 [08:50<00:09,  4.69s/it]"
     ]
    },
    {
     "name": "stdout",
     "output_type": "stream",
     "text": [
      "key expirada\n",
      "key expirada\n",
      "key expirada\n"
     ]
    },
    {
     "name": "stderr",
     "output_type": "stream",
     "text": [
      " 99%|█████████▉| 149/150 [08:53<00:04,  4.54s/it]"
     ]
    },
    {
     "name": "stdout",
     "output_type": "stream",
     "text": [
      "key expirada\n"
     ]
    },
    {
     "name": "stderr",
     "output_type": "stream",
     "text": [
      "100%|██████████| 150/150 [08:56<00:00,  3.57s/it]\n",
      "  2%|▏         | 3/150 [00:17<14:54,  6.08s/it]"
     ]
    },
    {
     "name": "stdout",
     "output_type": "stream",
     "text": [
      "key expirada\n",
      "key expirada\n"
     ]
    },
    {
     "name": "stderr",
     "output_type": "stream",
     "text": [
      "  3%|▎         | 5/150 [00:22<10:37,  4.40s/it]"
     ]
    },
    {
     "name": "stdout",
     "output_type": "stream",
     "text": [
      "key expirada\n",
      "key expirada\n"
     ]
    },
    {
     "name": "stderr",
     "output_type": "stream",
     "text": [
      "  4%|▍         | 6/150 [00:25<10:03,  4.19s/it]"
     ]
    },
    {
     "name": "stdout",
     "output_type": "stream",
     "text": [
      "key expirada\n",
      "key expirada\n",
      "key expirada\n"
     ]
    },
    {
     "name": "stderr",
     "output_type": "stream",
     "text": [
      "  5%|▌         | 8/150 [00:40<12:36,  5.33s/it]"
     ]
    },
    {
     "name": "stdout",
     "output_type": "stream",
     "text": [
      "key expirada\n"
     ]
    },
    {
     "name": "stderr",
     "output_type": "stream",
     "text": [
      "  6%|▌         | 9/150 [00:43<11:38,  4.96s/it]"
     ]
    },
    {
     "name": "stdout",
     "output_type": "stream",
     "text": [
      "key expirada\n",
      "key expirada\n"
     ]
    },
    {
     "name": "stderr",
     "output_type": "stream",
     "text": [
      "  7%|▋         | 10/150 [00:54<13:47,  5.91s/it]"
     ]
    },
    {
     "name": "stdout",
     "output_type": "stream",
     "text": [
      "key expirada\n"
     ]
    },
    {
     "name": "stderr",
     "output_type": "stream",
     "text": [
      "  8%|▊         | 12/150 [01:08<14:06,  6.13s/it]"
     ]
    },
    {
     "name": "stdout",
     "output_type": "stream",
     "text": [
      "key expirada\n"
     ]
    },
    {
     "name": "stderr",
     "output_type": "stream",
     "text": [
      "  9%|▊         | 13/150 [01:19<15:26,  6.76s/it]"
     ]
    },
    {
     "name": "stdout",
     "output_type": "stream",
     "text": [
      "key expirada\n"
     ]
    },
    {
     "name": "stderr",
     "output_type": "stream",
     "text": [
      " 10%|█         | 15/150 [01:32<14:56,  6.64s/it]"
     ]
    },
    {
     "name": "stdout",
     "output_type": "stream",
     "text": [
      "key expirada\n"
     ]
    },
    {
     "name": "stderr",
     "output_type": "stream",
     "text": [
      " 11%|█▏        | 17/150 [01:38<12:49,  5.78s/it]"
     ]
    },
    {
     "name": "stdout",
     "output_type": "stream",
     "text": [
      "key expirada\n",
      "key expirada\n",
      "key expirada\n"
     ]
    },
    {
     "name": "stderr",
     "output_type": "stream",
     "text": [
      " 13%|█▎        | 19/150 [02:43<26:07, 11.97s/it]"
     ]
    },
    {
     "name": "stdout",
     "output_type": "stream",
     "text": [
      "key expirada\n"
     ]
    },
    {
     "name": "stderr",
     "output_type": "stream",
     "text": [
      " 13%|█▎        | 20/150 [02:45<23:38, 10.91s/it]"
     ]
    },
    {
     "name": "stdout",
     "output_type": "stream",
     "text": [
      "key expirada\n"
     ]
    },
    {
     "name": "stderr",
     "output_type": "stream",
     "text": [
      " 14%|█▍        | 21/150 [02:47<21:14,  9.88s/it]"
     ]
    },
    {
     "name": "stdout",
     "output_type": "stream",
     "text": [
      "key expirada\n"
     ]
    },
    {
     "name": "stderr",
     "output_type": "stream",
     "text": [
      " 15%|█▍        | 22/150 [02:51<19:42,  9.23s/it]"
     ]
    },
    {
     "name": "stdout",
     "output_type": "stream",
     "text": [
      "key expirada\n",
      "key expirada\n",
      "key expirada\n",
      "key expirada\n"
     ]
    },
    {
     "name": "stderr",
     "output_type": "stream",
     "text": [
      " 15%|█▌        | 23/150 [02:55<18:15,  8.63s/it]"
     ]
    },
    {
     "name": "stdout",
     "output_type": "stream",
     "text": [
      "key expirada\n"
     ]
    },
    {
     "name": "stderr",
     "output_type": "stream",
     "text": [
      " 16%|█▌        | 24/150 [02:58<16:49,  8.01s/it]"
     ]
    },
    {
     "name": "stdout",
     "output_type": "stream",
     "text": [
      "key expirada\n"
     ]
    },
    {
     "name": "stderr",
     "output_type": "stream",
     "text": [
      " 17%|█▋        | 25/150 [02:59<15:14,  7.32s/it]"
     ]
    },
    {
     "name": "stdout",
     "output_type": "stream",
     "text": [
      "key expirada\n",
      "key expirada\n",
      "key expirada\n"
     ]
    },
    {
     "name": "stderr",
     "output_type": "stream",
     "text": [
      " 17%|█▋        | 26/150 [03:02<14:09,  6.85s/it]"
     ]
    },
    {
     "name": "stdout",
     "output_type": "stream",
     "text": [
      "key expirada\n",
      "key expirada\n",
      "key expirada\n"
     ]
    },
    {
     "name": "stderr",
     "output_type": "stream",
     "text": [
      " 18%|█▊        | 27/150 [03:12<14:36,  7.13s/it]"
     ]
    },
    {
     "name": "stdout",
     "output_type": "stream",
     "text": [
      "key expirada\n",
      "key expirada\n"
     ]
    },
    {
     "name": "stderr",
     "output_type": "stream",
     "text": [
      " 19%|█▊        | 28/150 [03:27<16:17,  8.02s/it]"
     ]
    },
    {
     "name": "stdout",
     "output_type": "stream",
     "text": [
      "key expirada\n",
      "key expirada\n",
      "key expirada\n",
      "key expirada\n",
      "key expirada\n"
     ]
    },
    {
     "name": "stderr",
     "output_type": "stream",
     "text": [
      " 19%|█▉        | 29/150 [03:31<15:21,  7.61s/it]"
     ]
    },
    {
     "name": "stdout",
     "output_type": "stream",
     "text": [
      "key expirada\n"
     ]
    },
    {
     "name": "stderr",
     "output_type": "stream",
     "text": [
      " 20%|██        | 30/150 [04:32<26:15, 13.13s/it]"
     ]
    },
    {
     "name": "stdout",
     "output_type": "stream",
     "text": [
      "key expirada\n",
      "key expirada\n",
      "key expirada\n",
      "key expirada\n",
      "key expirada\n",
      "key expirada\n"
     ]
    },
    {
     "name": "stderr",
     "output_type": "stream",
     "text": [
      " 21%|██        | 31/150 [04:36<24:07, 12.17s/it]"
     ]
    },
    {
     "name": "stdout",
     "output_type": "stream",
     "text": [
      "key expirada\n"
     ]
    },
    {
     "name": "stderr",
     "output_type": "stream",
     "text": [
      " 21%|██▏       | 32/150 [04:38<21:54, 11.14s/it]"
     ]
    },
    {
     "name": "stdout",
     "output_type": "stream",
     "text": [
      "key expirada\n",
      "key expirada\n",
      "key expirada\n",
      "key expirada\n",
      "key expirada\n",
      "key expirada\n"
     ]
    },
    {
     "name": "stderr",
     "output_type": "stream",
     "text": [
      " 23%|██▎       | 34/150 [05:44<30:26, 15.74s/it]"
     ]
    },
    {
     "name": "stdout",
     "output_type": "stream",
     "text": [
      "key expirada\n",
      "key expirada\n",
      "key expirada\n"
     ]
    },
    {
     "name": "stderr",
     "output_type": "stream",
     "text": [
      " 24%|██▍       | 36/150 [06:17<30:18, 15.95s/it]"
     ]
    },
    {
     "name": "stdout",
     "output_type": "stream",
     "text": [
      "key expirada\n"
     ]
    },
    {
     "name": "stderr",
     "output_type": "stream",
     "text": [
      " 25%|██▍       | 37/150 [06:19<27:30, 14.61s/it]"
     ]
    },
    {
     "name": "stdout",
     "output_type": "stream",
     "text": [
      "key expirada\n"
     ]
    },
    {
     "name": "stderr",
     "output_type": "stream",
     "text": [
      " 25%|██▌       | 38/150 [06:23<25:04, 13.44s/it]"
     ]
    },
    {
     "name": "stdout",
     "output_type": "stream",
     "text": [
      "key expirada\n"
     ]
    },
    {
     "name": "stderr",
     "output_type": "stream",
     "text": [
      " 26%|██▌       | 39/150 [06:26<22:54, 12.38s/it]"
     ]
    },
    {
     "name": "stdout",
     "output_type": "stream",
     "text": [
      "key expirada\n",
      "key expirada\n",
      "key expirada\n",
      "key expirada\n"
     ]
    },
    {
     "name": "stderr",
     "output_type": "stream",
     "text": [
      " 27%|██▋       | 40/150 [06:29<21:06, 11.52s/it]"
     ]
    },
    {
     "name": "stdout",
     "output_type": "stream",
     "text": [
      "key expirada\n",
      "key expirada\n"
     ]
    },
    {
     "name": "stderr",
     "output_type": "stream",
     "text": [
      " 27%|██▋       | 41/150 [06:33<19:29, 10.72s/it]"
     ]
    },
    {
     "name": "stdout",
     "output_type": "stream",
     "text": [
      "key expirada\n"
     ]
    },
    {
     "name": "stderr",
     "output_type": "stream",
     "text": [
      " 28%|██▊       | 42/150 [06:37<18:01, 10.01s/it]"
     ]
    },
    {
     "name": "stdout",
     "output_type": "stream",
     "text": [
      "key expirada\n",
      "key expirada\n"
     ]
    },
    {
     "name": "stderr",
     "output_type": "stream",
     "text": [
      " 29%|██▊       | 43/150 [06:39<16:31,  9.26s/it]"
     ]
    },
    {
     "name": "stdout",
     "output_type": "stream",
     "text": [
      "key expirada\n",
      "key expirada\n",
      "key expirada\n",
      "key expirada\n",
      "key expirada\n"
     ]
    },
    {
     "name": "stderr",
     "output_type": "stream",
     "text": [
      " 29%|██▉       | 44/150 [06:44<15:29,  8.77s/it]"
     ]
    },
    {
     "name": "stdout",
     "output_type": "stream",
     "text": [
      "key expirada\n"
     ]
    },
    {
     "name": "stderr",
     "output_type": "stream",
     "text": [
      " 30%|███       | 45/150 [06:47<14:18,  8.18s/it]"
     ]
    },
    {
     "name": "stdout",
     "output_type": "stream",
     "text": [
      "key expirada\n"
     ]
    },
    {
     "name": "stderr",
     "output_type": "stream",
     "text": [
      " 31%|███       | 46/150 [06:54<14:05,  8.13s/it]"
     ]
    },
    {
     "name": "stdout",
     "output_type": "stream",
     "text": [
      "key expirada\n",
      "key expirada\n"
     ]
    },
    {
     "name": "stderr",
     "output_type": "stream",
     "text": [
      " 31%|███▏      | 47/150 [07:26<18:04, 10.53s/it]"
     ]
    },
    {
     "name": "stdout",
     "output_type": "stream",
     "text": [
      "key expirada\n",
      "key expirada\n",
      "key expirada\n"
     ]
    },
    {
     "name": "stderr",
     "output_type": "stream",
     "text": [
      " 32%|███▏      | 48/150 [07:32<16:59, 10.00s/it]"
     ]
    },
    {
     "name": "stdout",
     "output_type": "stream",
     "text": [
      "key expirada\n",
      "key expirada\n",
      "key expirada\n",
      "key expirada\n"
     ]
    },
    {
     "name": "stderr",
     "output_type": "stream",
     "text": [
      " 33%|███▎      | 49/150 [07:41<16:43,  9.93s/it]"
     ]
    },
    {
     "name": "stdout",
     "output_type": "stream",
     "text": [
      "key expirada\n"
     ]
    },
    {
     "name": "stderr",
     "output_type": "stream",
     "text": [
      " 33%|███▎      | 50/150 [08:29<23:00, 13.81s/it]"
     ]
    },
    {
     "name": "stdout",
     "output_type": "stream",
     "text": [
      "key expirada\n",
      "key expirada\n",
      "key expirada\n",
      "key expirada\n",
      "key expirada\n"
     ]
    },
    {
     "name": "stderr",
     "output_type": "stream",
     "text": [
      " 34%|███▍      | 51/150 [08:34<21:14, 12.87s/it]"
     ]
    },
    {
     "name": "stdout",
     "output_type": "stream",
     "text": [
      "key expirada\n",
      "key expirada\n"
     ]
    },
    {
     "name": "stderr",
     "output_type": "stream",
     "text": [
      " 35%|███▍      | 52/150 [09:27<27:38, 16.92s/it]"
     ]
    },
    {
     "name": "stdout",
     "output_type": "stream",
     "text": [
      "key expirada\n",
      "key expirada\n"
     ]
    },
    {
     "name": "stderr",
     "output_type": "stream",
     "text": [
      " 36%|███▌      | 54/150 [09:33<22:51, 14.28s/it]"
     ]
    },
    {
     "name": "stdout",
     "output_type": "stream",
     "text": [
      "key expirada\n"
     ]
    },
    {
     "name": "stderr",
     "output_type": "stream",
     "text": [
      " 37%|███▋      | 55/150 [09:36<20:41, 13.07s/it]"
     ]
    },
    {
     "name": "stdout",
     "output_type": "stream",
     "text": [
      "key expirada\n",
      "key expirada\n",
      "key expirada\n",
      "key expirada\n"
     ]
    },
    {
     "name": "stderr",
     "output_type": "stream",
     "text": [
      " 37%|███▋      | 56/150 [09:42<19:22, 12.36s/it]"
     ]
    },
    {
     "name": "stdout",
     "output_type": "stream",
     "text": [
      "key expirada\n"
     ]
    },
    {
     "name": "stderr",
     "output_type": "stream",
     "text": [
      " 38%|███▊      | 57/150 [09:44<17:37, 11.37s/it]"
     ]
    },
    {
     "name": "stdout",
     "output_type": "stream",
     "text": [
      "key expirada\n",
      "key expirada\n",
      "key expirada\n",
      "key expirada\n",
      "key expirada\n"
     ]
    },
    {
     "name": "stderr",
     "output_type": "stream",
     "text": [
      " 39%|███▊      | 58/150 [09:48<16:18, 10.64s/it]"
     ]
    },
    {
     "name": "stdout",
     "output_type": "stream",
     "text": [
      "key expirada\n",
      "key expirada\n",
      "key expirada\n",
      "key expirada\n",
      "key expirada\n"
     ]
    },
    {
     "name": "stderr",
     "output_type": "stream",
     "text": [
      " 40%|████      | 60/150 [09:54<13:48,  9.20s/it]"
     ]
    },
    {
     "name": "stdout",
     "output_type": "stream",
     "text": [
      "key expirada\n",
      "key expirada\n",
      "key expirada\n"
     ]
    },
    {
     "name": "stderr",
     "output_type": "stream",
     "text": [
      " 41%|████      | 61/150 [09:58<12:48,  8.64s/it]"
     ]
    },
    {
     "name": "stdout",
     "output_type": "stream",
     "text": [
      "key expirada\n",
      "key expirada\n",
      "key expirada\n"
     ]
    },
    {
     "name": "stderr",
     "output_type": "stream",
     "text": [
      " 42%|████▏     | 63/150 [10:03<10:48,  7.45s/it]"
     ]
    },
    {
     "name": "stdout",
     "output_type": "stream",
     "text": [
      "key expirada\n"
     ]
    },
    {
     "name": "stderr",
     "output_type": "stream",
     "text": [
      " 43%|████▎     | 64/150 [10:10<10:40,  7.45s/it]"
     ]
    },
    {
     "name": "stdout",
     "output_type": "stream",
     "text": [
      "key expirada\n",
      "key expirada\n",
      "key expirada\n"
     ]
    },
    {
     "name": "stderr",
     "output_type": "stream",
     "text": [
      " 43%|████▎     | 65/150 [10:21<10:56,  7.73s/it]"
     ]
    },
    {
     "name": "stdout",
     "output_type": "stream",
     "text": [
      "key expirada\n"
     ]
    },
    {
     "name": "stderr",
     "output_type": "stream",
     "text": [
      " 45%|████▍     | 67/150 [10:31<10:05,  7.30s/it]"
     ]
    },
    {
     "name": "stdout",
     "output_type": "stream",
     "text": [
      "key expirada\n",
      "key expirada\n"
     ]
    },
    {
     "name": "stderr",
     "output_type": "stream",
     "text": [
      " 45%|████▌     | 68/150 [10:34<09:23,  6.87s/it]"
     ]
    },
    {
     "name": "stdout",
     "output_type": "stream",
     "text": [
      "key expirada\n",
      "key expirada\n",
      "key expirada\n",
      "key expirada\n",
      "key expirada\n",
      "key expirada\n",
      "key expirada\n"
     ]
    },
    {
     "name": "stderr",
     "output_type": "stream",
     "text": [
      " 47%|████▋     | 70/150 [10:45<08:44,  6.55s/it]"
     ]
    },
    {
     "name": "stdout",
     "output_type": "stream",
     "text": [
      "key expirada\n",
      "key expirada\n",
      "key expirada\n",
      "key expirada\n",
      "key expirada\n"
     ]
    },
    {
     "name": "stderr",
     "output_type": "stream",
     "text": [
      " 48%|████▊     | 72/150 [10:57<08:29,  6.53s/it]"
     ]
    },
    {
     "name": "stdout",
     "output_type": "stream",
     "text": [
      "key expirada\n",
      "key expirada\n"
     ]
    },
    {
     "name": "stderr",
     "output_type": "stream",
     "text": [
      " 49%|████▉     | 74/150 [11:03<07:21,  5.81s/it]"
     ]
    },
    {
     "name": "stdout",
     "output_type": "stream",
     "text": [
      "key expirada\n",
      "key expirada\n",
      "key expirada\n",
      "key expirada\n",
      "key expirada\n"
     ]
    },
    {
     "name": "stderr",
     "output_type": "stream",
     "text": [
      " 50%|█████     | 75/150 [11:08<07:14,  5.79s/it]"
     ]
    },
    {
     "name": "stdout",
     "output_type": "stream",
     "text": [
      "key expirada\n",
      "key expirada\n",
      "key expirada\n",
      "key expirada\n",
      "key expirada\n"
     ]
    },
    {
     "name": "stderr",
     "output_type": "stream",
     "text": [
      " 51%|█████▏    | 77/150 [11:36<08:58,  7.38s/it]"
     ]
    },
    {
     "name": "stdout",
     "output_type": "stream",
     "text": [
      "key expirada\n",
      "key expirada\n",
      "key expirada\n",
      "key expirada\n",
      "key expirada\n",
      "key expirada\n",
      "key expirada\n"
     ]
    },
    {
     "name": "stderr",
     "output_type": "stream",
     "text": [
      " 52%|█████▏    | 78/150 [11:50<09:36,  8.01s/it]"
     ]
    },
    {
     "name": "stdout",
     "output_type": "stream",
     "text": [
      "key expirada\n",
      "key expirada\n",
      "key expirada\n",
      "key expirada\n",
      "key expirada\n",
      "key expirada\n",
      "key expirada\n",
      "key expirada\n"
     ]
    },
    {
     "name": "stderr",
     "output_type": "stream",
     "text": [
      " 53%|█████▎    | 79/150 [12:02<09:53,  8.36s/it]"
     ]
    },
    {
     "name": "stdout",
     "output_type": "stream",
     "text": [
      "key expirada\n",
      "key expirada\n",
      "key expirada\n",
      "key expirada\n",
      "key expirada\n",
      "key expirada\n",
      "key expirada\n",
      "key expirada\n"
     ]
    },
    {
     "name": "stderr",
     "output_type": "stream",
     "text": [
      " 53%|█████▎    | 80/150 [12:06<09:13,  7.91s/it]"
     ]
    },
    {
     "name": "stdout",
     "output_type": "stream",
     "text": [
      "key expirada\n",
      "key expirada\n",
      "key expirada\n",
      "key expirada\n",
      "key expirada\n",
      "key expirada\n",
      "key expirada\n",
      "key expirada\n",
      "key expirada\n"
     ]
    },
    {
     "name": "stderr",
     "output_type": "stream",
     "text": [
      " 54%|█████▍    | 81/150 [12:10<08:41,  7.56s/it]"
     ]
    },
    {
     "name": "stdout",
     "output_type": "stream",
     "text": [
      "key expirada\n",
      "key expirada\n",
      "key expirada\n",
      "key expirada\n",
      "key expirada\n",
      "key expirada\n",
      "key expirada\n",
      "key expirada\n",
      "key expirada\n"
     ]
    },
    {
     "name": "stderr",
     "output_type": "stream",
     "text": [
      " 55%|█████▍    | 82/150 [12:14<08:09,  7.19s/it]"
     ]
    },
    {
     "name": "stdout",
     "output_type": "stream",
     "text": [
      "key expirada\n",
      "key expirada\n",
      "key expirada\n",
      "key expirada\n",
      "key expirada\n",
      "key expirada\n",
      "key expirada\n",
      "key expirada\n",
      "key expirada\n"
     ]
    },
    {
     "name": "stderr",
     "output_type": "stream",
     "text": [
      " 55%|█████▌    | 83/150 [12:17<07:36,  6.81s/it]"
     ]
    },
    {
     "name": "stdout",
     "output_type": "stream",
     "text": [
      "key expirada\n",
      "key expirada\n",
      "key expirada\n",
      "key expirada\n",
      "key expirada\n",
      "key expirada\n",
      "key expirada\n",
      "key expirada\n",
      "key expirada\n"
     ]
    },
    {
     "name": "stderr",
     "output_type": "stream",
     "text": [
      " 56%|█████▌    | 84/150 [12:21<07:09,  6.51s/it]"
     ]
    },
    {
     "name": "stdout",
     "output_type": "stream",
     "text": [
      "key expirada\n",
      "key expirada\n",
      "key expirada\n",
      "key expirada\n",
      "key expirada\n",
      "key expirada\n",
      "key expirada\n",
      "key expirada\n",
      "key expirada\n"
     ]
    },
    {
     "name": "stderr",
     "output_type": "stream",
     "text": [
      " 57%|█████▋    | 85/150 [12:25<06:46,  6.25s/it]"
     ]
    },
    {
     "name": "stdout",
     "output_type": "stream",
     "text": [
      "key expirada\n",
      "key expirada\n",
      "key expirada\n",
      "key expirada\n",
      "key expirada\n",
      "key expirada\n",
      "key expirada\n",
      "key expirada\n",
      "key expirada\n"
     ]
    },
    {
     "name": "stderr",
     "output_type": "stream",
     "text": [
      " 57%|█████▋    | 86/150 [12:29<06:25,  6.02s/it]"
     ]
    },
    {
     "name": "stdout",
     "output_type": "stream",
     "text": [
      "key expirada\n",
      "key expirada\n",
      "key expirada\n",
      "key expirada\n",
      "key expirada\n",
      "key expirada\n",
      "key expirada\n",
      "key expirada\n",
      "key expirada\n"
     ]
    },
    {
     "name": "stderr",
     "output_type": "stream",
     "text": [
      " 58%|█████▊    | 87/150 [12:33<06:05,  5.80s/it]"
     ]
    },
    {
     "name": "stdout",
     "output_type": "stream",
     "text": [
      "key expirada\n",
      "key expirada\n",
      "key expirada\n",
      "key expirada\n",
      "key expirada\n",
      "key expirada\n",
      "key expirada\n",
      "key expirada\n",
      "key expirada\n"
     ]
    },
    {
     "name": "stderr",
     "output_type": "stream",
     "text": [
      " 59%|█████▊    | 88/150 [12:36<05:46,  5.59s/it]"
     ]
    },
    {
     "name": "stdout",
     "output_type": "stream",
     "text": [
      "key expirada\n",
      "key expirada\n",
      "key expirada\n",
      "key expirada\n",
      "key expirada\n",
      "key expirada\n",
      "key expirada\n",
      "key expirada\n",
      "key expirada\n"
     ]
    },
    {
     "name": "stderr",
     "output_type": "stream",
     "text": [
      " 59%|█████▉    | 89/150 [12:40<05:30,  5.42s/it]"
     ]
    },
    {
     "name": "stdout",
     "output_type": "stream",
     "text": [
      "key expirada\n",
      "key expirada\n",
      "key expirada\n",
      "key expirada\n",
      "key expirada\n",
      "key expirada\n",
      "key expirada\n",
      "key expirada\n",
      "key expirada\n"
     ]
    },
    {
     "name": "stderr",
     "output_type": "stream",
     "text": [
      " 60%|██████    | 90/150 [12:44<05:13,  5.22s/it]"
     ]
    },
    {
     "name": "stdout",
     "output_type": "stream",
     "text": [
      "key expirada\n",
      "key expirada\n",
      "key expirada\n",
      "key expirada\n",
      "key expirada\n",
      "key expirada\n",
      "key expirada\n",
      "key expirada\n",
      "key expirada\n"
     ]
    },
    {
     "name": "stderr",
     "output_type": "stream",
     "text": [
      " 61%|██████    | 91/150 [12:47<04:57,  5.05s/it]"
     ]
    },
    {
     "name": "stdout",
     "output_type": "stream",
     "text": [
      "key expirada\n",
      "key expirada\n",
      "key expirada\n",
      "key expirada\n",
      "key expirada\n",
      "key expirada\n",
      "key expirada\n",
      "key expirada\n",
      "key expirada\n"
     ]
    },
    {
     "name": "stderr",
     "output_type": "stream",
     "text": [
      " 61%|██████▏   | 92/150 [12:51<04:45,  4.93s/it]"
     ]
    },
    {
     "name": "stdout",
     "output_type": "stream",
     "text": [
      "key expirada\n",
      "key expirada\n",
      "key expirada\n",
      "key expirada\n",
      "key expirada\n",
      "key expirada\n",
      "key expirada\n",
      "key expirada\n",
      "key expirada\n"
     ]
    },
    {
     "name": "stderr",
     "output_type": "stream",
     "text": [
      " 62%|██████▏   | 93/150 [12:55<04:33,  4.81s/it]"
     ]
    },
    {
     "name": "stdout",
     "output_type": "stream",
     "text": [
      "key expirada\n",
      "key expirada\n",
      "key expirada\n",
      "key expirada\n",
      "key expirada\n",
      "key expirada\n",
      "key expirada\n",
      "key expirada\n",
      "key expirada\n"
     ]
    },
    {
     "name": "stderr",
     "output_type": "stream",
     "text": [
      " 63%|██████▎   | 94/150 [12:59<04:26,  4.75s/it]"
     ]
    },
    {
     "name": "stdout",
     "output_type": "stream",
     "text": [
      "key expirada\n",
      "key expirada\n",
      "key expirada\n",
      "key expirada\n",
      "key expirada\n",
      "key expirada\n",
      "key expirada\n",
      "key expirada\n",
      "key expirada\n"
     ]
    },
    {
     "name": "stderr",
     "output_type": "stream",
     "text": [
      " 63%|██████▎   | 95/150 [13:03<04:15,  4.65s/it]"
     ]
    },
    {
     "name": "stdout",
     "output_type": "stream",
     "text": [
      "key expirada\n",
      "key expirada\n",
      "key expirada\n",
      "key expirada\n",
      "key expirada\n",
      "key expirada\n",
      "key expirada\n",
      "key expirada\n",
      "key expirada\n"
     ]
    },
    {
     "name": "stderr",
     "output_type": "stream",
     "text": [
      " 64%|██████▍   | 96/150 [13:06<04:05,  4.54s/it]"
     ]
    },
    {
     "name": "stdout",
     "output_type": "stream",
     "text": [
      "key expirada\n",
      "key expirada\n",
      "key expirada\n",
      "key expirada\n",
      "key expirada\n",
      "key expirada\n",
      "key expirada\n",
      "key expirada\n",
      "key expirada\n"
     ]
    },
    {
     "name": "stderr",
     "output_type": "stream",
     "text": [
      " 65%|██████▍   | 97/150 [13:10<03:57,  4.47s/it]"
     ]
    },
    {
     "name": "stdout",
     "output_type": "stream",
     "text": [
      "key expirada\n",
      "key expirada\n",
      "key expirada\n",
      "key expirada\n",
      "key expirada\n",
      "key expirada\n",
      "key expirada\n",
      "key expirada\n",
      "key expirada\n"
     ]
    },
    {
     "name": "stderr",
     "output_type": "stream",
     "text": [
      " 65%|██████▌   | 98/150 [13:14<03:49,  4.42s/it]"
     ]
    },
    {
     "name": "stdout",
     "output_type": "stream",
     "text": [
      "key expirada\n",
      "key expirada\n",
      "key expirada\n",
      "key expirada\n",
      "key expirada\n",
      "key expirada\n",
      "key expirada\n",
      "key expirada\n",
      "key expirada\n"
     ]
    },
    {
     "name": "stderr",
     "output_type": "stream",
     "text": [
      " 66%|██████▌   | 99/150 [13:18<03:42,  4.37s/it]"
     ]
    },
    {
     "name": "stdout",
     "output_type": "stream",
     "text": [
      "key expirada\n",
      "key expirada\n",
      "key expirada\n",
      "key expirada\n",
      "key expirada\n",
      "key expirada\n",
      "key expirada\n",
      "key expirada\n",
      "key expirada\n"
     ]
    },
    {
     "name": "stderr",
     "output_type": "stream",
     "text": [
      " 67%|██████▋   | 100/150 [13:21<03:33,  4.26s/it]"
     ]
    },
    {
     "name": "stdout",
     "output_type": "stream",
     "text": [
      "key expirada\n",
      "key expirada\n",
      "key expirada\n",
      "key expirada\n",
      "key expirada\n",
      "key expirada\n",
      "key expirada\n",
      "key expirada\n",
      "key expirada\n"
     ]
    },
    {
     "name": "stderr",
     "output_type": "stream",
     "text": [
      " 67%|██████▋   | 101/150 [13:26<03:28,  4.25s/it]"
     ]
    },
    {
     "name": "stdout",
     "output_type": "stream",
     "text": [
      "key expirada\n",
      "key expirada\n",
      "key expirada\n",
      "key expirada\n",
      "key expirada\n",
      "key expirada\n",
      "key expirada\n",
      "key expirada\n",
      "key expirada\n"
     ]
    },
    {
     "name": "stderr",
     "output_type": "stream",
     "text": [
      " 68%|██████▊   | 102/150 [13:29<03:20,  4.18s/it]"
     ]
    },
    {
     "name": "stdout",
     "output_type": "stream",
     "text": [
      "key expirada\n",
      "key expirada\n",
      "key expirada\n",
      "key expirada\n",
      "key expirada\n",
      "key expirada\n",
      "key expirada\n",
      "key expirada\n",
      "key expirada\n"
     ]
    },
    {
     "name": "stderr",
     "output_type": "stream",
     "text": [
      " 69%|██████▊   | 103/150 [13:33<03:12,  4.11s/it]"
     ]
    },
    {
     "name": "stdout",
     "output_type": "stream",
     "text": [
      "key expirada\n",
      "key expirada\n",
      "key expirada\n",
      "key expirada\n",
      "key expirada\n",
      "key expirada\n",
      "key expirada\n",
      "key expirada\n",
      "key expirada\n"
     ]
    },
    {
     "name": "stderr",
     "output_type": "stream",
     "text": [
      " 69%|██████▉   | 104/150 [13:36<03:07,  4.07s/it]"
     ]
    },
    {
     "name": "stdout",
     "output_type": "stream",
     "text": [
      "key expirada\n",
      "key expirada\n",
      "key expirada\n",
      "key expirada\n",
      "key expirada\n",
      "key expirada\n",
      "key expirada\n",
      "key expirada\n",
      "key expirada\n"
     ]
    },
    {
     "name": "stderr",
     "output_type": "stream",
     "text": [
      " 70%|███████   | 105/150 [13:40<03:00,  4.02s/it]"
     ]
    },
    {
     "name": "stdout",
     "output_type": "stream",
     "text": [
      "key expirada\n",
      "key expirada\n",
      "key expirada\n",
      "key expirada\n",
      "key expirada\n",
      "key expirada\n",
      "key expirada\n",
      "key expirada\n",
      "key expirada\n"
     ]
    },
    {
     "name": "stderr",
     "output_type": "stream",
     "text": [
      " 71%|███████   | 106/150 [13:44<02:56,  4.00s/it]"
     ]
    },
    {
     "name": "stdout",
     "output_type": "stream",
     "text": [
      "key expirada\n",
      "key expirada\n",
      "key expirada\n",
      "key expirada\n",
      "key expirada\n",
      "key expirada\n",
      "key expirada\n",
      "key expirada\n",
      "key expirada\n"
     ]
    },
    {
     "name": "stderr",
     "output_type": "stream",
     "text": [
      " 71%|███████▏  | 107/150 [13:48<02:51,  3.99s/it]"
     ]
    },
    {
     "name": "stdout",
     "output_type": "stream",
     "text": [
      "key expirada\n",
      "key expirada\n",
      "key expirada\n",
      "key expirada\n",
      "key expirada\n",
      "key expirada\n",
      "key expirada\n",
      "key expirada\n",
      "key expirada\n"
     ]
    },
    {
     "name": "stderr",
     "output_type": "stream",
     "text": [
      " 72%|███████▏  | 108/150 [13:52<02:50,  4.05s/it]"
     ]
    },
    {
     "name": "stdout",
     "output_type": "stream",
     "text": [
      "key expirada\n",
      "key expirada\n",
      "key expirada\n",
      "key expirada\n",
      "key expirada\n",
      "key expirada\n",
      "key expirada\n",
      "key expirada\n",
      "key expirada\n"
     ]
    },
    {
     "name": "stderr",
     "output_type": "stream",
     "text": [
      " 73%|███████▎  | 109/150 [13:56<02:45,  4.03s/it]"
     ]
    },
    {
     "name": "stdout",
     "output_type": "stream",
     "text": [
      "key expirada\n",
      "key expirada\n",
      "key expirada\n",
      "key expirada\n",
      "key expirada\n",
      "key expirada\n",
      "key expirada\n",
      "key expirada\n",
      "key expirada\n"
     ]
    },
    {
     "name": "stderr",
     "output_type": "stream",
     "text": [
      " 73%|███████▎  | 110/150 [13:59<02:39,  3.98s/it]"
     ]
    },
    {
     "name": "stdout",
     "output_type": "stream",
     "text": [
      "key expirada\n",
      "key expirada\n",
      "key expirada\n",
      "key expirada\n",
      "key expirada\n",
      "key expirada\n",
      "key expirada\n",
      "key expirada\n",
      "key expirada\n"
     ]
    },
    {
     "name": "stderr",
     "output_type": "stream",
     "text": [
      " 74%|███████▍  | 111/150 [14:04<02:36,  4.02s/it]"
     ]
    },
    {
     "name": "stdout",
     "output_type": "stream",
     "text": [
      "key expirada\n",
      "key expirada\n",
      "key expirada\n",
      "key expirada\n",
      "key expirada\n",
      "key expirada\n",
      "key expirada\n",
      "key expirada\n",
      "key expirada\n"
     ]
    },
    {
     "name": "stderr",
     "output_type": "stream",
     "text": [
      " 75%|███████▍  | 112/150 [14:08<02:31,  3.99s/it]"
     ]
    },
    {
     "name": "stdout",
     "output_type": "stream",
     "text": [
      "key expirada\n",
      "key expirada\n",
      "key expirada\n",
      "key expirada\n",
      "key expirada\n",
      "key expirada\n",
      "key expirada\n",
      "key expirada\n",
      "key expirada\n"
     ]
    },
    {
     "name": "stderr",
     "output_type": "stream",
     "text": [
      " 75%|███████▌  | 113/150 [14:11<02:26,  3.97s/it]"
     ]
    },
    {
     "name": "stdout",
     "output_type": "stream",
     "text": [
      "key expirada\n",
      "key expirada\n",
      "key expirada\n",
      "key expirada\n",
      "key expirada\n",
      "key expirada\n",
      "key expirada\n",
      "key expirada\n",
      "key expirada\n"
     ]
    },
    {
     "name": "stderr",
     "output_type": "stream",
     "text": [
      " 76%|███████▌  | 114/150 [14:15<02:22,  3.96s/it]"
     ]
    },
    {
     "name": "stdout",
     "output_type": "stream",
     "text": [
      "key expirada\n",
      "key expirada\n",
      "key expirada\n",
      "key expirada\n",
      "key expirada\n",
      "key expirada\n",
      "key expirada\n",
      "key expirada\n",
      "key expirada\n"
     ]
    },
    {
     "name": "stderr",
     "output_type": "stream",
     "text": [
      " 77%|███████▋  | 115/150 [14:19<02:18,  3.95s/it]"
     ]
    },
    {
     "name": "stdout",
     "output_type": "stream",
     "text": [
      "key expirada\n",
      "key expirada\n",
      "key expirada\n",
      "key expirada\n",
      "key expirada\n",
      "key expirada\n",
      "key expirada\n",
      "key expirada\n",
      "key expirada\n"
     ]
    },
    {
     "name": "stderr",
     "output_type": "stream",
     "text": [
      " 77%|███████▋  | 116/150 [14:23<02:13,  3.93s/it]"
     ]
    },
    {
     "name": "stdout",
     "output_type": "stream",
     "text": [
      "key expirada\n",
      "key expirada\n",
      "key expirada\n",
      "key expirada\n",
      "key expirada\n",
      "key expirada\n",
      "key expirada\n",
      "key expirada\n",
      "key expirada\n"
     ]
    },
    {
     "name": "stderr",
     "output_type": "stream",
     "text": [
      " 78%|███████▊  | 117/150 [14:28<02:13,  4.04s/it]"
     ]
    },
    {
     "name": "stdout",
     "output_type": "stream",
     "text": [
      "key expirada\n",
      "key expirada\n",
      "key expirada\n",
      "key expirada\n",
      "key expirada\n",
      "key expirada\n",
      "key expirada\n",
      "key expirada\n",
      "key expirada\n"
     ]
    },
    {
     "name": "stderr",
     "output_type": "stream",
     "text": [
      " 79%|███████▊  | 118/150 [14:31<02:07,  3.99s/it]"
     ]
    },
    {
     "name": "stdout",
     "output_type": "stream",
     "text": [
      "key expirada\n",
      "key expirada\n",
      "key expirada\n",
      "key expirada\n",
      "key expirada\n",
      "key expirada\n",
      "key expirada\n",
      "key expirada\n",
      "key expirada\n"
     ]
    },
    {
     "name": "stderr",
     "output_type": "stream",
     "text": [
      " 79%|███████▉  | 119/150 [14:35<02:03,  3.97s/it]"
     ]
    },
    {
     "name": "stdout",
     "output_type": "stream",
     "text": [
      "key expirada\n",
      "key expirada\n",
      "key expirada\n",
      "key expirada\n",
      "key expirada\n",
      "key expirada\n",
      "key expirada\n",
      "key expirada\n",
      "key expirada\n"
     ]
    },
    {
     "name": "stderr",
     "output_type": "stream",
     "text": [
      " 80%|████████  | 120/150 [14:39<01:58,  3.94s/it]"
     ]
    },
    {
     "name": "stdout",
     "output_type": "stream",
     "text": [
      "key expirada\n",
      "key expirada\n",
      "key expirada\n",
      "key expirada\n",
      "key expirada\n",
      "key expirada\n",
      "key expirada\n",
      "key expirada\n",
      "key expirada\n"
     ]
    },
    {
     "name": "stderr",
     "output_type": "stream",
     "text": [
      " 81%|████████  | 121/150 [14:43<01:54,  3.94s/it]"
     ]
    },
    {
     "name": "stdout",
     "output_type": "stream",
     "text": [
      "key expirada\n",
      "key expirada\n",
      "key expirada\n",
      "key expirada\n",
      "key expirada\n",
      "key expirada\n",
      "key expirada\n",
      "key expirada\n",
      "key expirada\n"
     ]
    },
    {
     "name": "stderr",
     "output_type": "stream",
     "text": [
      " 81%|████████▏ | 122/150 [14:47<01:50,  3.95s/it]"
     ]
    },
    {
     "name": "stdout",
     "output_type": "stream",
     "text": [
      "key expirada\n",
      "key expirada\n",
      "key expirada\n",
      "key expirada\n",
      "key expirada\n",
      "key expirada\n",
      "key expirada\n",
      "key expirada\n",
      "key expirada\n"
     ]
    },
    {
     "name": "stderr",
     "output_type": "stream",
     "text": [
      " 82%|████████▏ | 123/150 [14:51<01:45,  3.92s/it]"
     ]
    },
    {
     "name": "stdout",
     "output_type": "stream",
     "text": [
      "key expirada\n",
      "key expirada\n",
      "key expirada\n",
      "key expirada\n",
      "key expirada\n",
      "key expirada\n",
      "key expirada\n",
      "key expirada\n",
      "key expirada\n"
     ]
    },
    {
     "name": "stderr",
     "output_type": "stream",
     "text": [
      " 83%|████████▎ | 124/150 [14:54<01:41,  3.90s/it]"
     ]
    },
    {
     "name": "stdout",
     "output_type": "stream",
     "text": [
      "key expirada\n",
      "key expirada\n",
      "key expirada\n",
      "key expirada\n",
      "key expirada\n",
      "key expirada\n",
      "key expirada\n",
      "key expirada\n",
      "key expirada\n"
     ]
    },
    {
     "name": "stderr",
     "output_type": "stream",
     "text": [
      " 83%|████████▎ | 125/150 [14:58<01:37,  3.90s/it]"
     ]
    },
    {
     "name": "stdout",
     "output_type": "stream",
     "text": [
      "key expirada\n",
      "key expirada\n",
      "key expirada\n",
      "key expirada\n",
      "key expirada\n",
      "key expirada\n",
      "key expirada\n",
      "key expirada\n",
      "key expirada\n"
     ]
    },
    {
     "name": "stderr",
     "output_type": "stream",
     "text": [
      " 84%|████████▍ | 126/150 [15:02<01:32,  3.86s/it]"
     ]
    },
    {
     "name": "stdout",
     "output_type": "stream",
     "text": [
      "key expirada\n",
      "key expirada\n",
      "key expirada\n",
      "key expirada\n",
      "key expirada\n",
      "key expirada\n",
      "key expirada\n",
      "key expirada\n",
      "key expirada\n"
     ]
    },
    {
     "name": "stderr",
     "output_type": "stream",
     "text": [
      " 85%|████████▍ | 127/150 [15:06<01:29,  3.87s/it]"
     ]
    },
    {
     "name": "stdout",
     "output_type": "stream",
     "text": [
      "key expirada\n",
      "key expirada\n",
      "key expirada\n",
      "key expirada\n",
      "key expirada\n",
      "key expirada\n",
      "key expirada\n",
      "key expirada\n",
      "key expirada\n"
     ]
    },
    {
     "name": "stderr",
     "output_type": "stream",
     "text": [
      " 85%|████████▌ | 128/150 [15:10<01:25,  3.88s/it]"
     ]
    },
    {
     "name": "stdout",
     "output_type": "stream",
     "text": [
      "key expirada\n",
      "key expirada\n",
      "key expirada\n",
      "key expirada\n",
      "key expirada\n",
      "key expirada\n",
      "key expirada\n",
      "key expirada\n",
      "key expirada\n"
     ]
    },
    {
     "name": "stderr",
     "output_type": "stream",
     "text": [
      " 86%|████████▌ | 129/150 [15:14<01:21,  3.89s/it]"
     ]
    },
    {
     "name": "stdout",
     "output_type": "stream",
     "text": [
      "key expirada\n",
      "key expirada\n",
      "key expirada\n",
      "key expirada\n",
      "key expirada\n",
      "key expirada\n",
      "key expirada\n",
      "key expirada\n",
      "key expirada\n"
     ]
    },
    {
     "name": "stderr",
     "output_type": "stream",
     "text": [
      " 87%|████████▋ | 130/150 [15:17<01:17,  3.89s/it]"
     ]
    },
    {
     "name": "stdout",
     "output_type": "stream",
     "text": [
      "key expirada\n",
      "key expirada\n",
      "key expirada\n",
      "key expirada\n",
      "key expirada\n",
      "key expirada\n",
      "key expirada\n",
      "key expirada\n",
      "key expirada\n"
     ]
    },
    {
     "name": "stderr",
     "output_type": "stream",
     "text": [
      " 87%|████████▋ | 131/150 [15:21<01:13,  3.87s/it]"
     ]
    },
    {
     "name": "stdout",
     "output_type": "stream",
     "text": [
      "key expirada\n",
      "key expirada\n",
      "key expirada\n",
      "key expirada\n",
      "key expirada\n",
      "key expirada\n",
      "key expirada\n",
      "key expirada\n",
      "key expirada\n"
     ]
    },
    {
     "name": "stderr",
     "output_type": "stream",
     "text": [
      " 88%|████████▊ | 132/150 [15:25<01:08,  3.82s/it]"
     ]
    },
    {
     "name": "stdout",
     "output_type": "stream",
     "text": [
      "key expirada\n",
      "key expirada\n",
      "key expirada\n",
      "key expirada\n",
      "key expirada\n",
      "key expirada\n",
      "key expirada\n",
      "key expirada\n",
      "key expirada\n"
     ]
    },
    {
     "name": "stderr",
     "output_type": "stream",
     "text": [
      " 89%|████████▊ | 133/150 [15:28<01:04,  3.80s/it]"
     ]
    },
    {
     "name": "stdout",
     "output_type": "stream",
     "text": [
      "key expirada\n",
      "key expirada\n",
      "key expirada\n",
      "key expirada\n",
      "key expirada\n",
      "key expirada\n",
      "key expirada\n",
      "key expirada\n",
      "key expirada\n"
     ]
    },
    {
     "name": "stderr",
     "output_type": "stream",
     "text": [
      " 89%|████████▉ | 134/150 [15:32<01:01,  3.84s/it]"
     ]
    },
    {
     "name": "stdout",
     "output_type": "stream",
     "text": [
      "key expirada\n",
      "key expirada\n",
      "key expirada\n",
      "key expirada\n",
      "key expirada\n",
      "key expirada\n",
      "key expirada\n",
      "key expirada\n",
      "key expirada\n"
     ]
    },
    {
     "name": "stderr",
     "output_type": "stream",
     "text": [
      " 90%|█████████ | 135/150 [15:36<00:57,  3.82s/it]"
     ]
    },
    {
     "name": "stdout",
     "output_type": "stream",
     "text": [
      "key expirada\n",
      "key expirada\n",
      "key expirada\n",
      "key expirada\n",
      "key expirada\n",
      "key expirada\n",
      "key expirada\n",
      "key expirada\n",
      "key expirada\n"
     ]
    },
    {
     "name": "stderr",
     "output_type": "stream",
     "text": [
      " 91%|█████████ | 136/150 [15:40<00:53,  3.85s/it]"
     ]
    },
    {
     "name": "stdout",
     "output_type": "stream",
     "text": [
      "key expirada\n",
      "key expirada\n",
      "key expirada\n",
      "key expirada\n",
      "key expirada\n",
      "key expirada\n",
      "key expirada\n",
      "key expirada\n",
      "key expirada\n"
     ]
    },
    {
     "name": "stderr",
     "output_type": "stream",
     "text": [
      " 91%|█████████▏| 137/150 [15:44<00:49,  3.83s/it]"
     ]
    },
    {
     "name": "stdout",
     "output_type": "stream",
     "text": [
      "key expirada\n",
      "key expirada\n",
      "key expirada\n",
      "key expirada\n",
      "key expirada\n",
      "key expirada\n",
      "key expirada\n",
      "key expirada\n",
      "key expirada\n"
     ]
    },
    {
     "name": "stderr",
     "output_type": "stream",
     "text": [
      " 92%|█████████▏| 138/150 [15:47<00:45,  3.82s/it]"
     ]
    },
    {
     "name": "stdout",
     "output_type": "stream",
     "text": [
      "key expirada\n",
      "key expirada\n",
      "key expirada\n",
      "key expirada\n",
      "key expirada\n",
      "key expirada\n",
      "key expirada\n",
      "key expirada\n",
      "key expirada\n"
     ]
    },
    {
     "name": "stderr",
     "output_type": "stream",
     "text": [
      " 93%|█████████▎| 139/150 [15:51<00:42,  3.83s/it]"
     ]
    },
    {
     "name": "stdout",
     "output_type": "stream",
     "text": [
      "key expirada\n",
      "key expirada\n",
      "key expirada\n",
      "key expirada\n",
      "key expirada\n",
      "key expirada\n",
      "key expirada\n",
      "key expirada\n",
      "key expirada\n"
     ]
    },
    {
     "name": "stderr",
     "output_type": "stream",
     "text": [
      " 93%|█████████▎| 140/150 [15:55<00:38,  3.84s/it]"
     ]
    },
    {
     "name": "stdout",
     "output_type": "stream",
     "text": [
      "key expirada\n",
      "key expirada\n",
      "key expirada\n",
      "key expirada\n",
      "key expirada\n",
      "key expirada\n",
      "key expirada\n",
      "key expirada\n",
      "key expirada\n"
     ]
    },
    {
     "name": "stderr",
     "output_type": "stream",
     "text": [
      " 94%|█████████▍| 141/150 [15:59<00:34,  3.80s/it]"
     ]
    },
    {
     "name": "stdout",
     "output_type": "stream",
     "text": [
      "key expirada\n",
      "key expirada\n",
      "key expirada\n",
      "key expirada\n",
      "key expirada\n",
      "key expirada\n",
      "key expirada\n",
      "key expirada\n",
      "key expirada\n"
     ]
    },
    {
     "name": "stderr",
     "output_type": "stream",
     "text": [
      " 95%|█████████▍| 142/150 [16:03<00:30,  3.79s/it]"
     ]
    },
    {
     "name": "stdout",
     "output_type": "stream",
     "text": [
      "key expirada\n",
      "key expirada\n",
      "key expirada\n",
      "key expirada\n",
      "key expirada\n",
      "key expirada\n",
      "key expirada\n",
      "key expirada\n",
      "key expirada\n"
     ]
    },
    {
     "name": "stderr",
     "output_type": "stream",
     "text": [
      " 95%|█████████▌| 143/150 [16:06<00:26,  3.77s/it]"
     ]
    },
    {
     "name": "stdout",
     "output_type": "stream",
     "text": [
      "key expirada\n",
      "key expirada\n",
      "key expirada\n",
      "key expirada\n",
      "key expirada\n",
      "key expirada\n",
      "key expirada\n",
      "key expirada\n",
      "key expirada\n"
     ]
    },
    {
     "name": "stderr",
     "output_type": "stream",
     "text": [
      " 96%|█████████▌| 144/150 [16:09<00:22,  3.73s/it]"
     ]
    },
    {
     "name": "stdout",
     "output_type": "stream",
     "text": [
      "key expirada\n",
      "key expirada\n",
      "key expirada\n",
      "key expirada\n",
      "key expirada\n",
      "key expirada\n",
      "key expirada\n",
      "key expirada\n",
      "key expirada\n"
     ]
    },
    {
     "name": "stderr",
     "output_type": "stream",
     "text": [
      " 97%|█████████▋| 145/150 [16:13<00:18,  3.74s/it]"
     ]
    },
    {
     "name": "stdout",
     "output_type": "stream",
     "text": [
      "key expirada\n",
      "key expirada\n",
      "key expirada\n",
      "key expirada\n",
      "key expirada\n",
      "key expirada\n",
      "key expirada\n",
      "key expirada\n",
      "key expirada\n"
     ]
    },
    {
     "name": "stderr",
     "output_type": "stream",
     "text": [
      " 97%|█████████▋| 146/150 [16:17<00:15,  3.76s/it]"
     ]
    },
    {
     "name": "stdout",
     "output_type": "stream",
     "text": [
      "key expirada\n",
      "key expirada\n",
      "key expirada\n",
      "key expirada\n",
      "key expirada\n",
      "key expirada\n",
      "key expirada\n",
      "key expirada\n",
      "key expirada\n"
     ]
    },
    {
     "name": "stderr",
     "output_type": "stream",
     "text": [
      " 98%|█████████▊| 147/150 [16:20<00:11,  3.71s/it]"
     ]
    },
    {
     "name": "stdout",
     "output_type": "stream",
     "text": [
      "key expirada\n",
      "key expirada\n",
      "key expirada\n",
      "key expirada\n",
      "key expirada\n",
      "key expirada\n",
      "key expirada\n",
      "key expirada\n",
      "key expirada\n"
     ]
    },
    {
     "name": "stderr",
     "output_type": "stream",
     "text": [
      " 99%|█████████▊| 148/150 [16:24<00:07,  3.71s/it]"
     ]
    },
    {
     "name": "stdout",
     "output_type": "stream",
     "text": [
      "key expirada\n",
      "key expirada\n",
      "key expirada\n",
      "key expirada\n",
      "key expirada\n",
      "key expirada\n",
      "key expirada\n",
      "key expirada\n",
      "key expirada\n"
     ]
    },
    {
     "name": "stderr",
     "output_type": "stream",
     "text": [
      " 99%|█████████▉| 149/150 [16:28<00:03,  3.69s/it]"
     ]
    },
    {
     "name": "stdout",
     "output_type": "stream",
     "text": [
      "key expirada\n",
      "key expirada\n",
      "key expirada\n",
      "key expirada\n",
      "key expirada\n",
      "key expirada\n",
      "key expirada\n",
      "key expirada\n",
      "key expirada\n"
     ]
    },
    {
     "name": "stderr",
     "output_type": "stream",
     "text": [
      "100%|██████████| 150/150 [16:31<00:00,  6.61s/it]\n"
     ]
    },
    {
     "name": "stdout",
     "output_type": "stream",
     "text": [
      "key expirada\n"
     ]
    },
    {
     "name": "stderr",
     "output_type": "stream",
     "text": [
      "  0%|          | 0/150 [00:00<?, ?it/s]"
     ]
    },
    {
     "name": "stdout",
     "output_type": "stream",
     "text": [
      "2\n",
      "key expirada\n",
      "key expirada\n",
      "key expirada\n",
      "key expirada\n",
      "key expirada\n",
      "key expirada\n",
      "key expirada\n",
      "key expirada\n"
     ]
    },
    {
     "name": "stderr",
     "output_type": "stream",
     "text": [
      "  1%|          | 1/150 [00:03<09:37,  3.88s/it]"
     ]
    },
    {
     "name": "stdout",
     "output_type": "stream",
     "text": [
      "key expirada\n",
      "2\n",
      "key expirada\n",
      "key expirada\n",
      "key expirada\n",
      "key expirada\n",
      "key expirada\n",
      "key expirada\n",
      "key expirada\n",
      "key expirada\n"
     ]
    },
    {
     "name": "stderr",
     "output_type": "stream",
     "text": [
      "  1%|▏         | 2/150 [00:07<08:50,  3.59s/it]"
     ]
    },
    {
     "name": "stdout",
     "output_type": "stream",
     "text": [
      "key expirada\n",
      "2\n",
      "key expirada\n",
      "key expirada\n",
      "key expirada\n",
      "key expirada\n",
      "key expirada\n",
      "key expirada\n",
      "key expirada\n",
      "key expirada\n"
     ]
    },
    {
     "name": "stderr",
     "output_type": "stream",
     "text": [
      "  2%|▏         | 3/150 [00:11<09:08,  3.73s/it]"
     ]
    },
    {
     "name": "stdout",
     "output_type": "stream",
     "text": [
      "key expirada\n",
      "2\n",
      "key expirada\n",
      "key expirada\n",
      "key expirada\n",
      "key expirada\n",
      "key expirada\n",
      "key expirada\n",
      "key expirada\n",
      "key expirada\n"
     ]
    },
    {
     "name": "stderr",
     "output_type": "stream",
     "text": [
      "  3%|▎         | 4/150 [00:14<08:47,  3.61s/it]"
     ]
    },
    {
     "name": "stdout",
     "output_type": "stream",
     "text": [
      "key expirada\n",
      "2\n",
      "key expirada\n",
      "key expirada\n",
      "key expirada\n",
      "key expirada\n",
      "key expirada\n",
      "key expirada\n",
      "key expirada\n",
      "key expirada\n"
     ]
    },
    {
     "name": "stderr",
     "output_type": "stream",
     "text": [
      "  3%|▎         | 5/150 [00:17<08:32,  3.54s/it]"
     ]
    },
    {
     "name": "stdout",
     "output_type": "stream",
     "text": [
      "key expirada\n",
      "2\n",
      "key expirada\n",
      "key expirada\n",
      "key expirada\n",
      "key expirada\n",
      "key expirada\n",
      "key expirada\n",
      "key expirada\n",
      "key expirada\n"
     ]
    },
    {
     "name": "stderr",
     "output_type": "stream",
     "text": [
      "  4%|▍         | 6/150 [00:21<08:23,  3.50s/it]"
     ]
    },
    {
     "name": "stdout",
     "output_type": "stream",
     "text": [
      "key expirada\n",
      "2\n",
      "key expirada\n",
      "key expirada\n",
      "key expirada\n",
      "key expirada\n",
      "key expirada\n",
      "key expirada\n",
      "key expirada\n",
      "key expirada\n"
     ]
    },
    {
     "name": "stderr",
     "output_type": "stream",
     "text": [
      "  5%|▍         | 7/150 [00:24<08:15,  3.47s/it]"
     ]
    },
    {
     "name": "stdout",
     "output_type": "stream",
     "text": [
      "key expirada\n",
      "2\n",
      "key expirada\n",
      "key expirada\n",
      "key expirada\n",
      "key expirada\n",
      "key expirada\n",
      "key expirada\n",
      "key expirada\n",
      "key expirada\n"
     ]
    },
    {
     "name": "stderr",
     "output_type": "stream",
     "text": [
      "  5%|▌         | 8/150 [00:28<08:23,  3.55s/it]"
     ]
    },
    {
     "name": "stdout",
     "output_type": "stream",
     "text": [
      "key expirada\n",
      "2\n",
      "key expirada\n",
      "key expirada\n",
      "key expirada\n",
      "key expirada\n",
      "key expirada\n",
      "key expirada\n",
      "key expirada\n",
      "key expirada\n"
     ]
    },
    {
     "name": "stderr",
     "output_type": "stream",
     "text": [
      "  6%|▌         | 9/150 [00:31<08:13,  3.50s/it]"
     ]
    },
    {
     "name": "stdout",
     "output_type": "stream",
     "text": [
      "key expirada\n",
      "2\n",
      "key expirada\n",
      "key expirada\n",
      "key expirada\n",
      "key expirada\n",
      "key expirada\n",
      "key expirada\n",
      "key expirada\n",
      "key expirada\n"
     ]
    },
    {
     "name": "stderr",
     "output_type": "stream",
     "text": [
      "  7%|▋         | 10/150 [00:34<08:04,  3.46s/it]"
     ]
    },
    {
     "name": "stdout",
     "output_type": "stream",
     "text": [
      "key expirada\n",
      "2\n",
      "key expirada\n",
      "key expirada\n",
      "key expirada\n",
      "key expirada\n",
      "key expirada\n",
      "key expirada\n",
      "key expirada\n",
      "key expirada\n"
     ]
    },
    {
     "name": "stderr",
     "output_type": "stream",
     "text": [
      "  7%|▋         | 11/150 [00:38<07:54,  3.41s/it]"
     ]
    },
    {
     "name": "stdout",
     "output_type": "stream",
     "text": [
      "key expirada\n",
      "2\n",
      "key expirada\n",
      "key expirada\n",
      "key expirada\n",
      "key expirada\n",
      "key expirada\n",
      "key expirada\n",
      "key expirada\n",
      "key expirada\n"
     ]
    },
    {
     "name": "stderr",
     "output_type": "stream",
     "text": [
      "  8%|▊         | 12/150 [00:41<07:55,  3.44s/it]"
     ]
    },
    {
     "name": "stdout",
     "output_type": "stream",
     "text": [
      "key expirada\n",
      "2\n",
      "key expirada\n",
      "key expirada\n",
      "key expirada\n",
      "key expirada\n",
      "key expirada\n",
      "key expirada\n",
      "key expirada\n",
      "key expirada\n"
     ]
    },
    {
     "name": "stderr",
     "output_type": "stream",
     "text": [
      "  9%|▊         | 13/150 [00:45<07:51,  3.44s/it]"
     ]
    },
    {
     "name": "stdout",
     "output_type": "stream",
     "text": [
      "key expirada\n",
      "2\n",
      "key expirada\n",
      "key expirada\n",
      "key expirada\n",
      "key expirada\n",
      "key expirada\n",
      "key expirada\n",
      "key expirada\n",
      "key expirada\n"
     ]
    },
    {
     "name": "stderr",
     "output_type": "stream",
     "text": [
      "  9%|▉         | 14/150 [00:48<07:42,  3.40s/it]"
     ]
    },
    {
     "name": "stdout",
     "output_type": "stream",
     "text": [
      "key expirada\n",
      "2\n",
      "key expirada\n",
      "key expirada\n",
      "key expirada\n",
      "key expirada\n",
      "key expirada\n",
      "key expirada\n",
      "key expirada\n",
      "key expirada\n"
     ]
    },
    {
     "name": "stderr",
     "output_type": "stream",
     "text": [
      " 10%|█         | 15/150 [00:51<07:37,  3.39s/it]"
     ]
    },
    {
     "name": "stdout",
     "output_type": "stream",
     "text": [
      "key expirada\n",
      "2\n",
      "key expirada\n",
      "key expirada\n",
      "key expirada\n",
      "key expirada\n",
      "key expirada\n",
      "key expirada\n",
      "key expirada\n",
      "key expirada\n"
     ]
    },
    {
     "name": "stderr",
     "output_type": "stream",
     "text": [
      " 11%|█         | 16/150 [00:54<07:33,  3.39s/it]"
     ]
    },
    {
     "name": "stdout",
     "output_type": "stream",
     "text": [
      "key expirada\n",
      "2\n",
      "key expirada\n",
      "key expirada\n",
      "key expirada\n",
      "key expirada\n",
      "key expirada\n",
      "key expirada\n",
      "key expirada\n",
      "key expirada\n"
     ]
    },
    {
     "name": "stderr",
     "output_type": "stream",
     "text": [
      " 11%|█▏        | 17/150 [00:58<07:28,  3.37s/it]"
     ]
    },
    {
     "name": "stdout",
     "output_type": "stream",
     "text": [
      "key expirada\n",
      "2\n",
      "key expirada\n",
      "key expirada\n",
      "key expirada\n",
      "key expirada\n",
      "key expirada\n",
      "key expirada\n",
      "key expirada\n",
      "key expirada\n"
     ]
    },
    {
     "name": "stderr",
     "output_type": "stream",
     "text": [
      " 12%|█▏        | 18/150 [01:01<07:24,  3.37s/it]"
     ]
    },
    {
     "name": "stdout",
     "output_type": "stream",
     "text": [
      "key expirada\n",
      "2\n",
      "key expirada\n",
      "key expirada\n",
      "key expirada\n",
      "key expirada\n",
      "key expirada\n",
      "key expirada\n",
      "key expirada\n",
      "key expirada\n"
     ]
    },
    {
     "name": "stderr",
     "output_type": "stream",
     "text": [
      " 13%|█▎        | 19/150 [01:04<07:20,  3.36s/it]"
     ]
    },
    {
     "name": "stdout",
     "output_type": "stream",
     "text": [
      "key expirada\n",
      "2\n",
      "key expirada\n",
      "key expirada\n",
      "key expirada\n",
      "key expirada\n",
      "key expirada\n",
      "key expirada\n",
      "key expirada\n",
      "key expirada\n"
     ]
    },
    {
     "name": "stderr",
     "output_type": "stream",
     "text": [
      " 13%|█▎        | 20/150 [01:08<07:20,  3.38s/it]"
     ]
    },
    {
     "name": "stdout",
     "output_type": "stream",
     "text": [
      "key expirada\n",
      "2\n",
      "key expirada\n",
      "key expirada\n",
      "key expirada\n",
      "key expirada\n",
      "key expirada\n",
      "key expirada\n",
      "key expirada\n",
      "key expirada\n"
     ]
    },
    {
     "name": "stderr",
     "output_type": "stream",
     "text": [
      " 14%|█▍        | 21/150 [01:11<07:14,  3.37s/it]"
     ]
    },
    {
     "name": "stdout",
     "output_type": "stream",
     "text": [
      "key expirada\n",
      "2\n",
      "key expirada\n",
      "key expirada\n",
      "key expirada\n",
      "key expirada\n",
      "key expirada\n",
      "key expirada\n",
      "key expirada\n",
      "key expirada\n"
     ]
    },
    {
     "name": "stderr",
     "output_type": "stream",
     "text": [
      " 15%|█▍        | 22/150 [01:14<07:10,  3.37s/it]"
     ]
    },
    {
     "name": "stdout",
     "output_type": "stream",
     "text": [
      "key expirada\n",
      "2\n",
      "key expirada\n",
      "key expirada\n",
      "key expirada\n",
      "key expirada\n",
      "key expirada\n",
      "key expirada\n",
      "key expirada\n",
      "key expirada\n"
     ]
    },
    {
     "name": "stderr",
     "output_type": "stream",
     "text": [
      " 15%|█▌        | 23/150 [01:18<07:07,  3.37s/it]"
     ]
    },
    {
     "name": "stdout",
     "output_type": "stream",
     "text": [
      "key expirada\n",
      "2\n",
      "key expirada\n",
      "key expirada\n",
      "key expirada\n",
      "key expirada\n",
      "key expirada\n",
      "key expirada\n",
      "key expirada\n",
      "key expirada\n"
     ]
    },
    {
     "name": "stderr",
     "output_type": "stream",
     "text": [
      " 16%|█▌        | 24/150 [01:21<07:03,  3.36s/it]"
     ]
    },
    {
     "name": "stdout",
     "output_type": "stream",
     "text": [
      "key expirada\n",
      "2\n",
      "key expirada\n",
      "key expirada\n",
      "key expirada\n",
      "key expirada\n",
      "key expirada\n",
      "key expirada\n",
      "key expirada\n",
      "key expirada\n"
     ]
    },
    {
     "name": "stderr",
     "output_type": "stream",
     "text": [
      " 17%|█▋        | 25/150 [01:25<07:02,  3.38s/it]"
     ]
    },
    {
     "name": "stdout",
     "output_type": "stream",
     "text": [
      "key expirada\n",
      "2\n",
      "key expirada\n",
      "key expirada\n",
      "key expirada\n",
      "key expirada\n",
      "key expirada\n",
      "key expirada\n",
      "key expirada\n",
      "key expirada\n"
     ]
    },
    {
     "name": "stderr",
     "output_type": "stream",
     "text": [
      " 17%|█▋        | 26/150 [01:28<06:58,  3.37s/it]"
     ]
    },
    {
     "name": "stdout",
     "output_type": "stream",
     "text": [
      "key expirada\n",
      "2\n",
      "key expirada\n",
      "key expirada\n",
      "key expirada\n",
      "key expirada\n",
      "key expirada\n",
      "key expirada\n",
      "key expirada\n",
      "key expirada\n"
     ]
    },
    {
     "name": "stderr",
     "output_type": "stream",
     "text": [
      " 18%|█▊        | 27/150 [01:32<07:01,  3.43s/it]"
     ]
    },
    {
     "name": "stdout",
     "output_type": "stream",
     "text": [
      "key expirada\n",
      "2\n",
      "key expirada\n",
      "key expirada\n",
      "key expirada\n",
      "key expirada\n",
      "key expirada\n",
      "key expirada\n",
      "key expirada\n",
      "key expirada\n"
     ]
    },
    {
     "name": "stderr",
     "output_type": "stream",
     "text": [
      " 19%|█▊        | 28/150 [01:35<06:56,  3.41s/it]"
     ]
    },
    {
     "name": "stdout",
     "output_type": "stream",
     "text": [
      "key expirada\n",
      "2\n",
      "key expirada\n",
      "key expirada\n",
      "key expirada\n",
      "key expirada\n",
      "key expirada\n",
      "key expirada\n",
      "key expirada\n",
      "key expirada\n"
     ]
    },
    {
     "name": "stderr",
     "output_type": "stream",
     "text": [
      " 19%|█▉        | 29/150 [01:39<06:52,  3.41s/it]"
     ]
    },
    {
     "name": "stdout",
     "output_type": "stream",
     "text": [
      "key expirada\n",
      "2\n",
      "key expirada\n",
      "key expirada\n",
      "key expirada\n",
      "key expirada\n",
      "key expirada\n",
      "key expirada\n",
      "key expirada\n",
      "key expirada\n"
     ]
    },
    {
     "name": "stderr",
     "output_type": "stream",
     "text": [
      " 20%|██        | 30/150 [01:42<06:48,  3.40s/it]"
     ]
    },
    {
     "name": "stdout",
     "output_type": "stream",
     "text": [
      "key expirada\n",
      "2\n",
      "key expirada\n",
      "key expirada\n",
      "key expirada\n",
      "key expirada\n",
      "key expirada\n",
      "key expirada\n",
      "key expirada\n",
      "key expirada\n"
     ]
    },
    {
     "name": "stderr",
     "output_type": "stream",
     "text": [
      " 21%|██        | 31/150 [01:45<06:43,  3.39s/it]"
     ]
    },
    {
     "name": "stdout",
     "output_type": "stream",
     "text": [
      "key expirada\n",
      "2\n",
      "key expirada\n",
      "key expirada\n",
      "key expirada\n",
      "key expirada\n",
      "key expirada\n",
      "key expirada\n",
      "key expirada\n",
      "key expirada\n"
     ]
    },
    {
     "name": "stderr",
     "output_type": "stream",
     "text": [
      " 21%|██▏       | 32/150 [01:49<06:39,  3.39s/it]"
     ]
    },
    {
     "name": "stdout",
     "output_type": "stream",
     "text": [
      "key expirada\n",
      "2\n",
      "key expirada\n",
      "key expirada\n",
      "key expirada\n",
      "key expirada\n",
      "key expirada\n",
      "key expirada\n",
      "key expirada\n",
      "key expirada\n"
     ]
    },
    {
     "name": "stderr",
     "output_type": "stream",
     "text": [
      " 22%|██▏       | 33/150 [01:52<06:35,  3.38s/it]"
     ]
    },
    {
     "name": "stdout",
     "output_type": "stream",
     "text": [
      "key expirada\n",
      "2\n",
      "key expirada\n",
      "key expirada\n",
      "key expirada\n",
      "key expirada\n",
      "key expirada\n",
      "key expirada\n",
      "key expirada\n",
      "key expirada\n"
     ]
    },
    {
     "name": "stderr",
     "output_type": "stream",
     "text": [
      " 23%|██▎       | 34/150 [01:55<06:30,  3.37s/it]"
     ]
    },
    {
     "name": "stdout",
     "output_type": "stream",
     "text": [
      "key expirada\n",
      "2\n",
      "key expirada\n",
      "key expirada\n",
      "key expirada\n",
      "key expirada\n",
      "key expirada\n",
      "key expirada\n",
      "key expirada\n",
      "key expirada\n"
     ]
    },
    {
     "name": "stderr",
     "output_type": "stream",
     "text": [
      " 23%|██▎       | 35/150 [01:59<06:32,  3.41s/it]"
     ]
    },
    {
     "name": "stdout",
     "output_type": "stream",
     "text": [
      "key expirada\n",
      "2\n",
      "key expirada\n",
      "key expirada\n",
      "key expirada\n",
      "key expirada\n",
      "key expirada\n",
      "key expirada\n",
      "key expirada\n",
      "key expirada\n"
     ]
    },
    {
     "name": "stderr",
     "output_type": "stream",
     "text": [
      " 24%|██▍       | 36/150 [02:02<06:25,  3.38s/it]"
     ]
    },
    {
     "name": "stdout",
     "output_type": "stream",
     "text": [
      "key expirada\n",
      "2\n",
      "key expirada\n",
      "key expirada\n",
      "key expirada\n",
      "key expirada\n",
      "key expirada\n",
      "key expirada\n",
      "key expirada\n",
      "key expirada\n"
     ]
    },
    {
     "name": "stderr",
     "output_type": "stream",
     "text": [
      " 25%|██▍       | 37/150 [02:05<06:22,  3.38s/it]"
     ]
    },
    {
     "name": "stdout",
     "output_type": "stream",
     "text": [
      "key expirada\n",
      "2\n",
      "key expirada\n",
      "key expirada\n",
      "key expirada\n",
      "key expirada\n",
      "key expirada\n",
      "key expirada\n",
      "key expirada\n",
      "key expirada\n"
     ]
    },
    {
     "name": "stderr",
     "output_type": "stream",
     "text": [
      " 25%|██▌       | 38/150 [02:09<06:16,  3.36s/it]"
     ]
    },
    {
     "name": "stdout",
     "output_type": "stream",
     "text": [
      "key expirada\n",
      "2\n",
      "key expirada\n",
      "key expirada\n",
      "key expirada\n",
      "key expirada\n",
      "key expirada\n",
      "key expirada\n",
      "key expirada\n",
      "key expirada\n"
     ]
    },
    {
     "name": "stderr",
     "output_type": "stream",
     "text": [
      " 26%|██▌       | 39/150 [02:12<06:11,  3.34s/it]"
     ]
    },
    {
     "name": "stdout",
     "output_type": "stream",
     "text": [
      "key expirada\n",
      "2\n",
      "key expirada\n",
      "key expirada\n",
      "key expirada\n",
      "key expirada\n",
      "key expirada\n",
      "key expirada\n",
      "key expirada\n",
      "key expirada\n"
     ]
    },
    {
     "name": "stderr",
     "output_type": "stream",
     "text": [
      " 27%|██▋       | 40/150 [02:15<06:06,  3.33s/it]"
     ]
    },
    {
     "name": "stdout",
     "output_type": "stream",
     "text": [
      "key expirada\n",
      "2\n",
      "key expirada\n",
      "key expirada\n",
      "key expirada\n",
      "key expirada\n",
      "key expirada\n",
      "key expirada\n",
      "key expirada\n",
      "key expirada\n"
     ]
    },
    {
     "name": "stderr",
     "output_type": "stream",
     "text": [
      " 27%|██▋       | 41/150 [02:19<06:06,  3.37s/it]"
     ]
    },
    {
     "name": "stdout",
     "output_type": "stream",
     "text": [
      "key expirada\n",
      "2\n",
      "key expirada\n",
      "key expirada\n",
      "key expirada\n",
      "key expirada\n",
      "key expirada\n",
      "key expirada\n",
      "key expirada\n",
      "key expirada\n"
     ]
    },
    {
     "name": "stderr",
     "output_type": "stream",
     "text": [
      " 28%|██▊       | 42/150 [02:22<06:04,  3.37s/it]"
     ]
    },
    {
     "name": "stdout",
     "output_type": "stream",
     "text": [
      "key expirada\n",
      "2\n",
      "key expirada\n",
      "key expirada\n",
      "key expirada\n",
      "key expirada\n",
      "key expirada\n",
      "key expirada\n",
      "key expirada\n",
      "key expirada\n"
     ]
    },
    {
     "name": "stderr",
     "output_type": "stream",
     "text": [
      " 29%|██▊       | 43/150 [02:26<06:05,  3.42s/it]"
     ]
    },
    {
     "name": "stdout",
     "output_type": "stream",
     "text": [
      "key expirada\n",
      "2\n",
      "key expirada\n",
      "key expirada\n",
      "key expirada\n",
      "key expirada\n",
      "key expirada\n",
      "key expirada\n",
      "key expirada\n",
      "key expirada\n"
     ]
    },
    {
     "name": "stderr",
     "output_type": "stream",
     "text": [
      " 29%|██▉       | 44/150 [02:29<06:01,  3.41s/it]"
     ]
    },
    {
     "name": "stdout",
     "output_type": "stream",
     "text": [
      "key expirada\n",
      "2\n",
      "key expirada\n",
      "key expirada\n",
      "key expirada\n",
      "key expirada\n",
      "key expirada\n",
      "key expirada\n",
      "key expirada\n",
      "key expirada\n"
     ]
    },
    {
     "name": "stderr",
     "output_type": "stream",
     "text": [
      " 30%|███       | 45/150 [02:33<05:58,  3.42s/it]"
     ]
    },
    {
     "name": "stdout",
     "output_type": "stream",
     "text": [
      "key expirada\n",
      "2\n",
      "key expirada\n",
      "key expirada\n",
      "key expirada\n",
      "key expirada\n",
      "key expirada\n",
      "key expirada\n",
      "key expirada\n",
      "key expirada\n"
     ]
    },
    {
     "name": "stderr",
     "output_type": "stream",
     "text": [
      " 31%|███       | 46/150 [02:36<05:58,  3.44s/it]"
     ]
    },
    {
     "name": "stdout",
     "output_type": "stream",
     "text": [
      "key expirada\n",
      "2\n",
      "key expirada\n",
      "key expirada\n",
      "key expirada\n",
      "key expirada\n",
      "key expirada\n",
      "key expirada\n",
      "key expirada\n",
      "key expirada\n"
     ]
    },
    {
     "name": "stderr",
     "output_type": "stream",
     "text": [
      " 31%|███▏      | 47/150 [02:41<06:06,  3.56s/it]"
     ]
    },
    {
     "name": "stdout",
     "output_type": "stream",
     "text": [
      "key expirada\n",
      "2\n",
      "key expirada\n",
      "key expirada\n",
      "key expirada\n",
      "key expirada\n",
      "key expirada\n",
      "key expirada\n",
      "key expirada\n",
      "key expirada\n"
     ]
    },
    {
     "name": "stderr",
     "output_type": "stream",
     "text": [
      " 32%|███▏      | 48/150 [02:44<06:01,  3.54s/it]"
     ]
    },
    {
     "name": "stdout",
     "output_type": "stream",
     "text": [
      "key expirada\n",
      "2\n",
      "key expirada\n",
      "key expirada\n",
      "key expirada\n",
      "key expirada\n",
      "key expirada\n",
      "key expirada\n",
      "key expirada\n",
      "key expirada\n"
     ]
    },
    {
     "name": "stderr",
     "output_type": "stream",
     "text": [
      " 33%|███▎      | 49/150 [02:48<05:57,  3.54s/it]"
     ]
    },
    {
     "name": "stdout",
     "output_type": "stream",
     "text": [
      "key expirada\n",
      "2\n",
      "key expirada\n",
      "key expirada\n",
      "key expirada\n",
      "key expirada\n",
      "key expirada\n",
      "key expirada\n",
      "key expirada\n",
      "key expirada\n"
     ]
    },
    {
     "name": "stderr",
     "output_type": "stream",
     "text": [
      " 33%|███▎      | 50/150 [02:51<05:50,  3.51s/it]"
     ]
    },
    {
     "name": "stdout",
     "output_type": "stream",
     "text": [
      "key expirada\n",
      "2\n",
      "key expirada\n",
      "key expirada\n",
      "key expirada\n",
      "key expirada\n",
      "key expirada\n",
      "key expirada\n",
      "key expirada\n",
      "key expirada\n"
     ]
    },
    {
     "name": "stderr",
     "output_type": "stream",
     "text": [
      " 34%|███▍      | 51/150 [02:55<05:53,  3.57s/it]"
     ]
    },
    {
     "name": "stdout",
     "output_type": "stream",
     "text": [
      "key expirada\n",
      "2\n",
      "key expirada\n",
      "key expirada\n",
      "key expirada\n",
      "key expirada\n",
      "key expirada\n",
      "key expirada\n",
      "key expirada\n",
      "key expirada\n"
     ]
    },
    {
     "name": "stderr",
     "output_type": "stream",
     "text": [
      " 35%|███▍      | 52/150 [02:58<05:44,  3.52s/it]"
     ]
    },
    {
     "name": "stdout",
     "output_type": "stream",
     "text": [
      "key expirada\n",
      "2\n",
      "key expirada\n",
      "key expirada\n",
      "key expirada\n",
      "key expirada\n",
      "key expirada\n",
      "key expirada\n",
      "key expirada\n",
      "key expirada\n"
     ]
    },
    {
     "name": "stderr",
     "output_type": "stream",
     "text": [
      " 35%|███▌      | 53/150 [03:02<05:39,  3.50s/it]"
     ]
    },
    {
     "name": "stdout",
     "output_type": "stream",
     "text": [
      "key expirada\n",
      "2\n",
      "key expirada\n",
      "key expirada\n",
      "key expirada\n",
      "key expirada\n",
      "key expirada\n",
      "key expirada\n",
      "key expirada\n",
      "key expirada\n"
     ]
    },
    {
     "name": "stderr",
     "output_type": "stream",
     "text": [
      " 36%|███▌      | 54/150 [03:05<05:34,  3.48s/it]"
     ]
    },
    {
     "name": "stdout",
     "output_type": "stream",
     "text": [
      "key expirada\n",
      "2\n",
      "key expirada\n",
      "key expirada\n",
      "key expirada\n",
      "key expirada\n",
      "key expirada\n",
      "key expirada\n",
      "key expirada\n",
      "key expirada\n"
     ]
    },
    {
     "name": "stderr",
     "output_type": "stream",
     "text": [
      " 37%|███▋      | 55/150 [03:09<05:36,  3.54s/it]"
     ]
    },
    {
     "name": "stdout",
     "output_type": "stream",
     "text": [
      "key expirada\n",
      "2\n",
      "key expirada\n",
      "key expirada\n",
      "key expirada\n",
      "key expirada\n",
      "key expirada\n",
      "key expirada\n",
      "key expirada\n",
      "key expirada\n"
     ]
    },
    {
     "name": "stderr",
     "output_type": "stream",
     "text": [
      " 37%|███▋      | 56/150 [03:13<05:36,  3.58s/it]"
     ]
    },
    {
     "name": "stdout",
     "output_type": "stream",
     "text": [
      "key expirada\n",
      "2\n",
      "key expirada\n",
      "key expirada\n",
      "key expirada\n",
      "key expirada\n",
      "key expirada\n",
      "key expirada\n",
      "key expirada\n",
      "key expirada\n"
     ]
    },
    {
     "name": "stderr",
     "output_type": "stream",
     "text": [
      " 38%|███▊      | 57/150 [03:16<05:29,  3.54s/it]"
     ]
    },
    {
     "name": "stdout",
     "output_type": "stream",
     "text": [
      "key expirada\n",
      "2\n",
      "key expirada\n",
      "key expirada\n",
      "key expirada\n",
      "key expirada\n",
      "key expirada\n",
      "key expirada\n",
      "key expirada\n",
      "key expirada\n"
     ]
    },
    {
     "name": "stderr",
     "output_type": "stream",
     "text": [
      " 39%|███▊      | 58/150 [03:20<05:24,  3.53s/it]"
     ]
    },
    {
     "name": "stdout",
     "output_type": "stream",
     "text": [
      "key expirada\n",
      "2\n",
      "key expirada\n",
      "key expirada\n",
      "key expirada\n",
      "key expirada\n",
      "key expirada\n",
      "key expirada\n",
      "key expirada\n",
      "key expirada\n"
     ]
    },
    {
     "name": "stderr",
     "output_type": "stream",
     "text": [
      " 39%|███▉      | 59/150 [03:23<05:23,  3.55s/it]"
     ]
    },
    {
     "name": "stdout",
     "output_type": "stream",
     "text": [
      "key expirada\n",
      "2\n",
      "key expirada\n",
      "key expirada\n",
      "key expirada\n",
      "key expirada\n",
      "key expirada\n",
      "key expirada\n",
      "key expirada\n",
      "key expirada\n"
     ]
    },
    {
     "name": "stderr",
     "output_type": "stream",
     "text": [
      " 40%|████      | 60/150 [03:27<05:18,  3.54s/it]"
     ]
    },
    {
     "name": "stdout",
     "output_type": "stream",
     "text": [
      "key expirada\n",
      "2\n",
      "key expirada\n",
      "key expirada\n",
      "key expirada\n",
      "key expirada\n",
      "key expirada\n",
      "key expirada\n",
      "key expirada\n",
      "key expirada\n"
     ]
    },
    {
     "name": "stderr",
     "output_type": "stream",
     "text": [
      " 41%|████      | 61/150 [03:30<05:12,  3.51s/it]"
     ]
    },
    {
     "name": "stdout",
     "output_type": "stream",
     "text": [
      "key expirada\n",
      "2\n",
      "key expirada\n",
      "key expirada\n",
      "key expirada\n",
      "key expirada\n",
      "key expirada\n",
      "key expirada\n",
      "key expirada\n",
      "key expirada\n"
     ]
    },
    {
     "name": "stderr",
     "output_type": "stream",
     "text": [
      " 41%|████▏     | 62/150 [03:33<05:06,  3.48s/it]"
     ]
    },
    {
     "name": "stdout",
     "output_type": "stream",
     "text": [
      "key expirada\n",
      "2\n",
      "key expirada\n",
      "key expirada\n",
      "key expirada\n",
      "key expirada\n",
      "key expirada\n",
      "key expirada\n",
      "key expirada\n",
      "key expirada\n"
     ]
    },
    {
     "name": "stderr",
     "output_type": "stream",
     "text": [
      " 42%|████▏     | 63/150 [03:37<05:01,  3.46s/it]"
     ]
    },
    {
     "name": "stdout",
     "output_type": "stream",
     "text": [
      "key expirada\n",
      "2\n",
      "key expirada\n",
      "key expirada\n",
      "key expirada\n",
      "key expirada\n",
      "key expirada\n",
      "key expirada\n",
      "key expirada\n",
      "key expirada\n"
     ]
    },
    {
     "name": "stderr",
     "output_type": "stream",
     "text": [
      " 43%|████▎     | 64/150 [03:40<04:55,  3.44s/it]"
     ]
    },
    {
     "name": "stdout",
     "output_type": "stream",
     "text": [
      "key expirada\n",
      "2\n",
      "key expirada\n",
      "key expirada\n",
      "key expirada\n",
      "key expirada\n",
      "key expirada\n",
      "key expirada\n",
      "key expirada\n",
      "key expirada\n"
     ]
    },
    {
     "name": "stderr",
     "output_type": "stream",
     "text": [
      " 43%|████▎     | 65/150 [03:43<04:53,  3.46s/it]"
     ]
    },
    {
     "name": "stdout",
     "output_type": "stream",
     "text": [
      "key expirada\n",
      "2\n",
      "key expirada\n",
      "key expirada\n",
      "key expirada\n",
      "key expirada\n",
      "key expirada\n",
      "key expirada\n",
      "key expirada\n",
      "key expirada\n"
     ]
    },
    {
     "name": "stderr",
     "output_type": "stream",
     "text": [
      " 44%|████▍     | 66/150 [03:47<04:48,  3.44s/it]"
     ]
    },
    {
     "name": "stdout",
     "output_type": "stream",
     "text": [
      "key expirada\n",
      "2\n",
      "key expirada\n",
      "key expirada\n",
      "key expirada\n",
      "key expirada\n",
      "key expirada\n",
      "key expirada\n",
      "key expirada\n",
      "key expirada\n"
     ]
    },
    {
     "name": "stderr",
     "output_type": "stream",
     "text": [
      " 45%|████▍     | 67/150 [03:50<04:43,  3.42s/it]"
     ]
    },
    {
     "name": "stdout",
     "output_type": "stream",
     "text": [
      "key expirada\n",
      "2\n",
      "key expirada\n",
      "key expirada\n",
      "key expirada\n",
      "key expirada\n",
      "key expirada\n",
      "key expirada\n",
      "key expirada\n",
      "key expirada\n"
     ]
    },
    {
     "name": "stderr",
     "output_type": "stream",
     "text": [
      " 45%|████▌     | 68/150 [03:53<04:39,  3.41s/it]"
     ]
    },
    {
     "name": "stdout",
     "output_type": "stream",
     "text": [
      "key expirada\n",
      "2\n",
      "key expirada\n",
      "key expirada\n",
      "key expirada\n",
      "key expirada\n",
      "key expirada\n",
      "key expirada\n",
      "key expirada\n",
      "key expirada\n"
     ]
    },
    {
     "name": "stderr",
     "output_type": "stream",
     "text": [
      " 46%|████▌     | 69/150 [03:57<04:35,  3.40s/it]"
     ]
    },
    {
     "name": "stdout",
     "output_type": "stream",
     "text": [
      "key expirada\n",
      "2\n",
      "key expirada\n",
      "key expirada\n",
      "key expirada\n",
      "key expirada\n",
      "key expirada\n",
      "key expirada\n",
      "key expirada\n",
      "key expirada\n"
     ]
    },
    {
     "name": "stderr",
     "output_type": "stream",
     "text": [
      " 47%|████▋     | 70/150 [04:00<04:31,  3.39s/it]"
     ]
    },
    {
     "name": "stdout",
     "output_type": "stream",
     "text": [
      "key expirada\n",
      "2\n",
      "key expirada\n",
      "key expirada\n",
      "key expirada\n",
      "key expirada\n",
      "key expirada\n",
      "key expirada\n",
      "key expirada\n",
      "key expirada\n"
     ]
    },
    {
     "name": "stderr",
     "output_type": "stream",
     "text": [
      " 47%|████▋     | 71/150 [04:04<04:30,  3.43s/it]"
     ]
    },
    {
     "name": "stdout",
     "output_type": "stream",
     "text": [
      "key expirada\n",
      "2\n",
      "key expirada\n",
      "key expirada\n",
      "key expirada\n",
      "key expirada\n",
      "key expirada\n",
      "key expirada\n",
      "key expirada\n",
      "key expirada\n"
     ]
    },
    {
     "name": "stderr",
     "output_type": "stream",
     "text": [
      " 48%|████▊     | 72/150 [04:07<04:30,  3.47s/it]"
     ]
    },
    {
     "name": "stdout",
     "output_type": "stream",
     "text": [
      "key expirada\n",
      "2\n",
      "key expirada\n",
      "key expirada\n",
      "key expirada\n",
      "key expirada\n",
      "key expirada\n",
      "key expirada\n",
      "key expirada\n",
      "key expirada\n"
     ]
    },
    {
     "name": "stderr",
     "output_type": "stream",
     "text": [
      " 49%|████▊     | 73/150 [04:11<04:28,  3.48s/it]"
     ]
    },
    {
     "name": "stdout",
     "output_type": "stream",
     "text": [
      "key expirada\n",
      "2\n",
      "key expirada\n",
      "key expirada\n",
      "key expirada\n",
      "key expirada\n",
      "key expirada\n",
      "key expirada\n",
      "key expirada\n",
      "key expirada\n"
     ]
    },
    {
     "name": "stderr",
     "output_type": "stream",
     "text": [
      " 49%|████▉     | 74/150 [04:14<04:23,  3.47s/it]"
     ]
    },
    {
     "name": "stdout",
     "output_type": "stream",
     "text": [
      "key expirada\n",
      "2\n",
      "key expirada\n",
      "key expirada\n",
      "key expirada\n",
      "key expirada\n",
      "key expirada\n",
      "key expirada\n",
      "key expirada\n",
      "key expirada\n"
     ]
    },
    {
     "name": "stderr",
     "output_type": "stream",
     "text": [
      " 50%|█████     | 75/150 [04:18<04:17,  3.43s/it]"
     ]
    },
    {
     "name": "stdout",
     "output_type": "stream",
     "text": [
      "key expirada\n",
      "2\n",
      "key expirada\n",
      "key expirada\n",
      "key expirada\n",
      "key expirada\n",
      "key expirada\n",
      "key expirada\n",
      "key expirada\n",
      "key expirada\n"
     ]
    },
    {
     "name": "stderr",
     "output_type": "stream",
     "text": [
      " 51%|█████     | 76/150 [04:21<04:12,  3.41s/it]"
     ]
    },
    {
     "name": "stdout",
     "output_type": "stream",
     "text": [
      "key expirada\n",
      "2\n",
      "key expirada\n",
      "key expirada\n",
      "key expirada\n",
      "key expirada\n",
      "key expirada\n",
      "key expirada\n",
      "key expirada\n",
      "key expirada\n"
     ]
    },
    {
     "name": "stderr",
     "output_type": "stream",
     "text": [
      " 51%|█████▏    | 77/150 [04:24<04:08,  3.41s/it]"
     ]
    },
    {
     "name": "stdout",
     "output_type": "stream",
     "text": [
      "key expirada\n",
      "2\n",
      "key expirada\n",
      "key expirada\n",
      "key expirada\n",
      "key expirada\n",
      "key expirada\n",
      "key expirada\n",
      "key expirada\n",
      "key expirada\n"
     ]
    },
    {
     "name": "stderr",
     "output_type": "stream",
     "text": [
      " 52%|█████▏    | 78/150 [04:27<04:04,  3.39s/it]"
     ]
    },
    {
     "name": "stdout",
     "output_type": "stream",
     "text": [
      "key expirada\n",
      "2\n",
      "key expirada\n",
      "key expirada\n",
      "key expirada\n",
      "key expirada\n",
      "key expirada\n",
      "key expirada\n",
      "key expirada\n",
      "key expirada\n"
     ]
    },
    {
     "name": "stderr",
     "output_type": "stream",
     "text": [
      " 53%|█████▎    | 79/150 [04:31<03:59,  3.38s/it]"
     ]
    },
    {
     "name": "stdout",
     "output_type": "stream",
     "text": [
      "key expirada\n",
      "2\n",
      "key expirada\n",
      "key expirada\n",
      "key expirada\n",
      "key expirada\n",
      "key expirada\n",
      "key expirada\n",
      "key expirada\n",
      "key expirada\n"
     ]
    },
    {
     "name": "stderr",
     "output_type": "stream",
     "text": [
      " 53%|█████▎    | 80/150 [04:34<03:56,  3.38s/it]"
     ]
    },
    {
     "name": "stdout",
     "output_type": "stream",
     "text": [
      "key expirada\n",
      "2\n",
      "key expirada\n",
      "key expirada\n",
      "key expirada\n",
      "key expirada\n",
      "key expirada\n",
      "key expirada\n",
      "key expirada\n",
      "key expirada\n"
     ]
    },
    {
     "name": "stderr",
     "output_type": "stream",
     "text": [
      " 54%|█████▍    | 81/150 [04:38<03:54,  3.39s/it]"
     ]
    },
    {
     "name": "stdout",
     "output_type": "stream",
     "text": [
      "key expirada\n",
      "2\n",
      "key expirada\n",
      "key expirada\n",
      "key expirada\n",
      "key expirada\n",
      "key expirada\n",
      "key expirada\n",
      "key expirada\n",
      "key expirada\n"
     ]
    },
    {
     "name": "stderr",
     "output_type": "stream",
     "text": [
      " 55%|█████▍    | 82/150 [04:41<03:51,  3.40s/it]"
     ]
    },
    {
     "name": "stdout",
     "output_type": "stream",
     "text": [
      "key expirada\n",
      "2\n",
      "key expirada\n",
      "key expirada\n",
      "key expirada\n",
      "key expirada\n",
      "key expirada\n",
      "key expirada\n",
      "key expirada\n",
      "key expirada\n"
     ]
    },
    {
     "name": "stderr",
     "output_type": "stream",
     "text": [
      " 55%|█████▌    | 83/150 [04:44<03:46,  3.37s/it]"
     ]
    },
    {
     "name": "stdout",
     "output_type": "stream",
     "text": [
      "key expirada\n",
      "2\n",
      "key expirada\n",
      "key expirada\n",
      "key expirada\n",
      "key expirada\n",
      "key expirada\n",
      "key expirada\n",
      "key expirada\n",
      "key expirada\n"
     ]
    },
    {
     "name": "stderr",
     "output_type": "stream",
     "text": [
      " 56%|█████▌    | 84/150 [04:48<03:43,  3.38s/it]"
     ]
    },
    {
     "name": "stdout",
     "output_type": "stream",
     "text": [
      "key expirada\n",
      "2\n",
      "key expirada\n",
      "key expirada\n",
      "key expirada\n",
      "key expirada\n",
      "key expirada\n",
      "key expirada\n",
      "key expirada\n",
      "key expirada\n"
     ]
    },
    {
     "name": "stderr",
     "output_type": "stream",
     "text": [
      " 57%|█████▋    | 85/150 [04:51<03:42,  3.43s/it]"
     ]
    },
    {
     "name": "stdout",
     "output_type": "stream",
     "text": [
      "key expirada\n",
      "2\n",
      "key expirada\n",
      "key expirada\n",
      "key expirada\n",
      "key expirada\n",
      "key expirada\n",
      "key expirada\n",
      "key expirada\n",
      "key expirada\n"
     ]
    },
    {
     "name": "stderr",
     "output_type": "stream",
     "text": [
      " 57%|█████▋    | 86/150 [04:55<03:38,  3.41s/it]"
     ]
    },
    {
     "name": "stdout",
     "output_type": "stream",
     "text": [
      "key expirada\n",
      "2\n",
      "key expirada\n",
      "key expirada\n",
      "key expirada\n",
      "key expirada\n",
      "key expirada\n",
      "key expirada\n",
      "key expirada\n",
      "key expirada\n"
     ]
    },
    {
     "name": "stderr",
     "output_type": "stream",
     "text": [
      " 58%|█████▊    | 87/150 [04:58<03:34,  3.41s/it]"
     ]
    },
    {
     "name": "stdout",
     "output_type": "stream",
     "text": [
      "key expirada\n",
      "2\n",
      "key expirada\n",
      "key expirada\n",
      "key expirada\n",
      "key expirada\n",
      "key expirada\n",
      "key expirada\n",
      "key expirada\n",
      "key expirada\n"
     ]
    },
    {
     "name": "stderr",
     "output_type": "stream",
     "text": [
      " 59%|█████▊    | 88/150 [05:02<03:31,  3.41s/it]"
     ]
    },
    {
     "name": "stdout",
     "output_type": "stream",
     "text": [
      "key expirada\n",
      "2\n",
      "key expirada\n",
      "key expirada\n",
      "key expirada\n",
      "key expirada\n",
      "key expirada\n",
      "key expirada\n",
      "key expirada\n",
      "key expirada\n"
     ]
    },
    {
     "name": "stderr",
     "output_type": "stream",
     "text": [
      " 59%|█████▉    | 89/150 [05:05<03:28,  3.42s/it]"
     ]
    },
    {
     "name": "stdout",
     "output_type": "stream",
     "text": [
      "key expirada\n",
      "2\n",
      "key expirada\n",
      "key expirada\n",
      "key expirada\n",
      "key expirada\n",
      "key expirada\n",
      "key expirada\n",
      "key expirada\n",
      "key expirada\n"
     ]
    },
    {
     "name": "stderr",
     "output_type": "stream",
     "text": [
      " 60%|██████    | 90/150 [05:09<03:26,  3.44s/it]"
     ]
    },
    {
     "name": "stdout",
     "output_type": "stream",
     "text": [
      "key expirada\n",
      "2\n",
      "key expirada\n",
      "key expirada\n",
      "key expirada\n",
      "key expirada\n",
      "key expirada\n",
      "key expirada\n",
      "key expirada\n",
      "key expirada\n"
     ]
    },
    {
     "name": "stderr",
     "output_type": "stream",
     "text": [
      " 61%|██████    | 91/150 [05:12<03:22,  3.44s/it]"
     ]
    },
    {
     "name": "stdout",
     "output_type": "stream",
     "text": [
      "key expirada\n",
      "2\n",
      "key expirada\n",
      "key expirada\n",
      "key expirada\n",
      "key expirada\n",
      "key expirada\n",
      "key expirada\n",
      "key expirada\n",
      "key expirada\n"
     ]
    },
    {
     "name": "stderr",
     "output_type": "stream",
     "text": [
      " 61%|██████▏   | 92/150 [05:16<03:19,  3.44s/it]"
     ]
    },
    {
     "name": "stdout",
     "output_type": "stream",
     "text": [
      "key expirada\n",
      "2\n",
      "key expirada\n",
      "key expirada\n",
      "key expirada\n",
      "key expirada\n",
      "key expirada\n",
      "key expirada\n",
      "key expirada\n",
      "key expirada\n"
     ]
    },
    {
     "name": "stderr",
     "output_type": "stream",
     "text": [
      " 62%|██████▏   | 93/150 [05:19<03:17,  3.46s/it]"
     ]
    },
    {
     "name": "stdout",
     "output_type": "stream",
     "text": [
      "key expirada\n",
      "2\n",
      "key expirada\n",
      "key expirada\n",
      "key expirada\n",
      "key expirada\n",
      "key expirada\n",
      "key expirada\n",
      "key expirada\n",
      "key expirada\n"
     ]
    },
    {
     "name": "stderr",
     "output_type": "stream",
     "text": [
      " 63%|██████▎   | 94/150 [05:23<03:15,  3.49s/it]"
     ]
    },
    {
     "name": "stdout",
     "output_type": "stream",
     "text": [
      "key expirada\n",
      "2\n",
      "key expirada\n",
      "key expirada\n",
      "key expirada\n",
      "key expirada\n",
      "key expirada\n",
      "key expirada\n",
      "key expirada\n",
      "key expirada\n"
     ]
    },
    {
     "name": "stderr",
     "output_type": "stream",
     "text": [
      " 63%|██████▎   | 95/150 [05:27<03:13,  3.51s/it]"
     ]
    },
    {
     "name": "stdout",
     "output_type": "stream",
     "text": [
      "key expirada\n",
      "2\n",
      "key expirada\n",
      "key expirada\n",
      "key expirada\n",
      "key expirada\n",
      "key expirada\n",
      "key expirada\n",
      "key expirada\n",
      "key expirada\n"
     ]
    },
    {
     "name": "stderr",
     "output_type": "stream",
     "text": [
      " 64%|██████▍   | 96/150 [05:30<03:09,  3.51s/it]"
     ]
    },
    {
     "name": "stdout",
     "output_type": "stream",
     "text": [
      "key expirada\n",
      "2\n",
      "key expirada\n",
      "key expirada\n",
      "key expirada\n",
      "key expirada\n",
      "key expirada\n",
      "key expirada\n",
      "key expirada\n",
      "key expirada\n"
     ]
    },
    {
     "name": "stderr",
     "output_type": "stream",
     "text": [
      " 65%|██████▍   | 97/150 [05:34<03:06,  3.51s/it]"
     ]
    },
    {
     "name": "stdout",
     "output_type": "stream",
     "text": [
      "key expirada\n",
      "2\n",
      "key expirada\n",
      "key expirada\n",
      "key expirada\n",
      "key expirada\n",
      "key expirada\n",
      "key expirada\n",
      "key expirada\n",
      "key expirada\n"
     ]
    },
    {
     "name": "stderr",
     "output_type": "stream",
     "text": [
      " 65%|██████▌   | 98/150 [05:37<03:01,  3.50s/it]"
     ]
    },
    {
     "name": "stdout",
     "output_type": "stream",
     "text": [
      "key expirada\n",
      "2\n",
      "key expirada\n",
      "key expirada\n",
      "key expirada\n",
      "key expirada\n",
      "key expirada\n",
      "key expirada\n",
      "key expirada\n",
      "key expirada\n"
     ]
    },
    {
     "name": "stderr",
     "output_type": "stream",
     "text": [
      " 66%|██████▌   | 99/150 [05:41<03:00,  3.53s/it]"
     ]
    },
    {
     "name": "stdout",
     "output_type": "stream",
     "text": [
      "key expirada\n",
      "2\n",
      "key expirada\n",
      "key expirada\n",
      "key expirada\n",
      "key expirada\n",
      "key expirada\n",
      "key expirada\n",
      "key expirada\n",
      "key expirada\n"
     ]
    },
    {
     "name": "stderr",
     "output_type": "stream",
     "text": [
      " 67%|██████▋   | 100/150 [05:45<02:57,  3.54s/it]"
     ]
    },
    {
     "name": "stdout",
     "output_type": "stream",
     "text": [
      "key expirada\n",
      "2\n",
      "key expirada\n",
      "key expirada\n",
      "key expirada\n",
      "key expirada\n",
      "key expirada\n",
      "key expirada\n",
      "key expirada\n",
      "key expirada\n"
     ]
    },
    {
     "name": "stderr",
     "output_type": "stream",
     "text": [
      " 67%|██████▋   | 101/150 [05:49<02:56,  3.59s/it]"
     ]
    },
    {
     "name": "stdout",
     "output_type": "stream",
     "text": [
      "key expirada\n",
      "2\n",
      "key expirada\n",
      "key expirada\n",
      "key expirada\n",
      "key expirada\n",
      "key expirada\n",
      "key expirada\n",
      "key expirada\n",
      "key expirada\n"
     ]
    },
    {
     "name": "stderr",
     "output_type": "stream",
     "text": [
      " 68%|██████▊   | 102/150 [05:52<02:50,  3.56s/it]"
     ]
    },
    {
     "name": "stdout",
     "output_type": "stream",
     "text": [
      "key expirada\n",
      "2\n",
      "key expirada\n",
      "key expirada\n",
      "key expirada\n",
      "key expirada\n",
      "key expirada\n",
      "key expirada\n",
      "key expirada\n",
      "key expirada\n"
     ]
    },
    {
     "name": "stderr",
     "output_type": "stream",
     "text": [
      " 69%|██████▊   | 103/150 [05:56<02:50,  3.64s/it]"
     ]
    },
    {
     "name": "stdout",
     "output_type": "stream",
     "text": [
      "key expirada\n",
      "2\n",
      "key expirada\n",
      "key expirada\n",
      "key expirada\n",
      "key expirada\n",
      "key expirada\n",
      "key expirada\n",
      "key expirada\n",
      "key expirada\n"
     ]
    },
    {
     "name": "stderr",
     "output_type": "stream",
     "text": [
      " 69%|██████▉   | 104/150 [05:59<02:45,  3.60s/it]"
     ]
    },
    {
     "name": "stdout",
     "output_type": "stream",
     "text": [
      "key expirada\n",
      "2\n",
      "key expirada\n",
      "key expirada\n",
      "key expirada\n",
      "key expirada\n",
      "key expirada\n",
      "key expirada\n",
      "key expirada\n",
      "key expirada\n"
     ]
    },
    {
     "name": "stderr",
     "output_type": "stream",
     "text": [
      " 70%|███████   | 105/150 [06:03<02:43,  3.64s/it]"
     ]
    },
    {
     "name": "stdout",
     "output_type": "stream",
     "text": [
      "key expirada\n",
      "2\n",
      "key expirada\n",
      "key expirada\n",
      "key expirada\n",
      "key expirada\n",
      "key expirada\n",
      "key expirada\n",
      "key expirada\n",
      "key expirada\n"
     ]
    },
    {
     "name": "stderr",
     "output_type": "stream",
     "text": [
      " 71%|███████   | 106/150 [06:07<02:39,  3.62s/it]"
     ]
    },
    {
     "name": "stdout",
     "output_type": "stream",
     "text": [
      "key expirada\n",
      "2\n",
      "key expirada\n",
      "key expirada\n",
      "key expirada\n",
      "key expirada\n",
      "key expirada\n",
      "key expirada\n",
      "key expirada\n",
      "key expirada\n"
     ]
    },
    {
     "name": "stderr",
     "output_type": "stream",
     "text": [
      " 71%|███████▏  | 107/150 [06:10<02:34,  3.59s/it]"
     ]
    },
    {
     "name": "stdout",
     "output_type": "stream",
     "text": [
      "key expirada\n",
      "2\n",
      "key expirada\n",
      "key expirada\n",
      "key expirada\n",
      "key expirada\n",
      "key expirada\n",
      "key expirada\n",
      "key expirada\n",
      "key expirada\n"
     ]
    },
    {
     "name": "stderr",
     "output_type": "stream",
     "text": [
      " 72%|███████▏  | 108/150 [06:14<02:32,  3.63s/it]"
     ]
    },
    {
     "name": "stdout",
     "output_type": "stream",
     "text": [
      "key expirada\n",
      "2\n",
      "key expirada\n",
      "key expirada\n",
      "key expirada\n",
      "key expirada\n",
      "key expirada\n",
      "key expirada\n",
      "key expirada\n",
      "key expirada\n"
     ]
    },
    {
     "name": "stderr",
     "output_type": "stream",
     "text": [
      " 73%|███████▎  | 109/150 [06:18<02:28,  3.62s/it]"
     ]
    },
    {
     "name": "stdout",
     "output_type": "stream",
     "text": [
      "key expirada\n",
      "2\n",
      "key expirada\n",
      "key expirada\n",
      "key expirada\n",
      "key expirada\n",
      "key expirada\n",
      "key expirada\n",
      "key expirada\n",
      "key expirada\n"
     ]
    },
    {
     "name": "stderr",
     "output_type": "stream",
     "text": [
      " 73%|███████▎  | 110/150 [06:21<02:23,  3.59s/it]"
     ]
    },
    {
     "name": "stdout",
     "output_type": "stream",
     "text": [
      "key expirada\n",
      "2\n",
      "key expirada\n",
      "key expirada\n",
      "key expirada\n",
      "key expirada\n",
      "key expirada\n",
      "key expirada\n",
      "key expirada\n",
      "key expirada\n"
     ]
    },
    {
     "name": "stderr",
     "output_type": "stream",
     "text": [
      " 74%|███████▍  | 111/150 [06:25<02:21,  3.62s/it]"
     ]
    },
    {
     "name": "stdout",
     "output_type": "stream",
     "text": [
      "key expirada\n",
      "2\n",
      "key expirada\n",
      "key expirada\n",
      "key expirada\n",
      "key expirada\n",
      "key expirada\n",
      "key expirada\n",
      "key expirada\n",
      "key expirada\n"
     ]
    },
    {
     "name": "stderr",
     "output_type": "stream",
     "text": [
      " 75%|███████▍  | 112/150 [06:28<02:16,  3.60s/it]"
     ]
    },
    {
     "name": "stdout",
     "output_type": "stream",
     "text": [
      "key expirada\n",
      "2\n",
      "key expirada\n",
      "key expirada\n",
      "key expirada\n",
      "key expirada\n",
      "key expirada\n",
      "key expirada\n",
      "key expirada\n",
      "key expirada\n"
     ]
    },
    {
     "name": "stderr",
     "output_type": "stream",
     "text": [
      " 75%|███████▌  | 113/150 [06:32<02:12,  3.57s/it]"
     ]
    },
    {
     "name": "stdout",
     "output_type": "stream",
     "text": [
      "key expirada\n",
      "2\n",
      "key expirada\n",
      "key expirada\n",
      "key expirada\n",
      "key expirada\n",
      "key expirada\n",
      "key expirada\n",
      "key expirada\n",
      "key expirada\n"
     ]
    },
    {
     "name": "stderr",
     "output_type": "stream",
     "text": [
      " 76%|███████▌  | 114/150 [06:35<02:07,  3.54s/it]"
     ]
    },
    {
     "name": "stdout",
     "output_type": "stream",
     "text": [
      "key expirada\n",
      "2\n",
      "key expirada\n",
      "key expirada\n",
      "key expirada\n",
      "key expirada\n",
      "key expirada\n",
      "key expirada\n",
      "key expirada\n",
      "key expirada\n"
     ]
    },
    {
     "name": "stderr",
     "output_type": "stream",
     "text": [
      " 77%|███████▋  | 115/150 [06:39<02:05,  3.60s/it]"
     ]
    },
    {
     "name": "stdout",
     "output_type": "stream",
     "text": [
      "key expirada\n",
      "2\n",
      "key expirada\n",
      "key expirada\n",
      "key expirada\n",
      "key expirada\n",
      "key expirada\n",
      "key expirada\n",
      "key expirada\n",
      "key expirada\n"
     ]
    },
    {
     "name": "stderr",
     "output_type": "stream",
     "text": [
      " 77%|███████▋  | 116/150 [06:42<02:01,  3.56s/it]"
     ]
    },
    {
     "name": "stdout",
     "output_type": "stream",
     "text": [
      "key expirada\n",
      "2\n",
      "key expirada\n",
      "key expirada\n",
      "key expirada\n",
      "key expirada\n",
      "key expirada\n",
      "key expirada\n",
      "key expirada\n",
      "key expirada\n"
     ]
    },
    {
     "name": "stderr",
     "output_type": "stream",
     "text": [
      " 78%|███████▊  | 117/150 [06:47<02:01,  3.69s/it]"
     ]
    },
    {
     "name": "stdout",
     "output_type": "stream",
     "text": [
      "key expirada\n",
      "2\n",
      "key expirada\n",
      "key expirada\n",
      "key expirada\n",
      "key expirada\n",
      "key expirada\n",
      "key expirada\n",
      "key expirada\n",
      "key expirada\n"
     ]
    },
    {
     "name": "stderr",
     "output_type": "stream",
     "text": [
      " 79%|███████▊  | 118/150 [06:51<01:57,  3.66s/it]"
     ]
    },
    {
     "name": "stdout",
     "output_type": "stream",
     "text": [
      "key expirada\n",
      "2\n",
      "key expirada\n",
      "key expirada\n",
      "key expirada\n",
      "key expirada\n",
      "key expirada\n",
      "key expirada\n",
      "key expirada\n",
      "key expirada\n"
     ]
    },
    {
     "name": "stderr",
     "output_type": "stream",
     "text": [
      " 79%|███████▉  | 119/150 [06:54<01:52,  3.62s/it]"
     ]
    },
    {
     "name": "stdout",
     "output_type": "stream",
     "text": [
      "key expirada\n",
      "2\n",
      "key expirada\n",
      "key expirada\n",
      "key expirada\n",
      "key expirada\n",
      "key expirada\n",
      "key expirada\n",
      "key expirada\n",
      "key expirada\n"
     ]
    },
    {
     "name": "stderr",
     "output_type": "stream",
     "text": [
      " 80%|████████  | 120/150 [06:57<01:47,  3.60s/it]"
     ]
    },
    {
     "name": "stdout",
     "output_type": "stream",
     "text": [
      "key expirada\n",
      "2\n",
      "key expirada\n",
      "key expirada\n",
      "key expirada\n",
      "key expirada\n",
      "key expirada\n",
      "key expirada\n",
      "key expirada\n",
      "key expirada\n"
     ]
    },
    {
     "name": "stderr",
     "output_type": "stream",
     "text": [
      " 81%|████████  | 121/150 [07:01<01:44,  3.62s/it]"
     ]
    },
    {
     "name": "stdout",
     "output_type": "stream",
     "text": [
      "key expirada\n",
      "2\n",
      "key expirada\n",
      "key expirada\n",
      "key expirada\n",
      "key expirada\n",
      "key expirada\n",
      "key expirada\n",
      "key expirada\n",
      "key expirada\n"
     ]
    },
    {
     "name": "stderr",
     "output_type": "stream",
     "text": [
      " 81%|████████▏ | 122/150 [07:04<01:40,  3.59s/it]"
     ]
    },
    {
     "name": "stdout",
     "output_type": "stream",
     "text": [
      "key expirada\n",
      "2\n",
      "key expirada\n",
      "key expirada\n",
      "key expirada\n",
      "key expirada\n",
      "key expirada\n",
      "key expirada\n",
      "key expirada\n",
      "key expirada\n"
     ]
    },
    {
     "name": "stderr",
     "output_type": "stream",
     "text": [
      " 82%|████████▏ | 123/150 [07:08<01:36,  3.56s/it]"
     ]
    },
    {
     "name": "stdout",
     "output_type": "stream",
     "text": [
      "key expirada\n",
      "2\n",
      "key expirada\n",
      "key expirada\n",
      "key expirada\n",
      "key expirada\n",
      "key expirada\n",
      "key expirada\n",
      "key expirada\n",
      "key expirada\n"
     ]
    },
    {
     "name": "stderr",
     "output_type": "stream",
     "text": [
      " 83%|████████▎ | 124/150 [07:12<01:33,  3.60s/it]"
     ]
    },
    {
     "name": "stdout",
     "output_type": "stream",
     "text": [
      "key expirada\n",
      "2\n",
      "key expirada\n",
      "key expirada\n",
      "key expirada\n",
      "key expirada\n",
      "key expirada\n",
      "key expirada\n",
      "key expirada\n",
      "key expirada\n"
     ]
    },
    {
     "name": "stderr",
     "output_type": "stream",
     "text": [
      " 83%|████████▎ | 125/150 [07:15<01:30,  3.62s/it]"
     ]
    },
    {
     "name": "stdout",
     "output_type": "stream",
     "text": [
      "key expirada\n",
      "2\n",
      "key expirada\n",
      "key expirada\n",
      "key expirada\n",
      "key expirada\n",
      "key expirada\n",
      "key expirada\n",
      "key expirada\n",
      "key expirada\n"
     ]
    },
    {
     "name": "stderr",
     "output_type": "stream",
     "text": [
      " 84%|████████▍ | 126/150 [07:19<01:26,  3.60s/it]"
     ]
    },
    {
     "name": "stdout",
     "output_type": "stream",
     "text": [
      "key expirada\n",
      "2\n",
      "key expirada\n",
      "key expirada\n",
      "key expirada\n",
      "key expirada\n",
      "key expirada\n",
      "key expirada\n",
      "key expirada\n",
      "key expirada\n"
     ]
    },
    {
     "name": "stderr",
     "output_type": "stream",
     "text": [
      " 85%|████████▍ | 127/150 [07:22<01:22,  3.60s/it]"
     ]
    },
    {
     "name": "stdout",
     "output_type": "stream",
     "text": [
      "key expirada\n",
      "2\n",
      "key expirada\n",
      "key expirada\n",
      "key expirada\n",
      "key expirada\n",
      "key expirada\n",
      "key expirada\n",
      "key expirada\n",
      "key expirada\n"
     ]
    },
    {
     "name": "stderr",
     "output_type": "stream",
     "text": [
      " 85%|████████▌ | 128/150 [07:26<01:20,  3.64s/it]"
     ]
    },
    {
     "name": "stdout",
     "output_type": "stream",
     "text": [
      "key expirada\n",
      "2\n",
      "key expirada\n",
      "key expirada\n",
      "key expirada\n",
      "key expirada\n",
      "key expirada\n",
      "key expirada\n",
      "key expirada\n",
      "key expirada\n"
     ]
    },
    {
     "name": "stderr",
     "output_type": "stream",
     "text": [
      " 86%|████████▌ | 129/150 [07:30<01:16,  3.65s/it]"
     ]
    },
    {
     "name": "stdout",
     "output_type": "stream",
     "text": [
      "key expirada\n",
      "2\n",
      "key expirada\n",
      "key expirada\n",
      "key expirada\n",
      "key expirada\n",
      "key expirada\n",
      "key expirada\n",
      "key expirada\n",
      "key expirada\n"
     ]
    },
    {
     "name": "stderr",
     "output_type": "stream",
     "text": [
      " 87%|████████▋ | 130/150 [07:33<01:12,  3.62s/it]"
     ]
    },
    {
     "name": "stdout",
     "output_type": "stream",
     "text": [
      "key expirada\n",
      "2\n",
      "key expirada\n",
      "key expirada\n",
      "key expirada\n",
      "key expirada\n",
      "key expirada\n",
      "key expirada\n",
      "key expirada\n",
      "key expirada\n"
     ]
    },
    {
     "name": "stderr",
     "output_type": "stream",
     "text": [
      " 87%|████████▋ | 131/150 [07:37<01:08,  3.61s/it]"
     ]
    },
    {
     "name": "stdout",
     "output_type": "stream",
     "text": [
      "key expirada\n",
      "2\n",
      "key expirada\n",
      "key expirada\n",
      "key expirada\n",
      "key expirada\n",
      "key expirada\n",
      "key expirada\n",
      "key expirada\n",
      "key expirada\n"
     ]
    },
    {
     "name": "stderr",
     "output_type": "stream",
     "text": [
      " 88%|████████▊ | 132/150 [07:41<01:04,  3.60s/it]"
     ]
    },
    {
     "name": "stdout",
     "output_type": "stream",
     "text": [
      "key expirada\n",
      "2\n",
      "key expirada\n",
      "key expirada\n",
      "key expirada\n",
      "key expirada\n",
      "key expirada\n",
      "key expirada\n",
      "key expirada\n",
      "key expirada\n"
     ]
    },
    {
     "name": "stderr",
     "output_type": "stream",
     "text": [
      " 89%|████████▊ | 133/150 [07:44<01:00,  3.58s/it]"
     ]
    },
    {
     "name": "stdout",
     "output_type": "stream",
     "text": [
      "key expirada\n",
      "2\n",
      "key expirada\n",
      "key expirada\n",
      "key expirada\n",
      "key expirada\n",
      "key expirada\n",
      "key expirada\n",
      "key expirada\n",
      "key expirada\n"
     ]
    },
    {
     "name": "stderr",
     "output_type": "stream",
     "text": [
      " 89%|████████▉ | 134/150 [07:48<00:58,  3.64s/it]"
     ]
    },
    {
     "name": "stdout",
     "output_type": "stream",
     "text": [
      "key expirada\n",
      "2\n",
      "key expirada\n",
      "key expirada\n",
      "key expirada\n",
      "key expirada\n",
      "key expirada\n",
      "key expirada\n",
      "key expirada\n",
      "key expirada\n"
     ]
    },
    {
     "name": "stderr",
     "output_type": "stream",
     "text": [
      " 90%|█████████ | 135/150 [07:52<00:54,  3.63s/it]"
     ]
    },
    {
     "name": "stdout",
     "output_type": "stream",
     "text": [
      "key expirada\n",
      "2\n",
      "key expirada\n",
      "key expirada\n",
      "key expirada\n",
      "key expirada\n",
      "key expirada\n",
      "key expirada\n",
      "key expirada\n",
      "key expirada\n"
     ]
    },
    {
     "name": "stderr",
     "output_type": "stream",
     "text": [
      " 91%|█████████ | 136/150 [07:56<00:51,  3.66s/it]"
     ]
    },
    {
     "name": "stdout",
     "output_type": "stream",
     "text": [
      "key expirada\n",
      "2\n",
      "key expirada\n",
      "key expirada\n",
      "key expirada\n",
      "key expirada\n",
      "key expirada\n",
      "key expirada\n",
      "key expirada\n",
      "key expirada\n"
     ]
    },
    {
     "name": "stderr",
     "output_type": "stream",
     "text": [
      " 91%|█████████▏| 137/150 [07:59<00:47,  3.64s/it]"
     ]
    },
    {
     "name": "stdout",
     "output_type": "stream",
     "text": [
      "key expirada\n",
      "2\n",
      "key expirada\n",
      "key expirada\n",
      "key expirada\n",
      "key expirada\n",
      "key expirada\n",
      "key expirada\n",
      "key expirada\n",
      "key expirada\n"
     ]
    },
    {
     "name": "stderr",
     "output_type": "stream",
     "text": [
      " 92%|█████████▏| 138/150 [08:02<00:43,  3.61s/it]"
     ]
    },
    {
     "name": "stdout",
     "output_type": "stream",
     "text": [
      "key expirada\n",
      "2\n",
      "key expirada\n",
      "key expirada\n",
      "key expirada\n",
      "key expirada\n",
      "key expirada\n",
      "key expirada\n",
      "key expirada\n",
      "key expirada\n"
     ]
    },
    {
     "name": "stderr",
     "output_type": "stream",
     "text": [
      " 93%|█████████▎| 139/150 [08:06<00:39,  3.62s/it]"
     ]
    },
    {
     "name": "stdout",
     "output_type": "stream",
     "text": [
      "key expirada\n",
      "2\n",
      "key expirada\n",
      "key expirada\n",
      "key expirada\n",
      "key expirada\n",
      "key expirada\n",
      "key expirada\n",
      "key expirada\n",
      "key expirada\n"
     ]
    },
    {
     "name": "stderr",
     "output_type": "stream",
     "text": [
      " 93%|█████████▎| 140/150 [08:10<00:36,  3.64s/it]"
     ]
    },
    {
     "name": "stdout",
     "output_type": "stream",
     "text": [
      "key expirada\n",
      "2\n",
      "key expirada\n",
      "key expirada\n",
      "key expirada\n",
      "key expirada\n",
      "key expirada\n",
      "key expirada\n",
      "key expirada\n",
      "key expirada\n"
     ]
    },
    {
     "name": "stderr",
     "output_type": "stream",
     "text": [
      " 94%|█████████▍| 141/150 [08:14<00:32,  3.66s/it]"
     ]
    },
    {
     "name": "stdout",
     "output_type": "stream",
     "text": [
      "key expirada\n",
      "2\n",
      "key expirada\n",
      "key expirada\n",
      "key expirada\n",
      "key expirada\n",
      "key expirada\n",
      "key expirada\n",
      "key expirada\n",
      "key expirada\n"
     ]
    },
    {
     "name": "stderr",
     "output_type": "stream",
     "text": [
      " 95%|█████████▍| 142/150 [08:17<00:29,  3.63s/it]"
     ]
    },
    {
     "name": "stdout",
     "output_type": "stream",
     "text": [
      "key expirada\n",
      "2\n",
      "key expirada\n",
      "key expirada\n",
      "key expirada\n",
      "key expirada\n",
      "key expirada\n",
      "key expirada\n",
      "key expirada\n",
      "key expirada\n"
     ]
    },
    {
     "name": "stderr",
     "output_type": "stream",
     "text": [
      " 95%|█████████▌| 143/150 [08:20<00:25,  3.60s/it]"
     ]
    },
    {
     "name": "stdout",
     "output_type": "stream",
     "text": [
      "key expirada\n",
      "2\n",
      "key expirada\n",
      "key expirada\n",
      "key expirada\n",
      "key expirada\n",
      "key expirada\n",
      "key expirada\n",
      "key expirada\n",
      "key expirada\n"
     ]
    },
    {
     "name": "stderr",
     "output_type": "stream",
     "text": [
      " 96%|█████████▌| 144/150 [08:24<00:21,  3.57s/it]"
     ]
    },
    {
     "name": "stdout",
     "output_type": "stream",
     "text": [
      "key expirada\n",
      "2\n",
      "key expirada\n",
      "key expirada\n",
      "key expirada\n",
      "key expirada\n",
      "key expirada\n",
      "key expirada\n",
      "key expirada\n",
      "key expirada\n"
     ]
    },
    {
     "name": "stderr",
     "output_type": "stream",
     "text": [
      " 97%|█████████▋| 145/150 [08:27<00:17,  3.54s/it]"
     ]
    },
    {
     "name": "stdout",
     "output_type": "stream",
     "text": [
      "key expirada\n",
      "2\n",
      "key expirada\n",
      "key expirada\n",
      "key expirada\n",
      "key expirada\n",
      "key expirada\n",
      "key expirada\n",
      "key expirada\n",
      "key expirada\n"
     ]
    },
    {
     "name": "stderr",
     "output_type": "stream",
     "text": [
      " 97%|█████████▋| 146/150 [08:30<00:14,  3.53s/it]"
     ]
    },
    {
     "name": "stdout",
     "output_type": "stream",
     "text": [
      "key expirada\n",
      "2\n",
      "key expirada\n",
      "key expirada\n",
      "key expirada\n",
      "key expirada\n",
      "key expirada\n",
      "key expirada\n",
      "key expirada\n",
      "key expirada\n"
     ]
    },
    {
     "name": "stderr",
     "output_type": "stream",
     "text": [
      " 98%|█████████▊| 147/150 [08:34<00:10,  3.50s/it]"
     ]
    },
    {
     "name": "stdout",
     "output_type": "stream",
     "text": [
      "key expirada\n",
      "2\n",
      "key expirada\n",
      "key expirada\n",
      "key expirada\n",
      "key expirada\n",
      "key expirada\n",
      "key expirada\n",
      "key expirada\n",
      "key expirada\n"
     ]
    },
    {
     "name": "stderr",
     "output_type": "stream",
     "text": [
      " 99%|█████████▊| 148/150 [08:37<00:06,  3.49s/it]"
     ]
    },
    {
     "name": "stdout",
     "output_type": "stream",
     "text": [
      "key expirada\n",
      "2\n",
      "key expirada\n",
      "key expirada\n",
      "key expirada\n",
      "key expirada\n",
      "key expirada\n",
      "key expirada\n",
      "key expirada\n",
      "key expirada\n"
     ]
    },
    {
     "name": "stderr",
     "output_type": "stream",
     "text": [
      " 99%|█████████▉| 149/150 [08:40<00:03,  3.46s/it]"
     ]
    },
    {
     "name": "stdout",
     "output_type": "stream",
     "text": [
      "key expirada\n",
      "2\n",
      "key expirada\n",
      "key expirada\n",
      "key expirada\n",
      "key expirada\n",
      "key expirada\n",
      "key expirada\n",
      "key expirada\n",
      "key expirada\n"
     ]
    },
    {
     "name": "stderr",
     "output_type": "stream",
     "text": [
      "100%|██████████| 150/150 [08:44<00:00,  3.49s/it]\n"
     ]
    },
    {
     "name": "stdout",
     "output_type": "stream",
     "text": [
      "key expirada\n"
     ]
    },
    {
     "name": "stderr",
     "output_type": "stream",
     "text": [
      "  0%|          | 0/150 [00:00<?, ?it/s]"
     ]
    },
    {
     "name": "stdout",
     "output_type": "stream",
     "text": [
      "2\n",
      "key expirada\n",
      "key expirada\n",
      "key expirada\n",
      "key expirada\n",
      "key expirada\n",
      "key expirada\n",
      "key expirada\n",
      "key expirada\n"
     ]
    },
    {
     "name": "stderr",
     "output_type": "stream",
     "text": [
      "  1%|          | 1/150 [00:03<09:24,  3.79s/it]"
     ]
    },
    {
     "name": "stdout",
     "output_type": "stream",
     "text": [
      "key expirada\n",
      "2\n",
      "key expirada\n",
      "key expirada\n",
      "key expirada\n",
      "key expirada\n",
      "key expirada\n",
      "key expirada\n",
      "key expirada\n",
      "key expirada\n"
     ]
    },
    {
     "name": "stderr",
     "output_type": "stream",
     "text": [
      "  1%|▏         | 2/150 [00:07<08:52,  3.60s/it]"
     ]
    },
    {
     "name": "stdout",
     "output_type": "stream",
     "text": [
      "key expirada\n",
      "2\n",
      "key expirada\n",
      "key expirada\n",
      "key expirada\n",
      "key expirada\n",
      "key expirada\n",
      "key expirada\n",
      "key expirada\n",
      "key expirada\n"
     ]
    },
    {
     "name": "stderr",
     "output_type": "stream",
     "text": [
      "  2%|▏         | 3/150 [00:10<08:57,  3.66s/it]"
     ]
    },
    {
     "name": "stdout",
     "output_type": "stream",
     "text": [
      "key expirada\n",
      "2\n",
      "key expirada\n",
      "key expirada\n",
      "key expirada\n",
      "key expirada\n",
      "key expirada\n",
      "key expirada\n",
      "key expirada\n",
      "key expirada\n"
     ]
    },
    {
     "name": "stderr",
     "output_type": "stream",
     "text": [
      "  3%|▎         | 4/150 [00:14<08:41,  3.57s/it]"
     ]
    },
    {
     "name": "stdout",
     "output_type": "stream",
     "text": [
      "key expirada\n",
      "2\n",
      "key expirada\n",
      "key expirada\n",
      "key expirada\n",
      "key expirada\n",
      "key expirada\n",
      "key expirada\n",
      "key expirada\n",
      "key expirada\n"
     ]
    },
    {
     "name": "stderr",
     "output_type": "stream",
     "text": [
      "  3%|▎         | 5/150 [00:17<08:28,  3.51s/it]"
     ]
    },
    {
     "name": "stdout",
     "output_type": "stream",
     "text": [
      "key expirada\n",
      "2\n",
      "key expirada\n",
      "key expirada\n",
      "key expirada\n",
      "key expirada\n",
      "key expirada\n",
      "key expirada\n",
      "key expirada\n",
      "key expirada\n"
     ]
    },
    {
     "name": "stderr",
     "output_type": "stream",
     "text": [
      "  4%|▍         | 6/150 [00:20<08:18,  3.46s/it]"
     ]
    },
    {
     "name": "stdout",
     "output_type": "stream",
     "text": [
      "key expirada\n",
      "2\n",
      "key expirada\n",
      "key expirada\n",
      "key expirada\n",
      "key expirada\n",
      "key expirada\n",
      "key expirada\n",
      "key expirada\n",
      "key expirada\n"
     ]
    },
    {
     "name": "stderr",
     "output_type": "stream",
     "text": [
      "  5%|▍         | 7/150 [00:24<08:10,  3.43s/it]"
     ]
    },
    {
     "name": "stdout",
     "output_type": "stream",
     "text": [
      "key expirada\n",
      "2\n",
      "key expirada\n",
      "key expirada\n",
      "key expirada\n",
      "key expirada\n",
      "key expirada\n",
      "key expirada\n",
      "key expirada\n",
      "key expirada\n"
     ]
    },
    {
     "name": "stderr",
     "output_type": "stream",
     "text": [
      "  5%|▌         | 8/150 [00:28<08:22,  3.54s/it]"
     ]
    },
    {
     "name": "stdout",
     "output_type": "stream",
     "text": [
      "key expirada\n",
      "2\n",
      "key expirada\n",
      "key expirada\n",
      "key expirada\n",
      "key expirada\n",
      "key expirada\n",
      "key expirada\n",
      "key expirada\n",
      "key expirada\n"
     ]
    },
    {
     "name": "stderr",
     "output_type": "stream",
     "text": [
      "  6%|▌         | 9/150 [00:31<08:13,  3.50s/it]"
     ]
    },
    {
     "name": "stdout",
     "output_type": "stream",
     "text": [
      "key expirada\n",
      "2\n",
      "key expirada\n",
      "key expirada\n",
      "key expirada\n",
      "key expirada\n",
      "key expirada\n",
      "key expirada\n",
      "key expirada\n",
      "key expirada\n"
     ]
    },
    {
     "name": "stderr",
     "output_type": "stream",
     "text": [
      "  7%|▋         | 10/150 [00:34<08:07,  3.48s/it]"
     ]
    },
    {
     "name": "stdout",
     "output_type": "stream",
     "text": [
      "key expirada\n",
      "2\n",
      "key expirada\n",
      "key expirada\n",
      "key expirada\n",
      "key expirada\n",
      "key expirada\n",
      "key expirada\n",
      "key expirada\n",
      "key expirada\n"
     ]
    },
    {
     "name": "stderr",
     "output_type": "stream",
     "text": [
      "  7%|▋         | 11/150 [00:38<07:59,  3.45s/it]"
     ]
    },
    {
     "name": "stdout",
     "output_type": "stream",
     "text": [
      "key expirada\n",
      "2\n",
      "key expirada\n",
      "key expirada\n",
      "key expirada\n",
      "key expirada\n",
      "key expirada\n",
      "key expirada\n",
      "key expirada\n",
      "key expirada\n"
     ]
    },
    {
     "name": "stderr",
     "output_type": "stream",
     "text": [
      "  8%|▊         | 12/150 [00:41<08:01,  3.49s/it]"
     ]
    },
    {
     "name": "stdout",
     "output_type": "stream",
     "text": [
      "key expirada\n",
      "2\n",
      "key expirada\n",
      "key expirada\n",
      "key expirada\n",
      "key expirada\n",
      "key expirada\n",
      "key expirada\n",
      "key expirada\n",
      "key expirada\n"
     ]
    },
    {
     "name": "stderr",
     "output_type": "stream",
     "text": [
      "  9%|▊         | 13/150 [00:45<07:57,  3.49s/it]"
     ]
    },
    {
     "name": "stdout",
     "output_type": "stream",
     "text": [
      "key expirada\n",
      "2\n",
      "key expirada\n",
      "key expirada\n",
      "key expirada\n",
      "key expirada\n",
      "key expirada\n",
      "key expirada\n",
      "key expirada\n",
      "key expirada\n"
     ]
    },
    {
     "name": "stderr",
     "output_type": "stream",
     "text": [
      "  9%|▉         | 14/150 [00:48<07:46,  3.43s/it]"
     ]
    },
    {
     "name": "stdout",
     "output_type": "stream",
     "text": [
      "key expirada\n",
      "2\n",
      "key expirada\n",
      "key expirada\n",
      "key expirada\n",
      "key expirada\n",
      "key expirada\n",
      "key expirada\n",
      "key expirada\n",
      "key expirada\n"
     ]
    },
    {
     "name": "stderr",
     "output_type": "stream",
     "text": [
      " 10%|█         | 15/150 [00:51<07:42,  3.43s/it]"
     ]
    },
    {
     "name": "stdout",
     "output_type": "stream",
     "text": [
      "key expirada\n",
      "2\n",
      "key expirada\n",
      "key expirada\n",
      "key expirada\n",
      "key expirada\n",
      "key expirada\n",
      "key expirada\n",
      "key expirada\n",
      "key expirada\n"
     ]
    },
    {
     "name": "stderr",
     "output_type": "stream",
     "text": [
      " 11%|█         | 16/150 [00:55<07:39,  3.43s/it]"
     ]
    },
    {
     "name": "stdout",
     "output_type": "stream",
     "text": [
      "key expirada\n",
      "2\n",
      "key expirada\n",
      "key expirada\n",
      "key expirada\n",
      "key expirada\n",
      "key expirada\n",
      "key expirada\n",
      "key expirada\n",
      "key expirada\n"
     ]
    },
    {
     "name": "stderr",
     "output_type": "stream",
     "text": [
      " 11%|█▏        | 17/150 [00:58<07:36,  3.43s/it]"
     ]
    },
    {
     "name": "stdout",
     "output_type": "stream",
     "text": [
      "key expirada\n",
      "2\n",
      "key expirada\n",
      "key expirada\n",
      "key expirada\n",
      "key expirada\n",
      "key expirada\n",
      "key expirada\n",
      "key expirada\n",
      "key expirada\n"
     ]
    },
    {
     "name": "stderr",
     "output_type": "stream",
     "text": [
      " 12%|█▏        | 18/150 [01:02<07:30,  3.41s/it]"
     ]
    },
    {
     "name": "stdout",
     "output_type": "stream",
     "text": [
      "key expirada\n",
      "2\n",
      "key expirada\n",
      "key expirada\n",
      "key expirada\n",
      "key expirada\n",
      "key expirada\n",
      "key expirada\n",
      "key expirada\n",
      "key expirada\n"
     ]
    },
    {
     "name": "stderr",
     "output_type": "stream",
     "text": [
      " 13%|█▎        | 19/150 [01:05<07:26,  3.41s/it]"
     ]
    },
    {
     "name": "stdout",
     "output_type": "stream",
     "text": [
      "key expirada\n",
      "2\n",
      "key expirada\n",
      "key expirada\n",
      "key expirada\n",
      "key expirada\n",
      "key expirada\n",
      "key expirada\n",
      "key expirada\n",
      "key expirada\n"
     ]
    },
    {
     "name": "stderr",
     "output_type": "stream",
     "text": [
      " 13%|█▎        | 20/150 [01:08<07:22,  3.41s/it]"
     ]
    },
    {
     "name": "stdout",
     "output_type": "stream",
     "text": [
      "key expirada\n",
      "2\n",
      "key expirada\n",
      "key expirada\n",
      "key expirada\n",
      "key expirada\n",
      "key expirada\n",
      "key expirada\n",
      "key expirada\n",
      "key expirada\n"
     ]
    },
    {
     "name": "stderr",
     "output_type": "stream",
     "text": [
      " 14%|█▍        | 21/150 [01:12<07:18,  3.40s/it]"
     ]
    },
    {
     "name": "stdout",
     "output_type": "stream",
     "text": [
      "key expirada\n",
      "2\n",
      "key expirada\n",
      "key expirada\n",
      "key expirada\n",
      "key expirada\n",
      "key expirada\n",
      "key expirada\n",
      "key expirada\n",
      "key expirada\n"
     ]
    },
    {
     "name": "stderr",
     "output_type": "stream",
     "text": [
      " 15%|█▍        | 22/150 [01:15<07:13,  3.39s/it]"
     ]
    },
    {
     "name": "stdout",
     "output_type": "stream",
     "text": [
      "key expirada\n",
      "2\n",
      "key expirada\n",
      "key expirada\n",
      "key expirada\n",
      "key expirada\n",
      "key expirada\n",
      "key expirada\n",
      "key expirada\n",
      "key expirada\n"
     ]
    },
    {
     "name": "stderr",
     "output_type": "stream",
     "text": [
      " 15%|█▌        | 23/150 [01:18<07:08,  3.38s/it]"
     ]
    },
    {
     "name": "stdout",
     "output_type": "stream",
     "text": [
      "key expirada\n",
      "2\n",
      "key expirada\n",
      "key expirada\n",
      "key expirada\n",
      "key expirada\n",
      "key expirada\n",
      "key expirada\n",
      "key expirada\n",
      "key expirada\n"
     ]
    },
    {
     "name": "stderr",
     "output_type": "stream",
     "text": [
      " 16%|█▌        | 24/150 [01:22<07:04,  3.37s/it]"
     ]
    },
    {
     "name": "stdout",
     "output_type": "stream",
     "text": [
      "key expirada\n",
      "2\n",
      "key expirada\n",
      "key expirada\n",
      "key expirada\n",
      "key expirada\n",
      "key expirada\n",
      "key expirada\n",
      "key expirada\n",
      "key expirada\n"
     ]
    },
    {
     "name": "stderr",
     "output_type": "stream",
     "text": [
      " 17%|█▋        | 25/150 [01:25<07:02,  3.38s/it]"
     ]
    },
    {
     "name": "stdout",
     "output_type": "stream",
     "text": [
      "key expirada\n",
      "2\n",
      "key expirada\n",
      "key expirada\n",
      "key expirada\n",
      "key expirada\n",
      "key expirada\n",
      "key expirada\n",
      "key expirada\n",
      "key expirada\n"
     ]
    },
    {
     "name": "stderr",
     "output_type": "stream",
     "text": [
      " 17%|█▋        | 26/150 [01:28<06:57,  3.37s/it]"
     ]
    },
    {
     "name": "stdout",
     "output_type": "stream",
     "text": [
      "key expirada\n",
      "2\n",
      "key expirada\n",
      "key expirada\n",
      "key expirada\n",
      "key expirada\n",
      "key expirada\n",
      "key expirada\n",
      "key expirada\n",
      "key expirada\n"
     ]
    },
    {
     "name": "stderr",
     "output_type": "stream",
     "text": [
      " 18%|█▊        | 27/150 [01:32<07:04,  3.45s/it]"
     ]
    },
    {
     "name": "stdout",
     "output_type": "stream",
     "text": [
      "key expirada\n",
      "2\n",
      "key expirada\n",
      "key expirada\n",
      "key expirada\n",
      "key expirada\n",
      "key expirada\n",
      "key expirada\n",
      "key expirada\n",
      "key expirada\n"
     ]
    },
    {
     "name": "stderr",
     "output_type": "stream",
     "text": [
      " 19%|█▊        | 28/150 [01:36<06:58,  3.43s/it]"
     ]
    },
    {
     "name": "stdout",
     "output_type": "stream",
     "text": [
      "key expirada\n",
      "2\n",
      "key expirada\n",
      "key expirada\n",
      "key expirada\n",
      "key expirada\n",
      "key expirada\n",
      "key expirada\n",
      "key expirada\n",
      "key expirada\n"
     ]
    },
    {
     "name": "stderr",
     "output_type": "stream",
     "text": [
      " 19%|█▉        | 29/150 [01:39<06:51,  3.40s/it]"
     ]
    },
    {
     "name": "stdout",
     "output_type": "stream",
     "text": [
      "key expirada\n",
      "2\n",
      "key expirada\n",
      "key expirada\n",
      "key expirada\n",
      "key expirada\n",
      "key expirada\n",
      "key expirada\n",
      "key expirada\n",
      "key expirada\n"
     ]
    },
    {
     "name": "stderr",
     "output_type": "stream",
     "text": [
      " 20%|██        | 30/150 [01:42<06:47,  3.39s/it]"
     ]
    },
    {
     "name": "stdout",
     "output_type": "stream",
     "text": [
      "key expirada\n",
      "2\n",
      "key expirada\n",
      "key expirada\n",
      "key expirada\n",
      "key expirada\n",
      "key expirada\n",
      "key expirada\n",
      "key expirada\n",
      "key expirada\n"
     ]
    },
    {
     "name": "stderr",
     "output_type": "stream",
     "text": [
      " 21%|██        | 31/150 [01:45<06:41,  3.38s/it]"
     ]
    },
    {
     "name": "stdout",
     "output_type": "stream",
     "text": [
      "key expirada\n",
      "2\n",
      "key expirada\n",
      "key expirada\n",
      "key expirada\n",
      "key expirada\n",
      "key expirada\n",
      "key expirada\n",
      "key expirada\n",
      "key expirada\n"
     ]
    },
    {
     "name": "stderr",
     "output_type": "stream",
     "text": [
      " 21%|██▏       | 32/150 [01:49<06:36,  3.36s/it]"
     ]
    },
    {
     "name": "stdout",
     "output_type": "stream",
     "text": [
      "key expirada\n",
      "2\n",
      "key expirada\n",
      "key expirada\n",
      "key expirada\n",
      "key expirada\n",
      "key expirada\n",
      "key expirada\n",
      "key expirada\n",
      "key expirada\n"
     ]
    },
    {
     "name": "stderr",
     "output_type": "stream",
     "text": [
      " 22%|██▏       | 33/150 [01:52<06:38,  3.41s/it]"
     ]
    },
    {
     "name": "stdout",
     "output_type": "stream",
     "text": [
      "key expirada\n",
      "2\n",
      "key expirada\n",
      "key expirada\n",
      "key expirada\n",
      "key expirada\n",
      "key expirada\n",
      "key expirada\n",
      "key expirada\n",
      "key expirada\n"
     ]
    },
    {
     "name": "stderr",
     "output_type": "stream",
     "text": [
      " 23%|██▎       | 34/150 [01:56<06:33,  3.39s/it]"
     ]
    },
    {
     "name": "stdout",
     "output_type": "stream",
     "text": [
      "key expirada\n",
      "2\n",
      "key expirada\n",
      "key expirada\n",
      "key expirada\n",
      "key expirada\n",
      "key expirada\n",
      "key expirada\n",
      "key expirada\n",
      "key expirada\n"
     ]
    },
    {
     "name": "stderr",
     "output_type": "stream",
     "text": [
      " 23%|██▎       | 35/150 [02:01<06:47,  3.54s/it]"
     ]
    },
    {
     "name": "stdout",
     "output_type": "stream",
     "text": [
      "key expirada\n",
      "2\n",
      "key expirada\n",
      "key expirada\n",
      "key expirada\n",
      "key expirada\n",
      "key expirada\n",
      "key expirada\n",
      "key expirada\n",
      "key expirada\n"
     ]
    },
    {
     "name": "stderr",
     "output_type": "stream",
     "text": [
      " 24%|██▍       | 36/150 [02:04<06:39,  3.50s/it]"
     ]
    },
    {
     "name": "stdout",
     "output_type": "stream",
     "text": [
      "key expirada\n",
      "2\n",
      "key expirada\n",
      "key expirada\n",
      "key expirada\n",
      "key expirada\n",
      "key expirada\n",
      "key expirada\n",
      "key expirada\n",
      "key expirada\n"
     ]
    },
    {
     "name": "stderr",
     "output_type": "stream",
     "text": [
      " 25%|██▍       | 37/150 [02:07<06:33,  3.48s/it]"
     ]
    },
    {
     "name": "stdout",
     "output_type": "stream",
     "text": [
      "key expirada\n",
      "2\n",
      "key expirada\n",
      "key expirada\n",
      "key expirada\n",
      "key expirada\n",
      "key expirada\n",
      "key expirada\n",
      "key expirada\n",
      "key expirada\n"
     ]
    },
    {
     "name": "stderr",
     "output_type": "stream",
     "text": [
      " 25%|██▌       | 38/150 [02:10<06:27,  3.46s/it]"
     ]
    },
    {
     "name": "stdout",
     "output_type": "stream",
     "text": [
      "key expirada\n",
      "2\n",
      "key expirada\n",
      "key expirada\n",
      "key expirada\n",
      "key expirada\n",
      "key expirada\n",
      "key expirada\n",
      "key expirada\n",
      "key expirada\n"
     ]
    },
    {
     "name": "stderr",
     "output_type": "stream",
     "text": [
      " 26%|██▌       | 39/150 [02:13<06:20,  3.43s/it]"
     ]
    },
    {
     "name": "stdout",
     "output_type": "stream",
     "text": [
      "key expirada\n",
      "2\n",
      "key expirada\n",
      "key expirada\n",
      "key expirada\n",
      "key expirada\n",
      "key expirada\n",
      "key expirada\n",
      "key expirada\n",
      "key expirada\n"
     ]
    },
    {
     "name": "stderr",
     "output_type": "stream",
     "text": [
      " 27%|██▋       | 40/150 [02:17<06:16,  3.42s/it]"
     ]
    },
    {
     "name": "stdout",
     "output_type": "stream",
     "text": [
      "key expirada\n",
      "2\n",
      "key expirada\n",
      "key expirada\n",
      "key expirada\n",
      "key expirada\n",
      "key expirada\n",
      "key expirada\n",
      "key expirada\n",
      "key expirada\n"
     ]
    },
    {
     "name": "stderr",
     "output_type": "stream",
     "text": [
      " 27%|██▋       | 41/150 [02:21<06:16,  3.46s/it]"
     ]
    },
    {
     "name": "stdout",
     "output_type": "stream",
     "text": [
      "key expirada\n",
      "2\n",
      "key expirada\n",
      "key expirada\n",
      "key expirada\n",
      "key expirada\n",
      "key expirada\n",
      "key expirada\n",
      "key expirada\n",
      "key expirada\n"
     ]
    },
    {
     "name": "stderr",
     "output_type": "stream",
     "text": [
      " 28%|██▊       | 42/150 [02:25<06:21,  3.54s/it]"
     ]
    },
    {
     "name": "stdout",
     "output_type": "stream",
     "text": [
      "key expirada\n",
      "2\n",
      "key expirada\n",
      "key expirada\n",
      "key expirada\n",
      "key expirada\n",
      "key expirada\n",
      "key expirada\n",
      "key expirada\n",
      "key expirada\n"
     ]
    },
    {
     "name": "stderr",
     "output_type": "stream",
     "text": [
      " 29%|██▊       | 43/150 [02:28<06:14,  3.50s/it]"
     ]
    },
    {
     "name": "stdout",
     "output_type": "stream",
     "text": [
      "key expirada\n",
      "2\n",
      "key expirada\n",
      "key expirada\n",
      "key expirada\n",
      "key expirada\n",
      "key expirada\n",
      "key expirada\n",
      "key expirada\n",
      "key expirada\n"
     ]
    },
    {
     "name": "stderr",
     "output_type": "stream",
     "text": [
      " 29%|██▉       | 44/150 [02:31<06:09,  3.48s/it]"
     ]
    },
    {
     "name": "stdout",
     "output_type": "stream",
     "text": [
      "key expirada\n",
      "2\n",
      "key expirada\n",
      "key expirada\n",
      "key expirada\n",
      "key expirada\n",
      "key expirada\n",
      "key expirada\n",
      "key expirada\n",
      "key expirada\n"
     ]
    },
    {
     "name": "stderr",
     "output_type": "stream",
     "text": [
      " 30%|███       | 45/150 [02:35<06:09,  3.52s/it]"
     ]
    },
    {
     "name": "stdout",
     "output_type": "stream",
     "text": [
      "key expirada\n",
      "2\n",
      "key expirada\n",
      "key expirada\n",
      "key expirada\n",
      "key expirada\n",
      "key expirada\n",
      "key expirada\n",
      "key expirada\n",
      "key expirada\n"
     ]
    },
    {
     "name": "stderr",
     "output_type": "stream",
     "text": [
      " 31%|███       | 46/150 [02:38<06:03,  3.50s/it]"
     ]
    },
    {
     "name": "stdout",
     "output_type": "stream",
     "text": [
      "key expirada\n",
      "2\n",
      "key expirada\n",
      "key expirada\n",
      "key expirada\n",
      "key expirada\n",
      "key expirada\n",
      "key expirada\n",
      "key expirada\n",
      "key expirada\n"
     ]
    },
    {
     "name": "stderr",
     "output_type": "stream",
     "text": [
      " 31%|███▏      | 47/150 [02:43<06:09,  3.59s/it]"
     ]
    },
    {
     "name": "stdout",
     "output_type": "stream",
     "text": [
      "key expirada\n",
      "2\n",
      "key expirada\n",
      "key expirada\n",
      "key expirada\n",
      "key expirada\n",
      "key expirada\n",
      "key expirada\n",
      "key expirada\n",
      "key expirada\n"
     ]
    },
    {
     "name": "stderr",
     "output_type": "stream",
     "text": [
      " 32%|███▏      | 48/150 [02:46<06:05,  3.58s/it]"
     ]
    },
    {
     "name": "stdout",
     "output_type": "stream",
     "text": [
      "key expirada\n",
      "2\n",
      "key expirada\n",
      "key expirada\n",
      "key expirada\n",
      "key expirada\n",
      "key expirada\n",
      "key expirada\n",
      "key expirada\n",
      "key expirada\n"
     ]
    },
    {
     "name": "stderr",
     "output_type": "stream",
     "text": [
      " 33%|███▎      | 49/150 [02:50<05:58,  3.55s/it]"
     ]
    },
    {
     "name": "stdout",
     "output_type": "stream",
     "text": [
      "key expirada\n",
      "2\n",
      "key expirada\n",
      "key expirada\n",
      "key expirada\n",
      "key expirada\n",
      "key expirada\n",
      "key expirada\n",
      "key expirada\n",
      "key expirada\n"
     ]
    },
    {
     "name": "stderr",
     "output_type": "stream",
     "text": [
      " 33%|███▎      | 50/150 [02:53<05:51,  3.52s/it]"
     ]
    },
    {
     "name": "stdout",
     "output_type": "stream",
     "text": [
      "key expirada\n",
      "2\n",
      "key expirada\n",
      "key expirada\n",
      "key expirada\n",
      "key expirada\n",
      "key expirada\n",
      "key expirada\n",
      "key expirada\n",
      "key expirada\n"
     ]
    },
    {
     "name": "stderr",
     "output_type": "stream",
     "text": [
      " 34%|███▍      | 51/150 [02:57<05:51,  3.55s/it]"
     ]
    },
    {
     "name": "stdout",
     "output_type": "stream",
     "text": [
      "key expirada\n",
      "2\n",
      "key expirada\n",
      "key expirada\n",
      "key expirada\n",
      "key expirada\n",
      "key expirada\n",
      "key expirada\n",
      "key expirada\n",
      "key expirada\n"
     ]
    },
    {
     "name": "stderr",
     "output_type": "stream",
     "text": [
      " 35%|███▍      | 52/150 [03:00<05:45,  3.52s/it]"
     ]
    },
    {
     "name": "stdout",
     "output_type": "stream",
     "text": [
      "key expirada\n",
      "2\n",
      "key expirada\n",
      "key expirada\n",
      "key expirada\n",
      "key expirada\n",
      "key expirada\n",
      "key expirada\n",
      "key expirada\n",
      "key expirada\n"
     ]
    },
    {
     "name": "stderr",
     "output_type": "stream",
     "text": [
      " 35%|███▌      | 53/150 [03:03<05:39,  3.50s/it]"
     ]
    },
    {
     "name": "stdout",
     "output_type": "stream",
     "text": [
      "key expirada\n",
      "2\n",
      "key expirada\n",
      "key expirada\n",
      "key expirada\n",
      "key expirada\n",
      "key expirada\n",
      "key expirada\n",
      "key expirada\n",
      "key expirada\n"
     ]
    },
    {
     "name": "stderr",
     "output_type": "stream",
     "text": [
      " 36%|███▌      | 54/150 [03:06<05:33,  3.47s/it]"
     ]
    },
    {
     "name": "stdout",
     "output_type": "stream",
     "text": [
      "key expirada\n",
      "2\n",
      "key expirada\n",
      "key expirada\n",
      "key expirada\n",
      "key expirada\n",
      "key expirada\n",
      "key expirada\n",
      "key expirada\n",
      "key expirada\n"
     ]
    },
    {
     "name": "stderr",
     "output_type": "stream",
     "text": [
      " 37%|███▋      | 55/150 [03:11<05:37,  3.55s/it]"
     ]
    },
    {
     "name": "stdout",
     "output_type": "stream",
     "text": [
      "key expirada\n",
      "2\n",
      "key expirada\n",
      "key expirada\n",
      "key expirada\n",
      "key expirada\n",
      "key expirada\n",
      "key expirada\n",
      "key expirada\n",
      "key expirada\n"
     ]
    },
    {
     "name": "stderr",
     "output_type": "stream",
     "text": [
      " 37%|███▋      | 56/150 [03:14<05:32,  3.53s/it]"
     ]
    },
    {
     "name": "stdout",
     "output_type": "stream",
     "text": [
      "key expirada\n",
      "2\n",
      "key expirada\n",
      "key expirada\n",
      "key expirada\n",
      "key expirada\n",
      "key expirada\n",
      "key expirada\n",
      "key expirada\n",
      "key expirada\n"
     ]
    },
    {
     "name": "stderr",
     "output_type": "stream",
     "text": [
      " 38%|███▊      | 57/150 [03:17<05:25,  3.50s/it]"
     ]
    },
    {
     "name": "stdout",
     "output_type": "stream",
     "text": [
      "key expirada\n",
      "2\n",
      "key expirada\n",
      "key expirada\n",
      "key expirada\n",
      "key expirada\n",
      "key expirada\n",
      "key expirada\n",
      "key expirada\n",
      "key expirada\n"
     ]
    },
    {
     "name": "stderr",
     "output_type": "stream",
     "text": [
      " 39%|███▊      | 58/150 [03:21<05:19,  3.47s/it]"
     ]
    },
    {
     "name": "stdout",
     "output_type": "stream",
     "text": [
      "key expirada\n",
      "2\n",
      "key expirada\n",
      "key expirada\n",
      "key expirada\n",
      "key expirada\n",
      "key expirada\n",
      "key expirada\n",
      "key expirada\n",
      "key expirada\n"
     ]
    },
    {
     "name": "stderr",
     "output_type": "stream",
     "text": [
      " 39%|███▉      | 59/150 [03:24<05:18,  3.49s/it]"
     ]
    },
    {
     "name": "stdout",
     "output_type": "stream",
     "text": [
      "key expirada\n",
      "2\n",
      "key expirada\n",
      "key expirada\n",
      "key expirada\n",
      "key expirada\n",
      "key expirada\n",
      "key expirada\n",
      "key expirada\n",
      "key expirada\n"
     ]
    },
    {
     "name": "stderr",
     "output_type": "stream",
     "text": [
      " 40%|████      | 60/150 [03:28<05:13,  3.48s/it]"
     ]
    },
    {
     "name": "stdout",
     "output_type": "stream",
     "text": [
      "key expirada\n",
      "2\n",
      "key expirada\n",
      "key expirada\n",
      "key expirada\n",
      "key expirada\n",
      "key expirada\n",
      "key expirada\n",
      "key expirada\n",
      "key expirada\n"
     ]
    },
    {
     "name": "stderr",
     "output_type": "stream",
     "text": [
      " 41%|████      | 61/150 [03:31<05:07,  3.45s/it]"
     ]
    },
    {
     "name": "stdout",
     "output_type": "stream",
     "text": [
      "key expirada\n",
      "2\n",
      "key expirada\n",
      "key expirada\n",
      "key expirada\n",
      "key expirada\n",
      "key expirada\n",
      "key expirada\n",
      "key expirada\n",
      "key expirada\n"
     ]
    },
    {
     "name": "stderr",
     "output_type": "stream",
     "text": [
      " 41%|████▏     | 62/150 [03:34<05:02,  3.44s/it]"
     ]
    },
    {
     "name": "stdout",
     "output_type": "stream",
     "text": [
      "key expirada\n",
      "2\n",
      "key expirada\n",
      "key expirada\n",
      "key expirada\n",
      "key expirada\n",
      "key expirada\n",
      "key expirada\n",
      "key expirada\n",
      "key expirada\n"
     ]
    },
    {
     "name": "stderr",
     "output_type": "stream",
     "text": [
      " 42%|████▏     | 63/150 [03:37<04:57,  3.42s/it]"
     ]
    },
    {
     "name": "stdout",
     "output_type": "stream",
     "text": [
      "key expirada\n",
      "2\n",
      "key expirada\n",
      "key expirada\n",
      "key expirada\n",
      "key expirada\n",
      "key expirada\n",
      "key expirada\n",
      "key expirada\n",
      "key expirada\n"
     ]
    },
    {
     "name": "stderr",
     "output_type": "stream",
     "text": [
      " 43%|████▎     | 64/150 [03:41<04:52,  3.40s/it]"
     ]
    },
    {
     "name": "stdout",
     "output_type": "stream",
     "text": [
      "key expirada\n",
      "2\n",
      "key expirada\n",
      "key expirada\n",
      "key expirada\n",
      "key expirada\n",
      "key expirada\n",
      "key expirada\n",
      "key expirada\n",
      "key expirada\n"
     ]
    },
    {
     "name": "stderr",
     "output_type": "stream",
     "text": [
      " 43%|████▎     | 65/150 [03:44<04:46,  3.37s/it]"
     ]
    },
    {
     "name": "stdout",
     "output_type": "stream",
     "text": [
      "key expirada\n",
      "2\n",
      "key expirada\n",
      "key expirada\n",
      "key expirada\n",
      "key expirada\n",
      "key expirada\n",
      "key expirada\n",
      "key expirada\n",
      "key expirada\n"
     ]
    },
    {
     "name": "stderr",
     "output_type": "stream",
     "text": [
      " 44%|████▍     | 66/150 [03:47<04:41,  3.35s/it]"
     ]
    },
    {
     "name": "stdout",
     "output_type": "stream",
     "text": [
      "key expirada\n",
      "2\n",
      "key expirada\n",
      "key expirada\n",
      "key expirada\n",
      "key expirada\n",
      "key expirada\n",
      "key expirada\n",
      "key expirada\n",
      "key expirada\n"
     ]
    },
    {
     "name": "stderr",
     "output_type": "stream",
     "text": [
      " 45%|████▍     | 67/150 [03:50<04:36,  3.33s/it]"
     ]
    },
    {
     "name": "stdout",
     "output_type": "stream",
     "text": [
      "key expirada\n",
      "2\n",
      "key expirada\n",
      "key expirada\n",
      "key expirada\n",
      "key expirada\n",
      "key expirada\n",
      "key expirada\n",
      "key expirada\n",
      "key expirada\n"
     ]
    },
    {
     "name": "stderr",
     "output_type": "stream",
     "text": [
      " 45%|████▌     | 68/150 [03:53<04:32,  3.32s/it]"
     ]
    },
    {
     "name": "stdout",
     "output_type": "stream",
     "text": [
      "key expirada\n",
      "2\n",
      "key expirada\n",
      "key expirada\n",
      "key expirada\n",
      "key expirada\n",
      "key expirada\n",
      "key expirada\n",
      "key expirada\n",
      "key expirada\n"
     ]
    },
    {
     "name": "stderr",
     "output_type": "stream",
     "text": [
      " 46%|████▌     | 69/150 [03:57<04:29,  3.33s/it]"
     ]
    },
    {
     "name": "stdout",
     "output_type": "stream",
     "text": [
      "key expirada\n",
      "2\n",
      "key expirada\n",
      "key expirada\n",
      "key expirada\n",
      "key expirada\n",
      "key expirada\n",
      "key expirada\n",
      "key expirada\n",
      "key expirada\n"
     ]
    },
    {
     "name": "stderr",
     "output_type": "stream",
     "text": [
      " 47%|████▋     | 70/150 [04:00<04:26,  3.33s/it]"
     ]
    },
    {
     "name": "stdout",
     "output_type": "stream",
     "text": [
      "key expirada\n",
      "2\n",
      "key expirada\n",
      "key expirada\n",
      "key expirada\n",
      "key expirada\n",
      "key expirada\n",
      "key expirada\n",
      "key expirada\n",
      "key expirada\n"
     ]
    },
    {
     "name": "stderr",
     "output_type": "stream",
     "text": [
      " 47%|████▋     | 71/150 [04:04<04:27,  3.39s/it]"
     ]
    },
    {
     "name": "stdout",
     "output_type": "stream",
     "text": [
      "key expirada\n",
      "2\n",
      "key expirada\n",
      "key expirada\n",
      "key expirada\n",
      "key expirada\n",
      "key expirada\n",
      "key expirada\n",
      "key expirada\n",
      "key expirada\n"
     ]
    },
    {
     "name": "stderr",
     "output_type": "stream",
     "text": [
      " 48%|████▊     | 72/150 [04:07<04:24,  3.39s/it]"
     ]
    },
    {
     "name": "stdout",
     "output_type": "stream",
     "text": [
      "key expirada\n",
      "2\n",
      "key expirada\n",
      "key expirada\n",
      "key expirada\n",
      "key expirada\n",
      "key expirada\n",
      "key expirada\n",
      "key expirada\n",
      "key expirada\n"
     ]
    },
    {
     "name": "stderr",
     "output_type": "stream",
     "text": [
      " 49%|████▊     | 73/150 [04:11<04:25,  3.44s/it]"
     ]
    },
    {
     "name": "stdout",
     "output_type": "stream",
     "text": [
      "key expirada\n",
      "2\n",
      "key expirada\n",
      "key expirada\n",
      "key expirada\n",
      "key expirada\n",
      "key expirada\n",
      "key expirada\n",
      "key expirada\n",
      "key expirada\n"
     ]
    },
    {
     "name": "stderr",
     "output_type": "stream",
     "text": [
      " 49%|████▉     | 74/150 [04:15<04:20,  3.43s/it]"
     ]
    },
    {
     "name": "stdout",
     "output_type": "stream",
     "text": [
      "key expirada\n",
      "2\n",
      "key expirada\n",
      "key expirada\n",
      "key expirada\n",
      "key expirada\n",
      "key expirada\n",
      "key expirada\n",
      "key expirada\n",
      "key expirada\n"
     ]
    },
    {
     "name": "stderr",
     "output_type": "stream",
     "text": [
      " 50%|█████     | 75/150 [04:18<04:16,  3.41s/it]"
     ]
    },
    {
     "name": "stdout",
     "output_type": "stream",
     "text": [
      "key expirada\n",
      "2\n",
      "key expirada\n",
      "key expirada\n",
      "key expirada\n",
      "key expirada\n",
      "key expirada\n",
      "key expirada\n",
      "key expirada\n",
      "key expirada\n"
     ]
    },
    {
     "name": "stderr",
     "output_type": "stream",
     "text": [
      " 51%|█████     | 76/150 [04:21<04:13,  3.43s/it]"
     ]
    },
    {
     "name": "stdout",
     "output_type": "stream",
     "text": [
      "key expirada\n",
      "2\n",
      "key expirada\n",
      "key expirada\n",
      "key expirada\n",
      "key expirada\n",
      "key expirada\n",
      "key expirada\n",
      "key expirada\n",
      "key expirada\n"
     ]
    },
    {
     "name": "stderr",
     "output_type": "stream",
     "text": [
      " 51%|█████▏    | 77/150 [04:25<04:09,  3.42s/it]"
     ]
    },
    {
     "name": "stdout",
     "output_type": "stream",
     "text": [
      "key expirada\n",
      "2\n",
      "key expirada\n",
      "key expirada\n",
      "key expirada\n",
      "key expirada\n",
      "key expirada\n",
      "key expirada\n",
      "key expirada\n",
      "key expirada\n"
     ]
    },
    {
     "name": "stderr",
     "output_type": "stream",
     "text": [
      " 52%|█████▏    | 78/150 [04:28<04:04,  3.39s/it]"
     ]
    },
    {
     "name": "stdout",
     "output_type": "stream",
     "text": [
      "key expirada\n",
      "2\n",
      "key expirada\n",
      "key expirada\n",
      "key expirada\n",
      "key expirada\n",
      "key expirada\n",
      "key expirada\n",
      "key expirada\n",
      "key expirada\n"
     ]
    },
    {
     "name": "stderr",
     "output_type": "stream",
     "text": [
      " 53%|█████▎    | 79/150 [04:31<03:59,  3.38s/it]"
     ]
    },
    {
     "name": "stdout",
     "output_type": "stream",
     "text": [
      "key expirada\n",
      "2\n",
      "key expirada\n",
      "key expirada\n",
      "key expirada\n",
      "key expirada\n",
      "key expirada\n",
      "key expirada\n",
      "key expirada\n",
      "key expirada\n"
     ]
    },
    {
     "name": "stderr",
     "output_type": "stream",
     "text": [
      " 53%|█████▎    | 80/150 [04:34<03:55,  3.36s/it]"
     ]
    },
    {
     "name": "stdout",
     "output_type": "stream",
     "text": [
      "key expirada\n",
      "2\n",
      "key expirada\n",
      "key expirada\n",
      "key expirada\n",
      "key expirada\n",
      "key expirada\n",
      "key expirada\n",
      "key expirada\n",
      "key expirada\n"
     ]
    },
    {
     "name": "stderr",
     "output_type": "stream",
     "text": [
      " 54%|█████▍    | 81/150 [04:38<03:52,  3.37s/it]"
     ]
    },
    {
     "name": "stdout",
     "output_type": "stream",
     "text": [
      "key expirada\n",
      "2\n",
      "key expirada\n",
      "key expirada\n",
      "key expirada\n",
      "key expirada\n",
      "key expirada\n",
      "key expirada\n",
      "key expirada\n",
      "key expirada\n"
     ]
    },
    {
     "name": "stderr",
     "output_type": "stream",
     "text": [
      " 55%|█████▍    | 82/150 [04:41<03:48,  3.36s/it]"
     ]
    },
    {
     "name": "stdout",
     "output_type": "stream",
     "text": [
      "key expirada\n",
      "2\n",
      "key expirada\n",
      "key expirada\n",
      "key expirada\n",
      "key expirada\n",
      "key expirada\n",
      "key expirada\n",
      "key expirada\n",
      "key expirada\n"
     ]
    },
    {
     "name": "stderr",
     "output_type": "stream",
     "text": [
      " 55%|█████▌    | 83/150 [04:44<03:44,  3.34s/it]"
     ]
    },
    {
     "name": "stdout",
     "output_type": "stream",
     "text": [
      "key expirada\n",
      "2\n",
      "key expirada\n",
      "key expirada\n",
      "key expirada\n",
      "key expirada\n",
      "key expirada\n",
      "key expirada\n",
      "key expirada\n",
      "key expirada\n"
     ]
    },
    {
     "name": "stderr",
     "output_type": "stream",
     "text": [
      " 56%|█████▌    | 84/150 [04:48<03:43,  3.39s/it]"
     ]
    },
    {
     "name": "stdout",
     "output_type": "stream",
     "text": [
      "key expirada\n",
      "2\n",
      "key expirada\n",
      "key expirada\n",
      "key expirada\n",
      "key expirada\n",
      "key expirada\n",
      "key expirada\n",
      "key expirada\n",
      "key expirada\n"
     ]
    },
    {
     "name": "stderr",
     "output_type": "stream",
     "text": [
      " 57%|█████▋    | 85/150 [04:52<03:41,  3.41s/it]"
     ]
    },
    {
     "name": "stdout",
     "output_type": "stream",
     "text": [
      "key expirada\n",
      "2\n",
      "key expirada\n",
      "key expirada\n",
      "key expirada\n",
      "key expirada\n",
      "key expirada\n",
      "key expirada\n",
      "key expirada\n",
      "key expirada\n"
     ]
    },
    {
     "name": "stderr",
     "output_type": "stream",
     "text": [
      " 57%|█████▋    | 86/150 [04:55<03:37,  3.40s/it]"
     ]
    },
    {
     "name": "stdout",
     "output_type": "stream",
     "text": [
      "key expirada\n",
      "2\n",
      "key expirada\n",
      "key expirada\n",
      "key expirada\n",
      "key expirada\n",
      "key expirada\n",
      "key expirada\n",
      "key expirada\n",
      "key expirada\n"
     ]
    },
    {
     "name": "stderr",
     "output_type": "stream",
     "text": [
      " 58%|█████▊    | 87/150 [04:58<03:33,  3.39s/it]"
     ]
    },
    {
     "name": "stdout",
     "output_type": "stream",
     "text": [
      "key expirada\n",
      "2\n",
      "key expirada\n",
      "key expirada\n",
      "key expirada\n",
      "key expirada\n",
      "key expirada\n",
      "key expirada\n",
      "key expirada\n",
      "key expirada\n"
     ]
    },
    {
     "name": "stderr",
     "output_type": "stream",
     "text": [
      " 59%|█████▊    | 88/150 [05:01<03:29,  3.37s/it]"
     ]
    },
    {
     "name": "stdout",
     "output_type": "stream",
     "text": [
      "key expirada\n",
      "2\n",
      "key expirada\n",
      "key expirada\n",
      "key expirada\n",
      "key expirada\n",
      "key expirada\n",
      "key expirada\n",
      "key expirada\n",
      "key expirada\n"
     ]
    },
    {
     "name": "stderr",
     "output_type": "stream",
     "text": [
      " 59%|█████▉    | 89/150 [05:05<03:25,  3.37s/it]"
     ]
    },
    {
     "name": "stdout",
     "output_type": "stream",
     "text": [
      "key expirada\n",
      "2\n",
      "key expirada\n",
      "key expirada\n",
      "key expirada\n",
      "key expirada\n",
      "key expirada\n",
      "key expirada\n",
      "key expirada\n",
      "key expirada\n"
     ]
    },
    {
     "name": "stderr",
     "output_type": "stream",
     "text": [
      " 60%|██████    | 90/150 [05:08<03:21,  3.35s/it]"
     ]
    },
    {
     "name": "stdout",
     "output_type": "stream",
     "text": [
      "key expirada\n",
      "2\n",
      "key expirada\n",
      "key expirada\n",
      "key expirada\n",
      "key expirada\n",
      "key expirada\n",
      "key expirada\n",
      "key expirada\n",
      "key expirada\n"
     ]
    },
    {
     "name": "stderr",
     "output_type": "stream",
     "text": [
      " 61%|██████    | 91/150 [05:16<03:46,  3.84s/it]"
     ]
    },
    {
     "name": "stdout",
     "output_type": "stream",
     "text": [
      "key expirada\n",
      "2\n",
      "key expirada\n",
      "key expirada\n",
      "key expirada\n",
      "key expirada\n",
      "key expirada\n",
      "key expirada\n",
      "key expirada\n",
      "key expirada\n"
     ]
    },
    {
     "name": "stderr",
     "output_type": "stream",
     "text": [
      " 61%|██████▏   | 92/150 [05:20<03:42,  3.83s/it]"
     ]
    },
    {
     "name": "stdout",
     "output_type": "stream",
     "text": [
      "key expirada\n",
      "2\n",
      "key expirada\n",
      "key expirada\n",
      "key expirada\n",
      "key expirada\n",
      "key expirada\n",
      "key expirada\n",
      "key expirada\n",
      "key expirada\n"
     ]
    },
    {
     "name": "stderr",
     "output_type": "stream",
     "text": [
      " 62%|██████▏   | 93/150 [05:23<03:35,  3.78s/it]"
     ]
    },
    {
     "name": "stdout",
     "output_type": "stream",
     "text": [
      "key expirada\n",
      "2\n",
      "key expirada\n",
      "key expirada\n",
      "key expirada\n",
      "key expirada\n",
      "key expirada\n",
      "key expirada\n",
      "key expirada\n",
      "key expirada\n"
     ]
    },
    {
     "name": "stderr",
     "output_type": "stream",
     "text": [
      " 63%|██████▎   | 94/150 [05:27<03:29,  3.73s/it]"
     ]
    },
    {
     "name": "stdout",
     "output_type": "stream",
     "text": [
      "key expirada\n",
      "2\n",
      "key expirada\n",
      "key expirada\n",
      "key expirada\n",
      "key expirada\n",
      "key expirada\n",
      "key expirada\n",
      "key expirada\n",
      "key expirada\n"
     ]
    },
    {
     "name": "stderr",
     "output_type": "stream",
     "text": [
      " 63%|██████▎   | 95/150 [05:30<03:23,  3.70s/it]"
     ]
    },
    {
     "name": "stdout",
     "output_type": "stream",
     "text": [
      "key expirada\n",
      "2\n",
      "key expirada\n",
      "key expirada\n",
      "key expirada\n",
      "key expirada\n",
      "key expirada\n",
      "key expirada\n",
      "key expirada\n",
      "key expirada\n"
     ]
    },
    {
     "name": "stderr",
     "output_type": "stream",
     "text": [
      " 64%|██████▍   | 96/150 [05:33<03:16,  3.65s/it]"
     ]
    },
    {
     "name": "stdout",
     "output_type": "stream",
     "text": [
      "key expirada\n",
      "2\n",
      "key expirada\n",
      "key expirada\n",
      "key expirada\n",
      "key expirada\n",
      "key expirada\n",
      "key expirada\n",
      "key expirada\n",
      "key expirada\n"
     ]
    },
    {
     "name": "stderr",
     "output_type": "stream",
     "text": [
      " 65%|██████▍   | 97/150 [05:37<03:11,  3.61s/it]"
     ]
    },
    {
     "name": "stdout",
     "output_type": "stream",
     "text": [
      "key expirada\n",
      "2\n",
      "key expirada\n",
      "key expirada\n",
      "key expirada\n",
      "key expirada\n",
      "key expirada\n",
      "key expirada\n",
      "key expirada\n",
      "key expirada\n"
     ]
    },
    {
     "name": "stderr",
     "output_type": "stream",
     "text": [
      " 65%|██████▌   | 98/150 [05:40<03:07,  3.60s/it]"
     ]
    },
    {
     "name": "stdout",
     "output_type": "stream",
     "text": [
      "key expirada\n",
      "2\n",
      "key expirada\n",
      "key expirada\n",
      "key expirada\n",
      "key expirada\n",
      "key expirada\n",
      "key expirada\n",
      "key expirada\n",
      "key expirada\n"
     ]
    },
    {
     "name": "stderr",
     "output_type": "stream",
     "text": [
      " 66%|██████▌   | 99/150 [05:44<03:03,  3.61s/it]"
     ]
    },
    {
     "name": "stdout",
     "output_type": "stream",
     "text": [
      "key expirada\n",
      "2\n",
      "key expirada\n",
      "key expirada\n",
      "key expirada\n",
      "key expirada\n",
      "key expirada\n",
      "key expirada\n",
      "key expirada\n",
      "key expirada\n"
     ]
    },
    {
     "name": "stderr",
     "output_type": "stream",
     "text": [
      " 67%|██████▋   | 100/150 [05:47<02:58,  3.56s/it]"
     ]
    },
    {
     "name": "stdout",
     "output_type": "stream",
     "text": [
      "key expirada\n",
      "2\n",
      "key expirada\n",
      "key expirada\n",
      "key expirada\n",
      "key expirada\n",
      "key expirada\n",
      "key expirada\n",
      "key expirada\n",
      "key expirada\n"
     ]
    },
    {
     "name": "stderr",
     "output_type": "stream",
     "text": [
      " 67%|██████▋   | 101/150 [05:51<02:55,  3.59s/it]"
     ]
    },
    {
     "name": "stdout",
     "output_type": "stream",
     "text": [
      "key expirada\n",
      "2\n",
      "key expirada\n",
      "key expirada\n",
      "key expirada\n",
      "key expirada\n",
      "key expirada\n",
      "key expirada\n",
      "key expirada\n",
      "key expirada\n"
     ]
    },
    {
     "name": "stderr",
     "output_type": "stream",
     "text": [
      " 68%|██████▊   | 102/150 [05:54<02:50,  3.55s/it]"
     ]
    },
    {
     "name": "stdout",
     "output_type": "stream",
     "text": [
      "key expirada\n",
      "2\n",
      "key expirada\n",
      "key expirada\n",
      "key expirada\n",
      "key expirada\n",
      "key expirada\n",
      "key expirada\n",
      "key expirada\n",
      "key expirada\n"
     ]
    },
    {
     "name": "stderr",
     "output_type": "stream",
     "text": [
      " 69%|██████▊   | 103/150 [05:57<02:45,  3.52s/it]"
     ]
    },
    {
     "name": "stdout",
     "output_type": "stream",
     "text": [
      "key expirada\n",
      "2\n",
      "key expirada\n",
      "key expirada\n",
      "key expirada\n",
      "key expirada\n",
      "key expirada\n",
      "key expirada\n",
      "key expirada\n",
      "key expirada\n"
     ]
    },
    {
     "name": "stderr",
     "output_type": "stream",
     "text": [
      " 69%|██████▉   | 104/150 [06:00<02:41,  3.51s/it]"
     ]
    },
    {
     "name": "stdout",
     "output_type": "stream",
     "text": [
      "key expirada\n",
      "2\n",
      "key expirada\n",
      "key expirada\n",
      "key expirada\n",
      "key expirada\n",
      "key expirada\n",
      "key expirada\n",
      "key expirada\n",
      "key expirada\n"
     ]
    },
    {
     "name": "stderr",
     "output_type": "stream",
     "text": [
      " 70%|███████   | 105/150 [06:04<02:37,  3.49s/it]"
     ]
    },
    {
     "name": "stdout",
     "output_type": "stream",
     "text": [
      "key expirada\n",
      "2\n",
      "key expirada\n",
      "key expirada\n",
      "key expirada\n",
      "key expirada\n",
      "key expirada\n",
      "key expirada\n",
      "key expirada\n",
      "key expirada\n"
     ]
    },
    {
     "name": "stderr",
     "output_type": "stream",
     "text": [
      " 71%|███████   | 106/150 [06:07<02:32,  3.48s/it]"
     ]
    },
    {
     "name": "stdout",
     "output_type": "stream",
     "text": [
      "key expirada\n",
      "2\n",
      "key expirada\n",
      "key expirada\n",
      "key expirada\n",
      "key expirada\n",
      "key expirada\n",
      "key expirada\n",
      "key expirada\n",
      "key expirada\n"
     ]
    },
    {
     "name": "stderr",
     "output_type": "stream",
     "text": [
      " 71%|███████▏  | 107/150 [06:11<02:28,  3.46s/it]"
     ]
    },
    {
     "name": "stdout",
     "output_type": "stream",
     "text": [
      "key expirada\n",
      "2\n",
      "key expirada\n",
      "key expirada\n",
      "key expirada\n",
      "key expirada\n",
      "key expirada\n",
      "key expirada\n",
      "key expirada\n",
      "key expirada\n"
     ]
    },
    {
     "name": "stderr",
     "output_type": "stream",
     "text": [
      " 72%|███████▏  | 108/150 [06:15<02:29,  3.56s/it]"
     ]
    },
    {
     "name": "stdout",
     "output_type": "stream",
     "text": [
      "key expirada\n",
      "2\n",
      "key expirada\n",
      "key expirada\n",
      "key expirada\n",
      "key expirada\n",
      "key expirada\n",
      "key expirada\n",
      "key expirada\n",
      "key expirada\n"
     ]
    },
    {
     "name": "stderr",
     "output_type": "stream",
     "text": [
      " 73%|███████▎  | 109/150 [06:19<02:26,  3.56s/it]"
     ]
    },
    {
     "name": "stdout",
     "output_type": "stream",
     "text": [
      "key expirada\n",
      "2\n",
      "key expirada\n",
      "key expirada\n",
      "key expirada\n",
      "key expirada\n",
      "key expirada\n",
      "key expirada\n",
      "key expirada\n",
      "key expirada\n"
     ]
    },
    {
     "name": "stderr",
     "output_type": "stream",
     "text": [
      " 73%|███████▎  | 110/150 [06:22<02:21,  3.54s/it]"
     ]
    },
    {
     "name": "stdout",
     "output_type": "stream",
     "text": [
      "key expirada\n",
      "2\n",
      "key expirada\n",
      "key expirada\n",
      "key expirada\n",
      "key expirada\n",
      "key expirada\n",
      "key expirada\n",
      "key expirada\n",
      "key expirada\n"
     ]
    },
    {
     "name": "stderr",
     "output_type": "stream",
     "text": [
      " 74%|███████▍  | 111/150 [06:26<02:18,  3.56s/it]"
     ]
    },
    {
     "name": "stdout",
     "output_type": "stream",
     "text": [
      "key expirada\n",
      "2\n",
      "key expirada\n",
      "key expirada\n",
      "key expirada\n",
      "key expirada\n",
      "key expirada\n",
      "key expirada\n",
      "key expirada\n",
      "key expirada\n"
     ]
    },
    {
     "name": "stderr",
     "output_type": "stream",
     "text": [
      " 75%|███████▍  | 112/150 [06:29<02:14,  3.53s/it]"
     ]
    },
    {
     "name": "stdout",
     "output_type": "stream",
     "text": [
      "key expirada\n",
      "2\n",
      "key expirada\n",
      "key expirada\n",
      "key expirada\n",
      "key expirada\n",
      "key expirada\n",
      "key expirada\n",
      "key expirada\n",
      "key expirada\n"
     ]
    },
    {
     "name": "stderr",
     "output_type": "stream",
     "text": [
      " 75%|███████▌  | 113/150 [06:32<02:09,  3.50s/it]"
     ]
    },
    {
     "name": "stdout",
     "output_type": "stream",
     "text": [
      "key expirada\n",
      "2\n",
      "key expirada\n",
      "key expirada\n",
      "key expirada\n",
      "key expirada\n",
      "key expirada\n",
      "key expirada\n",
      "key expirada\n",
      "key expirada\n"
     ]
    },
    {
     "name": "stderr",
     "output_type": "stream",
     "text": [
      " 76%|███████▌  | 114/150 [06:35<02:05,  3.48s/it]"
     ]
    },
    {
     "name": "stdout",
     "output_type": "stream",
     "text": [
      "key expirada\n",
      "2\n",
      "key expirada\n",
      "key expirada\n",
      "key expirada\n",
      "key expirada\n",
      "key expirada\n",
      "key expirada\n",
      "key expirada\n",
      "key expirada\n"
     ]
    },
    {
     "name": "stderr",
     "output_type": "stream",
     "text": [
      " 77%|███████▋  | 115/150 [06:39<02:02,  3.51s/it]"
     ]
    },
    {
     "name": "stdout",
     "output_type": "stream",
     "text": [
      "key expirada\n",
      "2\n",
      "key expirada\n",
      "key expirada\n",
      "key expirada\n",
      "key expirada\n",
      "key expirada\n",
      "key expirada\n",
      "key expirada\n",
      "key expirada\n"
     ]
    },
    {
     "name": "stderr",
     "output_type": "stream",
     "text": [
      " 77%|███████▋  | 116/150 [06:42<01:58,  3.49s/it]"
     ]
    },
    {
     "name": "stdout",
     "output_type": "stream",
     "text": [
      "key expirada\n",
      "2\n",
      "key expirada\n",
      "key expirada\n",
      "key expirada\n",
      "key expirada\n",
      "key expirada\n",
      "key expirada\n",
      "key expirada\n",
      "key expirada\n"
     ]
    },
    {
     "name": "stderr",
     "output_type": "stream",
     "text": [
      " 78%|███████▊  | 117/150 [06:47<01:57,  3.56s/it]"
     ]
    },
    {
     "name": "stdout",
     "output_type": "stream",
     "text": [
      "key expirada\n",
      "2\n",
      "key expirada\n",
      "key expirada\n",
      "key expirada\n",
      "key expirada\n",
      "key expirada\n",
      "key expirada\n",
      "key expirada\n",
      "key expirada\n"
     ]
    },
    {
     "name": "stderr",
     "output_type": "stream",
     "text": [
      " 79%|███████▊  | 118/150 [06:50<01:54,  3.57s/it]"
     ]
    },
    {
     "name": "stdout",
     "output_type": "stream",
     "text": [
      "key expirada\n",
      "2\n",
      "key expirada\n",
      "key expirada\n",
      "key expirada\n",
      "key expirada\n",
      "key expirada\n",
      "key expirada\n",
      "key expirada\n",
      "key expirada\n"
     ]
    },
    {
     "name": "stderr",
     "output_type": "stream",
     "text": [
      " 79%|███████▉  | 119/150 [06:54<01:49,  3.54s/it]"
     ]
    },
    {
     "name": "stdout",
     "output_type": "stream",
     "text": [
      "key expirada\n",
      "2\n",
      "key expirada\n",
      "key expirada\n",
      "key expirada\n",
      "key expirada\n",
      "key expirada\n",
      "key expirada\n",
      "key expirada\n",
      "key expirada\n"
     ]
    },
    {
     "name": "stderr",
     "output_type": "stream",
     "text": [
      " 80%|████████  | 120/150 [06:57<01:45,  3.52s/it]"
     ]
    },
    {
     "name": "stdout",
     "output_type": "stream",
     "text": [
      "key expirada\n",
      "2\n",
      "key expirada\n",
      "key expirada\n",
      "key expirada\n",
      "key expirada\n",
      "key expirada\n",
      "key expirada\n",
      "key expirada\n",
      "key expirada\n"
     ]
    },
    {
     "name": "stderr",
     "output_type": "stream",
     "text": [
      " 81%|████████  | 121/150 [07:01<01:44,  3.59s/it]"
     ]
    },
    {
     "name": "stdout",
     "output_type": "stream",
     "text": [
      "key expirada\n",
      "2\n",
      "key expirada\n",
      "key expirada\n",
      "key expirada\n",
      "key expirada\n",
      "key expirada\n",
      "key expirada\n",
      "key expirada\n",
      "key expirada\n"
     ]
    },
    {
     "name": "stderr",
     "output_type": "stream",
     "text": [
      " 81%|████████▏ | 122/150 [07:05<01:39,  3.57s/it]"
     ]
    },
    {
     "name": "stdout",
     "output_type": "stream",
     "text": [
      "key expirada\n",
      "2\n",
      "key expirada\n",
      "key expirada\n",
      "key expirada\n",
      "key expirada\n",
      "key expirada\n",
      "key expirada\n",
      "key expirada\n",
      "key expirada\n"
     ]
    },
    {
     "name": "stderr",
     "output_type": "stream",
     "text": [
      " 82%|████████▏ | 123/150 [07:08<01:35,  3.54s/it]"
     ]
    },
    {
     "name": "stdout",
     "output_type": "stream",
     "text": [
      "key expirada\n",
      "2\n",
      "key expirada\n",
      "key expirada\n",
      "key expirada\n",
      "key expirada\n",
      "key expirada\n",
      "key expirada\n",
      "key expirada\n",
      "key expirada\n"
     ]
    },
    {
     "name": "stderr",
     "output_type": "stream",
     "text": [
      " 83%|████████▎ | 124/150 [07:11<01:31,  3.52s/it]"
     ]
    },
    {
     "name": "stdout",
     "output_type": "stream",
     "text": [
      "key expirada\n",
      "2\n",
      "key expirada\n",
      "key expirada\n",
      "key expirada\n",
      "key expirada\n",
      "key expirada\n",
      "key expirada\n",
      "key expirada\n",
      "key expirada\n"
     ]
    },
    {
     "name": "stderr",
     "output_type": "stream",
     "text": [
      " 83%|████████▎ | 125/150 [07:15<01:28,  3.56s/it]"
     ]
    },
    {
     "name": "stdout",
     "output_type": "stream",
     "text": [
      "key expirada\n",
      "2\n",
      "key expirada\n",
      "key expirada\n",
      "key expirada\n",
      "key expirada\n",
      "key expirada\n",
      "key expirada\n",
      "key expirada\n",
      "key expirada\n"
     ]
    },
    {
     "name": "stderr",
     "output_type": "stream",
     "text": [
      " 84%|████████▍ | 126/150 [07:18<01:24,  3.54s/it]"
     ]
    },
    {
     "name": "stdout",
     "output_type": "stream",
     "text": [
      "key expirada\n",
      "2\n",
      "key expirada\n",
      "key expirada\n",
      "key expirada\n",
      "key expirada\n",
      "key expirada\n",
      "key expirada\n",
      "key expirada\n",
      "key expirada\n"
     ]
    },
    {
     "name": "stderr",
     "output_type": "stream",
     "text": [
      " 85%|████████▍ | 127/150 [07:22<01:22,  3.57s/it]"
     ]
    },
    {
     "name": "stdout",
     "output_type": "stream",
     "text": [
      "key expirada\n",
      "2\n",
      "key expirada\n",
      "key expirada\n",
      "key expirada\n",
      "key expirada\n",
      "key expirada\n",
      "key expirada\n",
      "key expirada\n",
      "key expirada\n"
     ]
    },
    {
     "name": "stderr",
     "output_type": "stream",
     "text": [
      " 85%|████████▌ | 128/150 [07:26<01:19,  3.60s/it]"
     ]
    },
    {
     "name": "stdout",
     "output_type": "stream",
     "text": [
      "key expirada\n",
      "2\n",
      "key expirada\n",
      "key expirada\n",
      "key expirada\n",
      "key expirada\n",
      "key expirada\n",
      "key expirada\n",
      "key expirada\n",
      "key expirada\n"
     ]
    },
    {
     "name": "stderr",
     "output_type": "stream",
     "text": [
      " 86%|████████▌ | 129/150 [07:30<01:15,  3.60s/it]"
     ]
    },
    {
     "name": "stdout",
     "output_type": "stream",
     "text": [
      "key expirada\n",
      "2\n",
      "key expirada\n",
      "key expirada\n",
      "key expirada\n",
      "key expirada\n",
      "key expirada\n",
      "key expirada\n",
      "key expirada\n",
      "key expirada\n"
     ]
    },
    {
     "name": "stderr",
     "output_type": "stream",
     "text": [
      " 87%|████████▋ | 130/150 [07:33<01:11,  3.58s/it]"
     ]
    },
    {
     "name": "stdout",
     "output_type": "stream",
     "text": [
      "key expirada\n",
      "2\n",
      "key expirada\n",
      "key expirada\n",
      "key expirada\n",
      "key expirada\n",
      "key expirada\n",
      "key expirada\n",
      "key expirada\n",
      "key expirada\n"
     ]
    },
    {
     "name": "stderr",
     "output_type": "stream",
     "text": [
      " 87%|████████▋ | 131/150 [07:36<01:07,  3.54s/it]"
     ]
    },
    {
     "name": "stdout",
     "output_type": "stream",
     "text": [
      "key expirada\n",
      "2\n",
      "key expirada\n",
      "key expirada\n",
      "key expirada\n",
      "key expirada\n",
      "key expirada\n",
      "key expirada\n",
      "key expirada\n",
      "key expirada\n"
     ]
    },
    {
     "name": "stderr",
     "output_type": "stream",
     "text": [
      " 88%|████████▊ | 132/150 [07:40<01:03,  3.51s/it]"
     ]
    },
    {
     "name": "stdout",
     "output_type": "stream",
     "text": [
      "key expirada\n",
      "2\n",
      "key expirada\n",
      "key expirada\n",
      "key expirada\n",
      "key expirada\n",
      "key expirada\n",
      "key expirada\n",
      "key expirada\n",
      "key expirada\n"
     ]
    },
    {
     "name": "stderr",
     "output_type": "stream",
     "text": [
      " 89%|████████▊ | 133/150 [07:43<00:59,  3.49s/it]"
     ]
    },
    {
     "name": "stdout",
     "output_type": "stream",
     "text": [
      "key expirada\n",
      "2\n",
      "key expirada\n",
      "key expirada\n",
      "key expirada\n",
      "key expirada\n",
      "key expirada\n",
      "key expirada\n",
      "key expirada\n",
      "key expirada\n"
     ]
    },
    {
     "name": "stderr",
     "output_type": "stream",
     "text": [
      " 89%|████████▉ | 134/150 [07:47<00:56,  3.53s/it]"
     ]
    },
    {
     "name": "stdout",
     "output_type": "stream",
     "text": [
      "key expirada\n",
      "2\n",
      "key expirada\n",
      "key expirada\n",
      "key expirada\n",
      "key expirada\n",
      "key expirada\n",
      "key expirada\n",
      "key expirada\n",
      "key expirada\n"
     ]
    },
    {
     "name": "stderr",
     "output_type": "stream",
     "text": [
      " 90%|█████████ | 135/150 [07:50<00:52,  3.51s/it]"
     ]
    },
    {
     "name": "stdout",
     "output_type": "stream",
     "text": [
      "key expirada\n",
      "2\n",
      "key expirada\n",
      "key expirada\n",
      "key expirada\n",
      "key expirada\n",
      "key expirada\n",
      "key expirada\n",
      "key expirada\n",
      "key expirada\n"
     ]
    },
    {
     "name": "stderr",
     "output_type": "stream",
     "text": [
      " 91%|█████████ | 136/150 [07:54<00:50,  3.58s/it]"
     ]
    },
    {
     "name": "stdout",
     "output_type": "stream",
     "text": [
      "key expirada\n",
      "2\n",
      "key expirada\n",
      "key expirada\n",
      "key expirada\n",
      "key expirada\n",
      "key expirada\n",
      "key expirada\n",
      "key expirada\n",
      "key expirada\n"
     ]
    },
    {
     "name": "stderr",
     "output_type": "stream",
     "text": [
      " 91%|█████████▏| 137/150 [07:58<00:46,  3.61s/it]"
     ]
    },
    {
     "name": "stdout",
     "output_type": "stream",
     "text": [
      "key expirada\n",
      "2\n",
      "key expirada\n",
      "key expirada\n",
      "key expirada\n",
      "key expirada\n",
      "key expirada\n",
      "key expirada\n",
      "key expirada\n",
      "key expirada\n"
     ]
    },
    {
     "name": "stderr",
     "output_type": "stream",
     "text": [
      " 92%|█████████▏| 138/150 [08:01<00:42,  3.57s/it]"
     ]
    },
    {
     "name": "stdout",
     "output_type": "stream",
     "text": [
      "key expirada\n",
      "2\n",
      "key expirada\n",
      "key expirada\n",
      "key expirada\n",
      "key expirada\n",
      "key expirada\n",
      "key expirada\n",
      "key expirada\n",
      "key expirada\n"
     ]
    },
    {
     "name": "stderr",
     "output_type": "stream",
     "text": [
      " 93%|█████████▎| 139/150 [08:05<00:38,  3.54s/it]"
     ]
    },
    {
     "name": "stdout",
     "output_type": "stream",
     "text": [
      "key expirada\n",
      "2\n",
      "key expirada\n",
      "key expirada\n",
      "key expirada\n",
      "key expirada\n",
      "key expirada\n",
      "key expirada\n",
      "key expirada\n",
      "key expirada\n"
     ]
    },
    {
     "name": "stderr",
     "output_type": "stream",
     "text": [
      " 93%|█████████▎| 140/150 [08:08<00:35,  3.56s/it]"
     ]
    },
    {
     "name": "stdout",
     "output_type": "stream",
     "text": [
      "key expirada\n",
      "2\n",
      "key expirada\n",
      "key expirada\n",
      "key expirada\n",
      "key expirada\n",
      "key expirada\n",
      "key expirada\n",
      "key expirada\n",
      "key expirada\n"
     ]
    },
    {
     "name": "stderr",
     "output_type": "stream",
     "text": [
      " 94%|█████████▍| 141/150 [08:12<00:31,  3.53s/it]"
     ]
    },
    {
     "name": "stdout",
     "output_type": "stream",
     "text": [
      "key expirada\n",
      "2\n",
      "key expirada\n",
      "key expirada\n",
      "key expirada\n",
      "key expirada\n",
      "key expirada\n",
      "key expirada\n",
      "key expirada\n",
      "key expirada\n"
     ]
    },
    {
     "name": "stderr",
     "output_type": "stream",
     "text": [
      " 95%|█████████▍| 142/150 [08:15<00:28,  3.51s/it]"
     ]
    },
    {
     "name": "stdout",
     "output_type": "stream",
     "text": [
      "key expirada\n",
      "2\n",
      "key expirada\n",
      "key expirada\n",
      "key expirada\n",
      "key expirada\n",
      "key expirada\n",
      "key expirada\n",
      "key expirada\n",
      "key expirada\n"
     ]
    },
    {
     "name": "stderr",
     "output_type": "stream",
     "text": [
      " 95%|█████████▌| 143/150 [08:18<00:24,  3.50s/it]"
     ]
    },
    {
     "name": "stdout",
     "output_type": "stream",
     "text": [
      "key expirada\n",
      "2\n",
      "key expirada\n",
      "key expirada\n",
      "key expirada\n",
      "key expirada\n",
      "key expirada\n",
      "key expirada\n",
      "key expirada\n",
      "key expirada\n"
     ]
    },
    {
     "name": "stderr",
     "output_type": "stream",
     "text": [
      " 96%|█████████▌| 144/150 [08:22<00:20,  3.47s/it]"
     ]
    },
    {
     "name": "stdout",
     "output_type": "stream",
     "text": [
      "key expirada\n",
      "2\n",
      "key expirada\n",
      "key expirada\n",
      "key expirada\n",
      "key expirada\n",
      "key expirada\n",
      "key expirada\n",
      "key expirada\n",
      "key expirada\n"
     ]
    },
    {
     "name": "stderr",
     "output_type": "stream",
     "text": [
      " 97%|█████████▋| 145/150 [08:25<00:17,  3.50s/it]"
     ]
    },
    {
     "name": "stdout",
     "output_type": "stream",
     "text": [
      "key expirada\n",
      "2\n",
      "key expirada\n",
      "key expirada\n",
      "key expirada\n",
      "key expirada\n",
      "key expirada\n",
      "key expirada\n",
      "key expirada\n",
      "key expirada\n"
     ]
    },
    {
     "name": "stderr",
     "output_type": "stream",
     "text": [
      " 97%|█████████▋| 146/150 [08:29<00:13,  3.48s/it]"
     ]
    },
    {
     "name": "stdout",
     "output_type": "stream",
     "text": [
      "key expirada\n",
      "2\n",
      "key expirada\n",
      "key expirada\n",
      "key expirada\n",
      "key expirada\n",
      "key expirada\n",
      "key expirada\n",
      "key expirada\n",
      "key expirada\n"
     ]
    },
    {
     "name": "stderr",
     "output_type": "stream",
     "text": [
      " 98%|█████████▊| 147/150 [08:32<00:10,  3.45s/it]"
     ]
    },
    {
     "name": "stdout",
     "output_type": "stream",
     "text": [
      "key expirada\n",
      "2\n",
      "key expirada\n",
      "key expirada\n",
      "key expirada\n",
      "key expirada\n",
      "key expirada\n",
      "key expirada\n",
      "key expirada\n",
      "key expirada\n"
     ]
    },
    {
     "name": "stderr",
     "output_type": "stream",
     "text": [
      " 99%|█████████▊| 148/150 [08:35<00:06,  3.44s/it]"
     ]
    },
    {
     "name": "stdout",
     "output_type": "stream",
     "text": [
      "key expirada\n",
      "2\n",
      "key expirada\n",
      "key expirada\n",
      "key expirada\n",
      "key expirada\n",
      "key expirada\n",
      "key expirada\n",
      "key expirada\n",
      "key expirada\n"
     ]
    },
    {
     "name": "stderr",
     "output_type": "stream",
     "text": [
      " 99%|█████████▉| 149/150 [08:38<00:03,  3.42s/it]"
     ]
    },
    {
     "name": "stdout",
     "output_type": "stream",
     "text": [
      "key expirada\n",
      "2\n",
      "key expirada\n",
      "key expirada\n",
      "key expirada\n",
      "key expirada\n",
      "key expirada\n",
      "key expirada\n",
      "key expirada\n",
      "key expirada\n"
     ]
    },
    {
     "name": "stderr",
     "output_type": "stream",
     "text": [
      "100%|██████████| 150/150 [08:42<00:00,  3.48s/it]\n"
     ]
    },
    {
     "name": "stdout",
     "output_type": "stream",
     "text": [
      "key expirada\n"
     ]
    },
    {
     "name": "stderr",
     "output_type": "stream",
     "text": [
      "  0%|          | 0/150 [00:00<?, ?it/s]"
     ]
    },
    {
     "name": "stdout",
     "output_type": "stream",
     "text": [
      "2\n",
      "key expirada\n",
      "key expirada\n",
      "key expirada\n",
      "key expirada\n",
      "key expirada\n",
      "key expirada\n",
      "key expirada\n",
      "key expirada\n"
     ]
    },
    {
     "name": "stderr",
     "output_type": "stream",
     "text": [
      "  1%|          | 1/150 [00:03<09:11,  3.70s/it]"
     ]
    },
    {
     "name": "stdout",
     "output_type": "stream",
     "text": [
      "key expirada\n",
      "2\n",
      "key expirada\n",
      "key expirada\n",
      "key expirada\n",
      "key expirada\n",
      "key expirada\n",
      "key expirada\n",
      "key expirada\n",
      "key expirada\n"
     ]
    },
    {
     "name": "stderr",
     "output_type": "stream",
     "text": [
      "  1%|▏         | 2/150 [00:07<09:13,  3.74s/it]"
     ]
    },
    {
     "name": "stdout",
     "output_type": "stream",
     "text": [
      "key expirada\n",
      "2\n",
      "key expirada\n",
      "key expirada\n",
      "key expirada\n",
      "key expirada\n",
      "key expirada\n",
      "key expirada\n",
      "key expirada\n",
      "key expirada\n"
     ]
    },
    {
     "name": "stderr",
     "output_type": "stream",
     "text": [
      "  2%|▏         | 3/150 [00:11<09:37,  3.93s/it]"
     ]
    },
    {
     "name": "stdout",
     "output_type": "stream",
     "text": [
      "key expirada\n",
      "2\n",
      "key expirada\n",
      "key expirada\n",
      "key expirada\n",
      "key expirada\n",
      "key expirada\n",
      "key expirada\n",
      "key expirada\n",
      "key expirada\n"
     ]
    },
    {
     "name": "stderr",
     "output_type": "stream",
     "text": [
      "  3%|▎         | 4/150 [00:14<09:05,  3.74s/it]"
     ]
    },
    {
     "name": "stdout",
     "output_type": "stream",
     "text": [
      "key expirada\n",
      "2\n",
      "key expirada\n",
      "key expirada\n",
      "key expirada\n",
      "key expirada\n",
      "key expirada\n",
      "key expirada\n",
      "key expirada\n",
      "key expirada\n"
     ]
    },
    {
     "name": "stderr",
     "output_type": "stream",
     "text": [
      "  3%|▎         | 5/150 [00:18<08:46,  3.63s/it]"
     ]
    },
    {
     "name": "stdout",
     "output_type": "stream",
     "text": [
      "key expirada\n",
      "2\n",
      "key expirada\n",
      "key expirada\n",
      "key expirada\n",
      "key expirada\n",
      "key expirada\n",
      "key expirada\n",
      "key expirada\n",
      "key expirada\n"
     ]
    },
    {
     "name": "stderr",
     "output_type": "stream",
     "text": [
      "  4%|▍         | 6/150 [00:21<08:37,  3.60s/it]"
     ]
    },
    {
     "name": "stdout",
     "output_type": "stream",
     "text": [
      "key expirada\n",
      "2\n",
      "key expirada\n",
      "key expirada\n",
      "key expirada\n",
      "key expirada\n",
      "key expirada\n",
      "key expirada\n",
      "key expirada\n",
      "key expirada\n"
     ]
    },
    {
     "name": "stderr",
     "output_type": "stream",
     "text": [
      "  5%|▍         | 7/150 [00:25<08:26,  3.54s/it]"
     ]
    },
    {
     "name": "stdout",
     "output_type": "stream",
     "text": [
      "key expirada\n",
      "2\n",
      "key expirada\n",
      "key expirada\n",
      "key expirada\n",
      "key expirada\n",
      "key expirada\n",
      "key expirada\n",
      "key expirada\n",
      "key expirada\n"
     ]
    },
    {
     "name": "stderr",
     "output_type": "stream",
     "text": [
      "  5%|▌         | 8/150 [00:29<08:33,  3.62s/it]"
     ]
    },
    {
     "name": "stdout",
     "output_type": "stream",
     "text": [
      "key expirada\n",
      "2\n",
      "key expirada\n",
      "key expirada\n",
      "key expirada\n",
      "key expirada\n",
      "key expirada\n",
      "key expirada\n",
      "key expirada\n",
      "key expirada\n"
     ]
    },
    {
     "name": "stderr",
     "output_type": "stream",
     "text": [
      "  6%|▌         | 9/150 [00:33<08:45,  3.73s/it]"
     ]
    },
    {
     "name": "stdout",
     "output_type": "stream",
     "text": [
      "key expirada\n",
      "2\n",
      "key expirada\n",
      "key expirada\n",
      "key expirada\n",
      "key expirada\n",
      "key expirada\n",
      "key expirada\n",
      "key expirada\n",
      "key expirada\n"
     ]
    },
    {
     "name": "stderr",
     "output_type": "stream",
     "text": [
      "  7%|▋         | 10/150 [00:36<08:32,  3.66s/it]"
     ]
    },
    {
     "name": "stdout",
     "output_type": "stream",
     "text": [
      "key expirada\n",
      "2\n",
      "key expirada\n",
      "key expirada\n",
      "key expirada\n",
      "key expirada\n",
      "key expirada\n",
      "key expirada\n",
      "key expirada\n",
      "key expirada\n"
     ]
    },
    {
     "name": "stderr",
     "output_type": "stream",
     "text": [
      "  7%|▋         | 11/150 [00:39<08:20,  3.60s/it]"
     ]
    },
    {
     "name": "stdout",
     "output_type": "stream",
     "text": [
      "key expirada\n",
      "2\n",
      "key expirada\n",
      "key expirada\n",
      "key expirada\n",
      "key expirada\n",
      "key expirada\n",
      "key expirada\n",
      "key expirada\n",
      "key expirada\n"
     ]
    },
    {
     "name": "stderr",
     "output_type": "stream",
     "text": [
      "  8%|▊         | 12/150 [00:43<08:16,  3.60s/it]"
     ]
    },
    {
     "name": "stdout",
     "output_type": "stream",
     "text": [
      "key expirada\n",
      "2\n",
      "key expirada\n",
      "key expirada\n",
      "key expirada\n",
      "key expirada\n",
      "key expirada\n",
      "key expirada\n",
      "key expirada\n",
      "key expirada\n"
     ]
    },
    {
     "name": "stderr",
     "output_type": "stream",
     "text": [
      "  9%|▊         | 13/150 [00:46<08:06,  3.55s/it]"
     ]
    },
    {
     "name": "stdout",
     "output_type": "stream",
     "text": [
      "key expirada\n",
      "2\n",
      "key expirada\n",
      "key expirada\n",
      "key expirada\n",
      "key expirada\n",
      "key expirada\n",
      "key expirada\n",
      "key expirada\n",
      "key expirada\n"
     ]
    },
    {
     "name": "stderr",
     "output_type": "stream",
     "text": [
      "  9%|▉         | 14/150 [00:49<07:54,  3.49s/it]"
     ]
    },
    {
     "name": "stdout",
     "output_type": "stream",
     "text": [
      "key expirada\n",
      "2\n",
      "key expirada\n",
      "key expirada\n",
      "key expirada\n",
      "key expirada\n",
      "key expirada\n",
      "key expirada\n",
      "key expirada\n",
      "key expirada\n"
     ]
    },
    {
     "name": "stderr",
     "output_type": "stream",
     "text": [
      " 10%|█         | 15/150 [00:53<07:49,  3.47s/it]"
     ]
    },
    {
     "name": "stdout",
     "output_type": "stream",
     "text": [
      "key expirada\n",
      "2\n",
      "key expirada\n",
      "key expirada\n",
      "key expirada\n",
      "key expirada\n",
      "key expirada\n",
      "key expirada\n",
      "key expirada\n",
      "key expirada\n"
     ]
    },
    {
     "name": "stderr",
     "output_type": "stream",
     "text": [
      " 11%|█         | 16/150 [00:56<07:49,  3.51s/it]"
     ]
    },
    {
     "name": "stdout",
     "output_type": "stream",
     "text": [
      "key expirada\n",
      "2\n",
      "key expirada\n",
      "key expirada\n",
      "key expirada\n",
      "key expirada\n",
      "key expirada\n",
      "key expirada\n",
      "key expirada\n",
      "key expirada\n"
     ]
    },
    {
     "name": "stderr",
     "output_type": "stream",
     "text": [
      " 11%|█▏        | 17/150 [01:00<07:43,  3.48s/it]"
     ]
    },
    {
     "name": "stdout",
     "output_type": "stream",
     "text": [
      "key expirada\n",
      "2\n",
      "key expirada\n",
      "key expirada\n",
      "key expirada\n",
      "key expirada\n",
      "key expirada\n",
      "key expirada\n",
      "key expirada\n",
      "key expirada\n"
     ]
    },
    {
     "name": "stderr",
     "output_type": "stream",
     "text": [
      " 12%|█▏        | 18/150 [01:03<07:35,  3.45s/it]"
     ]
    },
    {
     "name": "stdout",
     "output_type": "stream",
     "text": [
      "key expirada\n",
      "2\n",
      "key expirada\n",
      "key expirada\n",
      "key expirada\n",
      "key expirada\n",
      "key expirada\n",
      "key expirada\n",
      "key expirada\n",
      "key expirada\n"
     ]
    },
    {
     "name": "stderr",
     "output_type": "stream",
     "text": [
      " 13%|█▎        | 19/150 [01:07<07:36,  3.48s/it]"
     ]
    },
    {
     "name": "stdout",
     "output_type": "stream",
     "text": [
      "key expirada\n",
      "2\n",
      "key expirada\n",
      "key expirada\n",
      "key expirada\n",
      "key expirada\n",
      "key expirada\n",
      "key expirada\n",
      "key expirada\n",
      "key expirada\n"
     ]
    },
    {
     "name": "stderr",
     "output_type": "stream",
     "text": [
      " 13%|█▎        | 20/150 [01:10<07:29,  3.46s/it]"
     ]
    },
    {
     "name": "stdout",
     "output_type": "stream",
     "text": [
      "key expirada\n",
      "2\n",
      "key expirada\n",
      "key expirada\n",
      "key expirada\n",
      "key expirada\n",
      "key expirada\n",
      "key expirada\n",
      "key expirada\n",
      "key expirada\n"
     ]
    },
    {
     "name": "stderr",
     "output_type": "stream",
     "text": [
      " 14%|█▍        | 21/150 [01:14<07:30,  3.49s/it]"
     ]
    },
    {
     "name": "stdout",
     "output_type": "stream",
     "text": [
      "key expirada\n",
      "2\n",
      "key expirada\n",
      "key expirada\n",
      "key expirada\n",
      "key expirada\n",
      "key expirada\n",
      "key expirada\n",
      "key expirada\n",
      "key expirada\n"
     ]
    },
    {
     "name": "stderr",
     "output_type": "stream",
     "text": [
      " 15%|█▍        | 22/150 [01:17<07:23,  3.47s/it]"
     ]
    },
    {
     "name": "stdout",
     "output_type": "stream",
     "text": [
      "key expirada\n",
      "2\n",
      "key expirada\n",
      "key expirada\n",
      "key expirada\n",
      "key expirada\n",
      "key expirada\n",
      "key expirada\n",
      "key expirada\n",
      "key expirada\n"
     ]
    },
    {
     "name": "stderr",
     "output_type": "stream",
     "text": [
      " 15%|█▌        | 23/150 [01:20<07:15,  3.43s/it]"
     ]
    },
    {
     "name": "stdout",
     "output_type": "stream",
     "text": [
      "key expirada\n",
      "2\n",
      "key expirada\n",
      "key expirada\n",
      "key expirada\n",
      "key expirada\n",
      "key expirada\n",
      "key expirada\n",
      "key expirada\n",
      "key expirada\n"
     ]
    },
    {
     "name": "stderr",
     "output_type": "stream",
     "text": [
      " 16%|█▌        | 24/150 [01:24<07:19,  3.48s/it]"
     ]
    },
    {
     "name": "stdout",
     "output_type": "stream",
     "text": [
      "key expirada\n",
      "2\n",
      "key expirada\n",
      "key expirada\n",
      "key expirada\n",
      "key expirada\n",
      "key expirada\n",
      "key expirada\n",
      "key expirada\n",
      "key expirada\n"
     ]
    },
    {
     "name": "stderr",
     "output_type": "stream",
     "text": [
      " 17%|█▋        | 25/150 [01:27<07:13,  3.47s/it]"
     ]
    },
    {
     "name": "stdout",
     "output_type": "stream",
     "text": [
      "key expirada\n",
      "2\n",
      "key expirada\n",
      "key expirada\n",
      "key expirada\n",
      "key expirada\n",
      "key expirada\n",
      "key expirada\n",
      "key expirada\n",
      "key expirada\n"
     ]
    },
    {
     "name": "stderr",
     "output_type": "stream",
     "text": [
      " 17%|█▋        | 26/150 [01:31<07:06,  3.44s/it]"
     ]
    },
    {
     "name": "stdout",
     "output_type": "stream",
     "text": [
      "key expirada\n",
      "2\n",
      "key expirada\n",
      "key expirada\n",
      "key expirada\n",
      "key expirada\n",
      "key expirada\n",
      "key expirada\n",
      "key expirada\n",
      "key expirada\n"
     ]
    },
    {
     "name": "stderr",
     "output_type": "stream",
     "text": [
      " 18%|█▊        | 27/150 [01:35<07:14,  3.53s/it]"
     ]
    },
    {
     "name": "stdout",
     "output_type": "stream",
     "text": [
      "key expirada\n",
      "2\n",
      "key expirada\n",
      "key expirada\n",
      "key expirada\n",
      "key expirada\n",
      "key expirada\n",
      "key expirada\n",
      "key expirada\n",
      "key expirada\n"
     ]
    },
    {
     "name": "stderr",
     "output_type": "stream",
     "text": [
      " 19%|█▊        | 28/150 [01:38<07:07,  3.50s/it]"
     ]
    },
    {
     "name": "stdout",
     "output_type": "stream",
     "text": [
      "key expirada\n",
      "2\n",
      "key expirada\n",
      "key expirada\n",
      "key expirada\n",
      "key expirada\n",
      "key expirada\n",
      "key expirada\n",
      "key expirada\n",
      "key expirada\n"
     ]
    },
    {
     "name": "stderr",
     "output_type": "stream",
     "text": [
      " 19%|█▉        | 29/150 [01:41<06:59,  3.47s/it]"
     ]
    },
    {
     "name": "stdout",
     "output_type": "stream",
     "text": [
      "key expirada\n",
      "2\n",
      "key expirada\n",
      "key expirada\n",
      "key expirada\n",
      "key expirada\n",
      "key expirada\n",
      "key expirada\n",
      "key expirada\n",
      "key expirada\n"
     ]
    },
    {
     "name": "stderr",
     "output_type": "stream",
     "text": [
      " 20%|██        | 30/150 [01:45<06:53,  3.45s/it]"
     ]
    },
    {
     "name": "stdout",
     "output_type": "stream",
     "text": [
      "key expirada\n",
      "2\n",
      "key expirada\n",
      "key expirada\n",
      "key expirada\n",
      "key expirada\n",
      "key expirada\n",
      "key expirada\n",
      "key expirada\n",
      "key expirada\n"
     ]
    },
    {
     "name": "stderr",
     "output_type": "stream",
     "text": [
      " 21%|██        | 31/150 [01:48<06:47,  3.42s/it]"
     ]
    },
    {
     "name": "stdout",
     "output_type": "stream",
     "text": [
      "key expirada\n",
      "2\n",
      "key expirada\n",
      "key expirada\n",
      "key expirada\n",
      "key expirada\n",
      "key expirada\n",
      "key expirada\n",
      "key expirada\n",
      "key expirada\n"
     ]
    },
    {
     "name": "stderr",
     "output_type": "stream",
     "text": [
      " 21%|██▏       | 32/150 [01:52<06:48,  3.46s/it]"
     ]
    },
    {
     "name": "stdout",
     "output_type": "stream",
     "text": [
      "key expirada\n",
      "2\n",
      "key expirada\n",
      "key expirada\n",
      "key expirada\n",
      "key expirada\n",
      "key expirada\n",
      "key expirada\n",
      "key expirada\n",
      "key expirada\n"
     ]
    },
    {
     "name": "stderr",
     "output_type": "stream",
     "text": [
      " 22%|██▏       | 33/150 [01:55<06:44,  3.45s/it]"
     ]
    },
    {
     "name": "stdout",
     "output_type": "stream",
     "text": [
      "key expirada\n",
      "2\n",
      "key expirada\n",
      "key expirada\n",
      "key expirada\n",
      "key expirada\n",
      "key expirada\n",
      "key expirada\n",
      "key expirada\n",
      "key expirada\n"
     ]
    },
    {
     "name": "stderr",
     "output_type": "stream",
     "text": [
      " 23%|██▎       | 34/150 [01:58<06:37,  3.43s/it]"
     ]
    },
    {
     "name": "stdout",
     "output_type": "stream",
     "text": [
      "key expirada\n",
      "2\n",
      "key expirada\n",
      "key expirada\n",
      "key expirada\n",
      "key expirada\n",
      "key expirada\n",
      "key expirada\n",
      "key expirada\n",
      "key expirada\n"
     ]
    },
    {
     "name": "stderr",
     "output_type": "stream",
     "text": [
      " 23%|██▎       | 35/150 [02:02<06:37,  3.46s/it]"
     ]
    },
    {
     "name": "stdout",
     "output_type": "stream",
     "text": [
      "key expirada\n",
      "2\n",
      "key expirada\n",
      "key expirada\n",
      "key expirada\n",
      "key expirada\n",
      "key expirada\n",
      "key expirada\n",
      "key expirada\n",
      "key expirada\n"
     ]
    },
    {
     "name": "stderr",
     "output_type": "stream",
     "text": [
      " 24%|██▍       | 36/150 [02:06<06:36,  3.48s/it]"
     ]
    },
    {
     "name": "stdout",
     "output_type": "stream",
     "text": [
      "key expirada\n",
      "2\n",
      "key expirada\n",
      "key expirada\n",
      "key expirada\n",
      "key expirada\n",
      "key expirada\n",
      "key expirada\n",
      "key expirada\n",
      "key expirada\n"
     ]
    },
    {
     "name": "stderr",
     "output_type": "stream",
     "text": [
      " 25%|██▍       | 37/150 [02:09<06:30,  3.46s/it]"
     ]
    },
    {
     "name": "stdout",
     "output_type": "stream",
     "text": [
      "key expirada\n",
      "2\n",
      "key expirada\n",
      "key expirada\n",
      "key expirada\n",
      "key expirada\n",
      "key expirada\n",
      "key expirada\n",
      "key expirada\n",
      "key expirada\n"
     ]
    },
    {
     "name": "stderr",
     "output_type": "stream",
     "text": [
      " 25%|██▌       | 38/150 [02:12<06:25,  3.44s/it]"
     ]
    },
    {
     "name": "stdout",
     "output_type": "stream",
     "text": [
      "key expirada\n",
      "2\n",
      "key expirada\n",
      "key expirada\n",
      "key expirada\n",
      "key expirada\n",
      "key expirada\n",
      "key expirada\n",
      "key expirada\n",
      "key expirada\n"
     ]
    },
    {
     "name": "stderr",
     "output_type": "stream",
     "text": [
      " 26%|██▌       | 39/150 [02:15<06:19,  3.42s/it]"
     ]
    },
    {
     "name": "stdout",
     "output_type": "stream",
     "text": [
      "key expirada\n",
      "2\n",
      "key expirada\n",
      "key expirada\n",
      "key expirada\n",
      "key expirada\n",
      "key expirada\n",
      "key expirada\n",
      "key expirada\n",
      "key expirada\n"
     ]
    },
    {
     "name": "stderr",
     "output_type": "stream",
     "text": [
      " 27%|██▋       | 40/150 [02:19<06:14,  3.41s/it]"
     ]
    },
    {
     "name": "stdout",
     "output_type": "stream",
     "text": [
      "key expirada\n",
      "2\n",
      "key expirada\n",
      "key expirada\n",
      "key expirada\n",
      "key expirada\n",
      "key expirada\n",
      "key expirada\n",
      "key expirada\n",
      "key expirada\n"
     ]
    },
    {
     "name": "stderr",
     "output_type": "stream",
     "text": [
      " 27%|██▋       | 41/150 [02:22<06:13,  3.43s/it]"
     ]
    },
    {
     "name": "stdout",
     "output_type": "stream",
     "text": [
      "key expirada\n",
      "2\n",
      "key expirada\n",
      "key expirada\n",
      "key expirada\n",
      "key expirada\n",
      "key expirada\n",
      "key expirada\n",
      "key expirada\n",
      "key expirada\n"
     ]
    },
    {
     "name": "stderr",
     "output_type": "stream",
     "text": [
      " 28%|██▊       | 42/150 [02:26<06:09,  3.42s/it]"
     ]
    },
    {
     "name": "stdout",
     "output_type": "stream",
     "text": [
      "key expirada\n",
      "2\n",
      "key expirada\n",
      "key expirada\n",
      "key expirada\n",
      "key expirada\n",
      "key expirada\n",
      "key expirada\n",
      "key expirada\n",
      "key expirada\n"
     ]
    },
    {
     "name": "stderr",
     "output_type": "stream",
     "text": [
      " 29%|██▊       | 43/150 [02:29<06:03,  3.40s/it]"
     ]
    },
    {
     "name": "stdout",
     "output_type": "stream",
     "text": [
      "key expirada\n",
      "2\n",
      "key expirada\n",
      "key expirada\n",
      "key expirada\n",
      "key expirada\n",
      "key expirada\n",
      "key expirada\n",
      "key expirada\n",
      "key expirada\n"
     ]
    },
    {
     "name": "stderr",
     "output_type": "stream",
     "text": [
      " 29%|██▉       | 44/150 [02:32<05:59,  3.39s/it]"
     ]
    },
    {
     "name": "stdout",
     "output_type": "stream",
     "text": [
      "key expirada\n",
      "2\n",
      "key expirada\n",
      "key expirada\n",
      "key expirada\n",
      "key expirada\n",
      "key expirada\n",
      "key expirada\n",
      "key expirada\n",
      "key expirada\n"
     ]
    },
    {
     "name": "stderr",
     "output_type": "stream",
     "text": [
      " 30%|███       | 45/150 [02:35<05:55,  3.38s/it]"
     ]
    },
    {
     "name": "stdout",
     "output_type": "stream",
     "text": [
      "key expirada\n",
      "2\n",
      "key expirada\n",
      "key expirada\n",
      "key expirada\n",
      "key expirada\n",
      "key expirada\n",
      "key expirada\n",
      "key expirada\n",
      "key expirada\n"
     ]
    },
    {
     "name": "stderr",
     "output_type": "stream",
     "text": [
      " 31%|███       | 46/150 [02:39<05:50,  3.37s/it]"
     ]
    },
    {
     "name": "stdout",
     "output_type": "stream",
     "text": [
      "key expirada\n",
      "2\n",
      "key expirada\n",
      "key expirada\n",
      "key expirada\n",
      "key expirada\n",
      "key expirada\n",
      "key expirada\n",
      "key expirada\n",
      "key expirada\n"
     ]
    },
    {
     "name": "stderr",
     "output_type": "stream",
     "text": [
      " 31%|███▏      | 47/150 [02:43<05:55,  3.45s/it]"
     ]
    },
    {
     "name": "stdout",
     "output_type": "stream",
     "text": [
      "key expirada\n",
      "2\n",
      "key expirada\n",
      "key expirada\n",
      "key expirada\n",
      "key expirada\n",
      "key expirada\n",
      "key expirada\n",
      "key expirada\n",
      "key expirada\n"
     ]
    },
    {
     "name": "stderr",
     "output_type": "stream",
     "text": [
      " 32%|███▏      | 48/150 [02:46<05:50,  3.44s/it]"
     ]
    },
    {
     "name": "stdout",
     "output_type": "stream",
     "text": [
      "key expirada\n",
      "2\n",
      "key expirada\n",
      "key expirada\n",
      "key expirada\n",
      "key expirada\n",
      "key expirada\n",
      "key expirada\n",
      "key expirada\n",
      "key expirada\n"
     ]
    },
    {
     "name": "stderr",
     "output_type": "stream",
     "text": [
      " 33%|███▎      | 49/150 [02:50<05:46,  3.43s/it]"
     ]
    },
    {
     "name": "stdout",
     "output_type": "stream",
     "text": [
      "key expirada\n",
      "2\n",
      "key expirada\n",
      "key expirada\n",
      "key expirada\n",
      "key expirada\n",
      "key expirada\n",
      "key expirada\n",
      "key expirada\n",
      "key expirada\n"
     ]
    },
    {
     "name": "stderr",
     "output_type": "stream",
     "text": [
      " 33%|███▎      | 50/150 [02:53<05:46,  3.47s/it]"
     ]
    },
    {
     "name": "stdout",
     "output_type": "stream",
     "text": [
      "key expirada\n",
      "2\n",
      "key expirada\n",
      "key expirada\n",
      "key expirada\n",
      "key expirada\n",
      "key expirada\n",
      "key expirada\n",
      "key expirada\n",
      "key expirada\n"
     ]
    },
    {
     "name": "stderr",
     "output_type": "stream",
     "text": [
      " 34%|███▍      | 51/150 [02:57<05:46,  3.50s/it]"
     ]
    },
    {
     "name": "stdout",
     "output_type": "stream",
     "text": [
      "key expirada\n",
      "2\n",
      "key expirada\n",
      "key expirada\n",
      "key expirada\n",
      "key expirada\n",
      "key expirada\n",
      "key expirada\n",
      "key expirada\n",
      "key expirada\n"
     ]
    },
    {
     "name": "stderr",
     "output_type": "stream",
     "text": [
      " 35%|███▍      | 52/150 [03:00<05:40,  3.48s/it]"
     ]
    },
    {
     "name": "stdout",
     "output_type": "stream",
     "text": [
      "key expirada\n",
      "2\n",
      "key expirada\n",
      "key expirada\n",
      "key expirada\n",
      "key expirada\n",
      "key expirada\n",
      "key expirada\n",
      "key expirada\n",
      "key expirada\n"
     ]
    },
    {
     "name": "stderr",
     "output_type": "stream",
     "text": [
      " 35%|███▌      | 53/150 [03:04<05:34,  3.45s/it]"
     ]
    },
    {
     "name": "stdout",
     "output_type": "stream",
     "text": [
      "key expirada\n",
      "2\n",
      "key expirada\n",
      "key expirada\n",
      "key expirada\n",
      "key expirada\n",
      "key expirada\n",
      "key expirada\n",
      "key expirada\n",
      "key expirada\n"
     ]
    },
    {
     "name": "stderr",
     "output_type": "stream",
     "text": [
      " 36%|███▌      | 54/150 [03:07<05:29,  3.43s/it]"
     ]
    },
    {
     "name": "stdout",
     "output_type": "stream",
     "text": [
      "key expirada\n",
      "2\n",
      "key expirada\n",
      "key expirada\n",
      "key expirada\n",
      "key expirada\n",
      "key expirada\n",
      "key expirada\n",
      "key expirada\n",
      "key expirada\n"
     ]
    },
    {
     "name": "stderr",
     "output_type": "stream",
     "text": [
      " 37%|███▋      | 55/150 [03:11<05:28,  3.46s/it]"
     ]
    },
    {
     "name": "stdout",
     "output_type": "stream",
     "text": [
      "key expirada\n",
      "2\n",
      "key expirada\n",
      "key expirada\n",
      "key expirada\n",
      "key expirada\n",
      "key expirada\n",
      "key expirada\n",
      "key expirada\n",
      "key expirada\n"
     ]
    },
    {
     "name": "stderr",
     "output_type": "stream",
     "text": [
      " 37%|███▋      | 56/150 [03:14<05:23,  3.44s/it]"
     ]
    },
    {
     "name": "stdout",
     "output_type": "stream",
     "text": [
      "key expirada\n",
      "2\n",
      "key expirada\n",
      "key expirada\n",
      "key expirada\n",
      "key expirada\n",
      "key expirada\n",
      "key expirada\n",
      "key expirada\n",
      "key expirada\n"
     ]
    },
    {
     "name": "stderr",
     "output_type": "stream",
     "text": [
      " 38%|███▊      | 57/150 [03:17<05:18,  3.43s/it]"
     ]
    },
    {
     "name": "stdout",
     "output_type": "stream",
     "text": [
      "key expirada\n",
      "2\n",
      "key expirada\n",
      "key expirada\n",
      "key expirada\n",
      "key expirada\n",
      "key expirada\n",
      "key expirada\n",
      "key expirada\n",
      "key expirada\n"
     ]
    },
    {
     "name": "stderr",
     "output_type": "stream",
     "text": [
      " 39%|███▊      | 58/150 [03:21<05:14,  3.42s/it]"
     ]
    },
    {
     "name": "stdout",
     "output_type": "stream",
     "text": [
      "key expirada\n",
      "2\n",
      "key expirada\n",
      "key expirada\n",
      "key expirada\n",
      "key expirada\n",
      "key expirada\n",
      "key expirada\n",
      "key expirada\n",
      "key expirada\n"
     ]
    },
    {
     "name": "stderr",
     "output_type": "stream",
     "text": [
      " 39%|███▉      | 59/150 [03:24<05:12,  3.44s/it]"
     ]
    },
    {
     "name": "stdout",
     "output_type": "stream",
     "text": [
      "key expirada\n",
      "2\n",
      "key expirada\n",
      "key expirada\n",
      "key expirada\n",
      "key expirada\n",
      "key expirada\n",
      "key expirada\n",
      "key expirada\n",
      "key expirada\n"
     ]
    },
    {
     "name": "stderr",
     "output_type": "stream",
     "text": [
      " 40%|████      | 60/150 [03:28<05:13,  3.48s/it]"
     ]
    },
    {
     "name": "stdout",
     "output_type": "stream",
     "text": [
      "key expirada\n",
      "2\n",
      "key expirada\n",
      "key expirada\n",
      "key expirada\n",
      "key expirada\n",
      "key expirada\n",
      "key expirada\n",
      "key expirada\n",
      "key expirada\n"
     ]
    },
    {
     "name": "stderr",
     "output_type": "stream",
     "text": [
      " 41%|████      | 61/150 [03:31<05:09,  3.48s/it]"
     ]
    },
    {
     "name": "stdout",
     "output_type": "stream",
     "text": [
      "key expirada\n",
      "2\n",
      "key expirada\n",
      "key expirada\n",
      "key expirada\n",
      "key expirada\n",
      "key expirada\n",
      "key expirada\n",
      "key expirada\n",
      "key expirada\n"
     ]
    },
    {
     "name": "stderr",
     "output_type": "stream",
     "text": [
      " 41%|████▏     | 62/150 [03:35<05:05,  3.47s/it]"
     ]
    },
    {
     "name": "stdout",
     "output_type": "stream",
     "text": [
      "key expirada\n",
      "2\n",
      "key expirada\n",
      "key expirada\n",
      "key expirada\n",
      "key expirada\n",
      "key expirada\n",
      "key expirada\n",
      "key expirada\n",
      "key expirada\n"
     ]
    },
    {
     "name": "stderr",
     "output_type": "stream",
     "text": [
      " 42%|████▏     | 63/150 [03:38<04:59,  3.45s/it]"
     ]
    },
    {
     "name": "stdout",
     "output_type": "stream",
     "text": [
      "key expirada\n",
      "2\n",
      "key expirada\n",
      "key expirada\n",
      "key expirada\n",
      "key expirada\n",
      "key expirada\n",
      "key expirada\n",
      "key expirada\n",
      "key expirada\n"
     ]
    },
    {
     "name": "stderr",
     "output_type": "stream",
     "text": [
      " 43%|████▎     | 64/150 [03:41<04:54,  3.43s/it]"
     ]
    },
    {
     "name": "stdout",
     "output_type": "stream",
     "text": [
      "key expirada\n",
      "2\n",
      "key expirada\n",
      "key expirada\n",
      "key expirada\n",
      "key expirada\n",
      "key expirada\n",
      "key expirada\n",
      "key expirada\n",
      "key expirada\n"
     ]
    },
    {
     "name": "stderr",
     "output_type": "stream",
     "text": [
      " 43%|████▎     | 65/150 [03:45<04:49,  3.40s/it]"
     ]
    },
    {
     "name": "stdout",
     "output_type": "stream",
     "text": [
      "key expirada\n",
      "2\n",
      "key expirada\n",
      "key expirada\n",
      "key expirada\n",
      "key expirada\n",
      "key expirada\n",
      "key expirada\n",
      "key expirada\n",
      "key expirada\n"
     ]
    },
    {
     "name": "stderr",
     "output_type": "stream",
     "text": [
      " 44%|████▍     | 66/150 [03:48<04:44,  3.39s/it]"
     ]
    },
    {
     "name": "stdout",
     "output_type": "stream",
     "text": [
      "key expirada\n",
      "2\n",
      "key expirada\n",
      "key expirada\n",
      "key expirada\n",
      "key expirada\n",
      "key expirada\n",
      "key expirada\n",
      "key expirada\n",
      "key expirada\n"
     ]
    },
    {
     "name": "stderr",
     "output_type": "stream",
     "text": [
      " 45%|████▍     | 67/150 [03:51<04:39,  3.37s/it]"
     ]
    },
    {
     "name": "stdout",
     "output_type": "stream",
     "text": [
      "key expirada\n",
      "2\n",
      "key expirada\n",
      "key expirada\n",
      "key expirada\n",
      "key expirada\n",
      "key expirada\n",
      "key expirada\n",
      "key expirada\n",
      "key expirada\n"
     ]
    },
    {
     "name": "stderr",
     "output_type": "stream",
     "text": [
      " 45%|████▌     | 68/150 [03:54<04:35,  3.35s/it]"
     ]
    },
    {
     "name": "stdout",
     "output_type": "stream",
     "text": [
      "key expirada\n",
      "2\n",
      "key expirada\n",
      "key expirada\n",
      "key expirada\n",
      "key expirada\n",
      "key expirada\n",
      "key expirada\n",
      "key expirada\n",
      "key expirada\n"
     ]
    },
    {
     "name": "stderr",
     "output_type": "stream",
     "text": [
      " 46%|████▌     | 69/150 [03:57<04:30,  3.34s/it]"
     ]
    },
    {
     "name": "stdout",
     "output_type": "stream",
     "text": [
      "key expirada\n",
      "2\n",
      "key expirada\n",
      "key expirada\n",
      "key expirada\n",
      "key expirada\n",
      "key expirada\n",
      "key expirada\n",
      "key expirada\n",
      "key expirada\n"
     ]
    },
    {
     "name": "stderr",
     "output_type": "stream",
     "text": [
      " 47%|████▋     | 70/150 [04:01<04:30,  3.38s/it]"
     ]
    },
    {
     "name": "stdout",
     "output_type": "stream",
     "text": [
      "key expirada\n",
      "2\n",
      "key expirada\n",
      "key expirada\n",
      "key expirada\n",
      "key expirada\n",
      "key expirada\n",
      "key expirada\n",
      "key expirada\n",
      "key expirada\n"
     ]
    },
    {
     "name": "stderr",
     "output_type": "stream",
     "text": [
      " 47%|████▋     | 71/150 [04:04<04:26,  3.37s/it]"
     ]
    },
    {
     "name": "stdout",
     "output_type": "stream",
     "text": [
      "key expirada\n",
      "2\n",
      "key expirada\n",
      "key expirada\n",
      "key expirada\n",
      "key expirada\n",
      "key expirada\n",
      "key expirada\n",
      "key expirada\n",
      "key expirada\n"
     ]
    },
    {
     "name": "stderr",
     "output_type": "stream",
     "text": [
      " 48%|████▊     | 72/150 [04:08<04:21,  3.35s/it]"
     ]
    },
    {
     "name": "stdout",
     "output_type": "stream",
     "text": [
      "key expirada\n",
      "2\n",
      "key expirada\n",
      "key expirada\n",
      "key expirada\n",
      "key expirada\n",
      "key expirada\n",
      "key expirada\n",
      "key expirada\n",
      "key expirada\n"
     ]
    },
    {
     "name": "stderr",
     "output_type": "stream",
     "text": [
      " 49%|████▊     | 73/150 [04:11<04:19,  3.37s/it]"
     ]
    },
    {
     "name": "stdout",
     "output_type": "stream",
     "text": [
      "key expirada\n",
      "2\n",
      "key expirada\n",
      "key expirada\n",
      "key expirada\n",
      "key expirada\n",
      "key expirada\n",
      "key expirada\n",
      "key expirada\n",
      "key expirada\n"
     ]
    },
    {
     "name": "stderr",
     "output_type": "stream",
     "text": [
      " 49%|████▉     | 74/150 [04:15<04:16,  3.37s/it]"
     ]
    },
    {
     "name": "stdout",
     "output_type": "stream",
     "text": [
      "key expirada\n",
      "2\n",
      "key expirada\n",
      "key expirada\n",
      "key expirada\n",
      "key expirada\n",
      "key expirada\n",
      "key expirada\n",
      "key expirada\n",
      "key expirada\n"
     ]
    },
    {
     "name": "stderr",
     "output_type": "stream",
     "text": [
      " 50%|█████     | 75/150 [04:18<04:11,  3.35s/it]"
     ]
    },
    {
     "name": "stdout",
     "output_type": "stream",
     "text": [
      "key expirada\n",
      "2\n",
      "key expirada\n",
      "key expirada\n",
      "key expirada\n",
      "key expirada\n",
      "key expirada\n",
      "key expirada\n",
      "key expirada\n",
      "key expirada\n"
     ]
    },
    {
     "name": "stderr",
     "output_type": "stream",
     "text": [
      " 51%|█████     | 76/150 [04:21<04:08,  3.35s/it]"
     ]
    },
    {
     "name": "stdout",
     "output_type": "stream",
     "text": [
      "key expirada\n",
      "2\n",
      "key expirada\n",
      "key expirada\n",
      "key expirada\n",
      "key expirada\n",
      "key expirada\n",
      "key expirada\n",
      "key expirada\n",
      "key expirada\n"
     ]
    },
    {
     "name": "stderr",
     "output_type": "stream",
     "text": [
      " 51%|█████▏    | 77/150 [04:24<04:04,  3.35s/it]"
     ]
    },
    {
     "name": "stdout",
     "output_type": "stream",
     "text": [
      "key expirada\n",
      "2\n",
      "key expirada\n",
      "key expirada\n",
      "key expirada\n",
      "key expirada\n",
      "key expirada\n",
      "key expirada\n",
      "key expirada\n",
      "key expirada\n"
     ]
    },
    {
     "name": "stderr",
     "output_type": "stream",
     "text": [
      " 52%|█████▏    | 78/150 [04:28<04:00,  3.35s/it]"
     ]
    },
    {
     "name": "stdout",
     "output_type": "stream",
     "text": [
      "key expirada\n",
      "2\n",
      "key expirada\n",
      "key expirada\n",
      "key expirada\n",
      "key expirada\n",
      "key expirada\n",
      "key expirada\n",
      "key expirada\n",
      "key expirada\n"
     ]
    },
    {
     "name": "stderr",
     "output_type": "stream",
     "text": [
      " 53%|█████▎    | 79/150 [04:31<03:56,  3.33s/it]"
     ]
    },
    {
     "name": "stdout",
     "output_type": "stream",
     "text": [
      "key expirada\n",
      "2\n",
      "key expirada\n",
      "key expirada\n",
      "key expirada\n",
      "key expirada\n",
      "key expirada\n",
      "key expirada\n",
      "key expirada\n",
      "key expirada\n"
     ]
    },
    {
     "name": "stderr",
     "output_type": "stream",
     "text": [
      " 53%|█████▎    | 80/150 [04:34<03:51,  3.31s/it]"
     ]
    },
    {
     "name": "stdout",
     "output_type": "stream",
     "text": [
      "key expirada\n",
      "2\n",
      "key expirada\n",
      "key expirada\n",
      "key expirada\n",
      "key expirada\n",
      "key expirada\n",
      "key expirada\n",
      "key expirada\n",
      "key expirada\n"
     ]
    },
    {
     "name": "stderr",
     "output_type": "stream",
     "text": [
      " 54%|█████▍    | 81/150 [04:37<03:48,  3.32s/it]"
     ]
    },
    {
     "name": "stdout",
     "output_type": "stream",
     "text": [
      "key expirada\n",
      "2\n",
      "key expirada\n",
      "key expirada\n",
      "key expirada\n",
      "key expirada\n",
      "key expirada\n",
      "key expirada\n",
      "key expirada\n",
      "key expirada\n"
     ]
    },
    {
     "name": "stderr",
     "output_type": "stream",
     "text": [
      " 55%|█████▍    | 82/150 [04:41<03:49,  3.37s/it]"
     ]
    },
    {
     "name": "stdout",
     "output_type": "stream",
     "text": [
      "key expirada\n",
      "2\n",
      "key expirada\n",
      "key expirada\n",
      "key expirada\n",
      "key expirada\n",
      "key expirada\n",
      "key expirada\n",
      "key expirada\n",
      "key expirada\n"
     ]
    },
    {
     "name": "stderr",
     "output_type": "stream",
     "text": [
      " 55%|█████▌    | 83/150 [04:45<03:44,  3.36s/it]"
     ]
    },
    {
     "name": "stdout",
     "output_type": "stream",
     "text": [
      "key expirada\n",
      "2\n",
      "key expirada\n",
      "key expirada\n",
      "key expirada\n",
      "key expirada\n",
      "key expirada\n",
      "key expirada\n",
      "key expirada\n",
      "key expirada\n"
     ]
    },
    {
     "name": "stderr",
     "output_type": "stream",
     "text": [
      " 56%|█████▌    | 84/150 [04:48<03:40,  3.34s/it]"
     ]
    },
    {
     "name": "stdout",
     "output_type": "stream",
     "text": [
      "key expirada\n",
      "2\n",
      "key expirada\n",
      "key expirada\n",
      "key expirada\n",
      "key expirada\n",
      "key expirada\n",
      "key expirada\n",
      "key expirada\n",
      "key expirada\n"
     ]
    },
    {
     "name": "stderr",
     "output_type": "stream",
     "text": [
      " 57%|█████▋    | 85/150 [04:51<03:39,  3.38s/it]"
     ]
    },
    {
     "name": "stdout",
     "output_type": "stream",
     "text": [
      "key expirada\n",
      "2\n",
      "key expirada\n",
      "key expirada\n",
      "key expirada\n",
      "key expirada\n",
      "key expirada\n",
      "key expirada\n",
      "key expirada\n",
      "key expirada\n"
     ]
    },
    {
     "name": "stderr",
     "output_type": "stream",
     "text": [
      " 57%|█████▋    | 86/150 [04:55<03:35,  3.37s/it]"
     ]
    },
    {
     "name": "stdout",
     "output_type": "stream",
     "text": [
      "key expirada\n",
      "2\n",
      "key expirada\n",
      "key expirada\n",
      "key expirada\n",
      "key expirada\n",
      "key expirada\n",
      "key expirada\n",
      "key expirada\n",
      "key expirada\n"
     ]
    },
    {
     "name": "stderr",
     "output_type": "stream",
     "text": [
      " 58%|█████▊    | 87/150 [04:58<03:31,  3.36s/it]"
     ]
    },
    {
     "name": "stdout",
     "output_type": "stream",
     "text": [
      "key expirada\n",
      "2\n",
      "key expirada\n",
      "key expirada\n",
      "key expirada\n",
      "key expirada\n",
      "key expirada\n",
      "key expirada\n",
      "key expirada\n",
      "key expirada\n"
     ]
    },
    {
     "name": "stderr",
     "output_type": "stream",
     "text": [
      " 59%|█████▊    | 88/150 [05:01<03:28,  3.36s/it]"
     ]
    },
    {
     "name": "stdout",
     "output_type": "stream",
     "text": [
      "key expirada\n",
      "2\n",
      "key expirada\n",
      "key expirada\n",
      "key expirada\n",
      "key expirada\n",
      "key expirada\n",
      "key expirada\n",
      "key expirada\n",
      "key expirada\n"
     ]
    },
    {
     "name": "stderr",
     "output_type": "stream",
     "text": [
      " 59%|█████▉    | 89/150 [05:05<03:25,  3.36s/it]"
     ]
    },
    {
     "name": "stdout",
     "output_type": "stream",
     "text": [
      "key expirada\n",
      "2\n",
      "key expirada\n",
      "key expirada\n",
      "key expirada\n",
      "key expirada\n",
      "key expirada\n",
      "key expirada\n",
      "key expirada\n",
      "key expirada\n"
     ]
    },
    {
     "name": "stderr",
     "output_type": "stream",
     "text": [
      " 60%|██████    | 90/150 [05:08<03:20,  3.35s/it]"
     ]
    },
    {
     "name": "stdout",
     "output_type": "stream",
     "text": [
      "key expirada\n",
      "2\n",
      "key expirada\n",
      "key expirada\n",
      "key expirada\n",
      "key expirada\n",
      "key expirada\n",
      "key expirada\n",
      "key expirada\n",
      "key expirada\n"
     ]
    },
    {
     "name": "stderr",
     "output_type": "stream",
     "text": [
      " 61%|██████    | 91/150 [05:11<03:16,  3.34s/it]"
     ]
    },
    {
     "name": "stdout",
     "output_type": "stream",
     "text": [
      "key expirada\n",
      "2\n",
      "key expirada\n",
      "key expirada\n",
      "key expirada\n",
      "key expirada\n",
      "key expirada\n",
      "key expirada\n",
      "key expirada\n",
      "key expirada\n"
     ]
    },
    {
     "name": "stderr",
     "output_type": "stream",
     "text": [
      " 61%|██████▏   | 92/150 [05:14<03:13,  3.33s/it]"
     ]
    },
    {
     "name": "stdout",
     "output_type": "stream",
     "text": [
      "key expirada\n",
      "2\n",
      "key expirada\n",
      "key expirada\n",
      "key expirada\n",
      "key expirada\n",
      "key expirada\n",
      "key expirada\n",
      "key expirada\n",
      "key expirada\n"
     ]
    },
    {
     "name": "stderr",
     "output_type": "stream",
     "text": [
      " 62%|██████▏   | 93/150 [05:18<03:09,  3.33s/it]"
     ]
    },
    {
     "name": "stdout",
     "output_type": "stream",
     "text": [
      "key expirada\n",
      "2\n",
      "key expirada\n",
      "key expirada\n",
      "key expirada\n",
      "key expirada\n",
      "key expirada\n",
      "key expirada\n",
      "key expirada\n",
      "key expirada\n"
     ]
    },
    {
     "name": "stderr",
     "output_type": "stream",
     "text": [
      " 63%|██████▎   | 94/150 [05:21<03:05,  3.32s/it]"
     ]
    },
    {
     "name": "stdout",
     "output_type": "stream",
     "text": [
      "key expirada\n",
      "2\n",
      "key expirada\n",
      "key expirada\n",
      "key expirada\n",
      "key expirada\n",
      "key expirada\n",
      "key expirada\n",
      "key expirada\n",
      "key expirada\n"
     ]
    },
    {
     "name": "stderr",
     "output_type": "stream",
     "text": [
      " 63%|██████▎   | 95/150 [05:24<03:02,  3.31s/it]"
     ]
    },
    {
     "name": "stdout",
     "output_type": "stream",
     "text": [
      "key expirada\n",
      "2\n",
      "key expirada\n",
      "key expirada\n",
      "key expirada\n",
      "key expirada\n",
      "key expirada\n",
      "key expirada\n",
      "key expirada\n",
      "key expirada\n"
     ]
    },
    {
     "name": "stderr",
     "output_type": "stream",
     "text": [
      " 64%|██████▍   | 96/150 [05:28<02:59,  3.32s/it]"
     ]
    },
    {
     "name": "stdout",
     "output_type": "stream",
     "text": [
      "key expirada\n",
      "2\n",
      "key expirada\n",
      "key expirada\n",
      "key expirada\n",
      "key expirada\n",
      "key expirada\n",
      "key expirada\n",
      "key expirada\n",
      "key expirada\n"
     ]
    },
    {
     "name": "stderr",
     "output_type": "stream",
     "text": [
      " 65%|██████▍   | 97/150 [05:31<02:55,  3.31s/it]"
     ]
    },
    {
     "name": "stdout",
     "output_type": "stream",
     "text": [
      "key expirada\n",
      "2\n",
      "key expirada\n",
      "key expirada\n",
      "key expirada\n",
      "key expirada\n",
      "key expirada\n",
      "key expirada\n",
      "key expirada\n",
      "key expirada\n"
     ]
    },
    {
     "name": "stderr",
     "output_type": "stream",
     "text": [
      " 65%|██████▌   | 98/150 [05:34<02:52,  3.31s/it]"
     ]
    },
    {
     "name": "stdout",
     "output_type": "stream",
     "text": [
      "key expirada\n",
      "2\n",
      "key expirada\n",
      "key expirada\n",
      "key expirada\n",
      "key expirada\n",
      "key expirada\n",
      "key expirada\n",
      "key expirada\n",
      "key expirada\n"
     ]
    },
    {
     "name": "stderr",
     "output_type": "stream",
     "text": [
      " 66%|██████▌   | 99/150 [05:38<02:50,  3.34s/it]"
     ]
    },
    {
     "name": "stdout",
     "output_type": "stream",
     "text": [
      "key expirada\n",
      "2\n",
      "key expirada\n",
      "key expirada\n",
      "key expirada\n",
      "key expirada\n",
      "key expirada\n",
      "key expirada\n",
      "key expirada\n",
      "key expirada\n"
     ]
    },
    {
     "name": "stderr",
     "output_type": "stream",
     "text": [
      " 67%|██████▋   | 100/150 [05:41<02:46,  3.34s/it]"
     ]
    },
    {
     "name": "stdout",
     "output_type": "stream",
     "text": [
      "key expirada\n",
      "2\n",
      "key expirada\n",
      "key expirada\n",
      "key expirada\n",
      "key expirada\n",
      "key expirada\n",
      "key expirada\n",
      "key expirada\n",
      "key expirada\n"
     ]
    },
    {
     "name": "stderr",
     "output_type": "stream",
     "text": [
      " 67%|██████▋   | 101/150 [05:45<02:46,  3.39s/it]"
     ]
    },
    {
     "name": "stdout",
     "output_type": "stream",
     "text": [
      "key expirada\n",
      "2\n",
      "key expirada\n",
      "key expirada\n",
      "key expirada\n",
      "key expirada\n",
      "key expirada\n",
      "key expirada\n",
      "key expirada\n",
      "key expirada\n"
     ]
    },
    {
     "name": "stderr",
     "output_type": "stream",
     "text": [
      " 68%|██████▊   | 102/150 [05:48<02:42,  3.38s/it]"
     ]
    },
    {
     "name": "stdout",
     "output_type": "stream",
     "text": [
      "key expirada\n",
      "2\n",
      "key expirada\n",
      "key expirada\n",
      "key expirada\n",
      "key expirada\n",
      "key expirada\n",
      "key expirada\n",
      "key expirada\n",
      "key expirada\n"
     ]
    },
    {
     "name": "stderr",
     "output_type": "stream",
     "text": [
      " 69%|██████▊   | 103/150 [05:51<02:37,  3.36s/it]"
     ]
    },
    {
     "name": "stdout",
     "output_type": "stream",
     "text": [
      "key expirada\n",
      "2\n",
      "key expirada\n",
      "key expirada\n",
      "key expirada\n",
      "key expirada\n",
      "key expirada\n",
      "key expirada\n",
      "key expirada\n",
      "key expirada\n"
     ]
    },
    {
     "name": "stderr",
     "output_type": "stream",
     "text": [
      " 69%|██████▉   | 104/150 [05:55<02:34,  3.35s/it]"
     ]
    },
    {
     "name": "stdout",
     "output_type": "stream",
     "text": [
      "key expirada\n",
      "2\n",
      "key expirada\n",
      "key expirada\n",
      "key expirada\n",
      "key expirada\n",
      "key expirada\n",
      "key expirada\n",
      "key expirada\n",
      "key expirada\n"
     ]
    },
    {
     "name": "stderr",
     "output_type": "stream",
     "text": [
      " 70%|███████   | 105/150 [05:58<02:29,  3.33s/it]"
     ]
    },
    {
     "name": "stdout",
     "output_type": "stream",
     "text": [
      "key expirada\n",
      "2\n",
      "key expirada\n",
      "key expirada\n",
      "key expirada\n",
      "key expirada\n",
      "key expirada\n",
      "key expirada\n",
      "key expirada\n",
      "key expirada\n"
     ]
    },
    {
     "name": "stderr",
     "output_type": "stream",
     "text": [
      " 71%|███████   | 106/150 [06:01<02:26,  3.34s/it]"
     ]
    },
    {
     "name": "stdout",
     "output_type": "stream",
     "text": [
      "key expirada\n",
      "2\n",
      "key expirada\n",
      "key expirada\n",
      "key expirada\n",
      "key expirada\n",
      "key expirada\n",
      "key expirada\n",
      "key expirada\n",
      "key expirada\n"
     ]
    },
    {
     "name": "stderr",
     "output_type": "stream",
     "text": [
      " 71%|███████▏  | 107/150 [06:04<02:22,  3.31s/it]"
     ]
    },
    {
     "name": "stdout",
     "output_type": "stream",
     "text": [
      "key expirada\n",
      "2\n",
      "key expirada\n",
      "key expirada\n",
      "key expirada\n",
      "key expirada\n",
      "key expirada\n",
      "key expirada\n",
      "key expirada\n",
      "key expirada\n"
     ]
    },
    {
     "name": "stderr",
     "output_type": "stream",
     "text": [
      " 72%|███████▏  | 108/150 [06:08<02:21,  3.36s/it]"
     ]
    },
    {
     "name": "stdout",
     "output_type": "stream",
     "text": [
      "key expirada\n",
      "2\n",
      "key expirada\n",
      "key expirada\n",
      "key expirada\n",
      "key expirada\n",
      "key expirada\n",
      "key expirada\n",
      "key expirada\n",
      "key expirada\n"
     ]
    },
    {
     "name": "stderr",
     "output_type": "stream",
     "text": [
      " 73%|███████▎  | 109/150 [06:12<02:18,  3.37s/it]"
     ]
    },
    {
     "name": "stdout",
     "output_type": "stream",
     "text": [
      "key expirada\n",
      "2\n",
      "key expirada\n",
      "key expirada\n",
      "key expirada\n",
      "key expirada\n",
      "key expirada\n",
      "key expirada\n",
      "key expirada\n",
      "key expirada\n"
     ]
    },
    {
     "name": "stderr",
     "output_type": "stream",
     "text": [
      " 73%|███████▎  | 110/150 [06:15<02:14,  3.37s/it]"
     ]
    },
    {
     "name": "stdout",
     "output_type": "stream",
     "text": [
      "key expirada\n",
      "2\n",
      "key expirada\n",
      "key expirada\n",
      "key expirada\n",
      "key expirada\n",
      "key expirada\n",
      "key expirada\n",
      "key expirada\n",
      "key expirada\n"
     ]
    },
    {
     "name": "stderr",
     "output_type": "stream",
     "text": [
      " 74%|███████▍  | 111/150 [06:19<02:12,  3.40s/it]"
     ]
    },
    {
     "name": "stdout",
     "output_type": "stream",
     "text": [
      "key expirada\n",
      "2\n",
      "key expirada\n",
      "key expirada\n",
      "key expirada\n",
      "key expirada\n",
      "key expirada\n",
      "key expirada\n",
      "key expirada\n",
      "key expirada\n"
     ]
    },
    {
     "name": "stderr",
     "output_type": "stream",
     "text": [
      " 75%|███████▍  | 112/150 [06:22<02:09,  3.40s/it]"
     ]
    },
    {
     "name": "stdout",
     "output_type": "stream",
     "text": [
      "key expirada\n",
      "2\n",
      "key expirada\n",
      "key expirada\n",
      "key expirada\n",
      "key expirada\n",
      "key expirada\n",
      "key expirada\n",
      "key expirada\n",
      "key expirada\n"
     ]
    },
    {
     "name": "stderr",
     "output_type": "stream",
     "text": [
      " 75%|███████▌  | 113/150 [06:25<02:05,  3.38s/it]"
     ]
    },
    {
     "name": "stdout",
     "output_type": "stream",
     "text": [
      "key expirada\n",
      "2\n",
      "key expirada\n",
      "key expirada\n",
      "key expirada\n",
      "key expirada\n",
      "key expirada\n",
      "key expirada\n",
      "key expirada\n",
      "key expirada\n"
     ]
    },
    {
     "name": "stderr",
     "output_type": "stream",
     "text": [
      " 76%|███████▌  | 114/150 [06:28<02:01,  3.37s/it]"
     ]
    },
    {
     "name": "stdout",
     "output_type": "stream",
     "text": [
      "key expirada\n",
      "2\n",
      "key expirada\n",
      "key expirada\n",
      "key expirada\n",
      "key expirada\n",
      "key expirada\n",
      "key expirada\n",
      "key expirada\n",
      "key expirada\n"
     ]
    },
    {
     "name": "stderr",
     "output_type": "stream",
     "text": [
      " 77%|███████▋  | 115/150 [06:32<01:59,  3.42s/it]"
     ]
    },
    {
     "name": "stdout",
     "output_type": "stream",
     "text": [
      "key expirada\n",
      "2\n",
      "key expirada\n",
      "key expirada\n",
      "key expirada\n",
      "key expirada\n",
      "key expirada\n",
      "key expirada\n",
      "key expirada\n",
      "key expirada\n"
     ]
    },
    {
     "name": "stderr",
     "output_type": "stream",
     "text": [
      " 77%|███████▋  | 116/150 [06:36<01:55,  3.41s/it]"
     ]
    },
    {
     "name": "stdout",
     "output_type": "stream",
     "text": [
      "key expirada\n",
      "2\n",
      "key expirada\n",
      "key expirada\n",
      "key expirada\n",
      "key expirada\n",
      "key expirada\n",
      "key expirada\n",
      "key expirada\n",
      "key expirada\n"
     ]
    },
    {
     "name": "stderr",
     "output_type": "stream",
     "text": [
      " 78%|███████▊  | 117/150 [06:40<01:55,  3.51s/it]"
     ]
    },
    {
     "name": "stdout",
     "output_type": "stream",
     "text": [
      "key expirada\n",
      "2\n",
      "key expirada\n",
      "key expirada\n",
      "key expirada\n",
      "key expirada\n",
      "key expirada\n",
      "key expirada\n",
      "key expirada\n",
      "key expirada\n"
     ]
    },
    {
     "name": "stderr",
     "output_type": "stream",
     "text": [
      " 79%|███████▊  | 118/150 [06:43<01:51,  3.49s/it]"
     ]
    },
    {
     "name": "stdout",
     "output_type": "stream",
     "text": [
      "key expirada\n",
      "2\n",
      "key expirada\n",
      "key expirada\n",
      "key expirada\n",
      "key expirada\n",
      "key expirada\n",
      "key expirada\n",
      "key expirada\n",
      "key expirada\n"
     ]
    },
    {
     "name": "stderr",
     "output_type": "stream",
     "text": [
      " 79%|███████▉  | 119/150 [06:47<01:47,  3.47s/it]"
     ]
    },
    {
     "name": "stdout",
     "output_type": "stream",
     "text": [
      "key expirada\n",
      "2\n",
      "key expirada\n",
      "key expirada\n",
      "key expirada\n",
      "key expirada\n",
      "key expirada\n",
      "key expirada\n",
      "key expirada\n",
      "key expirada\n"
     ]
    },
    {
     "name": "stderr",
     "output_type": "stream",
     "text": [
      " 80%|████████  | 120/150 [06:50<01:43,  3.46s/it]"
     ]
    },
    {
     "name": "stdout",
     "output_type": "stream",
     "text": [
      "key expirada\n",
      "2\n",
      "key expirada\n",
      "key expirada\n",
      "key expirada\n",
      "key expirada\n",
      "key expirada\n",
      "key expirada\n",
      "key expirada\n",
      "key expirada\n"
     ]
    },
    {
     "name": "stderr",
     "output_type": "stream",
     "text": [
      " 81%|████████  | 121/150 [06:54<01:42,  3.53s/it]"
     ]
    },
    {
     "name": "stdout",
     "output_type": "stream",
     "text": [
      "key expirada\n",
      "2\n",
      "key expirada\n",
      "key expirada\n",
      "key expirada\n",
      "key expirada\n",
      "key expirada\n",
      "key expirada\n",
      "key expirada\n",
      "key expirada\n"
     ]
    },
    {
     "name": "stderr",
     "output_type": "stream",
     "text": [
      " 81%|████████▏ | 122/150 [06:58<01:38,  3.51s/it]"
     ]
    },
    {
     "name": "stdout",
     "output_type": "stream",
     "text": [
      "key expirada\n",
      "2\n",
      "key expirada\n",
      "key expirada\n",
      "key expirada\n",
      "key expirada\n",
      "key expirada\n",
      "key expirada\n",
      "key expirada\n",
      "key expirada\n"
     ]
    },
    {
     "name": "stderr",
     "output_type": "stream",
     "text": [
      " 82%|████████▏ | 123/150 [07:01<01:34,  3.48s/it]"
     ]
    },
    {
     "name": "stdout",
     "output_type": "stream",
     "text": [
      "key expirada\n",
      "2\n",
      "key expirada\n",
      "key expirada\n",
      "key expirada\n",
      "key expirada\n",
      "key expirada\n",
      "key expirada\n",
      "key expirada\n",
      "key expirada\n"
     ]
    },
    {
     "name": "stderr",
     "output_type": "stream",
     "text": [
      " 83%|████████▎ | 124/150 [07:04<01:30,  3.47s/it]"
     ]
    },
    {
     "name": "stdout",
     "output_type": "stream",
     "text": [
      "key expirada\n",
      "2\n",
      "key expirada\n",
      "key expirada\n",
      "key expirada\n",
      "key expirada\n",
      "key expirada\n",
      "key expirada\n",
      "key expirada\n",
      "key expirada\n"
     ]
    },
    {
     "name": "stderr",
     "output_type": "stream",
     "text": [
      " 83%|████████▎ | 125/150 [07:08<01:27,  3.49s/it]"
     ]
    },
    {
     "name": "stdout",
     "output_type": "stream",
     "text": [
      "key expirada\n",
      "2\n",
      "key expirada\n",
      "key expirada\n",
      "key expirada\n",
      "key expirada\n",
      "key expirada\n",
      "key expirada\n",
      "key expirada\n",
      "key expirada\n"
     ]
    },
    {
     "name": "stderr",
     "output_type": "stream",
     "text": [
      " 84%|████████▍ | 126/150 [07:11<01:23,  3.46s/it]"
     ]
    },
    {
     "name": "stdout",
     "output_type": "stream",
     "text": [
      "key expirada\n",
      "2\n",
      "key expirada\n",
      "key expirada\n",
      "key expirada\n",
      "key expirada\n",
      "key expirada\n",
      "key expirada\n",
      "key expirada\n",
      "key expirada\n"
     ]
    },
    {
     "name": "stderr",
     "output_type": "stream",
     "text": [
      " 85%|████████▍ | 127/150 [07:14<01:19,  3.45s/it]"
     ]
    },
    {
     "name": "stdout",
     "output_type": "stream",
     "text": [
      "key expirada\n",
      "2\n",
      "key expirada\n",
      "key expirada\n",
      "key expirada\n",
      "key expirada\n",
      "key expirada\n",
      "key expirada\n",
      "key expirada\n",
      "key expirada\n"
     ]
    },
    {
     "name": "stderr",
     "output_type": "stream",
     "text": [
      " 85%|████████▌ | 128/150 [07:18<01:16,  3.48s/it]"
     ]
    },
    {
     "name": "stdout",
     "output_type": "stream",
     "text": [
      "key expirada\n",
      "2\n",
      "key expirada\n",
      "key expirada\n",
      "key expirada\n",
      "key expirada\n",
      "key expirada\n",
      "key expirada\n",
      "key expirada\n",
      "key expirada\n"
     ]
    },
    {
     "name": "stderr",
     "output_type": "stream",
     "text": [
      " 86%|████████▌ | 129/150 [07:22<01:13,  3.50s/it]"
     ]
    },
    {
     "name": "stdout",
     "output_type": "stream",
     "text": [
      "key expirada\n",
      "2\n",
      "key expirada\n",
      "key expirada\n",
      "key expirada\n",
      "key expirada\n",
      "key expirada\n",
      "key expirada\n",
      "key expirada\n",
      "key expirada\n"
     ]
    },
    {
     "name": "stderr",
     "output_type": "stream",
     "text": [
      " 87%|████████▋ | 130/150 [07:25<01:09,  3.48s/it]"
     ]
    },
    {
     "name": "stdout",
     "output_type": "stream",
     "text": [
      "key expirada\n",
      "2\n",
      "key expirada\n",
      "key expirada\n",
      "key expirada\n",
      "key expirada\n",
      "key expirada\n",
      "key expirada\n",
      "key expirada\n",
      "key expirada\n"
     ]
    },
    {
     "name": "stderr",
     "output_type": "stream",
     "text": [
      " 87%|████████▋ | 131/150 [07:28<01:05,  3.46s/it]"
     ]
    },
    {
     "name": "stdout",
     "output_type": "stream",
     "text": [
      "key expirada\n",
      "2\n",
      "key expirada\n",
      "key expirada\n",
      "key expirada\n",
      "key expirada\n",
      "key expirada\n",
      "key expirada\n",
      "key expirada\n",
      "key expirada\n"
     ]
    },
    {
     "name": "stderr",
     "output_type": "stream",
     "text": [
      " 88%|████████▊ | 132/150 [07:32<01:02,  3.45s/it]"
     ]
    },
    {
     "name": "stdout",
     "output_type": "stream",
     "text": [
      "key expirada\n",
      "2\n",
      "key expirada\n",
      "key expirada\n",
      "key expirada\n",
      "key expirada\n",
      "key expirada\n",
      "key expirada\n",
      "key expirada\n",
      "key expirada\n"
     ]
    },
    {
     "name": "stderr",
     "output_type": "stream",
     "text": [
      " 89%|████████▊ | 133/150 [07:35<00:58,  3.42s/it]"
     ]
    },
    {
     "name": "stdout",
     "output_type": "stream",
     "text": [
      "key expirada\n",
      "2\n",
      "key expirada\n",
      "key expirada\n",
      "key expirada\n",
      "key expirada\n",
      "key expirada\n",
      "key expirada\n",
      "key expirada\n",
      "key expirada\n"
     ]
    },
    {
     "name": "stderr",
     "output_type": "stream",
     "text": [
      " 89%|████████▉ | 134/150 [07:39<00:55,  3.50s/it]"
     ]
    },
    {
     "name": "stdout",
     "output_type": "stream",
     "text": [
      "key expirada\n",
      "2\n",
      "key expirada\n",
      "key expirada\n",
      "key expirada\n",
      "key expirada\n",
      "key expirada\n",
      "key expirada\n",
      "key expirada\n",
      "key expirada\n"
     ]
    },
    {
     "name": "stderr",
     "output_type": "stream",
     "text": [
      " 90%|█████████ | 135/150 [07:42<00:52,  3.48s/it]"
     ]
    },
    {
     "name": "stdout",
     "output_type": "stream",
     "text": [
      "key expirada\n",
      "2\n",
      "key expirada\n",
      "key expirada\n",
      "key expirada\n",
      "key expirada\n",
      "key expirada\n",
      "key expirada\n",
      "key expirada\n",
      "key expirada\n"
     ]
    },
    {
     "name": "stderr",
     "output_type": "stream",
     "text": [
      " 91%|█████████ | 136/150 [07:47<00:49,  3.56s/it]"
     ]
    },
    {
     "name": "stdout",
     "output_type": "stream",
     "text": [
      "key expirada\n",
      "2\n",
      "key expirada\n",
      "key expirada\n",
      "key expirada\n",
      "key expirada\n",
      "key expirada\n",
      "key expirada\n",
      "key expirada\n",
      "key expirada\n"
     ]
    },
    {
     "name": "stderr",
     "output_type": "stream",
     "text": [
      " 91%|█████████▏| 137/150 [07:50<00:45,  3.53s/it]"
     ]
    },
    {
     "name": "stdout",
     "output_type": "stream",
     "text": [
      "key expirada\n",
      "2\n",
      "key expirada\n",
      "key expirada\n",
      "key expirada\n",
      "key expirada\n",
      "key expirada\n",
      "key expirada\n",
      "key expirada\n",
      "key expirada\n"
     ]
    },
    {
     "name": "stderr",
     "output_type": "stream",
     "text": [
      " 92%|█████████▏| 138/150 [07:53<00:42,  3.51s/it]"
     ]
    },
    {
     "name": "stdout",
     "output_type": "stream",
     "text": [
      "key expirada\n",
      "2\n",
      "key expirada\n",
      "key expirada\n",
      "key expirada\n",
      "key expirada\n",
      "key expirada\n",
      "key expirada\n",
      "key expirada\n",
      "key expirada\n"
     ]
    },
    {
     "name": "stderr",
     "output_type": "stream",
     "text": [
      " 93%|█████████▎| 139/150 [07:57<00:38,  3.53s/it]"
     ]
    },
    {
     "name": "stdout",
     "output_type": "stream",
     "text": [
      "key expirada\n",
      "2\n",
      "key expirada\n",
      "key expirada\n",
      "key expirada\n",
      "key expirada\n",
      "key expirada\n",
      "key expirada\n",
      "key expirada\n",
      "key expirada\n"
     ]
    },
    {
     "name": "stderr",
     "output_type": "stream",
     "text": [
      " 93%|█████████▎| 140/150 [08:01<00:35,  3.56s/it]"
     ]
    },
    {
     "name": "stdout",
     "output_type": "stream",
     "text": [
      "key expirada\n",
      "2\n",
      "key expirada\n",
      "key expirada\n",
      "key expirada\n",
      "key expirada\n",
      "key expirada\n",
      "key expirada\n",
      "key expirada\n",
      "key expirada\n"
     ]
    },
    {
     "name": "stderr",
     "output_type": "stream",
     "text": [
      " 94%|█████████▍| 141/150 [08:04<00:31,  3.53s/it]"
     ]
    },
    {
     "name": "stdout",
     "output_type": "stream",
     "text": [
      "key expirada\n",
      "2\n",
      "key expirada\n",
      "key expirada\n",
      "key expirada\n",
      "key expirada\n",
      "key expirada\n",
      "key expirada\n",
      "key expirada\n",
      "key expirada\n"
     ]
    },
    {
     "name": "stderr",
     "output_type": "stream",
     "text": [
      " 95%|█████████▍| 142/150 [08:07<00:28,  3.52s/it]"
     ]
    },
    {
     "name": "stdout",
     "output_type": "stream",
     "text": [
      "key expirada\n",
      "2\n",
      "key expirada\n",
      "key expirada\n",
      "key expirada\n",
      "key expirada\n",
      "key expirada\n",
      "key expirada\n",
      "key expirada\n",
      "key expirada\n"
     ]
    },
    {
     "name": "stderr",
     "output_type": "stream",
     "text": [
      " 95%|█████████▌| 143/150 [08:11<00:24,  3.50s/it]"
     ]
    },
    {
     "name": "stdout",
     "output_type": "stream",
     "text": [
      "key expirada\n",
      "2\n",
      "key expirada\n",
      "key expirada\n",
      "key expirada\n",
      "key expirada\n",
      "key expirada\n",
      "key expirada\n",
      "key expirada\n",
      "key expirada\n"
     ]
    },
    {
     "name": "stderr",
     "output_type": "stream",
     "text": [
      " 96%|█████████▌| 144/150 [08:14<00:20,  3.48s/it]"
     ]
    },
    {
     "name": "stdout",
     "output_type": "stream",
     "text": [
      "key expirada\n",
      "2\n",
      "key expirada\n",
      "key expirada\n",
      "key expirada\n",
      "key expirada\n",
      "key expirada\n",
      "key expirada\n",
      "key expirada\n",
      "key expirada\n"
     ]
    },
    {
     "name": "stderr",
     "output_type": "stream",
     "text": [
      " 97%|█████████▋| 145/150 [08:18<00:17,  3.48s/it]"
     ]
    },
    {
     "name": "stdout",
     "output_type": "stream",
     "text": [
      "key expirada\n",
      "2\n",
      "key expirada\n",
      "key expirada\n",
      "key expirada\n",
      "key expirada\n",
      "key expirada\n",
      "key expirada\n",
      "key expirada\n",
      "key expirada\n"
     ]
    },
    {
     "name": "stderr",
     "output_type": "stream",
     "text": [
      " 97%|█████████▋| 146/150 [08:21<00:13,  3.47s/it]"
     ]
    },
    {
     "name": "stdout",
     "output_type": "stream",
     "text": [
      "key expirada\n",
      "2\n",
      "key expirada\n",
      "key expirada\n",
      "key expirada\n",
      "key expirada\n",
      "key expirada\n",
      "key expirada\n",
      "key expirada\n",
      "key expirada\n"
     ]
    },
    {
     "name": "stderr",
     "output_type": "stream",
     "text": [
      " 98%|█████████▊| 147/150 [08:25<00:10,  3.50s/it]"
     ]
    },
    {
     "name": "stdout",
     "output_type": "stream",
     "text": [
      "key expirada\n",
      "2\n",
      "key expirada\n",
      "key expirada\n",
      "key expirada\n",
      "key expirada\n",
      "key expirada\n",
      "key expirada\n",
      "key expirada\n",
      "key expirada\n"
     ]
    },
    {
     "name": "stderr",
     "output_type": "stream",
     "text": [
      " 99%|█████████▊| 148/150 [08:28<00:07,  3.52s/it]"
     ]
    },
    {
     "name": "stdout",
     "output_type": "stream",
     "text": [
      "key expirada\n",
      "2\n",
      "key expirada\n",
      "key expirada\n",
      "key expirada\n",
      "key expirada\n",
      "key expirada\n",
      "key expirada\n",
      "key expirada\n",
      "key expirada\n"
     ]
    },
    {
     "name": "stderr",
     "output_type": "stream",
     "text": [
      " 99%|█████████▉| 149/150 [08:32<00:03,  3.52s/it]"
     ]
    },
    {
     "name": "stdout",
     "output_type": "stream",
     "text": [
      "key expirada\n",
      "2\n",
      "key expirada\n",
      "key expirada\n",
      "key expirada\n",
      "key expirada\n",
      "key expirada\n",
      "key expirada\n",
      "key expirada\n",
      "key expirada\n"
     ]
    },
    {
     "name": "stderr",
     "output_type": "stream",
     "text": [
      "100%|██████████| 150/150 [08:35<00:00,  3.44s/it]\n"
     ]
    },
    {
     "name": "stdout",
     "output_type": "stream",
     "text": [
      "key expirada\n"
     ]
    },
    {
     "name": "stderr",
     "output_type": "stream",
     "text": [
      "  0%|          | 0/150 [00:00<?, ?it/s]"
     ]
    },
    {
     "name": "stdout",
     "output_type": "stream",
     "text": [
      "2\n",
      "key expirada\n",
      "key expirada\n",
      "key expirada\n",
      "key expirada\n",
      "key expirada\n",
      "key expirada\n",
      "key expirada\n",
      "key expirada\n"
     ]
    },
    {
     "name": "stderr",
     "output_type": "stream",
     "text": [
      "  1%|          | 1/150 [00:04<10:05,  4.07s/it]"
     ]
    },
    {
     "name": "stdout",
     "output_type": "stream",
     "text": [
      "key expirada\n",
      "2\n",
      "key expirada\n",
      "key expirada\n",
      "key expirada\n",
      "key expirada\n",
      "key expirada\n",
      "key expirada\n",
      "key expirada\n",
      "key expirada\n"
     ]
    },
    {
     "name": "stderr",
     "output_type": "stream",
     "text": [
      "  1%|▏         | 2/150 [00:07<08:55,  3.62s/it]"
     ]
    },
    {
     "name": "stdout",
     "output_type": "stream",
     "text": [
      "key expirada\n",
      "2\n",
      "key expirada\n",
      "key expirada\n",
      "key expirada\n",
      "key expirada\n",
      "key expirada\n",
      "key expirada\n",
      "key expirada\n",
      "key expirada\n"
     ]
    },
    {
     "name": "stderr",
     "output_type": "stream",
     "text": [
      "  2%|▏         | 3/150 [00:10<08:53,  3.63s/it]"
     ]
    },
    {
     "name": "stdout",
     "output_type": "stream",
     "text": [
      "key expirada\n",
      "2\n",
      "key expirada\n",
      "key expirada\n",
      "key expirada\n",
      "key expirada\n",
      "key expirada\n",
      "key expirada\n",
      "key expirada\n",
      "key expirada\n"
     ]
    },
    {
     "name": "stderr",
     "output_type": "stream",
     "text": [
      "  3%|▎         | 4/150 [00:14<08:33,  3.52s/it]"
     ]
    },
    {
     "name": "stdout",
     "output_type": "stream",
     "text": [
      "key expirada\n",
      "2\n",
      "key expirada\n",
      "key expirada\n",
      "key expirada\n",
      "key expirada\n",
      "key expirada\n",
      "key expirada\n",
      "key expirada\n",
      "key expirada\n"
     ]
    },
    {
     "name": "stderr",
     "output_type": "stream",
     "text": [
      "  3%|▎         | 5/150 [00:17<08:20,  3.45s/it]"
     ]
    },
    {
     "name": "stdout",
     "output_type": "stream",
     "text": [
      "key expirada\n",
      "2\n",
      "key expirada\n",
      "key expirada\n",
      "key expirada\n",
      "key expirada\n",
      "key expirada\n",
      "key expirada\n",
      "key expirada\n",
      "key expirada\n"
     ]
    },
    {
     "name": "stderr",
     "output_type": "stream",
     "text": [
      "  4%|▍         | 6/150 [00:20<08:07,  3.38s/it]"
     ]
    },
    {
     "name": "stdout",
     "output_type": "stream",
     "text": [
      "key expirada\n",
      "2\n",
      "key expirada\n",
      "key expirada\n",
      "key expirada\n",
      "key expirada\n",
      "key expirada\n",
      "key expirada\n",
      "key expirada\n",
      "key expirada\n"
     ]
    },
    {
     "name": "stderr",
     "output_type": "stream",
     "text": [
      "  5%|▍         | 7/150 [00:23<08:02,  3.37s/it]"
     ]
    },
    {
     "name": "stdout",
     "output_type": "stream",
     "text": [
      "key expirada\n",
      "2\n",
      "key expirada\n",
      "key expirada\n",
      "key expirada\n",
      "key expirada\n",
      "key expirada\n",
      "key expirada\n",
      "key expirada\n",
      "key expirada\n"
     ]
    },
    {
     "name": "stderr",
     "output_type": "stream",
     "text": [
      "  5%|▌         | 8/150 [00:27<08:12,  3.46s/it]"
     ]
    },
    {
     "name": "stdout",
     "output_type": "stream",
     "text": [
      "key expirada\n",
      "2\n",
      "key expirada\n",
      "key expirada\n",
      "key expirada\n",
      "key expirada\n",
      "key expirada\n",
      "key expirada\n",
      "key expirada\n",
      "key expirada\n"
     ]
    },
    {
     "name": "stderr",
     "output_type": "stream",
     "text": [
      "  6%|▌         | 9/150 [00:31<08:08,  3.46s/it]"
     ]
    },
    {
     "name": "stdout",
     "output_type": "stream",
     "text": [
      "key expirada\n",
      "2\n",
      "key expirada\n",
      "key expirada\n",
      "key expirada\n",
      "key expirada\n",
      "key expirada\n",
      "key expirada\n",
      "key expirada\n",
      "key expirada\n"
     ]
    },
    {
     "name": "stderr",
     "output_type": "stream",
     "text": [
      "  7%|▋         | 10/150 [00:34<08:00,  3.43s/it]"
     ]
    },
    {
     "name": "stdout",
     "output_type": "stream",
     "text": [
      "key expirada\n",
      "2\n",
      "key expirada\n",
      "key expirada\n",
      "key expirada\n",
      "key expirada\n",
      "key expirada\n",
      "key expirada\n",
      "key expirada\n",
      "key expirada\n"
     ]
    },
    {
     "name": "stderr",
     "output_type": "stream",
     "text": [
      "  7%|▋         | 11/150 [00:37<07:54,  3.41s/it]"
     ]
    },
    {
     "name": "stdout",
     "output_type": "stream",
     "text": [
      "key expirada\n",
      "2\n",
      "key expirada\n",
      "key expirada\n",
      "key expirada\n",
      "key expirada\n",
      "key expirada\n",
      "key expirada\n",
      "key expirada\n",
      "key expirada\n"
     ]
    },
    {
     "name": "stderr",
     "output_type": "stream",
     "text": [
      "  8%|▊         | 12/150 [00:41<07:54,  3.44s/it]"
     ]
    },
    {
     "name": "stdout",
     "output_type": "stream",
     "text": [
      "key expirada\n",
      "2\n",
      "key expirada\n",
      "key expirada\n",
      "key expirada\n",
      "key expirada\n",
      "key expirada\n",
      "key expirada\n",
      "key expirada\n",
      "key expirada\n"
     ]
    },
    {
     "name": "stderr",
     "output_type": "stream",
     "text": [
      "  9%|▊         | 13/150 [00:44<07:49,  3.43s/it]"
     ]
    },
    {
     "name": "stdout",
     "output_type": "stream",
     "text": [
      "key expirada\n",
      "2\n",
      "key expirada\n",
      "key expirada\n",
      "key expirada\n",
      "key expirada\n",
      "key expirada\n",
      "key expirada\n",
      "key expirada\n",
      "key expirada\n"
     ]
    },
    {
     "name": "stderr",
     "output_type": "stream",
     "text": [
      "  9%|▉         | 14/150 [00:47<07:41,  3.39s/it]"
     ]
    },
    {
     "name": "stdout",
     "output_type": "stream",
     "text": [
      "key expirada\n",
      "2\n",
      "key expirada\n",
      "key expirada\n",
      "key expirada\n",
      "key expirada\n",
      "key expirada\n",
      "key expirada\n",
      "key expirada\n",
      "key expirada\n"
     ]
    },
    {
     "name": "stderr",
     "output_type": "stream",
     "text": [
      " 10%|█         | 15/150 [00:51<07:36,  3.38s/it]"
     ]
    },
    {
     "name": "stdout",
     "output_type": "stream",
     "text": [
      "key expirada\n",
      "2\n",
      "key expirada\n",
      "key expirada\n",
      "key expirada\n",
      "key expirada\n",
      "key expirada\n",
      "key expirada\n",
      "key expirada\n",
      "key expirada\n"
     ]
    },
    {
     "name": "stderr",
     "output_type": "stream",
     "text": [
      " 11%|█         | 16/150 [00:54<07:30,  3.36s/it]"
     ]
    },
    {
     "name": "stdout",
     "output_type": "stream",
     "text": [
      "key expirada\n",
      "2\n",
      "key expirada\n",
      "key expirada\n",
      "key expirada\n",
      "key expirada\n",
      "key expirada\n",
      "key expirada\n",
      "key expirada\n",
      "key expirada\n"
     ]
    },
    {
     "name": "stderr",
     "output_type": "stream",
     "text": [
      " 11%|█▏        | 17/150 [00:57<07:24,  3.34s/it]"
     ]
    },
    {
     "name": "stdout",
     "output_type": "stream",
     "text": [
      "key expirada\n",
      "2\n",
      "key expirada\n",
      "key expirada\n",
      "key expirada\n",
      "key expirada\n",
      "key expirada\n",
      "key expirada\n",
      "key expirada\n",
      "key expirada\n"
     ]
    },
    {
     "name": "stderr",
     "output_type": "stream",
     "text": [
      " 12%|█▏        | 18/150 [01:00<07:20,  3.33s/it]"
     ]
    },
    {
     "name": "stdout",
     "output_type": "stream",
     "text": [
      "key expirada\n",
      "2\n",
      "key expirada\n",
      "key expirada\n",
      "key expirada\n",
      "key expirada\n",
      "key expirada\n",
      "key expirada\n",
      "key expirada\n",
      "key expirada\n"
     ]
    },
    {
     "name": "stderr",
     "output_type": "stream",
     "text": [
      " 13%|█▎        | 19/150 [01:04<07:16,  3.33s/it]"
     ]
    },
    {
     "name": "stdout",
     "output_type": "stream",
     "text": [
      "key expirada\n",
      "2\n",
      "key expirada\n",
      "key expirada\n",
      "key expirada\n",
      "key expirada\n",
      "key expirada\n",
      "key expirada\n",
      "key expirada\n",
      "key expirada\n"
     ]
    },
    {
     "name": "stderr",
     "output_type": "stream",
     "text": [
      " 13%|█▎        | 20/150 [01:07<07:12,  3.32s/it]"
     ]
    },
    {
     "name": "stdout",
     "output_type": "stream",
     "text": [
      "key expirada\n",
      "2\n",
      "key expirada\n",
      "key expirada\n",
      "key expirada\n",
      "key expirada\n",
      "key expirada\n",
      "key expirada\n",
      "key expirada\n",
      "key expirada\n"
     ]
    },
    {
     "name": "stderr",
     "output_type": "stream",
     "text": [
      " 14%|█▍        | 21/150 [01:10<07:06,  3.31s/it]"
     ]
    },
    {
     "name": "stdout",
     "output_type": "stream",
     "text": [
      "key expirada\n",
      "2\n",
      "key expirada\n",
      "key expirada\n",
      "key expirada\n",
      "key expirada\n",
      "key expirada\n",
      "key expirada\n",
      "key expirada\n",
      "key expirada\n"
     ]
    },
    {
     "name": "stderr",
     "output_type": "stream",
     "text": [
      " 15%|█▍        | 22/150 [01:13<07:03,  3.31s/it]"
     ]
    },
    {
     "name": "stdout",
     "output_type": "stream",
     "text": [
      "key expirada\n",
      "2\n",
      "key expirada\n",
      "key expirada\n",
      "key expirada\n",
      "key expirada\n",
      "key expirada\n",
      "key expirada\n",
      "key expirada\n",
      "key expirada\n"
     ]
    },
    {
     "name": "stderr",
     "output_type": "stream",
     "text": [
      " 15%|█▌        | 23/150 [01:17<07:00,  3.31s/it]"
     ]
    },
    {
     "name": "stdout",
     "output_type": "stream",
     "text": [
      "key expirada\n",
      "2\n",
      "key expirada\n",
      "key expirada\n",
      "key expirada\n",
      "key expirada\n",
      "key expirada\n",
      "key expirada\n",
      "key expirada\n",
      "key expirada\n"
     ]
    },
    {
     "name": "stderr",
     "output_type": "stream",
     "text": [
      " 16%|█▌        | 24/150 [01:20<06:56,  3.30s/it]"
     ]
    },
    {
     "name": "stdout",
     "output_type": "stream",
     "text": [
      "key expirada\n",
      "2\n",
      "key expirada\n",
      "key expirada\n",
      "key expirada\n",
      "key expirada\n",
      "key expirada\n",
      "key expirada\n",
      "key expirada\n",
      "key expirada\n"
     ]
    },
    {
     "name": "stderr",
     "output_type": "stream",
     "text": [
      " 17%|█▋        | 25/150 [01:23<06:54,  3.31s/it]"
     ]
    },
    {
     "name": "stdout",
     "output_type": "stream",
     "text": [
      "key expirada\n",
      "2\n",
      "key expirada\n",
      "key expirada\n",
      "key expirada\n",
      "key expirada\n",
      "key expirada\n",
      "key expirada\n",
      "key expirada\n",
      "key expirada\n"
     ]
    },
    {
     "name": "stderr",
     "output_type": "stream",
     "text": [
      " 17%|█▋        | 26/150 [01:27<06:50,  3.31s/it]"
     ]
    },
    {
     "name": "stdout",
     "output_type": "stream",
     "text": [
      "key expirada\n",
      "2\n",
      "key expirada\n",
      "key expirada\n",
      "key expirada\n",
      "key expirada\n",
      "key expirada\n",
      "key expirada\n",
      "key expirada\n",
      "key expirada\n"
     ]
    },
    {
     "name": "stderr",
     "output_type": "stream",
     "text": [
      " 18%|█▊        | 27/150 [01:30<06:53,  3.36s/it]"
     ]
    },
    {
     "name": "stdout",
     "output_type": "stream",
     "text": [
      "key expirada\n",
      "2\n",
      "key expirada\n",
      "key expirada\n",
      "key expirada\n",
      "key expirada\n",
      "key expirada\n",
      "key expirada\n",
      "key expirada\n",
      "key expirada\n"
     ]
    },
    {
     "name": "stderr",
     "output_type": "stream",
     "text": [
      " 19%|█▊        | 28/150 [01:34<06:48,  3.35s/it]"
     ]
    },
    {
     "name": "stdout",
     "output_type": "stream",
     "text": [
      "key expirada\n",
      "2\n",
      "key expirada\n",
      "key expirada\n",
      "key expirada\n",
      "key expirada\n",
      "key expirada\n",
      "key expirada\n",
      "key expirada\n",
      "key expirada\n"
     ]
    },
    {
     "name": "stderr",
     "output_type": "stream",
     "text": [
      " 19%|█▉        | 29/150 [01:37<06:44,  3.34s/it]"
     ]
    },
    {
     "name": "stdout",
     "output_type": "stream",
     "text": [
      "key expirada\n",
      "2\n",
      "key expirada\n",
      "key expirada\n",
      "key expirada\n",
      "key expirada\n",
      "key expirada\n",
      "key expirada\n",
      "key expirada\n",
      "key expirada\n"
     ]
    },
    {
     "name": "stderr",
     "output_type": "stream",
     "text": [
      " 20%|██        | 30/150 [01:40<06:41,  3.34s/it]"
     ]
    },
    {
     "name": "stdout",
     "output_type": "stream",
     "text": [
      "key expirada\n",
      "2\n",
      "key expirada\n",
      "key expirada\n",
      "key expirada\n",
      "key expirada\n",
      "key expirada\n",
      "key expirada\n",
      "key expirada\n",
      "key expirada\n"
     ]
    },
    {
     "name": "stderr",
     "output_type": "stream",
     "text": [
      " 21%|██        | 31/150 [01:44<06:36,  3.33s/it]"
     ]
    },
    {
     "name": "stdout",
     "output_type": "stream",
     "text": [
      "key expirada\n",
      "2\n",
      "key expirada\n",
      "key expirada\n",
      "key expirada\n",
      "key expirada\n",
      "key expirada\n",
      "key expirada\n",
      "key expirada\n",
      "key expirada\n"
     ]
    },
    {
     "name": "stderr",
     "output_type": "stream",
     "text": [
      " 21%|██▏       | 32/150 [01:47<06:33,  3.33s/it]"
     ]
    },
    {
     "name": "stdout",
     "output_type": "stream",
     "text": [
      "key expirada\n",
      "2\n",
      "key expirada\n",
      "key expirada\n",
      "key expirada\n",
      "key expirada\n",
      "key expirada\n",
      "key expirada\n",
      "key expirada\n",
      "key expirada\n"
     ]
    },
    {
     "name": "stderr",
     "output_type": "stream",
     "text": [
      " 22%|██▏       | 33/150 [01:50<06:30,  3.34s/it]"
     ]
    },
    {
     "name": "stdout",
     "output_type": "stream",
     "text": [
      "key expirada\n",
      "2\n",
      "key expirada\n",
      "key expirada\n",
      "key expirada\n",
      "key expirada\n",
      "key expirada\n",
      "key expirada\n",
      "key expirada\n",
      "key expirada\n"
     ]
    },
    {
     "name": "stderr",
     "output_type": "stream",
     "text": [
      " 23%|██▎       | 34/150 [01:54<06:25,  3.33s/it]"
     ]
    },
    {
     "name": "stdout",
     "output_type": "stream",
     "text": [
      "key expirada\n",
      "2\n",
      "key expirada\n",
      "key expirada\n",
      "key expirada\n",
      "key expirada\n",
      "key expirada\n",
      "key expirada\n",
      "key expirada\n",
      "key expirada\n"
     ]
    },
    {
     "name": "stderr",
     "output_type": "stream",
     "text": [
      " 23%|██▎       | 35/150 [01:57<06:27,  3.37s/it]"
     ]
    },
    {
     "name": "stdout",
     "output_type": "stream",
     "text": [
      "key expirada\n",
      "2\n",
      "key expirada\n",
      "key expirada\n",
      "key expirada\n",
      "key expirada\n",
      "key expirada\n",
      "key expirada\n",
      "key expirada\n",
      "key expirada\n"
     ]
    },
    {
     "name": "stderr",
     "output_type": "stream",
     "text": [
      " 24%|██▍       | 36/150 [02:01<06:23,  3.36s/it]"
     ]
    },
    {
     "name": "stdout",
     "output_type": "stream",
     "text": [
      "key expirada\n",
      "2\n",
      "key expirada\n",
      "key expirada\n",
      "key expirada\n",
      "key expirada\n",
      "key expirada\n",
      "key expirada\n",
      "key expirada\n",
      "key expirada\n"
     ]
    },
    {
     "name": "stderr",
     "output_type": "stream",
     "text": [
      " 25%|██▍       | 37/150 [02:04<06:19,  3.35s/it]"
     ]
    },
    {
     "name": "stdout",
     "output_type": "stream",
     "text": [
      "key expirada\n",
      "2\n",
      "key expirada\n",
      "key expirada\n",
      "key expirada\n",
      "key expirada\n",
      "key expirada\n",
      "key expirada\n",
      "key expirada\n",
      "key expirada\n"
     ]
    },
    {
     "name": "stderr",
     "output_type": "stream",
     "text": [
      " 25%|██▌       | 38/150 [02:08<06:21,  3.41s/it]"
     ]
    },
    {
     "name": "stdout",
     "output_type": "stream",
     "text": [
      "key expirada\n",
      "2\n",
      "key expirada\n",
      "key expirada\n",
      "key expirada\n",
      "key expirada\n",
      "key expirada\n",
      "key expirada\n",
      "key expirada\n",
      "key expirada\n"
     ]
    },
    {
     "name": "stderr",
     "output_type": "stream",
     "text": [
      " 26%|██▌       | 39/150 [02:11<06:16,  3.39s/it]"
     ]
    },
    {
     "name": "stdout",
     "output_type": "stream",
     "text": [
      "key expirada\n",
      "2\n",
      "key expirada\n",
      "key expirada\n",
      "key expirada\n",
      "key expirada\n",
      "key expirada\n",
      "key expirada\n",
      "key expirada\n",
      "key expirada\n"
     ]
    },
    {
     "name": "stderr",
     "output_type": "stream",
     "text": [
      " 27%|██▋       | 40/150 [02:14<06:11,  3.38s/it]"
     ]
    },
    {
     "name": "stdout",
     "output_type": "stream",
     "text": [
      "key expirada\n",
      "2\n",
      "key expirada\n",
      "key expirada\n",
      "key expirada\n",
      "key expirada\n",
      "key expirada\n",
      "key expirada\n",
      "key expirada\n",
      "key expirada\n"
     ]
    },
    {
     "name": "stderr",
     "output_type": "stream",
     "text": [
      " 27%|██▋       | 41/150 [02:18<06:11,  3.41s/it]"
     ]
    },
    {
     "name": "stdout",
     "output_type": "stream",
     "text": [
      "key expirada\n",
      "2\n",
      "key expirada\n",
      "key expirada\n",
      "key expirada\n",
      "key expirada\n",
      "key expirada\n",
      "key expirada\n",
      "key expirada\n",
      "key expirada\n"
     ]
    },
    {
     "name": "stderr",
     "output_type": "stream",
     "text": [
      " 28%|██▊       | 42/150 [02:22<06:09,  3.42s/it]"
     ]
    },
    {
     "name": "stdout",
     "output_type": "stream",
     "text": [
      "key expirada\n",
      "2\n",
      "key expirada\n",
      "key expirada\n",
      "key expirada\n",
      "key expirada\n",
      "key expirada\n",
      "key expirada\n",
      "key expirada\n",
      "key expirada\n"
     ]
    },
    {
     "name": "stderr",
     "output_type": "stream",
     "text": [
      " 29%|██▊       | 43/150 [02:25<06:03,  3.40s/it]"
     ]
    },
    {
     "name": "stdout",
     "output_type": "stream",
     "text": [
      "key expirada\n",
      "2\n",
      "key expirada\n",
      "key expirada\n",
      "key expirada\n",
      "key expirada\n",
      "key expirada\n",
      "key expirada\n",
      "key expirada\n",
      "key expirada\n"
     ]
    },
    {
     "name": "stderr",
     "output_type": "stream",
     "text": [
      " 29%|██▉       | 44/150 [02:28<05:58,  3.38s/it]"
     ]
    },
    {
     "name": "stdout",
     "output_type": "stream",
     "text": [
      "key expirada\n",
      "2\n",
      "key expirada\n",
      "key expirada\n",
      "key expirada\n",
      "key expirada\n",
      "key expirada\n",
      "key expirada\n",
      "key expirada\n",
      "key expirada\n"
     ]
    },
    {
     "name": "stderr",
     "output_type": "stream",
     "text": [
      " 30%|███       | 45/150 [02:31<05:54,  3.38s/it]"
     ]
    },
    {
     "name": "stdout",
     "output_type": "stream",
     "text": [
      "key expirada\n",
      "2\n",
      "key expirada\n",
      "key expirada\n",
      "key expirada\n",
      "key expirada\n",
      "key expirada\n",
      "key expirada\n",
      "key expirada\n",
      "key expirada\n"
     ]
    },
    {
     "name": "stderr",
     "output_type": "stream",
     "text": [
      " 31%|███       | 46/150 [02:35<05:49,  3.36s/it]"
     ]
    },
    {
     "name": "stdout",
     "output_type": "stream",
     "text": [
      "key expirada\n",
      "2\n",
      "key expirada\n",
      "key expirada\n",
      "key expirada\n",
      "key expirada\n",
      "key expirada\n",
      "key expirada\n",
      "key expirada\n",
      "key expirada\n"
     ]
    },
    {
     "name": "stderr",
     "output_type": "stream",
     "text": [
      " 31%|███▏      | 47/150 [02:39<05:56,  3.46s/it]"
     ]
    },
    {
     "name": "stdout",
     "output_type": "stream",
     "text": [
      "key expirada\n",
      "2\n",
      "key expirada\n",
      "key expirada\n",
      "key expirada\n",
      "key expirada\n",
      "key expirada\n",
      "key expirada\n",
      "key expirada\n",
      "key expirada\n"
     ]
    },
    {
     "name": "stderr",
     "output_type": "stream",
     "text": [
      " 32%|███▏      | 48/150 [02:42<05:52,  3.46s/it]"
     ]
    },
    {
     "name": "stdout",
     "output_type": "stream",
     "text": [
      "key expirada\n",
      "2\n",
      "key expirada\n",
      "key expirada\n",
      "key expirada\n",
      "key expirada\n",
      "key expirada\n",
      "key expirada\n",
      "key expirada\n",
      "key expirada\n"
     ]
    },
    {
     "name": "stderr",
     "output_type": "stream",
     "text": [
      " 33%|███▎      | 49/150 [02:46<05:46,  3.44s/it]"
     ]
    },
    {
     "name": "stdout",
     "output_type": "stream",
     "text": [
      "key expirada\n",
      "2\n",
      "key expirada\n",
      "key expirada\n",
      "key expirada\n",
      "key expirada\n",
      "key expirada\n",
      "key expirada\n",
      "key expirada\n",
      "key expirada\n"
     ]
    },
    {
     "name": "stderr",
     "output_type": "stream",
     "text": [
      " 33%|███▎      | 50/150 [02:49<05:43,  3.43s/it]"
     ]
    },
    {
     "name": "stdout",
     "output_type": "stream",
     "text": [
      "key expirada\n",
      "2\n",
      "key expirada\n",
      "key expirada\n",
      "key expirada\n",
      "key expirada\n",
      "key expirada\n",
      "key expirada\n",
      "key expirada\n",
      "key expirada\n"
     ]
    },
    {
     "name": "stderr",
     "output_type": "stream",
     "text": [
      " 34%|███▍      | 51/150 [02:53<05:46,  3.50s/it]"
     ]
    },
    {
     "name": "stdout",
     "output_type": "stream",
     "text": [
      "key expirada\n",
      "2\n",
      "key expirada\n",
      "key expirada\n",
      "key expirada\n",
      "key expirada\n",
      "key expirada\n",
      "key expirada\n",
      "key expirada\n",
      "key expirada\n"
     ]
    },
    {
     "name": "stderr",
     "output_type": "stream",
     "text": [
      " 35%|███▍      | 52/150 [02:56<05:40,  3.48s/it]"
     ]
    },
    {
     "name": "stdout",
     "output_type": "stream",
     "text": [
      "key expirada\n",
      "2\n",
      "key expirada\n",
      "key expirada\n",
      "key expirada\n",
      "key expirada\n",
      "key expirada\n",
      "key expirada\n",
      "key expirada\n",
      "key expirada\n"
     ]
    },
    {
     "name": "stderr",
     "output_type": "stream",
     "text": [
      " 35%|███▌      | 53/150 [03:00<05:35,  3.46s/it]"
     ]
    },
    {
     "name": "stdout",
     "output_type": "stream",
     "text": [
      "key expirada\n",
      "2\n",
      "key expirada\n",
      "key expirada\n",
      "key expirada\n",
      "key expirada\n",
      "key expirada\n",
      "key expirada\n",
      "key expirada\n",
      "key expirada\n"
     ]
    },
    {
     "name": "stderr",
     "output_type": "stream",
     "text": [
      " 36%|███▌      | 54/150 [03:03<05:30,  3.44s/it]"
     ]
    },
    {
     "name": "stdout",
     "output_type": "stream",
     "text": [
      "key expirada\n",
      "2\n",
      "key expirada\n",
      "key expirada\n",
      "key expirada\n",
      "key expirada\n",
      "key expirada\n",
      "key expirada\n",
      "key expirada\n",
      "key expirada\n"
     ]
    },
    {
     "name": "stderr",
     "output_type": "stream",
     "text": [
      " 37%|███▋      | 55/150 [03:07<05:29,  3.47s/it]"
     ]
    },
    {
     "name": "stdout",
     "output_type": "stream",
     "text": [
      "key expirada\n",
      "2\n",
      "key expirada\n",
      "key expirada\n",
      "key expirada\n",
      "key expirada\n",
      "key expirada\n",
      "key expirada\n",
      "key expirada\n",
      "key expirada\n"
     ]
    },
    {
     "name": "stderr",
     "output_type": "stream",
     "text": [
      " 37%|███▋      | 56/150 [03:10<05:27,  3.49s/it]"
     ]
    },
    {
     "name": "stdout",
     "output_type": "stream",
     "text": [
      "key expirada\n",
      "2\n",
      "key expirada\n",
      "key expirada\n",
      "key expirada\n",
      "key expirada\n",
      "key expirada\n",
      "key expirada\n",
      "key expirada\n",
      "key expirada\n"
     ]
    },
    {
     "name": "stderr",
     "output_type": "stream",
     "text": [
      " 38%|███▊      | 57/150 [03:13<05:22,  3.46s/it]"
     ]
    },
    {
     "name": "stdout",
     "output_type": "stream",
     "text": [
      "key expirada\n",
      "2\n",
      "key expirada\n",
      "key expirada\n",
      "key expirada\n",
      "key expirada\n",
      "key expirada\n",
      "key expirada\n",
      "key expirada\n",
      "key expirada\n"
     ]
    },
    {
     "name": "stderr",
     "output_type": "stream",
     "text": [
      " 39%|███▊      | 58/150 [03:17<05:15,  3.43s/it]"
     ]
    },
    {
     "name": "stdout",
     "output_type": "stream",
     "text": [
      "key expirada\n",
      "2\n",
      "key expirada\n",
      "key expirada\n",
      "key expirada\n",
      "key expirada\n",
      "key expirada\n",
      "key expirada\n",
      "key expirada\n",
      "key expirada\n"
     ]
    },
    {
     "name": "stderr",
     "output_type": "stream",
     "text": [
      " 39%|███▉      | 59/150 [03:20<05:13,  3.44s/it]"
     ]
    },
    {
     "name": "stdout",
     "output_type": "stream",
     "text": [
      "key expirada\n",
      "2\n",
      "key expirada\n",
      "key expirada\n",
      "key expirada\n",
      "key expirada\n",
      "key expirada\n",
      "key expirada\n",
      "key expirada\n",
      "key expirada\n"
     ]
    },
    {
     "name": "stderr",
     "output_type": "stream",
     "text": [
      " 40%|████      | 60/150 [03:24<05:09,  3.43s/it]"
     ]
    },
    {
     "name": "stdout",
     "output_type": "stream",
     "text": [
      "key expirada\n",
      "2\n",
      "key expirada\n",
      "key expirada\n",
      "key expirada\n",
      "key expirada\n",
      "key expirada\n",
      "key expirada\n",
      "key expirada\n",
      "key expirada\n"
     ]
    },
    {
     "name": "stderr",
     "output_type": "stream",
     "text": [
      " 41%|████      | 61/150 [03:27<05:03,  3.41s/it]"
     ]
    },
    {
     "name": "stdout",
     "output_type": "stream",
     "text": [
      "key expirada\n",
      "2\n",
      "key expirada\n",
      "key expirada\n",
      "key expirada\n",
      "key expirada\n",
      "key expirada\n",
      "key expirada\n",
      "key expirada\n",
      "key expirada\n"
     ]
    },
    {
     "name": "stderr",
     "output_type": "stream",
     "text": [
      " 41%|████▏     | 62/150 [03:30<04:58,  3.39s/it]"
     ]
    },
    {
     "name": "stdout",
     "output_type": "stream",
     "text": [
      "key expirada\n",
      "2\n",
      "key expirada\n",
      "key expirada\n",
      "key expirada\n",
      "key expirada\n",
      "key expirada\n",
      "key expirada\n",
      "key expirada\n",
      "key expirada\n"
     ]
    },
    {
     "name": "stderr",
     "output_type": "stream",
     "text": [
      " 42%|████▏     | 63/150 [03:33<04:52,  3.36s/it]"
     ]
    },
    {
     "name": "stdout",
     "output_type": "stream",
     "text": [
      "key expirada\n",
      "2\n",
      "key expirada\n",
      "key expirada\n",
      "key expirada\n",
      "key expirada\n",
      "key expirada\n",
      "key expirada\n",
      "key expirada\n",
      "key expirada\n"
     ]
    },
    {
     "name": "stderr",
     "output_type": "stream",
     "text": [
      " 43%|████▎     | 64/150 [03:37<04:52,  3.40s/it]"
     ]
    },
    {
     "name": "stdout",
     "output_type": "stream",
     "text": [
      "key expirada\n",
      "2\n",
      "key expirada\n",
      "key expirada\n",
      "key expirada\n",
      "key expirada\n",
      "key expirada\n",
      "key expirada\n",
      "key expirada\n",
      "key expirada\n"
     ]
    },
    {
     "name": "stderr",
     "output_type": "stream",
     "text": [
      " 43%|████▎     | 65/150 [03:40<04:47,  3.38s/it]"
     ]
    },
    {
     "name": "stdout",
     "output_type": "stream",
     "text": [
      "key expirada\n",
      "2\n",
      "key expirada\n",
      "key expirada\n",
      "key expirada\n",
      "key expirada\n",
      "key expirada\n",
      "key expirada\n",
      "key expirada\n",
      "key expirada\n"
     ]
    },
    {
     "name": "stderr",
     "output_type": "stream",
     "text": [
      " 44%|████▍     | 66/150 [03:43<04:42,  3.36s/it]"
     ]
    },
    {
     "name": "stdout",
     "output_type": "stream",
     "text": [
      "key expirada\n",
      "2\n",
      "key expirada\n",
      "key expirada\n",
      "key expirada\n",
      "key expirada\n",
      "key expirada\n",
      "key expirada\n",
      "key expirada\n",
      "key expirada\n"
     ]
    },
    {
     "name": "stderr",
     "output_type": "stream",
     "text": [
      " 45%|████▍     | 67/150 [03:46<04:37,  3.35s/it]"
     ]
    },
    {
     "name": "stdout",
     "output_type": "stream",
     "text": [
      "key expirada\n",
      "2\n",
      "key expirada\n",
      "key expirada\n",
      "key expirada\n",
      "key expirada\n",
      "key expirada\n",
      "key expirada\n",
      "key expirada\n",
      "key expirada\n"
     ]
    },
    {
     "name": "stderr",
     "output_type": "stream",
     "text": [
      " 45%|████▌     | 68/150 [03:50<04:33,  3.33s/it]"
     ]
    },
    {
     "name": "stdout",
     "output_type": "stream",
     "text": [
      "key expirada\n",
      "2\n",
      "key expirada\n",
      "key expirada\n",
      "key expirada\n",
      "key expirada\n",
      "key expirada\n",
      "key expirada\n",
      "key expirada\n",
      "key expirada\n"
     ]
    },
    {
     "name": "stderr",
     "output_type": "stream",
     "text": [
      " 46%|████▌     | 69/150 [03:53<04:28,  3.32s/it]"
     ]
    },
    {
     "name": "stdout",
     "output_type": "stream",
     "text": [
      "key expirada\n",
      "2\n",
      "key expirada\n",
      "key expirada\n",
      "key expirada\n",
      "key expirada\n",
      "key expirada\n",
      "key expirada\n",
      "key expirada\n",
      "key expirada\n"
     ]
    },
    {
     "name": "stderr",
     "output_type": "stream",
     "text": [
      " 47%|████▋     | 70/150 [03:56<04:25,  3.32s/it]"
     ]
    },
    {
     "name": "stdout",
     "output_type": "stream",
     "text": [
      "key expirada\n",
      "2\n",
      "key expirada\n",
      "key expirada\n",
      "key expirada\n",
      "key expirada\n",
      "key expirada\n",
      "key expirada\n",
      "key expirada\n",
      "key expirada\n"
     ]
    },
    {
     "name": "stderr",
     "output_type": "stream",
     "text": [
      " 47%|████▋     | 71/150 [04:00<04:26,  3.37s/it]"
     ]
    },
    {
     "name": "stdout",
     "output_type": "stream",
     "text": [
      "key expirada\n",
      "2\n",
      "key expirada\n",
      "key expirada\n",
      "key expirada\n",
      "key expirada\n",
      "key expirada\n",
      "key expirada\n",
      "key expirada\n",
      "key expirada\n"
     ]
    },
    {
     "name": "stderr",
     "output_type": "stream",
     "text": [
      " 48%|████▊     | 72/150 [04:03<04:22,  3.36s/it]"
     ]
    },
    {
     "name": "stdout",
     "output_type": "stream",
     "text": [
      "key expirada\n",
      "2\n",
      "key expirada\n",
      "key expirada\n",
      "key expirada\n",
      "key expirada\n",
      "key expirada\n",
      "key expirada\n",
      "key expirada\n",
      "key expirada\n"
     ]
    },
    {
     "name": "stderr",
     "output_type": "stream",
     "text": [
      " 49%|████▊     | 73/150 [04:07<04:21,  3.39s/it]"
     ]
    },
    {
     "name": "stdout",
     "output_type": "stream",
     "text": [
      "key expirada\n",
      "2\n",
      "key expirada\n",
      "key expirada\n",
      "key expirada\n",
      "key expirada\n",
      "key expirada\n",
      "key expirada\n",
      "key expirada\n",
      "key expirada\n"
     ]
    },
    {
     "name": "stderr",
     "output_type": "stream",
     "text": [
      " 49%|████▉     | 74/150 [04:10<04:16,  3.37s/it]"
     ]
    },
    {
     "name": "stdout",
     "output_type": "stream",
     "text": [
      "key expirada\n",
      "2\n",
      "key expirada\n",
      "key expirada\n",
      "key expirada\n",
      "key expirada\n",
      "key expirada\n",
      "key expirada\n",
      "key expirada\n",
      "key expirada\n"
     ]
    },
    {
     "name": "stderr",
     "output_type": "stream",
     "text": [
      " 50%|█████     | 75/150 [04:14<04:15,  3.41s/it]"
     ]
    },
    {
     "name": "stdout",
     "output_type": "stream",
     "text": [
      "key expirada\n",
      "2\n",
      "key expirada\n",
      "key expirada\n",
      "key expirada\n",
      "key expirada\n",
      "key expirada\n",
      "key expirada\n",
      "key expirada\n",
      "key expirada\n"
     ]
    },
    {
     "name": "stderr",
     "output_type": "stream",
     "text": [
      " 51%|█████     | 76/150 [04:17<04:10,  3.38s/it]"
     ]
    },
    {
     "name": "stdout",
     "output_type": "stream",
     "text": [
      "key expirada\n",
      "2\n",
      "key expirada\n",
      "key expirada\n",
      "key expirada\n",
      "key expirada\n",
      "key expirada\n",
      "key expirada\n",
      "key expirada\n",
      "key expirada\n"
     ]
    },
    {
     "name": "stderr",
     "output_type": "stream",
     "text": [
      " 51%|█████▏    | 77/150 [04:20<04:05,  3.37s/it]"
     ]
    },
    {
     "name": "stdout",
     "output_type": "stream",
     "text": [
      "key expirada\n",
      "2\n",
      "key expirada\n",
      "key expirada\n",
      "key expirada\n",
      "key expirada\n",
      "key expirada\n",
      "key expirada\n",
      "key expirada\n",
      "key expirada\n"
     ]
    },
    {
     "name": "stderr",
     "output_type": "stream",
     "text": [
      " 52%|█████▏    | 78/150 [04:23<04:01,  3.35s/it]"
     ]
    },
    {
     "name": "stdout",
     "output_type": "stream",
     "text": [
      "key expirada\n",
      "2\n",
      "key expirada\n",
      "key expirada\n",
      "key expirada\n",
      "key expirada\n",
      "key expirada\n",
      "key expirada\n",
      "key expirada\n",
      "key expirada\n"
     ]
    },
    {
     "name": "stderr",
     "output_type": "stream",
     "text": [
      " 53%|█████▎    | 79/150 [04:27<03:59,  3.38s/it]"
     ]
    },
    {
     "name": "stdout",
     "output_type": "stream",
     "text": [
      "key expirada\n",
      "2\n",
      "key expirada\n",
      "key expirada\n",
      "key expirada\n",
      "key expirada\n",
      "key expirada\n",
      "key expirada\n",
      "key expirada\n",
      "key expirada\n"
     ]
    },
    {
     "name": "stderr",
     "output_type": "stream",
     "text": [
      " 53%|█████▎    | 80/150 [04:30<03:55,  3.37s/it]"
     ]
    },
    {
     "name": "stdout",
     "output_type": "stream",
     "text": [
      "key expirada\n",
      "2\n",
      "key expirada\n",
      "key expirada\n",
      "key expirada\n",
      "key expirada\n",
      "key expirada\n",
      "key expirada\n",
      "key expirada\n",
      "key expirada\n"
     ]
    },
    {
     "name": "stderr",
     "output_type": "stream",
     "text": [
      " 54%|█████▍    | 81/150 [04:34<03:57,  3.44s/it]"
     ]
    },
    {
     "name": "stdout",
     "output_type": "stream",
     "text": [
      "key expirada\n",
      "2\n",
      "key expirada\n",
      "key expirada\n",
      "key expirada\n",
      "key expirada\n",
      "key expirada\n",
      "key expirada\n",
      "key expirada\n",
      "key expirada\n"
     ]
    },
    {
     "name": "stderr",
     "output_type": "stream",
     "text": [
      " 55%|█████▍    | 82/150 [04:38<03:52,  3.42s/it]"
     ]
    },
    {
     "name": "stdout",
     "output_type": "stream",
     "text": [
      "key expirada\n",
      "2\n",
      "key expirada\n",
      "key expirada\n",
      "key expirada\n",
      "key expirada\n",
      "key expirada\n",
      "key expirada\n",
      "key expirada\n",
      "key expirada\n"
     ]
    },
    {
     "name": "stderr",
     "output_type": "stream",
     "text": [
      " 55%|█████▌    | 83/150 [04:41<03:48,  3.40s/it]"
     ]
    },
    {
     "name": "stdout",
     "output_type": "stream",
     "text": [
      "key expirada\n",
      "2\n",
      "key expirada\n",
      "key expirada\n",
      "key expirada\n",
      "key expirada\n",
      "key expirada\n",
      "key expirada\n",
      "key expirada\n",
      "key expirada\n"
     ]
    },
    {
     "name": "stderr",
     "output_type": "stream",
     "text": [
      " 56%|█████▌    | 84/150 [04:45<03:47,  3.45s/it]"
     ]
    },
    {
     "name": "stdout",
     "output_type": "stream",
     "text": [
      "key expirada\n",
      "2\n",
      "key expirada\n",
      "key expirada\n",
      "key expirada\n",
      "key expirada\n",
      "key expirada\n",
      "key expirada\n",
      "key expirada\n",
      "key expirada\n"
     ]
    },
    {
     "name": "stderr",
     "output_type": "stream",
     "text": [
      " 57%|█████▋    | 85/150 [04:49<03:48,  3.52s/it]"
     ]
    },
    {
     "name": "stdout",
     "output_type": "stream",
     "text": [
      "key expirada\n",
      "2\n",
      "key expirada\n",
      "key expirada\n",
      "key expirada\n",
      "key expirada\n",
      "key expirada\n",
      "key expirada\n",
      "key expirada\n",
      "key expirada\n"
     ]
    },
    {
     "name": "stderr",
     "output_type": "stream",
     "text": [
      " 57%|█████▋    | 86/150 [04:52<03:43,  3.49s/it]"
     ]
    },
    {
     "name": "stdout",
     "output_type": "stream",
     "text": [
      "key expirada\n",
      "2\n",
      "key expirada\n",
      "key expirada\n",
      "key expirada\n",
      "key expirada\n",
      "key expirada\n",
      "key expirada\n",
      "key expirada\n",
      "key expirada\n"
     ]
    },
    {
     "name": "stderr",
     "output_type": "stream",
     "text": [
      " 58%|█████▊    | 87/150 [04:55<03:38,  3.46s/it]"
     ]
    },
    {
     "name": "stdout",
     "output_type": "stream",
     "text": [
      "key expirada\n",
      "2\n",
      "key expirada\n",
      "key expirada\n",
      "key expirada\n",
      "key expirada\n",
      "key expirada\n",
      "key expirada\n",
      "key expirada\n",
      "key expirada\n"
     ]
    },
    {
     "name": "stderr",
     "output_type": "stream",
     "text": [
      " 59%|█████▊    | 88/150 [04:59<03:33,  3.45s/it]"
     ]
    },
    {
     "name": "stdout",
     "output_type": "stream",
     "text": [
      "key expirada\n",
      "2\n",
      "key expirada\n",
      "key expirada\n",
      "key expirada\n",
      "key expirada\n",
      "key expirada\n",
      "key expirada\n",
      "key expirada\n",
      "key expirada\n"
     ]
    },
    {
     "name": "stderr",
     "output_type": "stream",
     "text": [
      " 59%|█████▉    | 89/150 [05:02<03:29,  3.43s/it]"
     ]
    },
    {
     "name": "stdout",
     "output_type": "stream",
     "text": [
      "key expirada\n",
      "2\n",
      "key expirada\n",
      "key expirada\n",
      "key expirada\n",
      "key expirada\n",
      "key expirada\n",
      "key expirada\n",
      "key expirada\n",
      "key expirada\n"
     ]
    },
    {
     "name": "stderr",
     "output_type": "stream",
     "text": [
      " 60%|██████    | 90/150 [05:05<03:24,  3.42s/it]"
     ]
    },
    {
     "name": "stdout",
     "output_type": "stream",
     "text": [
      "key expirada\n",
      "2\n",
      "key expirada\n",
      "key expirada\n",
      "key expirada\n",
      "key expirada\n",
      "key expirada\n",
      "key expirada\n",
      "key expirada\n",
      "key expirada\n"
     ]
    },
    {
     "name": "stderr",
     "output_type": "stream",
     "text": [
      " 61%|██████    | 91/150 [05:09<03:20,  3.40s/it]"
     ]
    },
    {
     "name": "stdout",
     "output_type": "stream",
     "text": [
      "key expirada\n",
      "2\n",
      "key expirada\n",
      "key expirada\n",
      "key expirada\n",
      "key expirada\n",
      "key expirada\n",
      "key expirada\n",
      "key expirada\n",
      "key expirada\n"
     ]
    },
    {
     "name": "stderr",
     "output_type": "stream",
     "text": [
      " 61%|██████▏   | 92/150 [05:12<03:17,  3.41s/it]"
     ]
    },
    {
     "name": "stdout",
     "output_type": "stream",
     "text": [
      "key expirada\n",
      "2\n",
      "key expirada\n",
      "key expirada\n",
      "key expirada\n",
      "key expirada\n",
      "key expirada\n",
      "key expirada\n",
      "key expirada\n",
      "key expirada\n"
     ]
    },
    {
     "name": "stderr",
     "output_type": "stream",
     "text": [
      " 62%|██████▏   | 93/150 [05:15<03:13,  3.40s/it]"
     ]
    },
    {
     "name": "stdout",
     "output_type": "stream",
     "text": [
      "key expirada\n",
      "2\n",
      "key expirada\n",
      "key expirada\n",
      "key expirada\n",
      "key expirada\n",
      "key expirada\n",
      "key expirada\n",
      "key expirada\n",
      "key expirada\n"
     ]
    },
    {
     "name": "stderr",
     "output_type": "stream",
     "text": [
      " 63%|██████▎   | 94/150 [05:18<03:09,  3.38s/it]"
     ]
    },
    {
     "name": "stdout",
     "output_type": "stream",
     "text": [
      "key expirada\n",
      "2\n",
      "key expirada\n",
      "key expirada\n",
      "key expirada\n",
      "key expirada\n",
      "key expirada\n",
      "key expirada\n",
      "key expirada\n",
      "key expirada\n"
     ]
    },
    {
     "name": "stderr",
     "output_type": "stream",
     "text": [
      " 63%|██████▎   | 95/150 [05:22<03:05,  3.37s/it]"
     ]
    },
    {
     "name": "stdout",
     "output_type": "stream",
     "text": [
      "key expirada\n",
      "2\n",
      "key expirada\n",
      "key expirada\n",
      "key expirada\n",
      "key expirada\n",
      "key expirada\n",
      "key expirada\n",
      "key expirada\n",
      "key expirada\n"
     ]
    },
    {
     "name": "stderr",
     "output_type": "stream",
     "text": [
      " 64%|██████▍   | 96/150 [05:25<03:01,  3.36s/it]"
     ]
    },
    {
     "name": "stdout",
     "output_type": "stream",
     "text": [
      "key expirada\n",
      "2\n",
      "key expirada\n",
      "key expirada\n",
      "key expirada\n",
      "key expirada\n",
      "key expirada\n",
      "key expirada\n",
      "key expirada\n",
      "key expirada\n"
     ]
    },
    {
     "name": "stderr",
     "output_type": "stream",
     "text": [
      " 65%|██████▍   | 97/150 [05:29<03:00,  3.40s/it]"
     ]
    },
    {
     "name": "stdout",
     "output_type": "stream",
     "text": [
      "key expirada\n",
      "2\n",
      "key expirada\n",
      "key expirada\n",
      "key expirada\n",
      "key expirada\n",
      "key expirada\n",
      "key expirada\n",
      "key expirada\n",
      "key expirada\n"
     ]
    },
    {
     "name": "stderr",
     "output_type": "stream",
     "text": [
      " 65%|██████▌   | 98/150 [05:32<02:55,  3.38s/it]"
     ]
    },
    {
     "name": "stdout",
     "output_type": "stream",
     "text": [
      "key expirada\n",
      "2\n",
      "key expirada\n",
      "key expirada\n",
      "key expirada\n",
      "key expirada\n",
      "key expirada\n",
      "key expirada\n",
      "key expirada\n",
      "key expirada\n"
     ]
    },
    {
     "name": "stderr",
     "output_type": "stream",
     "text": [
      " 66%|██████▌   | 99/150 [05:36<02:54,  3.43s/it]"
     ]
    },
    {
     "name": "stdout",
     "output_type": "stream",
     "text": [
      "key expirada\n",
      "2\n",
      "key expirada\n",
      "key expirada\n",
      "key expirada\n",
      "key expirada\n",
      "key expirada\n",
      "key expirada\n",
      "key expirada\n",
      "key expirada\n"
     ]
    },
    {
     "name": "stderr",
     "output_type": "stream",
     "text": [
      " 67%|██████▋   | 100/150 [05:39<02:50,  3.41s/it]"
     ]
    },
    {
     "name": "stdout",
     "output_type": "stream",
     "text": [
      "key expirada\n",
      "2\n",
      "key expirada\n",
      "key expirada\n",
      "key expirada\n",
      "key expirada\n",
      "key expirada\n",
      "key expirada\n",
      "key expirada\n",
      "key expirada\n"
     ]
    },
    {
     "name": "stderr",
     "output_type": "stream",
     "text": [
      " 67%|██████▋   | 101/150 [05:43<02:48,  3.45s/it]"
     ]
    },
    {
     "name": "stdout",
     "output_type": "stream",
     "text": [
      "key expirada\n",
      "2\n",
      "key expirada\n",
      "key expirada\n",
      "key expirada\n",
      "key expirada\n",
      "key expirada\n",
      "key expirada\n",
      "key expirada\n",
      "key expirada\n"
     ]
    },
    {
     "name": "stderr",
     "output_type": "stream",
     "text": [
      " 68%|██████▊   | 102/150 [05:46<02:44,  3.43s/it]"
     ]
    },
    {
     "name": "stdout",
     "output_type": "stream",
     "text": [
      "key expirada\n",
      "2\n",
      "key expirada\n",
      "key expirada\n",
      "key expirada\n",
      "key expirada\n",
      "key expirada\n",
      "key expirada\n",
      "key expirada\n",
      "key expirada\n"
     ]
    },
    {
     "name": "stderr",
     "output_type": "stream",
     "text": [
      " 69%|██████▊   | 103/150 [05:49<02:40,  3.41s/it]"
     ]
    },
    {
     "name": "stdout",
     "output_type": "stream",
     "text": [
      "key expirada\n",
      "2\n",
      "key expirada\n",
      "key expirada\n",
      "key expirada\n",
      "key expirada\n",
      "key expirada\n",
      "key expirada\n",
      "key expirada\n",
      "key expirada\n"
     ]
    },
    {
     "name": "stderr",
     "output_type": "stream",
     "text": [
      " 69%|██████▉   | 104/150 [05:53<02:36,  3.40s/it]"
     ]
    },
    {
     "name": "stdout",
     "output_type": "stream",
     "text": [
      "key expirada\n",
      "2\n",
      "key expirada\n",
      "key expirada\n",
      "key expirada\n",
      "key expirada\n",
      "key expirada\n",
      "key expirada\n",
      "key expirada\n",
      "key expirada\n"
     ]
    },
    {
     "name": "stderr",
     "output_type": "stream",
     "text": [
      " 70%|███████   | 105/150 [05:56<02:32,  3.38s/it]"
     ]
    },
    {
     "name": "stdout",
     "output_type": "stream",
     "text": [
      "key expirada\n",
      "2\n",
      "key expirada\n",
      "key expirada\n",
      "key expirada\n",
      "key expirada\n",
      "key expirada\n",
      "key expirada\n",
      "key expirada\n",
      "key expirada\n"
     ]
    },
    {
     "name": "stderr",
     "output_type": "stream",
     "text": [
      " 71%|███████   | 106/150 [05:59<02:28,  3.37s/it]"
     ]
    },
    {
     "name": "stdout",
     "output_type": "stream",
     "text": [
      "key expirada\n",
      "2\n",
      "key expirada\n",
      "key expirada\n",
      "key expirada\n",
      "key expirada\n",
      "key expirada\n",
      "key expirada\n",
      "key expirada\n",
      "key expirada\n"
     ]
    },
    {
     "name": "stderr",
     "output_type": "stream",
     "text": [
      " 71%|███████▏  | 107/150 [06:02<02:24,  3.36s/it]"
     ]
    },
    {
     "name": "stdout",
     "output_type": "stream",
     "text": [
      "key expirada\n",
      "2\n",
      "key expirada\n",
      "key expirada\n",
      "key expirada\n",
      "key expirada\n",
      "key expirada\n",
      "key expirada\n",
      "key expirada\n",
      "key expirada\n"
     ]
    },
    {
     "name": "stderr",
     "output_type": "stream",
     "text": [
      " 72%|███████▏  | 108/150 [06:06<02:23,  3.41s/it]"
     ]
    },
    {
     "name": "stdout",
     "output_type": "stream",
     "text": [
      "key expirada\n",
      "2\n",
      "key expirada\n",
      "key expirada\n",
      "key expirada\n",
      "key expirada\n",
      "key expirada\n",
      "key expirada\n",
      "key expirada\n",
      "key expirada\n"
     ]
    },
    {
     "name": "stderr",
     "output_type": "stream",
     "text": [
      " 73%|███████▎  | 109/150 [06:10<02:19,  3.40s/it]"
     ]
    },
    {
     "name": "stdout",
     "output_type": "stream",
     "text": [
      "key expirada\n",
      "2\n",
      "key expirada\n",
      "key expirada\n",
      "key expirada\n",
      "key expirada\n",
      "key expirada\n",
      "key expirada\n",
      "key expirada\n",
      "key expirada\n"
     ]
    },
    {
     "name": "stderr",
     "output_type": "stream",
     "text": [
      " 73%|███████▎  | 110/150 [06:13<02:15,  3.39s/it]"
     ]
    },
    {
     "name": "stdout",
     "output_type": "stream",
     "text": [
      "key expirada\n",
      "2\n",
      "key expirada\n",
      "key expirada\n",
      "key expirada\n",
      "key expirada\n",
      "key expirada\n",
      "key expirada\n",
      "key expirada\n",
      "key expirada\n"
     ]
    },
    {
     "name": "stderr",
     "output_type": "stream",
     "text": [
      " 74%|███████▍  | 111/150 [06:17<02:15,  3.47s/it]"
     ]
    },
    {
     "name": "stdout",
     "output_type": "stream",
     "text": [
      "key expirada\n",
      "2\n",
      "key expirada\n",
      "key expirada\n",
      "key expirada\n",
      "key expirada\n",
      "key expirada\n",
      "key expirada\n",
      "key expirada\n",
      "key expirada\n"
     ]
    },
    {
     "name": "stderr",
     "output_type": "stream",
     "text": [
      " 75%|███████▍  | 112/150 [06:21<02:12,  3.50s/it]"
     ]
    },
    {
     "name": "stdout",
     "output_type": "stream",
     "text": [
      "key expirada\n",
      "2\n",
      "key expirada\n",
      "key expirada\n",
      "key expirada\n",
      "key expirada\n",
      "key expirada\n",
      "key expirada\n",
      "key expirada\n",
      "key expirada\n"
     ]
    },
    {
     "name": "stderr",
     "output_type": "stream",
     "text": [
      " 75%|███████▌  | 113/150 [06:24<02:08,  3.47s/it]"
     ]
    },
    {
     "name": "stdout",
     "output_type": "stream",
     "text": [
      "key expirada\n",
      "2\n",
      "key expirada\n",
      "key expirada\n",
      "key expirada\n",
      "key expirada\n",
      "key expirada\n",
      "key expirada\n",
      "key expirada\n",
      "key expirada\n"
     ]
    },
    {
     "name": "stderr",
     "output_type": "stream",
     "text": [
      " 76%|███████▌  | 114/150 [06:27<02:03,  3.44s/it]"
     ]
    },
    {
     "name": "stdout",
     "output_type": "stream",
     "text": [
      "key expirada\n",
      "2\n",
      "key expirada\n",
      "key expirada\n",
      "key expirada\n",
      "key expirada\n",
      "key expirada\n",
      "key expirada\n",
      "key expirada\n",
      "key expirada\n"
     ]
    },
    {
     "name": "stderr",
     "output_type": "stream",
     "text": [
      " 77%|███████▋  | 115/150 [06:31<02:01,  3.46s/it]"
     ]
    },
    {
     "name": "stdout",
     "output_type": "stream",
     "text": [
      "key expirada\n",
      "2\n",
      "key expirada\n",
      "key expirada\n",
      "key expirada\n",
      "key expirada\n",
      "key expirada\n",
      "key expirada\n",
      "key expirada\n",
      "key expirada\n"
     ]
    },
    {
     "name": "stderr",
     "output_type": "stream",
     "text": [
      " 77%|███████▋  | 116/150 [06:35<01:58,  3.48s/it]"
     ]
    },
    {
     "name": "stdout",
     "output_type": "stream",
     "text": [
      "key expirada\n",
      "2\n",
      "key expirada\n",
      "key expirada\n",
      "key expirada\n",
      "key expirada\n",
      "key expirada\n",
      "key expirada\n",
      "key expirada\n",
      "key expirada\n"
     ]
    },
    {
     "name": "stderr",
     "output_type": "stream",
     "text": [
      " 78%|███████▊  | 117/150 [06:38<01:56,  3.52s/it]"
     ]
    },
    {
     "name": "stdout",
     "output_type": "stream",
     "text": [
      "key expirada\n",
      "2\n",
      "key expirada\n",
      "key expirada\n",
      "key expirada\n",
      "key expirada\n",
      "key expirada\n",
      "key expirada\n",
      "key expirada\n",
      "key expirada\n"
     ]
    },
    {
     "name": "stderr",
     "output_type": "stream",
     "text": [
      " 79%|███████▊  | 118/150 [06:42<01:51,  3.50s/it]"
     ]
    },
    {
     "name": "stdout",
     "output_type": "stream",
     "text": [
      "key expirada\n",
      "2\n",
      "key expirada\n",
      "key expirada\n",
      "key expirada\n",
      "key expirada\n",
      "key expirada\n",
      "key expirada\n",
      "key expirada\n",
      "key expirada\n"
     ]
    },
    {
     "name": "stderr",
     "output_type": "stream",
     "text": [
      " 79%|███████▉  | 119/150 [06:46<01:49,  3.54s/it]"
     ]
    },
    {
     "name": "stdout",
     "output_type": "stream",
     "text": [
      "key expirada\n",
      "2\n",
      "key expirada\n",
      "key expirada\n",
      "key expirada\n",
      "key expirada\n",
      "key expirada\n",
      "key expirada\n",
      "key expirada\n",
      "key expirada\n"
     ]
    },
    {
     "name": "stderr",
     "output_type": "stream",
     "text": [
      " 80%|████████  | 120/150 [06:50<01:47,  3.59s/it]"
     ]
    },
    {
     "name": "stdout",
     "output_type": "stream",
     "text": [
      "key expirada\n",
      "2\n",
      "key expirada\n",
      "key expirada\n",
      "key expirada\n",
      "key expirada\n",
      "key expirada\n",
      "key expirada\n",
      "key expirada\n",
      "key expirada\n"
     ]
    },
    {
     "name": "stderr",
     "output_type": "stream",
     "text": [
      " 81%|████████  | 121/150 [06:54<01:45,  3.63s/it]"
     ]
    },
    {
     "name": "stdout",
     "output_type": "stream",
     "text": [
      "key expirada\n",
      "2\n",
      "key expirada\n",
      "key expirada\n",
      "key expirada\n",
      "key expirada\n",
      "key expirada\n",
      "key expirada\n",
      "key expirada\n",
      "key expirada\n"
     ]
    },
    {
     "name": "stderr",
     "output_type": "stream",
     "text": [
      " 81%|████████▏ | 122/150 [06:58<01:44,  3.72s/it]"
     ]
    },
    {
     "name": "stdout",
     "output_type": "stream",
     "text": [
      "key expirada\n",
      "2\n",
      "key expirada\n",
      "key expirada\n",
      "key expirada\n",
      "key expirada\n",
      "key expirada\n",
      "key expirada\n",
      "key expirada\n",
      "key expirada\n"
     ]
    },
    {
     "name": "stderr",
     "output_type": "stream",
     "text": [
      " 82%|████████▏ | 123/150 [07:01<01:39,  3.67s/it]"
     ]
    },
    {
     "name": "stdout",
     "output_type": "stream",
     "text": [
      "key expirada\n",
      "2\n",
      "key expirada\n",
      "key expirada\n",
      "key expirada\n",
      "key expirada\n",
      "key expirada\n",
      "key expirada\n",
      "key expirada\n",
      "key expirada\n"
     ]
    },
    {
     "name": "stderr",
     "output_type": "stream",
     "text": [
      " 83%|████████▎ | 124/150 [07:05<01:34,  3.64s/it]"
     ]
    },
    {
     "name": "stdout",
     "output_type": "stream",
     "text": [
      "key expirada\n",
      "2\n",
      "key expirada\n",
      "key expirada\n",
      "key expirada\n",
      "key expirada\n",
      "key expirada\n",
      "key expirada\n",
      "key expirada\n",
      "key expirada\n"
     ]
    },
    {
     "name": "stderr",
     "output_type": "stream",
     "text": [
      " 83%|████████▎ | 125/150 [07:09<01:31,  3.67s/it]"
     ]
    },
    {
     "name": "stdout",
     "output_type": "stream",
     "text": [
      "key expirada\n",
      "2\n",
      "key expirada\n",
      "key expirada\n",
      "key expirada\n",
      "key expirada\n",
      "key expirada\n",
      "key expirada\n",
      "key expirada\n",
      "key expirada\n"
     ]
    },
    {
     "name": "stderr",
     "output_type": "stream",
     "text": [
      " 84%|████████▍ | 126/150 [07:12<01:28,  3.68s/it]"
     ]
    },
    {
     "name": "stdout",
     "output_type": "stream",
     "text": [
      "key expirada\n",
      "2\n",
      "key expirada\n",
      "key expirada\n",
      "key expirada\n",
      "key expirada\n",
      "key expirada\n",
      "key expirada\n",
      "key expirada\n",
      "key expirada\n"
     ]
    },
    {
     "name": "stderr",
     "output_type": "stream",
     "text": [
      " 85%|████████▍ | 127/150 [07:16<01:24,  3.68s/it]"
     ]
    },
    {
     "name": "stdout",
     "output_type": "stream",
     "text": [
      "key expirada\n",
      "2\n",
      "key expirada\n",
      "key expirada\n",
      "key expirada\n",
      "key expirada\n",
      "key expirada\n",
      "key expirada\n",
      "key expirada\n",
      "key expirada\n"
     ]
    },
    {
     "name": "stderr",
     "output_type": "stream",
     "text": [
      " 85%|████████▌ | 128/150 [07:20<01:21,  3.69s/it]"
     ]
    },
    {
     "name": "stdout",
     "output_type": "stream",
     "text": [
      "key expirada\n",
      "2\n",
      "key expirada\n",
      "key expirada\n",
      "key expirada\n",
      "key expirada\n",
      "key expirada\n",
      "key expirada\n",
      "key expirada\n",
      "key expirada\n"
     ]
    },
    {
     "name": "stderr",
     "output_type": "stream",
     "text": [
      " 86%|████████▌ | 129/150 [07:24<01:17,  3.70s/it]"
     ]
    },
    {
     "name": "stdout",
     "output_type": "stream",
     "text": [
      "key expirada\n",
      "2\n",
      "key expirada\n",
      "key expirada\n",
      "key expirada\n",
      "key expirada\n",
      "key expirada\n",
      "key expirada\n",
      "key expirada\n",
      "key expirada\n"
     ]
    },
    {
     "name": "stderr",
     "output_type": "stream",
     "text": [
      " 87%|████████▋ | 130/150 [07:27<01:13,  3.66s/it]"
     ]
    },
    {
     "name": "stdout",
     "output_type": "stream",
     "text": [
      "key expirada\n",
      "2\n",
      "key expirada\n",
      "key expirada\n",
      "key expirada\n",
      "key expirada\n",
      "key expirada\n",
      "key expirada\n",
      "key expirada\n",
      "key expirada\n"
     ]
    },
    {
     "name": "stderr",
     "output_type": "stream",
     "text": [
      " 87%|████████▋ | 131/150 [07:30<01:08,  3.62s/it]"
     ]
    },
    {
     "name": "stdout",
     "output_type": "stream",
     "text": [
      "key expirada\n",
      "2\n",
      "key expirada\n",
      "key expirada\n",
      "key expirada\n",
      "key expirada\n",
      "key expirada\n",
      "key expirada\n",
      "key expirada\n",
      "key expirada\n"
     ]
    },
    {
     "name": "stderr",
     "output_type": "stream",
     "text": [
      " 88%|████████▊ | 132/150 [07:33<01:04,  3.57s/it]"
     ]
    },
    {
     "name": "stdout",
     "output_type": "stream",
     "text": [
      "key expirada\n",
      "2\n",
      "key expirada\n",
      "key expirada\n",
      "key expirada\n",
      "key expirada\n",
      "key expirada\n",
      "key expirada\n",
      "key expirada\n",
      "key expirada\n"
     ]
    },
    {
     "name": "stderr",
     "output_type": "stream",
     "text": [
      " 89%|████████▊ | 133/150 [07:37<01:00,  3.54s/it]"
     ]
    },
    {
     "name": "stdout",
     "output_type": "stream",
     "text": [
      "key expirada\n",
      "2\n",
      "key expirada\n",
      "key expirada\n",
      "key expirada\n",
      "key expirada\n",
      "key expirada\n",
      "key expirada\n",
      "key expirada\n",
      "key expirada\n"
     ]
    },
    {
     "name": "stderr",
     "output_type": "stream",
     "text": [
      " 89%|████████▉ | 134/150 [07:41<00:57,  3.58s/it]"
     ]
    },
    {
     "name": "stdout",
     "output_type": "stream",
     "text": [
      "key expirada\n",
      "2\n",
      "key expirada\n",
      "key expirada\n",
      "key expirada\n",
      "key expirada\n",
      "key expirada\n",
      "key expirada\n",
      "key expirada\n",
      "key expirada\n"
     ]
    },
    {
     "name": "stderr",
     "output_type": "stream",
     "text": [
      " 90%|█████████ | 135/150 [07:44<00:53,  3.56s/it]"
     ]
    },
    {
     "name": "stdout",
     "output_type": "stream",
     "text": [
      "key expirada\n",
      "2\n",
      "key expirada\n",
      "key expirada\n",
      "key expirada\n",
      "key expirada\n",
      "key expirada\n",
      "key expirada\n",
      "key expirada\n",
      "key expirada\n"
     ]
    },
    {
     "name": "stderr",
     "output_type": "stream",
     "text": [
      " 91%|█████████ | 136/150 [07:48<00:50,  3.59s/it]"
     ]
    },
    {
     "name": "stdout",
     "output_type": "stream",
     "text": [
      "key expirada\n",
      "2\n",
      "key expirada\n",
      "key expirada\n",
      "key expirada\n",
      "key expirada\n",
      "key expirada\n",
      "key expirada\n",
      "key expirada\n",
      "key expirada\n"
     ]
    },
    {
     "name": "stderr",
     "output_type": "stream",
     "text": [
      " 91%|█████████▏| 137/150 [07:51<00:46,  3.56s/it]"
     ]
    },
    {
     "name": "stdout",
     "output_type": "stream",
     "text": [
      "key expirada\n",
      "2\n",
      "key expirada\n",
      "key expirada\n",
      "key expirada\n",
      "key expirada\n",
      "key expirada\n",
      "key expirada\n",
      "key expirada\n",
      "key expirada\n"
     ]
    },
    {
     "name": "stderr",
     "output_type": "stream",
     "text": [
      " 92%|█████████▏| 138/150 [07:54<00:42,  3.52s/it]"
     ]
    },
    {
     "name": "stdout",
     "output_type": "stream",
     "text": [
      "key expirada\n",
      "2\n",
      "key expirada\n",
      "key expirada\n",
      "key expirada\n",
      "key expirada\n",
      "key expirada\n",
      "key expirada\n",
      "key expirada\n",
      "key expirada\n"
     ]
    },
    {
     "name": "stderr",
     "output_type": "stream",
     "text": [
      " 93%|█████████▎| 139/150 [07:57<00:38,  3.48s/it]"
     ]
    },
    {
     "name": "stdout",
     "output_type": "stream",
     "text": [
      "key expirada\n",
      "2\n",
      "key expirada\n",
      "key expirada\n",
      "key expirada\n",
      "key expirada\n",
      "key expirada\n",
      "key expirada\n",
      "key expirada\n",
      "key expirada\n"
     ]
    },
    {
     "name": "stderr",
     "output_type": "stream",
     "text": [
      " 93%|█████████▎| 140/150 [08:01<00:35,  3.51s/it]"
     ]
    },
    {
     "name": "stdout",
     "output_type": "stream",
     "text": [
      "key expirada\n",
      "2\n",
      "key expirada\n",
      "key expirada\n",
      "key expirada\n",
      "key expirada\n",
      "key expirada\n",
      "key expirada\n",
      "key expirada\n",
      "key expirada\n"
     ]
    },
    {
     "name": "stderr",
     "output_type": "stream",
     "text": [
      " 94%|█████████▍| 141/150 [08:05<00:31,  3.52s/it]"
     ]
    },
    {
     "name": "stdout",
     "output_type": "stream",
     "text": [
      "key expirada\n",
      "2\n",
      "key expirada\n",
      "key expirada\n",
      "key expirada\n",
      "key expirada\n",
      "key expirada\n",
      "key expirada\n",
      "key expirada\n",
      "key expirada\n"
     ]
    },
    {
     "name": "stderr",
     "output_type": "stream",
     "text": [
      " 95%|█████████▍| 142/150 [08:09<00:28,  3.54s/it]"
     ]
    },
    {
     "name": "stdout",
     "output_type": "stream",
     "text": [
      "key expirada\n",
      "2\n",
      "key expirada\n",
      "key expirada\n",
      "key expirada\n",
      "key expirada\n",
      "key expirada\n",
      "key expirada\n",
      "key expirada\n",
      "key expirada\n"
     ]
    },
    {
     "name": "stderr",
     "output_type": "stream",
     "text": [
      " 95%|█████████▌| 143/150 [08:12<00:24,  3.51s/it]"
     ]
    },
    {
     "name": "stdout",
     "output_type": "stream",
     "text": [
      "key expirada\n",
      "2\n",
      "key expirada\n",
      "key expirada\n",
      "key expirada\n",
      "key expirada\n",
      "key expirada\n",
      "key expirada\n",
      "key expirada\n",
      "key expirada\n"
     ]
    },
    {
     "name": "stderr",
     "output_type": "stream",
     "text": [
      " 96%|█████████▌| 144/150 [08:15<00:20,  3.48s/it]"
     ]
    },
    {
     "name": "stdout",
     "output_type": "stream",
     "text": [
      "key expirada\n",
      "2\n",
      "key expirada\n",
      "key expirada\n",
      "key expirada\n",
      "key expirada\n",
      "key expirada\n",
      "key expirada\n",
      "key expirada\n",
      "key expirada\n"
     ]
    },
    {
     "name": "stderr",
     "output_type": "stream",
     "text": [
      " 97%|█████████▋| 145/150 [08:18<00:17,  3.47s/it]"
     ]
    },
    {
     "name": "stdout",
     "output_type": "stream",
     "text": [
      "key expirada\n",
      "2\n",
      "key expirada\n",
      "key expirada\n",
      "key expirada\n",
      "key expirada\n",
      "key expirada\n",
      "key expirada\n",
      "key expirada\n",
      "key expirada\n"
     ]
    },
    {
     "name": "stderr",
     "output_type": "stream",
     "text": [
      " 97%|█████████▋| 146/150 [08:22<00:14,  3.51s/it]"
     ]
    },
    {
     "name": "stdout",
     "output_type": "stream",
     "text": [
      "key expirada\n",
      "2\n",
      "key expirada\n",
      "key expirada\n",
      "key expirada\n",
      "key expirada\n",
      "key expirada\n",
      "key expirada\n",
      "key expirada\n",
      "key expirada\n"
     ]
    },
    {
     "name": "stderr",
     "output_type": "stream",
     "text": [
      " 98%|█████████▊| 147/150 [08:26<00:10,  3.50s/it]"
     ]
    },
    {
     "name": "stdout",
     "output_type": "stream",
     "text": [
      "key expirada\n",
      "2\n",
      "key expirada\n",
      "key expirada\n",
      "key expirada\n",
      "key expirada\n",
      "key expirada\n",
      "key expirada\n",
      "key expirada\n",
      "key expirada\n"
     ]
    },
    {
     "name": "stderr",
     "output_type": "stream",
     "text": [
      " 99%|█████████▊| 148/150 [08:29<00:06,  3.48s/it]"
     ]
    },
    {
     "name": "stdout",
     "output_type": "stream",
     "text": [
      "key expirada\n",
      "2\n",
      "key expirada\n",
      "key expirada\n",
      "key expirada\n",
      "key expirada\n",
      "key expirada\n",
      "key expirada\n",
      "key expirada\n",
      "key expirada\n"
     ]
    },
    {
     "name": "stderr",
     "output_type": "stream",
     "text": [
      " 99%|█████████▉| 149/150 [08:32<00:03,  3.46s/it]"
     ]
    },
    {
     "name": "stdout",
     "output_type": "stream",
     "text": [
      "key expirada\n",
      "2\n",
      "key expirada\n",
      "key expirada\n",
      "key expirada\n",
      "key expirada\n",
      "key expirada\n",
      "key expirada\n",
      "key expirada\n",
      "key expirada\n"
     ]
    },
    {
     "name": "stderr",
     "output_type": "stream",
     "text": [
      "100%|██████████| 150/150 [08:36<00:00,  3.44s/it]\n"
     ]
    },
    {
     "name": "stdout",
     "output_type": "stream",
     "text": [
      "key expirada\n"
     ]
    },
    {
     "name": "stderr",
     "output_type": "stream",
     "text": [
      "  0%|          | 0/150 [00:00<?, ?it/s]"
     ]
    },
    {
     "name": "stdout",
     "output_type": "stream",
     "text": [
      "3\n",
      "key expirada\n",
      "key expirada\n",
      "key expirada\n",
      "key expirada\n",
      "key expirada\n",
      "key expirada\n",
      "key expirada\n",
      "key expirada\n"
     ]
    },
    {
     "name": "stderr",
     "output_type": "stream",
     "text": [
      "  1%|          | 1/150 [00:03<09:09,  3.69s/it]"
     ]
    },
    {
     "name": "stdout",
     "output_type": "stream",
     "text": [
      "key expirada\n",
      "3\n",
      "key expirada\n",
      "key expirada\n",
      "key expirada\n",
      "key expirada\n",
      "key expirada\n",
      "key expirada\n",
      "key expirada\n",
      "key expirada\n"
     ]
    },
    {
     "name": "stderr",
     "output_type": "stream",
     "text": [
      "  1%|▏         | 2/150 [00:07<08:45,  3.55s/it]"
     ]
    },
    {
     "name": "stdout",
     "output_type": "stream",
     "text": [
      "key expirada\n",
      "3\n",
      "key expirada\n",
      "key expirada\n",
      "key expirada\n",
      "key expirada\n",
      "key expirada\n",
      "key expirada\n",
      "key expirada\n",
      "key expirada\n"
     ]
    },
    {
     "name": "stderr",
     "output_type": "stream",
     "text": [
      "  2%|▏         | 3/150 [00:11<09:42,  3.96s/it]"
     ]
    },
    {
     "name": "stdout",
     "output_type": "stream",
     "text": [
      "key expirada\n",
      "3\n",
      "key expirada\n",
      "key expirada\n",
      "key expirada\n",
      "key expirada\n",
      "key expirada\n",
      "key expirada\n",
      "key expirada\n",
      "key expirada\n"
     ]
    },
    {
     "name": "stderr",
     "output_type": "stream",
     "text": [
      "  3%|▎         | 4/150 [00:15<09:09,  3.77s/it]"
     ]
    },
    {
     "name": "stdout",
     "output_type": "stream",
     "text": [
      "key expirada\n",
      "3\n",
      "key expirada\n",
      "key expirada\n",
      "key expirada\n",
      "key expirada\n",
      "key expirada\n",
      "key expirada\n",
      "key expirada\n",
      "key expirada\n"
     ]
    },
    {
     "name": "stderr",
     "output_type": "stream",
     "text": [
      "  3%|▎         | 5/150 [00:18<08:47,  3.64s/it]"
     ]
    },
    {
     "name": "stdout",
     "output_type": "stream",
     "text": [
      "key expirada\n",
      "3\n",
      "key expirada\n",
      "key expirada\n",
      "key expirada\n",
      "key expirada\n",
      "key expirada\n",
      "key expirada\n",
      "key expirada\n",
      "key expirada\n"
     ]
    },
    {
     "name": "stderr",
     "output_type": "stream",
     "text": [
      "  4%|▍         | 6/150 [00:21<08:34,  3.57s/it]"
     ]
    },
    {
     "name": "stdout",
     "output_type": "stream",
     "text": [
      "key expirada\n",
      "3\n",
      "key expirada\n",
      "key expirada\n",
      "key expirada\n",
      "key expirada\n",
      "key expirada\n",
      "key expirada\n",
      "key expirada\n",
      "key expirada\n"
     ]
    },
    {
     "name": "stderr",
     "output_type": "stream",
     "text": [
      "  5%|▍         | 7/150 [00:24<08:22,  3.52s/it]"
     ]
    },
    {
     "name": "stdout",
     "output_type": "stream",
     "text": [
      "key expirada\n",
      "3\n",
      "key expirada\n",
      "key expirada\n",
      "key expirada\n",
      "key expirada\n",
      "key expirada\n",
      "key expirada\n",
      "key expirada\n",
      "key expirada\n"
     ]
    },
    {
     "name": "stderr",
     "output_type": "stream",
     "text": [
      "  5%|▌         | 8/150 [00:28<08:30,  3.59s/it]"
     ]
    },
    {
     "name": "stdout",
     "output_type": "stream",
     "text": [
      "key expirada\n",
      "3\n",
      "key expirada\n",
      "key expirada\n",
      "key expirada\n",
      "key expirada\n",
      "key expirada\n",
      "key expirada\n",
      "key expirada\n",
      "key expirada\n"
     ]
    },
    {
     "name": "stderr",
     "output_type": "stream",
     "text": [
      "  6%|▌         | 9/150 [00:32<08:17,  3.53s/it]"
     ]
    },
    {
     "name": "stdout",
     "output_type": "stream",
     "text": [
      "key expirada\n",
      "3\n",
      "key expirada\n",
      "key expirada\n",
      "key expirada\n",
      "key expirada\n",
      "key expirada\n",
      "key expirada\n",
      "key expirada\n",
      "key expirada\n"
     ]
    },
    {
     "name": "stderr",
     "output_type": "stream",
     "text": [
      "  7%|▋         | 10/150 [00:35<08:09,  3.49s/it]"
     ]
    },
    {
     "name": "stdout",
     "output_type": "stream",
     "text": [
      "key expirada\n",
      "3\n",
      "key expirada\n",
      "key expirada\n",
      "key expirada\n",
      "key expirada\n",
      "key expirada\n",
      "key expirada\n",
      "key expirada\n",
      "key expirada\n"
     ]
    },
    {
     "name": "stderr",
     "output_type": "stream",
     "text": [
      "  7%|▋         | 11/150 [00:38<07:59,  3.45s/it]"
     ]
    },
    {
     "name": "stdout",
     "output_type": "stream",
     "text": [
      "key expirada\n",
      "3\n",
      "key expirada\n",
      "key expirada\n",
      "key expirada\n",
      "key expirada\n",
      "key expirada\n",
      "key expirada\n",
      "key expirada\n",
      "key expirada\n"
     ]
    },
    {
     "name": "stderr",
     "output_type": "stream",
     "text": [
      "  8%|▊         | 12/150 [00:42<08:00,  3.48s/it]"
     ]
    },
    {
     "name": "stdout",
     "output_type": "stream",
     "text": [
      "key expirada\n",
      "3\n",
      "key expirada\n",
      "key expirada\n",
      "key expirada\n",
      "key expirada\n",
      "key expirada\n",
      "key expirada\n",
      "key expirada\n",
      "key expirada\n"
     ]
    },
    {
     "name": "stderr",
     "output_type": "stream",
     "text": [
      "  9%|▊         | 13/150 [00:46<08:03,  3.53s/it]"
     ]
    },
    {
     "name": "stdout",
     "output_type": "stream",
     "text": [
      "key expirada\n",
      "3\n",
      "key expirada\n",
      "key expirada\n",
      "key expirada\n",
      "key expirada\n",
      "key expirada\n",
      "key expirada\n",
      "key expirada\n",
      "key expirada\n"
     ]
    },
    {
     "name": "stderr",
     "output_type": "stream",
     "text": [
      "  9%|▉         | 14/150 [00:49<07:54,  3.49s/it]"
     ]
    },
    {
     "name": "stdout",
     "output_type": "stream",
     "text": [
      "key expirada\n",
      "3\n",
      "key expirada\n",
      "key expirada\n",
      "key expirada\n",
      "key expirada\n",
      "key expirada\n",
      "key expirada\n",
      "key expirada\n",
      "key expirada\n"
     ]
    },
    {
     "name": "stderr",
     "output_type": "stream",
     "text": [
      " 10%|█         | 15/150 [00:52<07:47,  3.47s/it]"
     ]
    },
    {
     "name": "stdout",
     "output_type": "stream",
     "text": [
      "key expirada\n",
      "3\n",
      "key expirada\n",
      "key expirada\n",
      "key expirada\n",
      "key expirada\n",
      "key expirada\n",
      "key expirada\n",
      "key expirada\n",
      "key expirada\n"
     ]
    },
    {
     "name": "stderr",
     "output_type": "stream",
     "text": [
      " 11%|█         | 16/150 [00:55<07:41,  3.44s/it]"
     ]
    },
    {
     "name": "stdout",
     "output_type": "stream",
     "text": [
      "key expirada\n",
      "3\n",
      "key expirada\n",
      "key expirada\n",
      "key expirada\n",
      "key expirada\n",
      "key expirada\n",
      "key expirada\n",
      "key expirada\n",
      "key expirada\n"
     ]
    },
    {
     "name": "stderr",
     "output_type": "stream",
     "text": [
      " 11%|█▏        | 17/150 [00:59<07:34,  3.42s/it]"
     ]
    },
    {
     "name": "stdout",
     "output_type": "stream",
     "text": [
      "key expirada\n",
      "3\n",
      "key expirada\n",
      "key expirada\n",
      "key expirada\n",
      "key expirada\n",
      "key expirada\n",
      "key expirada\n",
      "key expirada\n",
      "key expirada\n"
     ]
    },
    {
     "name": "stderr",
     "output_type": "stream",
     "text": [
      " 12%|█▏        | 18/150 [01:02<07:26,  3.39s/it]"
     ]
    },
    {
     "name": "stdout",
     "output_type": "stream",
     "text": [
      "key expirada\n",
      "3\n",
      "key expirada\n",
      "key expirada\n",
      "key expirada\n",
      "key expirada\n",
      "key expirada\n",
      "key expirada\n",
      "key expirada\n",
      "key expirada\n"
     ]
    },
    {
     "name": "stderr",
     "output_type": "stream",
     "text": [
      " 13%|█▎        | 19/150 [01:05<07:22,  3.38s/it]"
     ]
    },
    {
     "name": "stdout",
     "output_type": "stream",
     "text": [
      "key expirada\n",
      "3\n",
      "key expirada\n",
      "key expirada\n",
      "key expirada\n",
      "key expirada\n",
      "key expirada\n",
      "key expirada\n",
      "key expirada\n",
      "key expirada\n"
     ]
    },
    {
     "name": "stderr",
     "output_type": "stream",
     "text": [
      " 13%|█▎        | 20/150 [01:08<07:17,  3.37s/it]"
     ]
    },
    {
     "name": "stdout",
     "output_type": "stream",
     "text": [
      "key expirada\n",
      "3\n",
      "key expirada\n",
      "key expirada\n",
      "key expirada\n",
      "key expirada\n",
      "key expirada\n",
      "key expirada\n",
      "key expirada\n",
      "key expirada\n"
     ]
    },
    {
     "name": "stderr",
     "output_type": "stream",
     "text": [
      " 14%|█▍        | 21/150 [01:12<07:13,  3.36s/it]"
     ]
    },
    {
     "name": "stdout",
     "output_type": "stream",
     "text": [
      "key expirada\n",
      "3\n",
      "key expirada\n",
      "key expirada\n",
      "key expirada\n",
      "key expirada\n",
      "key expirada\n",
      "key expirada\n",
      "key expirada\n",
      "key expirada\n"
     ]
    },
    {
     "name": "stderr",
     "output_type": "stream",
     "text": [
      " 15%|█▍        | 22/150 [01:15<07:09,  3.35s/it]"
     ]
    },
    {
     "name": "stdout",
     "output_type": "stream",
     "text": [
      "key expirada\n",
      "3\n",
      "key expirada\n",
      "key expirada\n",
      "key expirada\n",
      "key expirada\n",
      "key expirada\n",
      "key expirada\n",
      "key expirada\n",
      "key expirada\n"
     ]
    },
    {
     "name": "stderr",
     "output_type": "stream",
     "text": [
      " 15%|█▌        | 23/150 [01:18<07:04,  3.34s/it]"
     ]
    },
    {
     "name": "stdout",
     "output_type": "stream",
     "text": [
      "key expirada\n",
      "3\n",
      "key expirada\n",
      "key expirada\n",
      "key expirada\n",
      "key expirada\n",
      "key expirada\n",
      "key expirada\n",
      "key expirada\n",
      "key expirada\n"
     ]
    },
    {
     "name": "stderr",
     "output_type": "stream",
     "text": [
      " 16%|█▌        | 24/150 [01:21<06:59,  3.33s/it]"
     ]
    },
    {
     "name": "stdout",
     "output_type": "stream",
     "text": [
      "key expirada\n",
      "3\n",
      "key expirada\n",
      "key expirada\n",
      "key expirada\n",
      "key expirada\n",
      "key expirada\n",
      "key expirada\n",
      "key expirada\n",
      "key expirada\n"
     ]
    },
    {
     "name": "stderr",
     "output_type": "stream",
     "text": [
      " 17%|█▋        | 25/150 [01:25<06:56,  3.33s/it]"
     ]
    },
    {
     "name": "stdout",
     "output_type": "stream",
     "text": [
      "key expirada\n",
      "3\n",
      "key expirada\n",
      "key expirada\n",
      "key expirada\n",
      "key expirada\n",
      "key expirada\n",
      "key expirada\n",
      "key expirada\n",
      "key expirada\n"
     ]
    },
    {
     "name": "stderr",
     "output_type": "stream",
     "text": [
      " 17%|█▋        | 26/150 [01:28<06:54,  3.34s/it]"
     ]
    },
    {
     "name": "stdout",
     "output_type": "stream",
     "text": [
      "key expirada\n",
      "3\n",
      "key expirada\n",
      "key expirada\n",
      "key expirada\n",
      "key expirada\n",
      "key expirada\n",
      "key expirada\n",
      "key expirada\n",
      "key expirada\n"
     ]
    },
    {
     "name": "stderr",
     "output_type": "stream",
     "text": [
      " 18%|█▊        | 27/150 [01:32<06:57,  3.40s/it]"
     ]
    },
    {
     "name": "stdout",
     "output_type": "stream",
     "text": [
      "key expirada\n",
      "3\n",
      "key expirada\n",
      "key expirada\n",
      "key expirada\n",
      "key expirada\n",
      "key expirada\n",
      "key expirada\n",
      "key expirada\n",
      "key expirada\n"
     ]
    },
    {
     "name": "stderr",
     "output_type": "stream",
     "text": [
      " 19%|█▊        | 28/150 [01:35<06:52,  3.39s/it]"
     ]
    },
    {
     "name": "stdout",
     "output_type": "stream",
     "text": [
      "key expirada\n",
      "3\n",
      "key expirada\n",
      "key expirada\n",
      "key expirada\n",
      "key expirada\n",
      "key expirada\n",
      "key expirada\n",
      "key expirada\n",
      "key expirada\n"
     ]
    },
    {
     "name": "stderr",
     "output_type": "stream",
     "text": [
      " 19%|█▉        | 29/150 [01:39<06:48,  3.37s/it]"
     ]
    },
    {
     "name": "stdout",
     "output_type": "stream",
     "text": [
      "key expirada\n",
      "3\n",
      "key expirada\n",
      "key expirada\n",
      "key expirada\n",
      "key expirada\n",
      "key expirada\n",
      "key expirada\n",
      "key expirada\n",
      "key expirada\n"
     ]
    },
    {
     "name": "stderr",
     "output_type": "stream",
     "text": [
      " 20%|██        | 30/150 [01:42<06:42,  3.36s/it]"
     ]
    },
    {
     "name": "stdout",
     "output_type": "stream",
     "text": [
      "key expirada\n",
      "3\n",
      "key expirada\n",
      "key expirada\n",
      "key expirada\n",
      "key expirada\n",
      "key expirada\n",
      "key expirada\n",
      "key expirada\n",
      "key expirada\n"
     ]
    },
    {
     "name": "stderr",
     "output_type": "stream",
     "text": [
      " 21%|██        | 31/150 [01:45<06:37,  3.34s/it]"
     ]
    },
    {
     "name": "stdout",
     "output_type": "stream",
     "text": [
      "key expirada\n",
      "3\n",
      "key expirada\n",
      "key expirada\n",
      "key expirada\n",
      "key expirada\n",
      "key expirada\n",
      "key expirada\n",
      "key expirada\n",
      "key expirada\n"
     ]
    },
    {
     "name": "stderr",
     "output_type": "stream",
     "text": [
      " 21%|██▏       | 32/150 [01:48<06:33,  3.34s/it]"
     ]
    },
    {
     "name": "stdout",
     "output_type": "stream",
     "text": [
      "key expirada\n",
      "3\n",
      "key expirada\n",
      "key expirada\n",
      "key expirada\n",
      "key expirada\n",
      "key expirada\n",
      "key expirada\n",
      "key expirada\n",
      "key expirada\n"
     ]
    },
    {
     "name": "stderr",
     "output_type": "stream",
     "text": [
      " 22%|██▏       | 33/150 [01:52<06:31,  3.34s/it]"
     ]
    },
    {
     "name": "stdout",
     "output_type": "stream",
     "text": [
      "key expirada\n",
      "3\n",
      "key expirada\n",
      "key expirada\n",
      "key expirada\n",
      "key expirada\n",
      "key expirada\n",
      "key expirada\n",
      "key expirada\n",
      "key expirada\n"
     ]
    },
    {
     "name": "stderr",
     "output_type": "stream",
     "text": [
      " 23%|██▎       | 34/150 [01:56<06:32,  3.39s/it]"
     ]
    },
    {
     "name": "stdout",
     "output_type": "stream",
     "text": [
      "key expirada\n",
      "3\n",
      "key expirada\n",
      "key expirada\n",
      "key expirada\n",
      "key expirada\n",
      "key expirada\n",
      "key expirada\n",
      "key expirada\n",
      "key expirada\n"
     ]
    },
    {
     "name": "stderr",
     "output_type": "stream",
     "text": [
      " 23%|██▎       | 35/150 [02:00<06:39,  3.48s/it]"
     ]
    },
    {
     "name": "stdout",
     "output_type": "stream",
     "text": [
      "key expirada\n",
      "3\n",
      "key expirada\n",
      "key expirada\n",
      "key expirada\n",
      "key expirada\n",
      "key expirada\n",
      "key expirada\n",
      "key expirada\n",
      "key expirada\n"
     ]
    },
    {
     "name": "stderr",
     "output_type": "stream",
     "text": [
      " 24%|██▍       | 36/150 [02:03<06:33,  3.45s/it]"
     ]
    },
    {
     "name": "stdout",
     "output_type": "stream",
     "text": [
      "key expirada\n",
      "3\n",
      "key expirada\n",
      "key expirada\n",
      "key expirada\n",
      "key expirada\n",
      "key expirada\n",
      "key expirada\n",
      "key expirada\n",
      "key expirada\n"
     ]
    },
    {
     "name": "stderr",
     "output_type": "stream",
     "text": [
      " 25%|██▍       | 37/150 [02:06<06:29,  3.45s/it]"
     ]
    },
    {
     "name": "stdout",
     "output_type": "stream",
     "text": [
      "key expirada\n",
      "3\n",
      "key expirada\n",
      "key expirada\n",
      "key expirada\n",
      "key expirada\n",
      "key expirada\n",
      "key expirada\n",
      "key expirada\n",
      "key expirada\n"
     ]
    },
    {
     "name": "stderr",
     "output_type": "stream",
     "text": [
      " 25%|██▌       | 38/150 [02:10<06:29,  3.48s/it]"
     ]
    },
    {
     "name": "stdout",
     "output_type": "stream",
     "text": [
      "key expirada\n",
      "3\n",
      "key expirada\n",
      "key expirada\n",
      "key expirada\n",
      "key expirada\n",
      "key expirada\n",
      "key expirada\n",
      "key expirada\n",
      "key expirada\n"
     ]
    },
    {
     "name": "stderr",
     "output_type": "stream",
     "text": [
      " 26%|██▌       | 39/150 [02:13<06:22,  3.45s/it]"
     ]
    },
    {
     "name": "stdout",
     "output_type": "stream",
     "text": [
      "key expirada\n",
      "3\n",
      "key expirada\n",
      "key expirada\n",
      "key expirada\n",
      "key expirada\n",
      "key expirada\n",
      "key expirada\n",
      "key expirada\n",
      "key expirada\n"
     ]
    },
    {
     "name": "stderr",
     "output_type": "stream",
     "text": [
      " 27%|██▋       | 40/150 [02:17<06:17,  3.43s/it]"
     ]
    },
    {
     "name": "stdout",
     "output_type": "stream",
     "text": [
      "key expirada\n",
      "3\n",
      "key expirada\n",
      "key expirada\n",
      "key expirada\n",
      "key expirada\n",
      "key expirada\n",
      "key expirada\n",
      "key expirada\n",
      "key expirada\n"
     ]
    },
    {
     "name": "stderr",
     "output_type": "stream",
     "text": [
      " 27%|██▋       | 41/150 [02:20<06:16,  3.45s/it]"
     ]
    },
    {
     "name": "stdout",
     "output_type": "stream",
     "text": [
      "key expirada\n",
      "3\n",
      "key expirada\n",
      "key expirada\n",
      "key expirada\n",
      "key expirada\n",
      "key expirada\n",
      "key expirada\n",
      "key expirada\n",
      "key expirada\n"
     ]
    },
    {
     "name": "stderr",
     "output_type": "stream",
     "text": [
      " 28%|██▊       | 42/150 [02:24<06:19,  3.52s/it]"
     ]
    },
    {
     "name": "stdout",
     "output_type": "stream",
     "text": [
      "key expirada\n",
      "3\n",
      "key expirada\n",
      "key expirada\n",
      "key expirada\n",
      "key expirada\n",
      "key expirada\n",
      "key expirada\n",
      "key expirada\n",
      "key expirada\n"
     ]
    },
    {
     "name": "stderr",
     "output_type": "stream",
     "text": [
      " 29%|██▊       | 43/150 [02:28<06:13,  3.49s/it]"
     ]
    },
    {
     "name": "stdout",
     "output_type": "stream",
     "text": [
      "key expirada\n",
      "3\n",
      "key expirada\n",
      "key expirada\n",
      "key expirada\n",
      "key expirada\n",
      "key expirada\n",
      "key expirada\n",
      "key expirada\n",
      "key expirada\n"
     ]
    },
    {
     "name": "stderr",
     "output_type": "stream",
     "text": [
      " 29%|██▉       | 44/150 [02:31<06:08,  3.47s/it]"
     ]
    },
    {
     "name": "stdout",
     "output_type": "stream",
     "text": [
      "key expirada\n",
      "3\n",
      "key expirada\n",
      "key expirada\n",
      "key expirada\n",
      "key expirada\n",
      "key expirada\n",
      "key expirada\n",
      "key expirada\n",
      "key expirada\n"
     ]
    },
    {
     "name": "stderr",
     "output_type": "stream",
     "text": [
      " 30%|███       | 45/150 [02:34<06:03,  3.46s/it]"
     ]
    },
    {
     "name": "stdout",
     "output_type": "stream",
     "text": [
      "key expirada\n",
      "3\n",
      "key expirada\n",
      "key expirada\n",
      "key expirada\n",
      "key expirada\n",
      "key expirada\n",
      "key expirada\n",
      "key expirada\n",
      "key expirada\n"
     ]
    },
    {
     "name": "stderr",
     "output_type": "stream",
     "text": [
      " 31%|███       | 46/150 [02:38<05:57,  3.44s/it]"
     ]
    },
    {
     "name": "stdout",
     "output_type": "stream",
     "text": [
      "key expirada\n",
      "3\n",
      "key expirada\n",
      "key expirada\n",
      "key expirada\n",
      "key expirada\n",
      "key expirada\n",
      "key expirada\n",
      "key expirada\n",
      "key expirada\n"
     ]
    },
    {
     "name": "stderr",
     "output_type": "stream",
     "text": [
      " 31%|███▏      | 47/150 [02:42<06:06,  3.56s/it]"
     ]
    },
    {
     "name": "stdout",
     "output_type": "stream",
     "text": [
      "key expirada\n",
      "3\n",
      "key expirada\n",
      "key expirada\n",
      "key expirada\n",
      "key expirada\n",
      "key expirada\n",
      "key expirada\n",
      "key expirada\n",
      "key expirada\n"
     ]
    },
    {
     "name": "stderr",
     "output_type": "stream",
     "text": [
      " 32%|███▏      | 48/150 [02:45<05:59,  3.53s/it]"
     ]
    },
    {
     "name": "stdout",
     "output_type": "stream",
     "text": [
      "key expirada\n",
      "3\n",
      "key expirada\n",
      "key expirada\n",
      "key expirada\n",
      "key expirada\n",
      "key expirada\n",
      "key expirada\n",
      "key expirada\n",
      "key expirada\n"
     ]
    },
    {
     "name": "stderr",
     "output_type": "stream",
     "text": [
      " 33%|███▎      | 49/150 [02:49<05:53,  3.50s/it]"
     ]
    },
    {
     "name": "stdout",
     "output_type": "stream",
     "text": [
      "key expirada\n",
      "3\n",
      "key expirada\n",
      "key expirada\n",
      "key expirada\n",
      "key expirada\n",
      "key expirada\n",
      "key expirada\n",
      "key expirada\n",
      "key expirada\n"
     ]
    },
    {
     "name": "stderr",
     "output_type": "stream",
     "text": [
      " 33%|███▎      | 50/150 [02:52<05:46,  3.47s/it]"
     ]
    },
    {
     "name": "stdout",
     "output_type": "stream",
     "text": [
      "key expirada\n",
      "3\n",
      "key expirada\n",
      "key expirada\n",
      "key expirada\n",
      "key expirada\n",
      "key expirada\n",
      "key expirada\n",
      "key expirada\n",
      "key expirada\n"
     ]
    },
    {
     "name": "stderr",
     "output_type": "stream",
     "text": [
      " 34%|███▍      | 51/150 [02:56<05:46,  3.50s/it]"
     ]
    },
    {
     "name": "stdout",
     "output_type": "stream",
     "text": [
      "key expirada\n",
      "3\n",
      "key expirada\n",
      "key expirada\n",
      "key expirada\n",
      "key expirada\n",
      "key expirada\n",
      "key expirada\n",
      "key expirada\n",
      "key expirada\n"
     ]
    },
    {
     "name": "stderr",
     "output_type": "stream",
     "text": [
      " 35%|███▍      | 52/150 [02:59<05:40,  3.47s/it]"
     ]
    },
    {
     "name": "stdout",
     "output_type": "stream",
     "text": [
      "key expirada\n",
      "3\n",
      "key expirada\n",
      "key expirada\n",
      "key expirada\n",
      "key expirada\n",
      "key expirada\n",
      "key expirada\n",
      "key expirada\n",
      "key expirada\n"
     ]
    },
    {
     "name": "stderr",
     "output_type": "stream",
     "text": [
      " 35%|███▌      | 53/150 [03:02<05:34,  3.45s/it]"
     ]
    },
    {
     "name": "stdout",
     "output_type": "stream",
     "text": [
      "key expirada\n",
      "3\n",
      "key expirada\n",
      "key expirada\n",
      "key expirada\n",
      "key expirada\n",
      "key expirada\n",
      "key expirada\n",
      "key expirada\n",
      "key expirada\n"
     ]
    },
    {
     "name": "stderr",
     "output_type": "stream",
     "text": [
      " 36%|███▌      | 54/150 [03:05<05:27,  3.41s/it]"
     ]
    },
    {
     "name": "stdout",
     "output_type": "stream",
     "text": [
      "key expirada\n",
      "3\n",
      "key expirada\n",
      "key expirada\n",
      "key expirada\n",
      "key expirada\n",
      "key expirada\n",
      "key expirada\n",
      "key expirada\n",
      "key expirada\n"
     ]
    },
    {
     "name": "stderr",
     "output_type": "stream",
     "text": [
      " 37%|███▋      | 55/150 [03:09<05:26,  3.44s/it]"
     ]
    },
    {
     "name": "stdout",
     "output_type": "stream",
     "text": [
      "key expirada\n",
      "3\n",
      "key expirada\n",
      "key expirada\n",
      "key expirada\n",
      "key expirada\n",
      "key expirada\n",
      "key expirada\n",
      "key expirada\n",
      "key expirada\n"
     ]
    },
    {
     "name": "stderr",
     "output_type": "stream",
     "text": [
      " 37%|███▋      | 56/150 [03:12<05:22,  3.43s/it]"
     ]
    },
    {
     "name": "stdout",
     "output_type": "stream",
     "text": [
      "key expirada\n",
      "3\n",
      "key expirada\n",
      "key expirada\n",
      "key expirada\n",
      "key expirada\n",
      "key expirada\n",
      "key expirada\n",
      "key expirada\n",
      "key expirada\n"
     ]
    },
    {
     "name": "stderr",
     "output_type": "stream",
     "text": [
      " 38%|███▊      | 57/150 [03:16<05:17,  3.42s/it]"
     ]
    },
    {
     "name": "stdout",
     "output_type": "stream",
     "text": [
      "key expirada\n",
      "3\n",
      "key expirada\n",
      "key expirada\n",
      "key expirada\n",
      "key expirada\n",
      "key expirada\n",
      "key expirada\n",
      "key expirada\n",
      "key expirada\n"
     ]
    },
    {
     "name": "stderr",
     "output_type": "stream",
     "text": [
      " 39%|███▊      | 58/150 [03:19<05:11,  3.39s/it]"
     ]
    },
    {
     "name": "stdout",
     "output_type": "stream",
     "text": [
      "key expirada\n",
      "3\n",
      "key expirada\n",
      "key expirada\n",
      "key expirada\n",
      "key expirada\n",
      "key expirada\n",
      "key expirada\n",
      "key expirada\n",
      "key expirada\n"
     ]
    },
    {
     "name": "stderr",
     "output_type": "stream",
     "text": [
      " 39%|███▉      | 59/150 [03:22<05:11,  3.42s/it]"
     ]
    },
    {
     "name": "stdout",
     "output_type": "stream",
     "text": [
      "key expirada\n",
      "3\n",
      "key expirada\n",
      "key expirada\n",
      "key expirada\n",
      "key expirada\n",
      "key expirada\n",
      "key expirada\n",
      "key expirada\n",
      "key expirada\n"
     ]
    },
    {
     "name": "stderr",
     "output_type": "stream",
     "text": [
      " 40%|████      | 60/150 [03:26<05:07,  3.41s/it]"
     ]
    },
    {
     "name": "stdout",
     "output_type": "stream",
     "text": [
      "key expirada\n",
      "3\n",
      "key expirada\n",
      "key expirada\n",
      "key expirada\n",
      "key expirada\n",
      "key expirada\n",
      "key expirada\n",
      "key expirada\n",
      "key expirada\n"
     ]
    },
    {
     "name": "stderr",
     "output_type": "stream",
     "text": [
      " 41%|████      | 61/150 [03:29<05:02,  3.40s/it]"
     ]
    },
    {
     "name": "stdout",
     "output_type": "stream",
     "text": [
      "key expirada\n",
      "3\n",
      "key expirada\n",
      "key expirada\n",
      "key expirada\n",
      "key expirada\n",
      "key expirada\n",
      "key expirada\n",
      "key expirada\n",
      "key expirada\n"
     ]
    },
    {
     "name": "stderr",
     "output_type": "stream",
     "text": [
      " 41%|████▏     | 62/150 [03:32<04:57,  3.38s/it]"
     ]
    },
    {
     "name": "stdout",
     "output_type": "stream",
     "text": [
      "key expirada\n",
      "3\n",
      "key expirada\n",
      "key expirada\n",
      "key expirada\n",
      "key expirada\n",
      "key expirada\n",
      "key expirada\n",
      "key expirada\n",
      "key expirada\n"
     ]
    },
    {
     "name": "stderr",
     "output_type": "stream",
     "text": [
      " 42%|████▏     | 63/150 [03:35<04:53,  3.37s/it]"
     ]
    },
    {
     "name": "stdout",
     "output_type": "stream",
     "text": [
      "key expirada\n",
      "3\n",
      "key expirada\n",
      "key expirada\n",
      "key expirada\n",
      "key expirada\n",
      "key expirada\n",
      "key expirada\n",
      "key expirada\n",
      "key expirada\n"
     ]
    },
    {
     "name": "stderr",
     "output_type": "stream",
     "text": [
      " 43%|████▎     | 64/150 [03:39<04:54,  3.42s/it]"
     ]
    },
    {
     "name": "stdout",
     "output_type": "stream",
     "text": [
      "key expirada\n",
      "3\n",
      "key expirada\n",
      "key expirada\n",
      "key expirada\n",
      "key expirada\n",
      "key expirada\n",
      "key expirada\n",
      "key expirada\n",
      "key expirada\n"
     ]
    },
    {
     "name": "stderr",
     "output_type": "stream",
     "text": [
      " 43%|████▎     | 65/150 [03:43<04:50,  3.41s/it]"
     ]
    },
    {
     "name": "stdout",
     "output_type": "stream",
     "text": [
      "key expirada\n",
      "3\n",
      "key expirada\n",
      "key expirada\n",
      "key expirada\n",
      "key expirada\n",
      "key expirada\n",
      "key expirada\n",
      "key expirada\n",
      "key expirada\n"
     ]
    },
    {
     "name": "stderr",
     "output_type": "stream",
     "text": [
      " 44%|████▍     | 66/150 [03:46<04:44,  3.39s/it]"
     ]
    },
    {
     "name": "stdout",
     "output_type": "stream",
     "text": [
      "key expirada\n",
      "3\n",
      "key expirada\n",
      "key expirada\n",
      "key expirada\n",
      "key expirada\n",
      "key expirada\n",
      "key expirada\n",
      "key expirada\n",
      "key expirada\n"
     ]
    },
    {
     "name": "stderr",
     "output_type": "stream",
     "text": [
      " 45%|████▍     | 67/150 [03:49<04:40,  3.38s/it]"
     ]
    },
    {
     "name": "stdout",
     "output_type": "stream",
     "text": [
      "key expirada\n",
      "3\n",
      "key expirada\n",
      "key expirada\n",
      "key expirada\n",
      "key expirada\n",
      "key expirada\n",
      "key expirada\n",
      "key expirada\n",
      "key expirada\n"
     ]
    },
    {
     "name": "stderr",
     "output_type": "stream",
     "text": [
      " 45%|████▌     | 68/150 [03:52<04:36,  3.37s/it]"
     ]
    },
    {
     "name": "stdout",
     "output_type": "stream",
     "text": [
      "key expirada\n",
      "3\n",
      "key expirada\n",
      "key expirada\n",
      "key expirada\n",
      "key expirada\n",
      "key expirada\n",
      "key expirada\n",
      "key expirada\n",
      "key expirada\n"
     ]
    },
    {
     "name": "stderr",
     "output_type": "stream",
     "text": [
      " 46%|████▌     | 69/150 [03:56<04:32,  3.36s/it]"
     ]
    },
    {
     "name": "stdout",
     "output_type": "stream",
     "text": [
      "key expirada\n",
      "3\n",
      "key expirada\n",
      "key expirada\n",
      "key expirada\n",
      "key expirada\n",
      "key expirada\n",
      "key expirada\n",
      "key expirada\n",
      "key expirada\n"
     ]
    },
    {
     "name": "stderr",
     "output_type": "stream",
     "text": [
      " 47%|████▋     | 70/150 [03:59<04:28,  3.36s/it]"
     ]
    },
    {
     "name": "stdout",
     "output_type": "stream",
     "text": [
      "key expirada\n",
      "3\n",
      "key expirada\n",
      "key expirada\n",
      "key expirada\n",
      "key expirada\n",
      "key expirada\n",
      "key expirada\n",
      "key expirada\n",
      "key expirada\n"
     ]
    },
    {
     "name": "stderr",
     "output_type": "stream",
     "text": [
      " 47%|████▋     | 71/150 [04:02<04:25,  3.36s/it]"
     ]
    },
    {
     "name": "stdout",
     "output_type": "stream",
     "text": [
      "key expirada\n",
      "3\n",
      "key expirada\n",
      "key expirada\n",
      "key expirada\n",
      "key expirada\n",
      "key expirada\n",
      "key expirada\n",
      "key expirada\n",
      "key expirada\n"
     ]
    },
    {
     "name": "stderr",
     "output_type": "stream",
     "text": [
      " 48%|████▊     | 72/150 [04:06<04:21,  3.36s/it]"
     ]
    },
    {
     "name": "stdout",
     "output_type": "stream",
     "text": [
      "key expirada\n",
      "3\n",
      "key expirada\n",
      "key expirada\n",
      "key expirada\n",
      "key expirada\n",
      "key expirada\n",
      "key expirada\n",
      "key expirada\n",
      "key expirada\n"
     ]
    },
    {
     "name": "stderr",
     "output_type": "stream",
     "text": [
      " 49%|████▊     | 73/150 [04:09<04:21,  3.39s/it]"
     ]
    },
    {
     "name": "stdout",
     "output_type": "stream",
     "text": [
      "key expirada\n",
      "3\n",
      "key expirada\n",
      "key expirada\n",
      "key expirada\n",
      "key expirada\n",
      "key expirada\n",
      "key expirada\n",
      "key expirada\n",
      "key expirada\n"
     ]
    },
    {
     "name": "stderr",
     "output_type": "stream",
     "text": [
      " 49%|████▉     | 74/150 [04:13<04:20,  3.42s/it]"
     ]
    },
    {
     "name": "stdout",
     "output_type": "stream",
     "text": [
      "key expirada\n",
      "3\n",
      "key expirada\n",
      "key expirada\n",
      "key expirada\n",
      "key expirada\n",
      "key expirada\n",
      "key expirada\n",
      "key expirada\n",
      "key expirada\n"
     ]
    },
    {
     "name": "stderr",
     "output_type": "stream",
     "text": [
      " 50%|█████     | 75/150 [04:16<04:15,  3.40s/it]"
     ]
    },
    {
     "name": "stdout",
     "output_type": "stream",
     "text": [
      "key expirada\n",
      "3\n",
      "key expirada\n",
      "key expirada\n",
      "key expirada\n",
      "key expirada\n",
      "key expirada\n",
      "key expirada\n",
      "key expirada\n",
      "key expirada\n"
     ]
    },
    {
     "name": "stderr",
     "output_type": "stream",
     "text": [
      " 51%|█████     | 76/150 [04:20<04:10,  3.39s/it]"
     ]
    },
    {
     "name": "stdout",
     "output_type": "stream",
     "text": [
      "key expirada\n",
      "3\n",
      "key expirada\n",
      "key expirada\n",
      "key expirada\n",
      "key expirada\n",
      "key expirada\n",
      "key expirada\n",
      "key expirada\n",
      "key expirada\n"
     ]
    },
    {
     "name": "stderr",
     "output_type": "stream",
     "text": [
      " 51%|█████▏    | 77/150 [04:23<04:06,  3.38s/it]"
     ]
    },
    {
     "name": "stdout",
     "output_type": "stream",
     "text": [
      "key expirada\n",
      "3\n",
      "key expirada\n",
      "key expirada\n",
      "key expirada\n",
      "key expirada\n",
      "key expirada\n",
      "key expirada\n",
      "key expirada\n",
      "key expirada\n"
     ]
    },
    {
     "name": "stderr",
     "output_type": "stream",
     "text": [
      " 52%|█████▏    | 78/150 [04:26<04:00,  3.35s/it]"
     ]
    },
    {
     "name": "stdout",
     "output_type": "stream",
     "text": [
      "key expirada\n",
      "3\n",
      "key expirada\n",
      "key expirada\n",
      "key expirada\n",
      "key expirada\n",
      "key expirada\n",
      "key expirada\n",
      "key expirada\n",
      "key expirada\n"
     ]
    },
    {
     "name": "stderr",
     "output_type": "stream",
     "text": [
      " 53%|█████▎    | 79/150 [04:29<03:56,  3.33s/it]"
     ]
    },
    {
     "name": "stdout",
     "output_type": "stream",
     "text": [
      "key expirada\n",
      "3\n",
      "key expirada\n",
      "key expirada\n",
      "key expirada\n",
      "key expirada\n",
      "key expirada\n",
      "key expirada\n",
      "key expirada\n",
      "key expirada\n"
     ]
    },
    {
     "name": "stderr",
     "output_type": "stream",
     "text": [
      " 53%|█████▎    | 80/150 [04:33<03:55,  3.36s/it]"
     ]
    },
    {
     "name": "stdout",
     "output_type": "stream",
     "text": [
      "key expirada\n",
      "3\n",
      "key expirada\n",
      "key expirada\n",
      "key expirada\n",
      "key expirada\n",
      "key expirada\n",
      "key expirada\n",
      "key expirada\n"
     ]
    },
    {
     "name": "stderr",
     "output_type": "stream",
     "text": [
      " 54%|█████▍    | 81/150 [04:36<03:53,  3.38s/it]"
     ]
    },
    {
     "name": "stdout",
     "output_type": "stream",
     "text": [
      "key expirada\n",
      "key expirada\n",
      "3\n",
      "key expirada\n",
      "key expirada\n",
      "key expirada\n",
      "key expirada\n",
      "key expirada\n",
      "key expirada\n",
      "key expirada\n",
      "key expirada\n"
     ]
    },
    {
     "name": "stderr",
     "output_type": "stream",
     "text": [
      " 55%|█████▍    | 82/150 [04:40<03:50,  3.39s/it]"
     ]
    },
    {
     "name": "stdout",
     "output_type": "stream",
     "text": [
      "key expirada\n",
      "3\n",
      "key expirada\n",
      "key expirada\n",
      "key expirada\n",
      "key expirada\n",
      "key expirada\n",
      "key expirada\n",
      "key expirada\n",
      "key expirada\n"
     ]
    },
    {
     "name": "stderr",
     "output_type": "stream",
     "text": [
      " 55%|█████▌    | 83/150 [04:43<03:45,  3.36s/it]"
     ]
    },
    {
     "name": "stdout",
     "output_type": "stream",
     "text": [
      "key expirada\n",
      "3\n",
      "key expirada\n",
      "key expirada\n",
      "key expirada\n",
      "key expirada\n",
      "key expirada\n",
      "key expirada\n",
      "key expirada\n",
      "key expirada\n"
     ]
    },
    {
     "name": "stderr",
     "output_type": "stream",
     "text": [
      " 56%|█████▌    | 84/150 [04:46<03:40,  3.35s/it]"
     ]
    },
    {
     "name": "stdout",
     "output_type": "stream",
     "text": [
      "key expirada\n",
      "3\n",
      "key expirada\n",
      "key expirada\n",
      "key expirada\n",
      "key expirada\n",
      "key expirada\n",
      "key expirada\n",
      "key expirada\n",
      "key expirada\n"
     ]
    },
    {
     "name": "stderr",
     "output_type": "stream",
     "text": [
      " 57%|█████▋    | 85/150 [04:50<03:39,  3.38s/it]"
     ]
    },
    {
     "name": "stdout",
     "output_type": "stream",
     "text": [
      "key expirada\n",
      "3\n",
      "key expirada\n",
      "key expirada\n",
      "key expirada\n",
      "key expirada\n",
      "key expirada\n",
      "key expirada\n",
      "key expirada\n",
      "key expirada\n"
     ]
    },
    {
     "name": "stderr",
     "output_type": "stream",
     "text": [
      " 57%|█████▋    | 86/150 [04:53<03:35,  3.36s/it]"
     ]
    },
    {
     "name": "stdout",
     "output_type": "stream",
     "text": [
      "key expirada\n",
      "3\n",
      "key expirada\n",
      "key expirada\n",
      "key expirada\n",
      "key expirada\n",
      "key expirada\n",
      "key expirada\n",
      "key expirada\n",
      "key expirada\n"
     ]
    },
    {
     "name": "stderr",
     "output_type": "stream",
     "text": [
      " 58%|█████▊    | 87/150 [04:56<03:31,  3.36s/it]"
     ]
    },
    {
     "name": "stdout",
     "output_type": "stream",
     "text": [
      "key expirada\n",
      "3\n",
      "key expirada\n",
      "key expirada\n",
      "key expirada\n",
      "key expirada\n",
      "key expirada\n",
      "key expirada\n",
      "key expirada\n",
      "key expirada\n"
     ]
    },
    {
     "name": "stderr",
     "output_type": "stream",
     "text": [
      " 59%|█████▊    | 88/150 [05:01<03:38,  3.52s/it]"
     ]
    },
    {
     "name": "stdout",
     "output_type": "stream",
     "text": [
      "key expirada\n",
      "3\n",
      "key expirada\n",
      "key expirada\n",
      "key expirada\n",
      "key expirada\n",
      "key expirada\n",
      "key expirada\n",
      "key expirada\n",
      "key expirada\n"
     ]
    },
    {
     "name": "stderr",
     "output_type": "stream",
     "text": [
      " 59%|█████▉    | 89/150 [05:06<03:41,  3.63s/it]"
     ]
    },
    {
     "name": "stdout",
     "output_type": "stream",
     "text": [
      "key expirada\n",
      "3\n",
      "key expirada\n",
      "key expirada\n",
      "key expirada\n",
      "key expirada\n",
      "key expirada\n",
      "key expirada\n",
      "key expirada\n",
      "key expirada\n"
     ]
    },
    {
     "name": "stderr",
     "output_type": "stream",
     "text": [
      " 60%|██████    | 90/150 [05:10<03:41,  3.69s/it]"
     ]
    },
    {
     "name": "stdout",
     "output_type": "stream",
     "text": [
      "key expirada\n",
      "3\n",
      "key expirada\n",
      "key expirada\n",
      "key expirada\n",
      "key expirada\n",
      "key expirada\n",
      "key expirada\n",
      "key expirada\n",
      "key expirada\n"
     ]
    },
    {
     "name": "stderr",
     "output_type": "stream",
     "text": [
      " 61%|██████    | 91/150 [05:14<03:37,  3.68s/it]"
     ]
    },
    {
     "name": "stdout",
     "output_type": "stream",
     "text": [
      "key expirada\n",
      "3\n",
      "key expirada\n",
      "key expirada\n",
      "key expirada\n",
      "key expirada\n",
      "key expirada\n",
      "key expirada\n",
      "key expirada\n",
      "key expirada\n"
     ]
    },
    {
     "name": "stderr",
     "output_type": "stream",
     "text": [
      " 61%|██████▏   | 92/150 [05:18<03:37,  3.75s/it]"
     ]
    },
    {
     "name": "stdout",
     "output_type": "stream",
     "text": [
      "key expirada\n",
      "3\n",
      "key expirada\n",
      "key expirada\n",
      "key expirada\n",
      "key expirada\n",
      "key expirada\n",
      "key expirada\n",
      "key expirada\n",
      "key expirada\n"
     ]
    },
    {
     "name": "stderr",
     "output_type": "stream",
     "text": [
      " 62%|██████▏   | 93/150 [05:22<03:35,  3.77s/it]"
     ]
    },
    {
     "name": "stdout",
     "output_type": "stream",
     "text": [
      "key expirada\n",
      "3\n",
      "key expirada\n",
      "key expirada\n",
      "key expirada\n",
      "key expirada\n"
     ]
    }
   ],
   "source": [
    "for n_example, model, temp in itertools.product(n_exemples, models, temperatures):\n",
    "    results = []\n",
    "    filename = f'results/{model}-{n_example}-examples-temperature-{temp}.csv'\n",
    "    if not os.path.isfile(filename):\n",
    "        with tqdm.tqdm(total=len(df), smoothing=0.1) as pbar:\n",
    "            for idx, row in df.iterrows():\n",
    "                relatorio = row[\"relatorio\"]\n",
    "                voto = row[\"voto\"]\n",
    "                prompt = \"\"\n",
    "                if n_example == 0:\n",
    "                    prompt = zero_shot_prompt.format(\n",
    "                        relatorio=relatorio,\n",
    "                        voto=voto,\n",
    "                    )\n",
    "                elif n_example == 1:\n",
    "                    prompt = one_shot_prompt.format(\n",
    "                        relatorio=relatorio,\n",
    "                        voto=voto,\n",
    "                        example=examples[0]\n",
    "                    )\n",
    "                else:\n",
    "                    print(n_example)\n",
    "                    prompt = generate_few_shot_prompt(examples[:n_example]).format(\n",
    "                        relatorio=relatorio,\n",
    "                        voto=voto,\n",
    "                    )\n",
    "\n",
    "                response = \"\"\n",
    "                while True:\n",
    "                    try:\n",
    "                        response = generate(model, prompt, temp)\n",
    "                        break\n",
    "                    except Exception as e:\n",
    "                        print('Error: ' + str(e) + ' (Retrying)')\n",
    "                        time.sleep(10)\n",
    "\n",
    "                results.append({\n",
    "                    \"relatorio\": relatorio,\n",
    "                    \"voto\": voto,\n",
    "                    \"acordao\": row['acordao'],\n",
    "                    \"generated\": response,\n",
    "                    \"model\": model,\n",
    "                    'n_examples': n_example,\n",
    "                    \"temperature\": temp\n",
    "                })\n",
    "\n",
    "                pd.DataFrame(results).to_csv(filename, index=False)\n",
    "                pbar.update(1)"
   ]
  }
 ],
 "metadata": {
  "kernelspec": {
   "display_name": "Python 3",
   "language": "python",
   "name": "python3"
  },
  "language_info": {
   "codemirror_mode": {
    "name": "ipython",
    "version": 3
   },
   "file_extension": ".py",
   "mimetype": "text/x-python",
   "name": "python",
   "nbconvert_exporter": "python",
   "pygments_lexer": "ipython3",
   "version": "3.8.10"
  }
 },
 "nbformat": 4,
 "nbformat_minor": 2
}
