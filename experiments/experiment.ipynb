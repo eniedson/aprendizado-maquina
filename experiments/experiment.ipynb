{
 "cells": [
  {
   "cell_type": "code",
   "execution_count": 1,
   "metadata": {},
   "outputs": [],
   "source": [
    "import pandas as pd\n",
    "from groq import Groq\n",
    "import itertools\n",
    "import tqdm\n",
    "import time\n",
    "import os\n",
    "import random\n",
    "import re\n",
    "from langchain_community.chat_models import ChatOllama\n",
    "from langchain.schema.output_parser import StrOutputParser"
   ]
  },
  {
   "cell_type": "code",
   "execution_count": 2,
   "metadata": {},
   "outputs": [
    {
     "data": {
      "text/html": [
       "<div>\n",
       "<style scoped>\n",
       "    .dataframe tbody tr th:only-of-type {\n",
       "        vertical-align: middle;\n",
       "    }\n",
       "\n",
       "    .dataframe tbody tr th {\n",
       "        vertical-align: top;\n",
       "    }\n",
       "\n",
       "    .dataframe thead th {\n",
       "        text-align: right;\n",
       "    }\n",
       "</style>\n",
       "<table border=\"1\" class=\"dataframe\">\n",
       "  <thead>\n",
       "    <tr style=\"text-align: right;\">\n",
       "      <th></th>\n",
       "      <th>acordao</th>\n",
       "      <th>relatorio</th>\n",
       "      <th>voto</th>\n",
       "    </tr>\n",
       "  </thead>\n",
       "  <tbody>\n",
       "    <tr>\n",
       "      <th>0</th>\n",
       "      <td>Vistos, relatados e discutidos os autos do pro...</td>\n",
       "      <td>Tratam os autos da aposentadoria da servidora ...</td>\n",
       "      <td>Trata-se de apreciação da legalidade e registr...</td>\n",
       "    </tr>\n",
       "    <tr>\n",
       "      <th>1</th>\n",
       "      <td>Vistos, relatados e discutidos os autos do pro...</td>\n",
       "      <td>1. Tratam os autos da Prestação de Contas do F...</td>\n",
       "      <td>A EXMA. SENHORA CONSELHEIRA DULCINÉA BENÍCIO D...</td>\n",
       "    </tr>\n",
       "    <tr>\n",
       "      <th>2</th>\n",
       "      <td>Vistos, relatados e discutidos os autos do pro...</td>\n",
       "      <td>1. Tratam os autos da Prestação de Contas da S...</td>\n",
       "      <td>A EXMA. SENHORA CONSELHEIRA DULCINÉA BENÍCIO D...</td>\n",
       "    </tr>\n",
       "    <tr>\n",
       "      <th>3</th>\n",
       "      <td>Vistos, relatados e discutidos os autos do pro...</td>\n",
       "      <td>1. Trata-se os autos de Denúncia, oriunda do o...</td>\n",
       "      <td>A EXMA. SENHORA CONSELHEIRA NALUH MARIA LIMA G...</td>\n",
       "    </tr>\n",
       "    <tr>\n",
       "      <th>4</th>\n",
       "      <td>Vistos, relatados e discutidos os autos do pro...</td>\n",
       "      <td>1. Trata o presente processo da aposentadoria ...</td>\n",
       "      <td>O EXMO. SENHOR CONSELHEIRO ANTONIO CRISTOVÃO C...</td>\n",
       "    </tr>\n",
       "    <tr>\n",
       "      <th>...</th>\n",
       "      <td>...</td>\n",
       "      <td>...</td>\n",
       "      <td>...</td>\n",
       "    </tr>\n",
       "    <tr>\n",
       "      <th>145</th>\n",
       "      <td>Vistos, relatados e discutidos os autos do pro...</td>\n",
       "      <td>1. Tratam os autos da Prestação de Contas do G...</td>\n",
       "      <td>O EXMO. SENHOR CONSELHEIRO ANTONIO CRISTOVÃO C...</td>\n",
       "    </tr>\n",
       "    <tr>\n",
       "      <th>146</th>\n",
       "      <td>Vistos, relatados e discutidos os autos do pro...</td>\n",
       "      <td>1. Tratam os autos de Denúncia protocolada na ...</td>\n",
       "      <td>O EXMO. SENHOR CONSELHEIRO ANTONIO CRISTOVÃO C...</td>\n",
       "    </tr>\n",
       "    <tr>\n",
       "      <th>147</th>\n",
       "      <td>Vistos, relatados e discutidos os autos do pro...</td>\n",
       "      <td>Tratam os autos da aposentadoria da servidora ...</td>\n",
       "      <td>Trata-se de apreciação da legalidade e registr...</td>\n",
       "    </tr>\n",
       "    <tr>\n",
       "      <th>148</th>\n",
       "      <td>Vistos, relatados e discutidos os autos do pro...</td>\n",
       "      <td>1. Trata o presente processo da aposentadoria ...</td>\n",
       "      <td>A EXMA. SENHORA CONSELHEIRA-SUBSTITUTA MARIA D...</td>\n",
       "    </tr>\n",
       "    <tr>\n",
       "      <th>149</th>\n",
       "      <td>Vistos, relatados e discutidos os autos do pro...</td>\n",
       "      <td>1. Trata o presente processo da aposentadoria ...</td>\n",
       "      <td>A EXMA. SENHORA CONSELHEIRA-SUBSTITUTA MARIA D...</td>\n",
       "    </tr>\n",
       "  </tbody>\n",
       "</table>\n",
       "<p>150 rows × 3 columns</p>\n",
       "</div>"
      ],
      "text/plain": [
       "                                               acordao  \\\n",
       "0    Vistos, relatados e discutidos os autos do pro...   \n",
       "1    Vistos, relatados e discutidos os autos do pro...   \n",
       "2    Vistos, relatados e discutidos os autos do pro...   \n",
       "3    Vistos, relatados e discutidos os autos do pro...   \n",
       "4    Vistos, relatados e discutidos os autos do pro...   \n",
       "..                                                 ...   \n",
       "145  Vistos, relatados e discutidos os autos do pro...   \n",
       "146  Vistos, relatados e discutidos os autos do pro...   \n",
       "147  Vistos, relatados e discutidos os autos do pro...   \n",
       "148  Vistos, relatados e discutidos os autos do pro...   \n",
       "149  Vistos, relatados e discutidos os autos do pro...   \n",
       "\n",
       "                                             relatorio  \\\n",
       "0    Tratam os autos da aposentadoria da servidora ...   \n",
       "1    1. Tratam os autos da Prestação de Contas do F...   \n",
       "2    1. Tratam os autos da Prestação de Contas da S...   \n",
       "3    1. Trata-se os autos de Denúncia, oriunda do o...   \n",
       "4    1. Trata o presente processo da aposentadoria ...   \n",
       "..                                                 ...   \n",
       "145  1. Tratam os autos da Prestação de Contas do G...   \n",
       "146  1. Tratam os autos de Denúncia protocolada na ...   \n",
       "147  Tratam os autos da aposentadoria da servidora ...   \n",
       "148  1. Trata o presente processo da aposentadoria ...   \n",
       "149  1. Trata o presente processo da aposentadoria ...   \n",
       "\n",
       "                                                  voto  \n",
       "0    Trata-se de apreciação da legalidade e registr...  \n",
       "1    A EXMA. SENHORA CONSELHEIRA DULCINÉA BENÍCIO D...  \n",
       "2    A EXMA. SENHORA CONSELHEIRA DULCINÉA BENÍCIO D...  \n",
       "3    A EXMA. SENHORA CONSELHEIRA NALUH MARIA LIMA G...  \n",
       "4    O EXMO. SENHOR CONSELHEIRO ANTONIO CRISTOVÃO C...  \n",
       "..                                                 ...  \n",
       "145  O EXMO. SENHOR CONSELHEIRO ANTONIO CRISTOVÃO C...  \n",
       "146  O EXMO. SENHOR CONSELHEIRO ANTONIO CRISTOVÃO C...  \n",
       "147  Trata-se de apreciação da legalidade e registr...  \n",
       "148  A EXMA. SENHORA CONSELHEIRA-SUBSTITUTA MARIA D...  \n",
       "149  A EXMA. SENHORA CONSELHEIRA-SUBSTITUTA MARIA D...  \n",
       "\n",
       "[150 rows x 3 columns]"
      ]
     },
     "execution_count": 2,
     "metadata": {},
     "output_type": "execute_result"
    }
   ],
   "source": [
    "data = []\n",
    "for file in list(filter(lambda x: x.startswith('p-'), os.listdir('../md_files/'))):\n",
    "    with open('../md_files/' + file, 'r', encoding='utf-8') as file:\n",
    "        content = file.read()\n",
    "        chunks = list(map(lambda x: re.sub(r\"# ACÓRDÃO.*\\n\", \"\", x).strip(), filter(lambda x: x not in ['RELATÓRIO', 'VOTO'], re.split(r\"# (RELATÓRIO|VOTO)\", content))))\n",
    "        data.append({\n",
    "            \"acordao\": chunks[0],\n",
    "            \"relatorio\": chunks[1],\n",
    "            \"voto\": chunks[2]\n",
    "        })\n",
    "df = pd.DataFrame(data)\n",
    "df"
   ]
  },
  {
   "cell_type": "markdown",
   "metadata": {},
   "source": [
    "### Examples Definition"
   ]
  },
  {
   "cell_type": "code",
   "execution_count": 3,
   "metadata": {},
   "outputs": [],
   "source": [
    "example1 = \"\"\"\n",
    "Relatório:\n",
    "Trata o presente processo de aposentadoria voluntária por tempo de contribuição da servidora pública estadual Eutália Paz da Silva, no cargo de Auxiliar Operacional de Serviços Diversos, Grupo I, Referência 8, do Quadro de Pessoal do Estado da Secretaria de Estado de Saúde, pelas regras previstas no artigo 3º da Emenda Constitucional nº 47, de 05 de julho de 2005.\n",
    "\n",
    "Da análise dos autos e de acordo com o Relatório Técnico (fls. 94-95), apurou-se que:\n",
    "\n",
    "1. A servidora conta com a idade de 57 (cinquenta e sete) anos e 37 (trinta e sete) anos e 195 (cento e noventa e cinco) dias de contribuição, para fins de aposentadoria;\n",
    "2. A aposentadoria foi concedida no cargo de Auxiliar Operacional de Serviços Diversos, Grupo I, Referência 8, do Quadro de Pessoal da Secretaria de Estado de Saúde, através da Portaria nº 98 de 10/02/2021;\n",
    "3. Os proventos mensais iniciais foram calculados no valor de R$1.942,42 (mil novecentos e quarenta e dois reais e quarenta e dois centavos), conforme Ato de Fixação dos Proventos (fls. 79);\n",
    "4. Atualmente a servidora faz jus aos proventos no valor de R$ 2.341,74 (dois mil trezentos e quarenta e um reais e setenta e quatro centavos), de acordo com a Ficha Financeira atualizada (fls. 96-157).\n",
    "\n",
    "O Ministério Público de Contas se manifestou (fls. 162-163) em pronunciamento da lavra da Procuradora Anna Helena de Azevedo Lima, tendo se manifestado favorável pela legalidade e registro da matéria.\n",
    "\n",
    "É o RELATÓRIO.\n",
    "\n",
    "Voto:\n",
    "O EXMO. SENHOR CONSELHEIRO VALMIR GOMES RIBEIRO (Relator):\n",
    "\n",
    "Visto e analisado o presente processo, e ainda consubstanciado na Análise Técnica (fls. 94-95), bem como no Parecer do Ministério Público de Contas (fls. 162-163), concluo votando:\n",
    "\n",
    "1. pela legalidade e registro da aposentadoria voluntária por tempo de contribuição da servidora pública estadual Eutália Paz da Silva, CPF nº 112.709.342-87, matrícula nº 91456-1, no cargo de Auxiliar Operacional de Serviços Diversos, Grupo I, Referência 8, do Quadro de Pessoal do Estado da Secretaria de Estado de Saúde, concedida através da Portaria nº 98 de 10/02/2021, com fundamento no artigo 3º da Emenda Constitucional nº 47, de 05 de julho de 2005;\n",
    "2. pelo encaminhamento de cópia do processo ao Instituto de Previdência do Estado do Acre - ACREPREVIDÊNCIA para as providências cabíveis e para que promova a ciência da servidora interessada. Se impresso, para conferência acesse o site http://www.tceac.tc.br/conferencia e informe o código 01335634.\n",
    "3. após, pelo arquivamento dos autos.\n",
    "\n",
    "É como VOTO.\n",
    "\n",
    "Acordão:\n",
    "Vistos, relatados e discutidos os autos do processo acima identificado, na 127ª Sessão Ordinária Virtual, ACORDAM os Membros da 2ª Câmara do Tribunal de Contas do Estado do Acre, à unanimidade, nos termos do voto do Conselheiro-Relator, com fulcro no artigo 61, inciso III, da Constituição Estadual:\n",
    "\n",
    "1. pela legalidade e registro da aposentadoria voluntária por tempo de contribuição da servidora pública estadual Eutália Paz da Silva, CPF nº 112.709.342-87, matrícula nº 91456-1, com fundamento no artigo 3º da Emenda Constitucional nº 47, de 05 de julho de 2005, no cargo de Auxiliar Operacional de Serviços Diversos, Grupo I, Referência 8, do Quadro de Pessoal do Estado da Secretaria de Estado de Saúde, concedida através da Portaria nº 98 de 10/02/2021;\n",
    "2. pelo encaminhamento de cópia do processo ao Instituto de Previdência do Estado do Acre - ACREPREVIDÊNCIA para as providências cabíveis e para que promova a ciência da servidora interessada. Após as formalidades de estilo, pelo arquivamento dos autos.\n",
    "\"\"\""
   ]
  },
  {
   "cell_type": "code",
   "execution_count": 4,
   "metadata": {},
   "outputs": [],
   "source": [
    "example2 = \"\"\"\n",
    "Relatório:\n",
    "Trata o presente processo de aposentadoria voluntária integral especial por tempo de contribuição da servidora pública estadual Marizete Correia de Andrade Carneiro, no cargo de Professora P2, 30 horas, Classe II, Referência J, do Quadro de Pessoal do Estado da Secretaria de Estado de Educação, Cultura e Esportes, pelas regras previstas no artigo 5º, §1º, da Emenda Constitucional do Estado nº 52, de 02 de dezembro de 2019 e §2º, inciso I, do mesmo artigo.\n",
    "\n",
    "Da análise dos autos e de acordo com o Relatório Técnico (fls. 162-164), apurou-se que:\n",
    "\n",
    "1. A servidora conta com a idade de 52 (cinquenta e dois) anos e 34 (trinta e quatro) anos e 154 (cento e cinquenta e quatro) dias de contribuição, para fins de aposentadoria;\n",
    "2. A aposentadoria foi concedida no cargo de Professora P2, 30 horas, Classe II, Referência 6, do Quadro de Pessoal da Secretaria de Estado de Educação, Cultura e Esportes, através da Portaria nº 613 de 20/09/2022;\n",
    "3. Os proventos mensais iniciais foram calculados no valor de R$ 5.148,03 (cinco mil cento e quarenta e oito reais e três centavos), conforme Ato de Fixação dos Proventos (fl. 138);\n",
    "4. Observa-se, no entanto, que o enquadramento da servidora no ato de aposentadoria foi equivocado, uma vez que, observando-se o art. 29 da LCE nº 67/99 com redação dada pelo art. 29, §8º, da LCE nº 330/17, a servidora deveria ter sido aposentada na Referência “J”, e seus proventos mensais, com a devida correção, ter sido fixado em R$ 6.215,78 (seis mil duzentos e quinze reais e setenta e oito centavos);\n",
    "5. atualmente a servidora faz jus aos proventos no valor de R$ 7.017,77 (sete mil e dezessete reais e setenta e sete centavos), de acordo com a Ficha Financeira atualizada (fls. 165-216).\n",
    "\n",
    "O Ministério Público de Contas se manifestou (fls. 221) em pronunciamento da lavra do Procurador Anna Helena de Azevedo Lima, tendo se manifestado favorável pela legalidade e registro da matéria, sem prejuízo da cientificação da beneficiária a respeito e assinação de prazo para a correção da origem.\n",
    "\n",
    "É o RELATÓRIO.\n",
    "\n",
    "Voto:\n",
    "O EXMO. SENHOR CONSELHEIRO VALMIR GOMES RIBEIRO (Relator):\n",
    "\n",
    "Visto e analisado o presente processo, e ainda consubstanciado na Análise Técnica (fls. 162-164), bem como no Parecer do Ministério Público de Contas (fls. 221), concluo votando:\n",
    "\n",
    "1. pela legalidade e registro da aposentadoria voluntária integral especial por tempo de contribuição da servidora pública estadual Marizete Correia de Andrade Carneiro, CPF nº 308.350.892-15, matrícula nº 210366-1, no cargo de Professora P2, 30 horas, Classe II, Referência J, do Quadro de Pessoal do Estado da Secretaria de Estado de Educação, Cultura e Esportes, concedida através da Portaria nº 613 de 20/09/2022, com fundamento no artigo 5º, §1º, da Emenda Constitucional do Estado nº 52, de 02 de dezembro de 2019 e §2º, inciso I, do mesmo artigo;\n",
    "2. pelo encaminhamento de cópia do processo ao Instituto de Previdência do Estado do Acre - ACREPREVIDÊNCIA para as providências cabíveis e para que promova a ciência da servidora interessada.\n",
    "3. após, pelo arquivamento dos autos.\n",
    "\n",
    "É como VOTO.\n",
    "\n",
    "Acordão:\n",
    "Vistos, relatados e discutidos os autos do processo acima identificado, na 127ª Sessão Ordinária Virtual, ACORDAM os Membros da 2ª Câmara do Tribunal de Contas do Estado do Acre, à unanimidade, nos termos do voto do Conselheiro-Relator, com fulcro no artigo 61, inciso III, da Constituição Estadual: 1) pela legalidade e registro da aposentadoria voluntária integral especial por tempo de contribuição da servidora pública estadual Marizete Correia de Andrade Carneiro, CPF nº 308.350.892-15, matrícula nº 210366-1, com fundamento no artigo 5º, §1º, da Emenda Constitucional do Estado nº 52, de 02 de dezembro de 2019 e §2º, inciso I, do mesmo artigo, no cargo de Professora P2, 30 horas, Classe II, Referência J, do Quadro de Pessoal do Estado da Secretaria de Estado de Educação, Cultura e Esportes, concedida através da Portaria nº 613 de 20/09/2022; 2) pelo encaminhamento de cópia do processo ao Instituto de Previdência do Estado do Acre - ACREPREVIDÊNCIA para as providências cabíveis e para que promova a ciência da servidora interessada. Após as formalidades de estilo, pelo arquivamento dos autos.\n",
    "\"\"\""
   ]
  },
  {
   "cell_type": "code",
   "execution_count": 5,
   "metadata": {},
   "outputs": [],
   "source": [
    "example3 = \"\"\"\n",
    "Relatório:\n",
    "1. Tratam os autos da aposentadoria da servidora pública da Secretaria de Educação do Estado do Acre, Sra. Maria do Perpétuo Socorro Diniz Andrade, matrícula nº 266027-1, no cargo de Professora, P2- 30 horas, Classe II, Referência J.\n",
    "2. A servidora foi admitida na Secretaria Estadual de Educação por concurso público em 1º de dezembro de 1993 para ocupar o cargo de Professora PE5, 40 horas. Conforme fichas financeiras da servidora esta recebeu todas as promoções e progressões da carreira do magistério, nos termos da Lei complementar n. 67/1999 e, nos termos desta Lei foi enquadrada como professora P2, 25 horas, a partir de 16 de junho 1999. Posteriormente, por meio da LC n. 91, de 14.02.2001 que alterou a LC n. 67/99 a servidora foi enquadrada como Professora Nível Superior P2, 30 horas a partir de 1º de fevereiro de 2001. Após a servidora comprovar a formação superior para o exercício do cargo.\n",
    "3. A servidora requereu a aposentadoria em 27 de novembro de 2018, fl. 42, pelo exercício do magistério na Escola Dom Julio Mattioli, no município de Sena Madureira, tendo sido efetuada a concessão de aposentadoria através da Portaria nº 79 de 26/01/2023 do Instituto de Previdência do Estado do Acre, publicada no DOE nº 13.464, de 30/01/2023;\n",
    "4. O tempo de serviço líquido, apurado para fins da aposentadoria especial do magistério foi de 30 anos e 259 dias de contribuição, atendendo os requisitos para aposentadoria na modalidade voluntária integral especial por tempo de contribuição, nos termos do art. 4º da Emenda Constitucional nº 52, de 2 de dezembro de 2019, com proventos integrais de acordo com o § 6º, inciso I, do mesmo artigo.\n",
    "5. A 4º IGCE deste Tribunal afirma, às fls. 203/204, que a servidora preenche todos os requisitos constitucionais para fazer jus à aposentadoria com enquadramento da fixação dos proventos em P2- 30 horas, Classe II, Referência J, do quadro de pessoal da Secretaria estadual de Educação, com benefício iniciado em 30/01/2023, no valor de R$ 6.215,78 (seis mil duzentos e quinze reais e setenta e oito centavos)¹, conforme ao enquadramento final da carreira, mencionado no Ato de Fixação dos Proventos à fl. 21;\n",
    "6. O Ministério Público de Contas pronunciou-se à fl. 262, através da sua Ilustre Procuradora, Dra. Anna Helena de Azevedo Lima.\n",
    "\n",
    "É o Relatório.\n",
    "\n",
    "Voto:\n",
    "A EXMA. SENHORA CONSELHEIRA NALUH MARIA LIMA GOUVEIA (Relatora):\n",
    "\n",
    "1. Trata-se de apreciação da legalidade e registro da aposentadoria da servidora pública da Secretaria de Educação do Estado do Acre, Sra. Maria do Perpétuo Socorro Diniz Andrade, matrícula nº 266027-1, no cargo de Professora de Nível Superior, 30 horas, Classe II, Referência J.\n",
    "2. Posto isso, e tudo o que mais consta dos autos, e considerando a regularidade da documentação apresentada, assim como sua conformidade com a legislação vigente pertinente, inclusive levando em conta as análises do corpo técnico e do Ministério Público de Contas, e com fundamento no art. 61, inciso III, da Constituição Estadual de 1989, VOTO:\n",
    "\n",
    "1) Reconhecer a legalidade e, consequentemente, registrar neste Tribunal de Contas a aposentadoria da Sra. Maria do Perpétuo Socorro Diniz Andrade, matrícula n. 229962-1, no cargo de Professora, P2-30 horas, Classe II, Referência J, do quadro de pessoal da Secretaria Estadual de Educação do Acre, concedida por meio da Portaria n. 79, de 26 de janeiro de 2023, na modalidade aposentadoria voluntária Especial por tempo de contribuição, nos termos art. 4º, da Emenda Constitucional nº 52, de 2 de dezembro de 2019, com proventos integrais, de acordo com o § 6º, inciso I, do mesmo artigo, especificados no Ato de Fixação à fl. 21;\n",
    "2) Encaminhar cópia do Acórdão proferido ao Instituto de Previdência do Estado do Acre - ACREPREVIDÊNCIA, para que tome as providências necessárias, inclusive dando ciência à interessada do teor da decisão, e\n",
    "3) Após as formalidades de estilo, pelo arquivamento dos autos.\n",
    "\n",
    "É como VOTO.\n",
    "\n",
    "Acordão:\n",
    "Vistos, relatados e discutidos os autos do processo acima identificado, acordam os Membros da 1ª Câmara do Tribunal de Contas do Estado do Acre na 119ª Sessão Ordinária Virtual, por unanimidade, nos termos do voto da Conselheira-Relatora, em:\n",
    "\n",
    "1. Reconhecer a legalidade e, consequentemente, registrar neste Tribunal de Contas a aposentadoria da Sra. Maria do Perpétuo Socorro Diniz Andrade, matrícula n. 266027-1, no cargo de Professora, P2- 30 horas, Classe II, Referência J, do quadro de pessoal da Secretaria Estadual de Educação do Acre, concedida por meio da Portaria n. 79, de 26 de janeiro de 2023, na modalidade aposentadoria voluntária Especial por tempo de contribuição, nos termos art. 4º, da Emenda Constitucional nº 52, de 2 de dezembro de 2019, com proventos integrais, de acordo com o § 6º, inciso I, do mesmo artigo, especificados no Ato de Fixação à fl. 21;\n",
    "2. Encaminhar cópia do Acórdão proferido ao Instituto de Previdência do Estado do Acre- ACREPREVIDÊNCIA, para que tome as providências necessárias, inclusive dando ciência à interessada do teor da decisão. Após as formalidades de estilo, pelo arquivamento dos autos.\n",
    "\"\"\""
   ]
  },
  {
   "cell_type": "code",
   "execution_count": 6,
   "metadata": {},
   "outputs": [],
   "source": [
    "example4 = \"\"\"\n",
    "Relatório:\n",
    "1. Trata-se de apreciação da legalidade e registro da aposentadoria voluntária por tempo de contribuição da SR.ª LUCÉLIA NAGÃO GONÇALVES, matriculada na Secretaria de Estado de Educação e Esporte sob o número 9130438-3, com proventos calculados pela média1, no cargo de PROFESSORA DE NÍVEL SUPERIOR, 30 HORAS, CLASSE II, REFERÊNCIA “F”, consoante se vê pela Portaria n. 863, de 07 de julho de 2017 (DOE n. 12.092, de 11-07-2017) - fls. 72/73, apresentada nesta Corte em 13-08-20192.\n",
    "\n",
    "2. Quanto aos proventos, foram fixados em R$ 3.423,40 (três mil quatrocentos e vinte e três reais e quarenta centavos), no cargo de PROFESSORA DE NÍVEL SUPERIOR, 30 HORAS, CLASSE II, REFERÊNCIA “F”, nos termos do Ato de Fixação dos Proventos à fl. 683, de acordo com o previsto no Anexo VII, da Lei Complementar Estadual n. 67, de 29-06-1999, modificado pela LCE n. 330, de 06 de março de 20174.\n",
    "\n",
    "3. Após o registro, a autuação e a distribuição, os autos foram enviados à DIRETORIA DE AUDITORIA FINANCEIRA E ORÇAMENTÁRIA, que se manifestou por meio da 4ª INSPETORIA GERAL DE CONTROLE EXTERNO, pela admissibilidade da concessão de aposentadoria, em razão do preenchimento dos requisitos legais pertinentes à matéria - fls. 80/83.\n",
    "\n",
    "4. O MINISTÉRIO PÚBLICO DE CONTAS, por meio de seu i. Procurador, Dr. João Izidro de Melo Neto, pronunciou-se à fl. 120.\n",
    "\n",
    "5. É o breve Relatório.\n",
    "\n",
    "Voto:\n",
    "A EXMA. SENHORA CONSELHEIRA DULCINÉA BENÍCIO DE ARAÚJO (Relatora):\n",
    "\n",
    "1. Trata-se de apreciação da legalidade e registro da concessão de aposentadoria à SR.ª LUCÉLIA NAGÃO GONÇALVES, com proventos calculados pela média, no cargo de PROFESSORA DE NÍVEL SUPERIOR, 30 HORAS, CLASSE II, REFERÊNCIA “F”.\n",
    "2. Observa-se que após a edição da LCE n. 330/2017, que modificou o § 8º do artigo 29 da LCE n. 67/1999, foi determinado o reenquadramento dos servidores, observando-se o interstício de trinta e três meses para cada progressão.\n",
    "3. Ante todo o exposto, e tudo o que mais consta dos autos, bem como considerando a regularidade da documentação apresentada e a conformidade do ato de concessão com o estabelecido na legislação em vigor, inclusive levando-se em conta as manifestações do corpo técnico e do Ministério Público de Contas, VOTO, com base no artigo 61, inciso III, da Constituição Estadual de 1989, pelo:\n",
    "   3.1 reconhecimento da LEGALIDADE e, consequente, REGISTRO neste Tribunal de Contas, da aposentadoria voluntária por tempo de contribuição da SR.ª LUCÉLIA NAGÃO GONÇALVES, matrícula n. 9130438-3, no cargo de PROFESSORA DE NÍVEL SUPERIOR, 30 HORAS, CLASSE II, REFERÊNCIA “F”, do quadro de pessoal do Estado da Secretaria de Educação e Esporte, nos termos do artigo 40, § 1º, inciso III, alínea “a”, da Constituição Federal, com a redação dada pela Emenda Constitucional n° 41, de 19 de dezembro de 20035, com proventos fixados em R$ 3.423,40 (três mil quatrocentos e vinte e três reais e quarenta centavos), nos termos do Ato de Fixação dos Proventos à fl. 68, de acordo com o previsto no Anexo VII, da Lei Complementar Estadual n. 67, de 29-06-1999, modificado pela LCE n. 330, de 06 de março de 2017;\n",
    "   3.2. ENCAMINHAMENTO de cópia do processo ao Instituto de Previdência do Estado do Acre, para proceder à ciência da interessada do teor da decisão, bem como para que observe o artigo 11, da Resolução-TCE n. 103, de 14-09-2016; e\n",
    "   3.3. finalmente, após as formalidades de estilo, pelo ARQUIVAMENTO dos autos.\n",
    "\n",
    "4. É como VOTO.\n",
    "\n",
    "Acordão:\n",
    "Vistos, relatados e discutidos os autos do processo acima identificado, ACORDAM os Membros da 2ª Câmara do Tribunal de Contas do Estado do Acre, na 127ª Sessão Ordinária Virtual, POR UNANIMIDADE, nos termos do voto da Conselheira-Relatora, em:\n",
    "\n",
    "1. RECONHECER a LEGALIDADE e, consequentemente, REGISTRAR neste Tribunal de Contas, a aposentadoria voluntária por tempo de contribuição da SR.ª LUCÉLIA NAGÃO GONÇALVES, matrícula n. 9130438-3, com proventos calculados pela média, concedida por meio da Portaria n. 863, de 07 de julho de 2017, com fundamento no artigo 40, § 1º, inciso III, alínea “a”, da Constituição Federal, com a redação dada pela Emenda Constitucional n° 41, de 19 de dezembro de 2003, no cargo de PROFESSORA DE NÍVEL SUPERIOR, 30 HORAS, CLASSE II, REFERÊNCIA “F”, do quadro de pessoal do Estado da Secretaria de Educação e Esporte, com proventos fixados em R$ 3.423,40 (três mil quatrocentos e vinte e três reais e quarenta centavos), nos termos do Ato de Fixação dos Proventos à fl. 68, de acordo com o previsto no Anexo VII, da Lei Complementar Estadual n. 67, de 29-06-1999, modificado pela LCE n. 330, de 06 de março de 2017;\n",
    "2. ENCAMINHAR cópia do processo ao Instituto de Previdência do Estado do Acre, para proceder à ciência da interessada do teor da decisão, bem como para que observe o artigo 11, da Resolução-TCE n. 103, de 14-09-2016; e c) ARQUIVAR os autos, após as formalidades de estilo.\n",
    "\"\"\""
   ]
  },
  {
   "cell_type": "code",
   "execution_count": 7,
   "metadata": {},
   "outputs": [],
   "source": [
    "example5 = \"\"\"\n",
    "Relatório:\n",
    "1. Tratam os autos da aposentadoria da servidora pública da Secretaria de Educação do Estado do Acre, Sra Arinete Oliveira Souza Barros, matrícula nº 244503-1, no cargo de Professora, P2- 30 horas, Classe II, Referência J.\n",
    "2. A servidora foi admitida na Secretaria Estadual de Educação por concurso público em 22 de maio de 1992 para ocupar o cargo de Professora PS2. Posteriormente foi enquadrada no cargo P1, 25 horas, por meio da Portaria n. 935, de 25/01/2002, recebendo todas as promoções e progressões da carreira do magistério, nos termos da Lei complementar n. 67/1999.\n",
    "3. Com base na Lei Complementar n. 213, de 18/06/2010, obteve progressão funcional para o cargo de professora de Nível Superior 30 horas, a partir de outubro daquele mesmo ano. Após a servidora comprovar a formação em nível superior em pedagogia, concluindo no ano de 2010 e especialização em 2011.\n",
    "4. A servidora requereu a aposentadoria em 2 de janeiro de 2018, tendo sido efetuada a concessão de aposentadoria através da Portaria nº 242 de 02/04/2018 do Instituto de Previdência do Estado do Acre, publicada no DOE nº 12.272 de 03/04/2018;\n",
    "5. O tempo de serviço líquido, apurado para fins da aposentadoria especial do magistério foi de 26 anos e 221 dias de contribuição, atendendo os requisitos para aposentadoria na modalidade voluntária integral especial por tempo de contribuição, nos termos do art. 6 º, incisos I, II, III e IV, da Emenda Constitucional nº 41, de 19 de dezembro de 2003, c/c art. 2º, da Emenda Constitucional n.º 47, de 05 de julho de 2005, e art. 95 da Lei Complementar Estadual n. 154/2005;\n",
    "\n",
    "6. A 4º IGCE deste Tribunal afirma, às fls. 62/63 que a servidora preenche todos os requisitos constitucionais para fazer jus à aposentadoria com enquadramento da fixação dos proventos em P2- 30 horas, Classe II, Referência J, do quadro de pessoal da Secretaria estadual de Educação, com benefício iniciado em 03/04/2018, no valor de R$ 5.725,39 (cinco mil setecentos e vinte e cinco reais e trinta e nove centavos)1, conforme ao enquadramento final da carreira, mencionado no Ato de Fixação dos Proventos à fl. 59, e\n",
    "\n",
    "7. O Ministério Público de Contas pronunciou-se à fl. 122, através do seu Ilustre Procurador, Dr. Sérgio Cunha Mendonça.\n",
    "\n",
    "É o Relatório.\n",
    "\n",
    "Voto:\n",
    "A EXMA. SENHORA CONSELHEIRA NALUH MARIA LIMA GOUVEIA (Relatora):\n",
    "\n",
    "1. Trata-se de apreciação da legalidade e registro da aposentadoria da servidora pública da Secretaria de Educação do Estado do Acre, Sra. Arinete Oliveira Souza Barros, matrícula nº 244503-1, no cargo de Professora de Nível Superior, 30 horas, Classe II, Referência J.\n",
    "2. Posto isso, e tudo o que mais consta dos autos, e considerando a regularidade da documentação apresentada, assim como sua conformidade com a legislação vigente pertinente, inclusive levando em conta as análises do corpo técnico e do Ministério Público de Contas, e com fundamento no art. 61, inciso III, da Constituição Estadual de 1989, VOTO:\n",
    "\n",
    "1) Reconhecer a legalidade e, consequentemente, registrar neste Tribunal de Contas a aposentadoria da Sra. Arinete Oliveira Souza Barros, matrícula n. 244503-1, no cargo de Professora, P2- 30 horas, Classe II, Referência J, do quadro de pessoal da Secretaria Estadual de Educação do Acre, concedida por meio da Portaria n. 242, de 2 de abril de 2018, na modalidade aposentadoria voluntaria Especial por tempo de contribuição, nos termos do art. 6º, incisos I, II, III e IV, da Emenda Constitucional nº 41, de 19 de dezembro de 2003, c/c art. 2º, da Emenda Constitucional n.º 47, de 05 de julho de 2005, e art. 95 da Lei Complementar Estadual n. 154/2005, com proventos estabelecidos no Ato de Fixação à fl. 59;\n",
    "\n",
    "2) Encaminhar cópia do Acórdão proferido ao Instituto de Previdência do Estado do Acre - ACREPREVIDÊNCIA, para que tome as providências necessárias, inclusive dando ciência à interessada do teor da decisão, e\n",
    "\n",
    "3) Após as formalidades de estilo, pelo arquivamento dos autos.\n",
    "\n",
    "É como VOTO.\n",
    "\n",
    "Acordão:\n",
    "Vistos, relatados e discutidos os autos do processo acima identificado, acordam os Membros da 1ª Câmara do Tribunal de Contas do Estado do Acre na 119ª Sessão Ordinária Virtual, por unanimidade, nos termos do voto da Conselheira-Relatora, em:\n",
    "1. Reconhecer a legalidade e, consequentemente, registrar neste Tribunal de Contas a aposentadoria da Sra. Arinete Oliveira Souza Barros, matrícula n. 244503-1, no cargo de Professora, P2- 30 horas, Classe II, Referência J, do quadro de pessoal da Secretaria Estadual de Educação do Acre, concedida por meio da Portaria n. 242, de 2 de abril de 2018, na modalidade aposentadoria voluntária Especial por tempo de contribuição, nos termos do art. 6º, incisos I, II, III e IV, da Emenda Constitucional nº 41, de 19 de dezembro de 2003, c/c art. 2º, da Emenda Constitucional n.º 47, de 05 de julho de 2005, e art. 95 da Lei Complementar Estadual n. 154/2005, com proventos estabelecidos no Ato de Fixação à fl. 59;\n",
    "2. Encaminhar cópia do Acórdão proferido ao Instituto de Previdência do Estado do Acre- ACREPREVIDÊNCIA, para que tome as providências necessárias, inclusive dando ciência à interessada do teor da decisão. Após as formalidades de estilo, pelo arquivamento dos autos.\n",
    "\"\"\""
   ]
  },
  {
   "cell_type": "markdown",
   "metadata": {},
   "source": [
    "### Promps Definition"
   ]
  },
  {
   "cell_type": "code",
   "execution_count": 8,
   "metadata": {},
   "outputs": [],
   "source": [
    "base_prompt = \"\"\"\n",
    "Você é um assistente jurídico especializado na redação de acórdãos do Tribunal de Contas do Estado do Acre. A partir das informações fornecidas, você deve elaborar um acórdão completo que siga uma estrutura clara, coesa e que inclua os seguintes elementos em um texto corrido:\n",
    "\n",
    "1. **Cabeçalho**: Inicie o acórdão com o nome do tribunal (Tribunal de Contas do Estado do Acre), o número do processo e a data de julgamento.\n",
    "2. **Relator e Membros do Órgão Julgador**: Identifique o relator do processo, bem como os demais membros do órgão colegiado (câmara, turma, seção, órgão especial, plenário etc.) que participaram do julgamento. Informe também o resultado da votação (unânime ou com voto vencido).\n",
    "3. **Resumo dos Fatos**: Resuma os fatos principais do processo, incluindo as alegações, os documentos relevantes e os argumentos apresentados pelas partes envolvidas.\n",
    "4. **Fundamentação**: Apresente os fundamentos jurídicos da decisão. Isso deve incluir a análise das questões de direito envolvidas, as normas aplicáveis e a interpretação dos membros do órgão colegiado.\n",
    "5. **Decisão**: Expresse de forma clara e objetiva a decisão do colegiado, indicando os resultados do julgamento e as providências a serem tomadas, caso aplicável (por exemplo, aprovação ou reprovação de contas, determinação de devolução de recursos, etc.).\n",
    "6. **Voto Vencido** (se houver): Caso a votação não seja unânime, transcreva o voto vencido de um dos membros, expondo sua argumentação divergente.\\n\\n\n",
    "\"\"\""
   ]
  },
  {
   "cell_type": "code",
   "execution_count": 9,
   "metadata": {},
   "outputs": [],
   "source": [
    "zero_shot_prompt = base_prompt + \"\"\"\n",
    "Com base no relatório e no voto abaixo, redija o texto do acordão:\n",
    "\n",
    "Relatório:\n",
    "{relatorio}\n",
    "\n",
    "Voto:\n",
    "{voto}\n",
    "\n",
    "Acordão:\n",
    "\"\"\""
   ]
  },
  {
   "cell_type": "code",
   "execution_count": 10,
   "metadata": {},
   "outputs": [],
   "source": [
    "one_shot_prompt = base_prompt + \"\"\"\n",
    "Exemplo:\n",
    "{example}\n",
    "\n",
    "A partir do exemplo acima, \n",
    "\"\"\" + zero_shot_prompt"
   ]
  },
  {
   "cell_type": "code",
   "execution_count": 11,
   "metadata": {},
   "outputs": [],
   "source": [
    "def generate_few_shot_prompt(examples):\n",
    "    prompt = base_prompt\n",
    "    for i in range(len(examples)):\n",
    "        prompt += f\"\"\"\n",
    "        Exemplo {i + 1}:\n",
    "        {examples[i]}\\n\\n\n",
    "        \"\"\"\n",
    "    return prompt + \"\"\"\n",
    "        A partir dos exemplos acima, \n",
    "        \"\"\" + zero_shot_prompt"
   ]
  },
  {
   "cell_type": "markdown",
   "metadata": {},
   "source": [
    "### Experiment"
   ]
  },
  {
   "cell_type": "code",
   "execution_count": 12,
   "metadata": {},
   "outputs": [],
   "source": [
    "keys = ['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', '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', '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', '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', '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', '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', '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', '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', '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']"
   ]
  },
  {
   "cell_type": "code",
   "execution_count": 12,
   "metadata": {},
   "outputs": [],
   "source": [
    "from concurrent.futures import ProcessPoolExecutor, TimeoutError\n",
    "import time\n",
    "\n",
    "def invoke_model(model, prompt):\n",
    "     with ProcessPoolExecutor() as executor:\n",
    "        future = executor.submit(model.invoke, prompt)\n",
    "        try:\n",
    "            return future.result(timeout=120)\n",
    "        except TimeoutError:\n",
    "            raise TimeoutError(\"A execução excedeu o tempo limite.\")\n",
    "        except Exception as e:\n",
    "            raise RuntimeError(f\"Erro ao invocar o modelo: {e}\")\n",
    "\n",
    "def generate(model, prompt, temperature, use_ollama = True):\n",
    "    if use_ollama:\n",
    "        client = ChatOllama(\n",
    "            model=model,\n",
    "            temperature=temperature,\n",
    "            timeout=120\n",
    "        )\n",
    "        model = (client | StrOutputParser())\n",
    "        for attempt in range(3):\n",
    "            try:\n",
    "                return invoke_model(model, prompt)\n",
    "            except TimeoutError:\n",
    "                print(f\"Timeout na tentativa {attempt + 1}. Retentando...\")\n",
    "            except Exception as e:\n",
    "                print(f\"Erro ao invocar o modelo: {e}\")\n",
    "                break\n",
    "    else:\n",
    "        random.shuffle(keys)\n",
    "        for key in keys:\n",
    "            try:\n",
    "                client = Groq(api_key=key)\n",
    "                response = client.chat.completions.create (\n",
    "                    messages=[{\"role\": \"user\", \"content\": prompt}],\n",
    "                    model=model,\n",
    "                    temperature=temperature,\n",
    "                )\n",
    "                return response.choices[0].message.content\n",
    "            except:\n",
    "                print(\"key expirada\")"
   ]
  },
  {
   "cell_type": "code",
   "execution_count": 13,
   "metadata": {},
   "outputs": [],
   "source": [
    "examples = [example1, example2, example3, example4, example5]\n",
    "models = [\"llama3.1\"]\n",
    "temperatures = [0.25, 0.5, 0.75, 1.0]\n",
    "# n_exemples = [0, 1, 2, 3, 4, 5]\n",
    "n_exemples = [2, 3]"
   ]
  },
  {
   "cell_type": "code",
   "execution_count": 15,
   "metadata": {},
   "outputs": [
    {
     "name": "stderr",
     "output_type": "stream",
     "text": [
      "  0%|          | 0/1 [00:00<?, ?it/s]\n",
      "  0%|          | 0/1 [00:00<?, ?it/s]\n",
      "  0%|          | 0/1 [00:00<?, ?it/s]\n",
      " 92%|█████████▏| 11/12 [03:27<00:18, 18.86s/it]\n",
      " 17%|█▋        | 26/150 [08:13<38:40, 18.72s/it]"
     ]
    },
    {
     "name": "stdout",
     "output_type": "stream",
     "text": [
      "Timeout na tentativa 1. Retentando...\n"
     ]
    },
    {
     "name": "stderr",
     "output_type": "stream",
     "text": [
      " 37%|███▋      | 56/150 [47:30<47:06, 30.07s/it]   "
     ]
    },
    {
     "name": "stdout",
     "output_type": "stream",
     "text": [
      "Timeout na tentativa 1. Retentando...\n"
     ]
    },
    {
     "name": "stderr",
     "output_type": "stream",
     "text": [
      " 40%|████      | 60/150 [51:58<1:00:47, 40.52s/it]"
     ]
    },
    {
     "name": "stdout",
     "output_type": "stream",
     "text": [
      "Timeout na tentativa 1. Retentando...\n"
     ]
    },
    {
     "name": "stderr",
     "output_type": "stream",
     "text": [
      " 45%|████▍     | 67/150 [1:10:05<1:51:30, 80.61s/it] "
     ]
    },
    {
     "name": "stdout",
     "output_type": "stream",
     "text": [
      "Timeout na tentativa 1. Retentando...\n"
     ]
    },
    {
     "name": "stderr",
     "output_type": "stream",
     "text": [
      " 86%|████████▌ | 129/150 [1:36:25<05:15, 15.01s/it]  "
     ]
    },
    {
     "name": "stdout",
     "output_type": "stream",
     "text": [
      "Timeout na tentativa 1. Retentando...\n"
     ]
    },
    {
     "name": "stderr",
     "output_type": "stream",
     "text": [
      " 95%|█████████▍| 142/150 [1:52:34<05:04, 38.07s/it]"
     ]
    },
    {
     "name": "stdout",
     "output_type": "stream",
     "text": [
      "Timeout na tentativa 1. Retentando...\n"
     ]
    },
    {
     "name": "stderr",
     "output_type": "stream",
     "text": [
      " 99%|█████████▉| 149/150 [2:23:14<00:57, 57.68s/it] \n",
      "  3%|▎         | 4/150 [01:06<41:16, 16.96s/it]"
     ]
    },
    {
     "name": "stdout",
     "output_type": "stream",
     "text": [
      "Timeout na tentativa 1. Retentando...\n"
     ]
    },
    {
     "name": "stderr",
     "output_type": "stream",
     "text": [
      " 15%|█▍        | 22/150 [13:19<58:00, 27.19s/it]  "
     ]
    },
    {
     "name": "stdout",
     "output_type": "stream",
     "text": [
      "Timeout na tentativa 1. Retentando...\n"
     ]
    },
    {
     "name": "stderr",
     "output_type": "stream",
     "text": [
      " 37%|███▋      | 56/150 [55:04<47:25, 30.28s/it]   "
     ]
    },
    {
     "name": "stdout",
     "output_type": "stream",
     "text": [
      "Timeout na tentativa 1. Retentando...\n"
     ]
    },
    {
     "name": "stderr",
     "output_type": "stream",
     "text": [
      " 44%|████▍     | 66/150 [1:27:28<2:08:00, 91.43s/it] "
     ]
    },
    {
     "name": "stdout",
     "output_type": "stream",
     "text": [
      "Timeout na tentativa 1. Retentando...\n"
     ]
    },
    {
     "name": "stderr",
     "output_type": "stream",
     "text": [
      " 99%|█████████▉| 149/150 [1:55:45<00:46, 46.61s/it]  \n",
      "  9%|▉         | 14/150 [03:53<38:44, 17.09s/it]"
     ]
    },
    {
     "name": "stdout",
     "output_type": "stream",
     "text": [
      "Timeout na tentativa 1. Retentando...\n"
     ]
    },
    {
     "name": "stderr",
     "output_type": "stream",
     "text": [
      " 57%|█████▋    | 85/150 [30:58<15:55, 14.70s/it]  "
     ]
    },
    {
     "name": "stdout",
     "output_type": "stream",
     "text": [
      "Timeout na tentativa 1. Retentando...\n"
     ]
    },
    {
     "name": "stderr",
     "output_type": "stream",
     "text": [
      " 85%|████████▌ | 128/150 [45:17<06:09, 16.78s/it]"
     ]
    },
    {
     "name": "stdout",
     "output_type": "stream",
     "text": [
      "Timeout na tentativa 1. Retentando...\n"
     ]
    },
    {
     "name": "stderr",
     "output_type": "stream",
     "text": [
      " 99%|█████████▉| 149/150 [54:09<00:21, 21.81s/it]\n",
      "  9%|▊         | 13/150 [03:22<37:00, 16.21s/it]"
     ]
    },
    {
     "name": "stdout",
     "output_type": "stream",
     "text": [
      "Timeout na tentativa 1. Retentando...\n"
     ]
    },
    {
     "name": "stderr",
     "output_type": "stream",
     "text": [
      " 24%|██▍       | 36/150 [14:02<40:37, 21.38s/it]  "
     ]
    },
    {
     "name": "stdout",
     "output_type": "stream",
     "text": [
      "Timeout na tentativa 1. Retentando...\n"
     ]
    },
    {
     "name": "stderr",
     "output_type": "stream",
     "text": [
      " 79%|███████▉  | 119/150 [42:51<09:09, 17.71s/it] "
     ]
    },
    {
     "name": "stdout",
     "output_type": "stream",
     "text": [
      "Timeout na tentativa 1. Retentando...\n"
     ]
    },
    {
     "name": "stderr",
     "output_type": "stream",
     "text": [
      " 99%|█████████▉| 149/150 [54:30<00:21, 21.95s/it]\n"
     ]
    }
   ],
   "source": [
    "for n_example, model, temp in itertools.product(n_exemples, models, temperatures):\n",
    "    results = []\n",
    "    filename = f'../results/llama-3.1-8b-instant-{n_example}-examples-temperature-{temp}.csv'\n",
    "    backup_df = pd.DataFrame()\n",
    "    if os.path.isfile(filename):\n",
    "        backup_df = pd.read_csv(filename)\n",
    "        results = backup_df.to_dict('records')\n",
    "    if len(backup_df) < 150:\n",
    "        with tqdm.tqdm(total=len(df)-len(results), smoothing=0.1) as pbar:\n",
    "            for idx, row in df.iterrows():\n",
    "                if row['acordao'] not in list(map(lambda x: x['acordao'], results)):\n",
    "                    relatorio = row[\"relatorio\"]\n",
    "                    voto = row[\"voto\"]\n",
    "                    prompt = \"\"\n",
    "                    if n_example == 0:\n",
    "                        prompt = zero_shot_prompt.format(\n",
    "                            relatorio=relatorio,\n",
    "                            voto=voto,\n",
    "                        )\n",
    "                    elif n_example == 1:\n",
    "                        prompt = one_shot_prompt.format(\n",
    "                            relatorio=relatorio,\n",
    "                            voto=voto,\n",
    "                            example=examples[0]\n",
    "                        )\n",
    "                    else:\n",
    "                        prompt = generate_few_shot_prompt(examples[:n_example]).format(\n",
    "                            relatorio=relatorio,\n",
    "                            voto=voto,\n",
    "                        )\n",
    "\n",
    "                    response = \"\"\n",
    "                    while True:\n",
    "                        try:\n",
    "                            response = generate(model, prompt, temp)\n",
    "                            break\n",
    "                        except Exception as e:\n",
    "                            print('Error: ' + str(e) + ' (Retrying)')\n",
    "                            time.sleep(10)\n",
    "\n",
    "                    results.append({\n",
    "                        \"relatorio\": relatorio,\n",
    "                        \"voto\": voto,\n",
    "                        \"acordao\": row['acordao'],\n",
    "                        \"generated\": response,\n",
    "                        \"model\": model,\n",
    "                        'n_examples': n_example,\n",
    "                        \"temperature\": temp\n",
    "                    })\n",
    "\n",
    "                    pd.DataFrame(results).to_csv(filename, index=False)\n",
    "                    pbar.update(1)"
   ]
  },
  {
   "cell_type": "code",
   "execution_count": 14,
   "metadata": {},
   "outputs": [
    {
     "data": {
      "text/html": [
       "<div>\n",
       "<style scoped>\n",
       "    .dataframe tbody tr th:only-of-type {\n",
       "        vertical-align: middle;\n",
       "    }\n",
       "\n",
       "    .dataframe tbody tr th {\n",
       "        vertical-align: top;\n",
       "    }\n",
       "\n",
       "    .dataframe thead th {\n",
       "        text-align: right;\n",
       "    }\n",
       "</style>\n",
       "<table border=\"1\" class=\"dataframe\">\n",
       "  <thead>\n",
       "    <tr style=\"text-align: right;\">\n",
       "      <th></th>\n",
       "      <th>acordao</th>\n",
       "      <th>relatorio</th>\n",
       "      <th>voto</th>\n",
       "      <th>id</th>\n",
       "    </tr>\n",
       "  </thead>\n",
       "  <tbody>\n",
       "    <tr>\n",
       "      <th>0</th>\n",
       "      <td>Vistos, relatados e discutidos os autos do pro...</td>\n",
       "      <td>Tratam os autos da aposentadoria da servidora ...</td>\n",
       "      <td>Trata-se de apreciação da legalidade e registr...</td>\n",
       "      <td>0</td>\n",
       "    </tr>\n",
       "    <tr>\n",
       "      <th>1</th>\n",
       "      <td>Vistos, relatados e discutidos os autos do pro...</td>\n",
       "      <td>1. Tratam os autos da Prestação de Contas do F...</td>\n",
       "      <td>A EXMA. SENHORA CONSELHEIRA DULCINÉA BENÍCIO D...</td>\n",
       "      <td>1</td>\n",
       "    </tr>\n",
       "    <tr>\n",
       "      <th>2</th>\n",
       "      <td>Vistos, relatados e discutidos os autos do pro...</td>\n",
       "      <td>1. Tratam os autos da Prestação de Contas da S...</td>\n",
       "      <td>A EXMA. SENHORA CONSELHEIRA DULCINÉA BENÍCIO D...</td>\n",
       "      <td>2</td>\n",
       "    </tr>\n",
       "    <tr>\n",
       "      <th>3</th>\n",
       "      <td>Vistos, relatados e discutidos os autos do pro...</td>\n",
       "      <td>1. Trata-se os autos de Denúncia, oriunda do o...</td>\n",
       "      <td>A EXMA. SENHORA CONSELHEIRA NALUH MARIA LIMA G...</td>\n",
       "      <td>3</td>\n",
       "    </tr>\n",
       "    <tr>\n",
       "      <th>4</th>\n",
       "      <td>Vistos, relatados e discutidos os autos do pro...</td>\n",
       "      <td>1. Trata o presente processo da aposentadoria ...</td>\n",
       "      <td>O EXMO. SENHOR CONSELHEIRO ANTONIO CRISTOVÃO C...</td>\n",
       "      <td>4</td>\n",
       "    </tr>\n",
       "    <tr>\n",
       "      <th>...</th>\n",
       "      <td>...</td>\n",
       "      <td>...</td>\n",
       "      <td>...</td>\n",
       "      <td>...</td>\n",
       "    </tr>\n",
       "    <tr>\n",
       "      <th>145</th>\n",
       "      <td>Vistos, relatados e discutidos os autos do pro...</td>\n",
       "      <td>1. Tratam os autos da Prestação de Contas do G...</td>\n",
       "      <td>O EXMO. SENHOR CONSELHEIRO ANTONIO CRISTOVÃO C...</td>\n",
       "      <td>145</td>\n",
       "    </tr>\n",
       "    <tr>\n",
       "      <th>146</th>\n",
       "      <td>Vistos, relatados e discutidos os autos do pro...</td>\n",
       "      <td>1. Tratam os autos de Denúncia protocolada na ...</td>\n",
       "      <td>O EXMO. SENHOR CONSELHEIRO ANTONIO CRISTOVÃO C...</td>\n",
       "      <td>146</td>\n",
       "    </tr>\n",
       "    <tr>\n",
       "      <th>147</th>\n",
       "      <td>Vistos, relatados e discutidos os autos do pro...</td>\n",
       "      <td>Tratam os autos da aposentadoria da servidora ...</td>\n",
       "      <td>Trata-se de apreciação da legalidade e registr...</td>\n",
       "      <td>147</td>\n",
       "    </tr>\n",
       "    <tr>\n",
       "      <th>148</th>\n",
       "      <td>Vistos, relatados e discutidos os autos do pro...</td>\n",
       "      <td>1. Trata o presente processo da aposentadoria ...</td>\n",
       "      <td>A EXMA. SENHORA CONSELHEIRA-SUBSTITUTA MARIA D...</td>\n",
       "      <td>148</td>\n",
       "    </tr>\n",
       "    <tr>\n",
       "      <th>149</th>\n",
       "      <td>Vistos, relatados e discutidos os autos do pro...</td>\n",
       "      <td>1. Trata o presente processo da aposentadoria ...</td>\n",
       "      <td>A EXMA. SENHORA CONSELHEIRA-SUBSTITUTA MARIA D...</td>\n",
       "      <td>149</td>\n",
       "    </tr>\n",
       "  </tbody>\n",
       "</table>\n",
       "<p>150 rows × 4 columns</p>\n",
       "</div>"
      ],
      "text/plain": [
       "                                               acordao  \\\n",
       "0    Vistos, relatados e discutidos os autos do pro...   \n",
       "1    Vistos, relatados e discutidos os autos do pro...   \n",
       "2    Vistos, relatados e discutidos os autos do pro...   \n",
       "3    Vistos, relatados e discutidos os autos do pro...   \n",
       "4    Vistos, relatados e discutidos os autos do pro...   \n",
       "..                                                 ...   \n",
       "145  Vistos, relatados e discutidos os autos do pro...   \n",
       "146  Vistos, relatados e discutidos os autos do pro...   \n",
       "147  Vistos, relatados e discutidos os autos do pro...   \n",
       "148  Vistos, relatados e discutidos os autos do pro...   \n",
       "149  Vistos, relatados e discutidos os autos do pro...   \n",
       "\n",
       "                                             relatorio  \\\n",
       "0    Tratam os autos da aposentadoria da servidora ...   \n",
       "1    1. Tratam os autos da Prestação de Contas do F...   \n",
       "2    1. Tratam os autos da Prestação de Contas da S...   \n",
       "3    1. Trata-se os autos de Denúncia, oriunda do o...   \n",
       "4    1. Trata o presente processo da aposentadoria ...   \n",
       "..                                                 ...   \n",
       "145  1. Tratam os autos da Prestação de Contas do G...   \n",
       "146  1. Tratam os autos de Denúncia protocolada na ...   \n",
       "147  Tratam os autos da aposentadoria da servidora ...   \n",
       "148  1. Trata o presente processo da aposentadoria ...   \n",
       "149  1. Trata o presente processo da aposentadoria ...   \n",
       "\n",
       "                                                  voto   id  \n",
       "0    Trata-se de apreciação da legalidade e registr...    0  \n",
       "1    A EXMA. SENHORA CONSELHEIRA DULCINÉA BENÍCIO D...    1  \n",
       "2    A EXMA. SENHORA CONSELHEIRA DULCINÉA BENÍCIO D...    2  \n",
       "3    A EXMA. SENHORA CONSELHEIRA NALUH MARIA LIMA G...    3  \n",
       "4    O EXMO. SENHOR CONSELHEIRO ANTONIO CRISTOVÃO C...    4  \n",
       "..                                                 ...  ...  \n",
       "145  O EXMO. SENHOR CONSELHEIRO ANTONIO CRISTOVÃO C...  145  \n",
       "146  O EXMO. SENHOR CONSELHEIRO ANTONIO CRISTOVÃO C...  146  \n",
       "147  Trata-se de apreciação da legalidade e registr...  147  \n",
       "148  A EXMA. SENHORA CONSELHEIRA-SUBSTITUTA MARIA D...  148  \n",
       "149  A EXMA. SENHORA CONSELHEIRA-SUBSTITUTA MARIA D...  149  \n",
       "\n",
       "[150 rows x 4 columns]"
      ]
     },
     "execution_count": 14,
     "metadata": {},
     "output_type": "execute_result"
    }
   ],
   "source": [
    "df['id'] = df.index\n",
    "df"
   ]
  },
  {
   "cell_type": "code",
   "execution_count": null,
   "metadata": {},
   "outputs": [
    {
     "name": "stderr",
     "output_type": "stream",
     "text": [
      "c:\\Users\\enied\\Documents\\mestrado\\aprendizado-maquina\\experiments\\rag.py:19: LangChainDeprecationWarning: The class `HuggingFaceEmbeddings` was deprecated in LangChain 0.2.2 and will be removed in 1.0. An updated version of the class exists in the :class:`~langchain-huggingface package and should be used instead. To use it run `pip install -U :class:`~langchain-huggingface` and import as `from :class:`~langchain_huggingface import HuggingFaceEmbeddings``.\n",
      "  self.embedding = HuggingFaceEmbeddings(model_name=embedding_model)\n",
      "c:\\Users\\enied\\AppData\\Local\\Programs\\Python\\Python311\\Lib\\site-packages\\tqdm\\auto.py:21: TqdmWarning: IProgress not found. Please update jupyter and ipywidgets. See https://ipywidgets.readthedocs.io/en/stable/user_install.html\n",
      "  from .autonotebook import tqdm as notebook_tqdm\n",
      "c:\\Users\\enied\\AppData\\Local\\Programs\\Python\\Python311\\Lib\\site-packages\\torch\\_utils.py:831: UserWarning: TypedStorage is deprecated. It will be removed in the future and UntypedStorage will be the only storage class. This should only matter to you if you are using storages directly.  To access UntypedStorage directly, use tensor.untyped_storage() instead of tensor.storage()\n",
      "  return self.fget.__get__(instance, owner)()\n"
     ]
    },
    {
     "name": "stdout",
     "output_type": "stream",
     "text": [
      "Total Documents: 150\n"
     ]
    },
    {
     "name": "stderr",
     "output_type": "stream",
     "text": [
      "100%|██████████| 150/150 [00:08<00:00, 17.91it/s]\n"
     ]
    },
    {
     "name": "stdout",
     "output_type": "stream",
     "text": [
      "Elasticsearch index ready!\n"
     ]
    },
    {
     "name": "stderr",
     "output_type": "stream",
     "text": [
      "  0%|          | 0/150 [00:23<?, ?it/s]\n"
     ]
    },
    {
     "ename": "NameError",
     "evalue": "name 'model' is not defined",
     "output_type": "error",
     "traceback": [
      "\u001b[1;31m---------------------------------------------------------------------------\u001b[0m",
      "\u001b[1;31mNameError\u001b[0m                                 Traceback (most recent call last)",
      "Cell \u001b[1;32mIn[15], line 27\u001b[0m\n\u001b[0;32m     19\u001b[0m voto \u001b[38;5;241m=\u001b[39m row[\u001b[38;5;124m\"\u001b[39m\u001b[38;5;124mvoto\u001b[39m\u001b[38;5;124m\"\u001b[39m]\n\u001b[0;32m     20\u001b[0m response \u001b[38;5;241m=\u001b[39m rag\u001b[38;5;241m.\u001b[39mask(relatorio, voto, row[\u001b[38;5;124m'\u001b[39m\u001b[38;5;124mid\u001b[39m\u001b[38;5;124m'\u001b[39m])\n\u001b[0;32m     22\u001b[0m results\u001b[38;5;241m.\u001b[39mappend({\n\u001b[0;32m     23\u001b[0m     \u001b[38;5;124m\"\u001b[39m\u001b[38;5;124mrelatorio\u001b[39m\u001b[38;5;124m\"\u001b[39m: relatorio,\n\u001b[0;32m     24\u001b[0m     \u001b[38;5;124m\"\u001b[39m\u001b[38;5;124mvoto\u001b[39m\u001b[38;5;124m\"\u001b[39m: voto,\n\u001b[0;32m     25\u001b[0m     \u001b[38;5;124m\"\u001b[39m\u001b[38;5;124macordao\u001b[39m\u001b[38;5;124m\"\u001b[39m: row[\u001b[38;5;124m'\u001b[39m\u001b[38;5;124macordao\u001b[39m\u001b[38;5;124m'\u001b[39m],\n\u001b[0;32m     26\u001b[0m     \u001b[38;5;124m\"\u001b[39m\u001b[38;5;124mgenerated\u001b[39m\u001b[38;5;124m\"\u001b[39m: response,\n\u001b[1;32m---> 27\u001b[0m     \u001b[38;5;124m\"\u001b[39m\u001b[38;5;124mmodel\u001b[39m\u001b[38;5;124m\"\u001b[39m: \u001b[43mmodel\u001b[49m,\n\u001b[0;32m     28\u001b[0m     \u001b[38;5;124m'\u001b[39m\u001b[38;5;124mn_examples\u001b[39m\u001b[38;5;124m'\u001b[39m: n_example,\n\u001b[0;32m     29\u001b[0m     \u001b[38;5;124m\"\u001b[39m\u001b[38;5;124mtemperature\u001b[39m\u001b[38;5;124m\"\u001b[39m: temp\n\u001b[0;32m     30\u001b[0m })\n\u001b[0;32m     32\u001b[0m pd\u001b[38;5;241m.\u001b[39mDataFrame(results)\u001b[38;5;241m.\u001b[39mto_csv(filename, index\u001b[38;5;241m=\u001b[39m\u001b[38;5;28;01mFalse\u001b[39;00m)\n\u001b[0;32m     33\u001b[0m pbar\u001b[38;5;241m.\u001b[39mupdate(\u001b[38;5;241m1\u001b[39m)\n",
      "\u001b[1;31mNameError\u001b[0m: name 'model' is not defined"
     ]
    }
   ],
   "source": [
    "from rag import Rag\n",
    "\n",
    "index = True\n",
    "for top_k in range(1, 4):\n",
    "    rag = Rag('llama3.1', df, top_k=top_k, temperature=x)\n",
    "    rag.ingest(index)\n",
    "    index = False\n",
    "    results = []\n",
    "    filename = f'../results/rag-llama-3.1-8b-instant-k-{top_k}.csv'\n",
    "    backup_df = pd.DataFrame()\n",
    "    if os.path.isfile(filename):\n",
    "        backup_df = pd.read_csv(filename)\n",
    "        results = backup_df.to_dict('records')\n",
    "    if len(backup_df) < 150:\n",
    "        with tqdm.tqdm(total=len(df)-len(results), smoothing=0.1) as pbar:\n",
    "            for idx, row in df.iterrows():\n",
    "                if row['acordao'] not in list(map(lambda x: x['acordao'], results)):\n",
    "                    relatorio = row[\"relatorio\"]\n",
    "                    voto = row[\"voto\"]\n",
    "                    response = rag.ask(relatorio, voto, row['id'])\n",
    "\n",
    "                    results.append({\n",
    "                        \"relatorio\": relatorio,\n",
    "                        \"voto\": voto,\n",
    "                        \"acordao\": row['acordao'],\n",
    "                        \"generated\": response,\n",
    "                        \"model\": 'llama3.1',\n",
    "                        'n_examples': top_k\n",
    "                    })\n",
    "\n",
    "                    pd.DataFrame(results).to_csv(filename, index=False)\n",
    "                    pbar.update(1)"
   ]
  },
  {
   "cell_type": "markdown",
   "metadata": {},
   "source": [
    "# MÉTRICAS"
   ]
  },
  {
   "cell_type": "code",
   "execution_count": 12,
   "metadata": {},
   "outputs": [
    {
     "name": "stderr",
     "output_type": "stream",
     "text": [
      "c:\\Users\\enied\\AppData\\Local\\Programs\\Python\\Python311\\Lib\\site-packages\\tqdm\\auto.py:21: TqdmWarning: IProgress not found. Please update jupyter and ipywidgets. See https://ipywidgets.readthedocs.io/en/stable/user_install.html\n",
      "  from .autonotebook import tqdm as notebook_tqdm\n"
     ]
    }
   ],
   "source": [
    "from rouge_score import rouge_scorer\n",
    "from nltk.translate.bleu_score import sentence_bleu\n",
    "from nltk.translate import meteor_score\n",
    "from nltk import word_tokenize\n",
    "import nltk\n",
    "from bert_score import BERTScorer\n",
    "import torch.nn.functional as F\n",
    "import evaluate\n",
    "import os"
   ]
  },
  {
   "cell_type": "code",
   "execution_count": 13,
   "metadata": {},
   "outputs": [
    {
     "name": "stderr",
     "output_type": "stream",
     "text": [
      "[nltk_data] Downloading package wordnet to\n",
      "[nltk_data]     C:\\Users\\enied\\AppData\\Roaming\\nltk_data...\n",
      "[nltk_data]   Package wordnet is already up-to-date!\n",
      "[nltk_data] Downloading package punkt_tab to\n",
      "[nltk_data]     C:\\Users\\enied\\AppData\\Roaming\\nltk_data...\n",
      "[nltk_data]   Package punkt_tab is already up-to-date!\n"
     ]
    }
   ],
   "source": [
    "nltk.download('wordnet')\n",
    "nltk.download('punkt_tab')\n",
    "\n",
    "scorer_bert = BERTScorer(model_type='bert-base-multilingual-cased')\n",
    "bleu = evaluate.load('bleu')\n",
    "\n",
    "def calculate_rouge_score(generated, reference):\n",
    "    scorer = rouge_scorer.RougeScorer(['rouge1', 'rouge2', 'rougeL'], use_stemmer=True)\n",
    "    return scorer.score(reference, generated)\n",
    "\n",
    "def calculate_bleu_score(generated, reference):\n",
    "    score = bleu.compute(predictions=[generated], references=[[reference]])\n",
    "    return score['bleu']\n",
    "\n",
    "def calculate_meteor_score(generated, reference):\n",
    "    tokenized_reference = word_tokenize(reference)\n",
    "    tokenized_generated = word_tokenize(generated)\n",
    "    score = meteor_score.meteor_score([tokenized_reference], tokenized_generated)\n",
    "    return score\n",
    "\n",
    "def calculate_similarity(embedding1, embedding2):\n",
    "    similarity_matrix = F.cosine_similarity(embedding1.unsqueeze(1), embedding2.unsqueeze(0), dim=-1)\n",
    "    return similarity_matrix\n",
    "\n",
    "def calculate_bert_score(generated, reference):\n",
    "    return scorer_bert.score([generated], [reference])"
   ]
  },
  {
   "cell_type": "code",
   "execution_count": 15,
   "metadata": {},
   "outputs": [
    {
     "data": {
      "text/html": [
       "<div>\n",
       "<style scoped>\n",
       "    .dataframe tbody tr th:only-of-type {\n",
       "        vertical-align: middle;\n",
       "    }\n",
       "\n",
       "    .dataframe tbody tr th {\n",
       "        vertical-align: top;\n",
       "    }\n",
       "\n",
       "    .dataframe thead th {\n",
       "        text-align: right;\n",
       "    }\n",
       "</style>\n",
       "<table border=\"1\" class=\"dataframe\">\n",
       "  <thead>\n",
       "    <tr style=\"text-align: right;\">\n",
       "      <th></th>\n",
       "      <th>relatorio</th>\n",
       "      <th>voto</th>\n",
       "      <th>acordao</th>\n",
       "      <th>generated</th>\n",
       "      <th>model</th>\n",
       "      <th>n_examples</th>\n",
       "      <th>temperature</th>\n",
       "    </tr>\n",
       "  </thead>\n",
       "  <tbody>\n",
       "    <tr>\n",
       "      <th>0</th>\n",
       "      <td>1. Trata o presente processo da Prestação de C...</td>\n",
       "      <td>Em face dos dados apresentados nos autos, veri...</td>\n",
       "      <td>Vistos, relatados e discutidos os autos do pro...</td>\n",
       "      <td>**Tribunal de Contas do Estado do Acre**\\r\\n\\r...</td>\n",
       "      <td>llama-3.1-8b-instant</td>\n",
       "      <td>0</td>\n",
       "      <td>0.25</td>\n",
       "    </tr>\n",
       "    <tr>\n",
       "      <th>1</th>\n",
       "      <td>Tratam os autos da aposentadoria do servidor p...</td>\n",
       "      <td>Trata-se de apreciação da legalidade e registr...</td>\n",
       "      <td>Vistos, relatados e discutidos os autos do pro...</td>\n",
       "      <td>**Tribunal de Contas do Estado do Acre**\\r\\n\\r...</td>\n",
       "      <td>llama-3.1-8b-instant</td>\n",
       "      <td>0</td>\n",
       "      <td>0.25</td>\n",
       "    </tr>\n",
       "    <tr>\n",
       "      <th>2</th>\n",
       "      <td>1. Tratam os autos de Denúncia protocolada na ...</td>\n",
       "      <td>O EXMO. SENHOR CONSELHEIRO ANTONIO CRISTOVÃO C...</td>\n",
       "      <td>Vistos, relatados e discutidos os autos do pro...</td>\n",
       "      <td>**Tribunal de Contas do Estado do Acre**\\r\\n\\r...</td>\n",
       "      <td>llama-3.1-8b-instant</td>\n",
       "      <td>0</td>\n",
       "      <td>0.25</td>\n",
       "    </tr>\n",
       "    <tr>\n",
       "      <th>3</th>\n",
       "      <td>1. Trata-se de apreciação da legalidade e regi...</td>\n",
       "      <td>A EXMA. SENHORA CONSELHEIRA DULCINÉA BENÍCIO D...</td>\n",
       "      <td>Vistos, relatados e discutidos os autos do pro...</td>\n",
       "      <td>**Tribunal de Contas do Estado do Acre**\\r\\n\\r...</td>\n",
       "      <td>llama-3.1-8b-instant</td>\n",
       "      <td>0</td>\n",
       "      <td>0.25</td>\n",
       "    </tr>\n",
       "    <tr>\n",
       "      <th>4</th>\n",
       "      <td>Tratam os autos da aposentadoria da servidora ...</td>\n",
       "      <td>Trata-se de apreciação da legalidade e registr...</td>\n",
       "      <td>Vistos, relatados e discutidos os autos do pro...</td>\n",
       "      <td>**Tribunal de Contas do Estado do Acre**\\r\\n\\r...</td>\n",
       "      <td>llama-3.1-8b-instant</td>\n",
       "      <td>0</td>\n",
       "      <td>0.25</td>\n",
       "    </tr>\n",
       "    <tr>\n",
       "      <th>...</th>\n",
       "      <td>...</td>\n",
       "      <td>...</td>\n",
       "      <td>...</td>\n",
       "      <td>...</td>\n",
       "      <td>...</td>\n",
       "      <td>...</td>\n",
       "      <td>...</td>\n",
       "    </tr>\n",
       "    <tr>\n",
       "      <th>3579</th>\n",
       "      <td>1. Tratam os autos da Prestação de Contas do F...</td>\n",
       "      <td>A EXMA. SENHORA CONSELHEIRA DULCINÉA BENÍCIO D...</td>\n",
       "      <td>Vistos, relatados e discutidos os autos do pro...</td>\n",
       "      <td>Sim, posso ajudar a resumir os principais pont...</td>\n",
       "      <td>llama3.1</td>\n",
       "      <td>5</td>\n",
       "      <td>1.00</td>\n",
       "    </tr>\n",
       "    <tr>\n",
       "      <th>3580</th>\n",
       "      <td>1. Tratam os autos de aposentadoria voluntária...</td>\n",
       "      <td>A EXMA. SENHORA CONSELHEIRA NALUH MARIA LIMA G...</td>\n",
       "      <td>Vistos, relatados e discutidos os autos do pro...</td>\n",
       "      <td>Não foi possível encontrar informações sobre a...</td>\n",
       "      <td>llama3.1</td>\n",
       "      <td>5</td>\n",
       "      <td>1.00</td>\n",
       "    </tr>\n",
       "    <tr>\n",
       "      <th>3581</th>\n",
       "      <td>Trata o presente processo de aposentadoria vol...</td>\n",
       "      <td>O EXMO. SENHOR CONSELHEIRO VALMIR GOMES RIBEIR...</td>\n",
       "      <td>Vistos, relatados e discutidos os autos do pro...</td>\n",
       "      <td>**ACORDÃO Nº XXX**\\r\\n\\r\\n**Tribunal de Contas...</td>\n",
       "      <td>llama3.1</td>\n",
       "      <td>5</td>\n",
       "      <td>1.00</td>\n",
       "    </tr>\n",
       "    <tr>\n",
       "      <th>3582</th>\n",
       "      <td>1. Trata o presente processo da aposentadoria ...</td>\n",
       "      <td>O EXMO. SENHOR CONSELHEIRO ANTONIO CRISTOVÃO C...</td>\n",
       "      <td>Vistos, relatados e discutidos os autos do pro...</td>\n",
       "      <td>A decisão proferida pela Corte de Contas do Ac...</td>\n",
       "      <td>llama3.1</td>\n",
       "      <td>5</td>\n",
       "      <td>1.00</td>\n",
       "    </tr>\n",
       "    <tr>\n",
       "      <th>3583</th>\n",
       "      <td>1. Trata-se de Relatório de Atividades anual d...</td>\n",
       "      <td>A EXMA. SENHORA CONSELHEIRA NALUH MARIA LIMA G...</td>\n",
       "      <td>Vistos, relatados e discutidos os autos do pro...</td>\n",
       "      <td>Este é um acórdão de uma Corte ou Conselho no ...</td>\n",
       "      <td>llama3.1</td>\n",
       "      <td>5</td>\n",
       "      <td>1.00</td>\n",
       "    </tr>\n",
       "  </tbody>\n",
       "</table>\n",
       "<p>3584 rows × 7 columns</p>\n",
       "</div>"
      ],
      "text/plain": [
       "                                              relatorio  \\\n",
       "0     1. Trata o presente processo da Prestação de C...   \n",
       "1     Tratam os autos da aposentadoria do servidor p...   \n",
       "2     1. Tratam os autos de Denúncia protocolada na ...   \n",
       "3     1. Trata-se de apreciação da legalidade e regi...   \n",
       "4     Tratam os autos da aposentadoria da servidora ...   \n",
       "...                                                 ...   \n",
       "3579  1. Tratam os autos da Prestação de Contas do F...   \n",
       "3580  1. Tratam os autos de aposentadoria voluntária...   \n",
       "3581  Trata o presente processo de aposentadoria vol...   \n",
       "3582  1. Trata o presente processo da aposentadoria ...   \n",
       "3583  1. Trata-se de Relatório de Atividades anual d...   \n",
       "\n",
       "                                                   voto  \\\n",
       "0     Em face dos dados apresentados nos autos, veri...   \n",
       "1     Trata-se de apreciação da legalidade e registr...   \n",
       "2     O EXMO. SENHOR CONSELHEIRO ANTONIO CRISTOVÃO C...   \n",
       "3     A EXMA. SENHORA CONSELHEIRA DULCINÉA BENÍCIO D...   \n",
       "4     Trata-se de apreciação da legalidade e registr...   \n",
       "...                                                 ...   \n",
       "3579  A EXMA. SENHORA CONSELHEIRA DULCINÉA BENÍCIO D...   \n",
       "3580  A EXMA. SENHORA CONSELHEIRA NALUH MARIA LIMA G...   \n",
       "3581  O EXMO. SENHOR CONSELHEIRO VALMIR GOMES RIBEIR...   \n",
       "3582  O EXMO. SENHOR CONSELHEIRO ANTONIO CRISTOVÃO C...   \n",
       "3583  A EXMA. SENHORA CONSELHEIRA NALUH MARIA LIMA G...   \n",
       "\n",
       "                                                acordao  \\\n",
       "0     Vistos, relatados e discutidos os autos do pro...   \n",
       "1     Vistos, relatados e discutidos os autos do pro...   \n",
       "2     Vistos, relatados e discutidos os autos do pro...   \n",
       "3     Vistos, relatados e discutidos os autos do pro...   \n",
       "4     Vistos, relatados e discutidos os autos do pro...   \n",
       "...                                                 ...   \n",
       "3579  Vistos, relatados e discutidos os autos do pro...   \n",
       "3580  Vistos, relatados e discutidos os autos do pro...   \n",
       "3581  Vistos, relatados e discutidos os autos do pro...   \n",
       "3582  Vistos, relatados e discutidos os autos do pro...   \n",
       "3583  Vistos, relatados e discutidos os autos do pro...   \n",
       "\n",
       "                                              generated                 model  \\\n",
       "0     **Tribunal de Contas do Estado do Acre**\\r\\n\\r...  llama-3.1-8b-instant   \n",
       "1     **Tribunal de Contas do Estado do Acre**\\r\\n\\r...  llama-3.1-8b-instant   \n",
       "2     **Tribunal de Contas do Estado do Acre**\\r\\n\\r...  llama-3.1-8b-instant   \n",
       "3     **Tribunal de Contas do Estado do Acre**\\r\\n\\r...  llama-3.1-8b-instant   \n",
       "4     **Tribunal de Contas do Estado do Acre**\\r\\n\\r...  llama-3.1-8b-instant   \n",
       "...                                                 ...                   ...   \n",
       "3579  Sim, posso ajudar a resumir os principais pont...              llama3.1   \n",
       "3580  Não foi possível encontrar informações sobre a...              llama3.1   \n",
       "3581  **ACORDÃO Nº XXX**\\r\\n\\r\\n**Tribunal de Contas...              llama3.1   \n",
       "3582  A decisão proferida pela Corte de Contas do Ac...              llama3.1   \n",
       "3583  Este é um acórdão de uma Corte ou Conselho no ...              llama3.1   \n",
       "\n",
       "      n_examples  temperature  \n",
       "0              0         0.25  \n",
       "1              0         0.25  \n",
       "2              0         0.25  \n",
       "3              0         0.25  \n",
       "4              0         0.25  \n",
       "...          ...          ...  \n",
       "3579           5         1.00  \n",
       "3580           5         1.00  \n",
       "3581           5         1.00  \n",
       "3582           5         1.00  \n",
       "3583           5         1.00  \n",
       "\n",
       "[3584 rows x 7 columns]"
      ]
     },
     "execution_count": 15,
     "metadata": {},
     "output_type": "execute_result"
    }
   ],
   "source": [
    "files_path = '../results/'\n",
    "\n",
    "dfs = []\n",
    "for file in os.listdir(files_path):\n",
    "    if file.endswith('.csv'):\n",
    "        df_file = pd.read_csv(os.path.join(files_path, file))\n",
    "        dfs.append(df_file)\n",
    "\n",
    "result_df = pd.concat(dfs, ignore_index=True)\n",
    "result_df"
   ]
  },
  {
   "cell_type": "code",
   "execution_count": 18,
   "metadata": {},
   "outputs": [],
   "source": [
    "result_df.dropna(inplace=True)"
   ]
  },
  {
   "cell_type": "code",
   "execution_count": 19,
   "metadata": {},
   "outputs": [
    {
     "data": {
      "text/plain": [
       "Series([], Name: generated, dtype: object)"
      ]
     },
     "execution_count": 19,
     "metadata": {},
     "output_type": "execute_result"
    }
   ],
   "source": [
    "result_df[result_df.isna().any(axis=1)].groupby(['model', 'n_examples', 'temperature'])['generated'].apply(len)"
   ]
  },
  {
   "cell_type": "code",
   "execution_count": 20,
   "metadata": {},
   "outputs": [],
   "source": [
    "import warnings\n",
    "warnings.filterwarnings(action='ignore')\n",
    "\n",
    "def evaluate_result(df_result):\n",
    "    with tqdm.tqdm(total= len(df_result), smoothing=0.2) as pbar:\n",
    "        for i, row in df_result.iterrows():\n",
    "            bert_score_precision, bert_score_recall, bert_score_f1 = calculate_bert_score(row['generated'], row['acordao'])\n",
    "            meteor_score = calculate_meteor_score(row['generated'], row['acordao'])\n",
    "            rouge_result = calculate_rouge_score(row['generated'], row['acordao'])\n",
    "            rouge1 = rouge_result['rouge1'][2]\n",
    "            rouge2 = rouge_result['rouge2'][2]\n",
    "            rougeL = rouge_result['rougeL'][2]\n",
    "            \n",
    "            df_result.loc[i, 'bert_score_precision'] = float(bert_score_precision)\n",
    "            df_result.loc[i, 'bert_score_recall'] = float(bert_score_recall)\n",
    "            df_result.loc[i, 'bert_score_f1'] = float(bert_score_f1)\n",
    "        \n",
    "            df_result.loc[i, 'meteor_score'] = meteor_score\n",
    "            \n",
    "            df_result.loc[i, 'rouge1'] = rouge1\n",
    "            df_result.loc[i, 'rouge2'] = rouge2\n",
    "            df_result.loc[i, 'rougeL'] = rougeL\n",
    "\n",
    "            pbar.update(1)\n",
    "    df_result.to_csv('../evaluation.csv', index=False)"
   ]
  },
  {
   "cell_type": "code",
   "execution_count": null,
   "metadata": {},
   "outputs": [
    {
     "name": "stderr",
     "output_type": "stream",
     "text": [
      "  3%|▎         | 97/3583 [01:25<50:56,  1.14it/s] "
     ]
    }
   ],
   "source": [
    "evaluate_result(result_df)"
   ]
  }
 ],
 "metadata": {
  "kernelspec": {
   "display_name": "Python 3",
   "language": "python",
   "name": "python3"
  },
  "language_info": {
   "codemirror_mode": {
    "name": "ipython",
    "version": 3
   },
   "file_extension": ".py",
   "mimetype": "text/x-python",
   "name": "python",
   "nbconvert_exporter": "python",
   "pygments_lexer": "ipython3",
   "version": "3.11.8"
  }
 },
 "nbformat": 4,
 "nbformat_minor": 2
}
